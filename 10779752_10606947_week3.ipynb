{
 "cells": [
  {
   "cell_type": "markdown",
   "metadata": {},
   "source": [
    "## Notebook made by  \n",
    "\n",
    "|Rogier van Witzenburg | 10606947 | rogiervanwitzenburg@gmail.com |\n",
    "|:- |:-|:-|\n",
    "|.Andreas Vos |10779752 | acefoxy@gmail.com|\n",
    "|  | |. |\n",
    "\n",
    "### Pledge (taken from [Coursera's Honor Code](https://www.coursera.org/about/terms/honorcode) )\n",
    "\n",
    "\n",
    "\n",
    "Put here a selfie with your photo where you hold a signed paper with the following text: (if this is team work, put two selfies here). The link must be to some place on the web, not to a local file. \n",
    "\n",
    "> My answers to homework, quizzes and exams will be my own work (except for assignments that explicitly permit collaboration).\n",
    "\n",
    ">I will not make solutions to homework, quizzes or exams available to anyone else. This includes both solutions written by me, as well as any official solutions provided by the course staff.\n",
    "\n",
    ">I will not engage in any other activities that will dishonestly improve my results or dishonestly improve/hurt the results of others.\n",
    "\n",
    "<img src='http://www.andreasvos.nl/own.png'/>\n",
    "<img src='http://2ndgoods.nl/wp-content/uploads/2016/08/148106003133056-2-300x300.jpg'/>n\n",
    "\n",
    "### Note\n",
    "* **Assignments without the selfies or completely filled in information will not be graded and receive 0 points.**\n"
   ]
  },
  {
   "cell_type": "markdown",
   "metadata": {},
   "source": [
    " \n",
    "\n",
    "\n",
    "# AssignmentWikipediaEditors\n",
    "\n",
    "In deze opgave halen we een datafile op, die een naar formaat heeft. Het is een spreadsheet, maar het aantal kolommen is niet constant.\n",
    " "
   ]
  },
  {
   "cell_type": "code",
   "execution_count": 1,
   "metadata": {
    "collapsed": false
   },
   "outputs": [],
   "source": [
    "%matplotlib inline\n",
    "import pandas as pd\n",
    "import re\n",
    "from lxml import etree \n",
    "from bz2file import BZ2File\n",
    "import codecs\n",
    "import nltk\n",
    "from collections import defaultdict, Counter\n",
    "from  itertools import combinations  # ideal for creating all possible pairs that out can make out of a set\n",
    "from __future__ import division\n",
    "from math import sqrt \n",
    "import csv"
   ]
  },
  {
   "cell_type": "markdown",
   "metadata": {},
   "source": [
    "# N1\n",
    "\n",
    "1. Haal de file <http://language.media.mit.edu/data/public/wikipedia_userlang_iso639-3.zip> op, en unzip hem.\n",
    "    * Dit mag met de hand, maar natuurlijk liever in code in je notebook.\n",
    "    * Sla de file `wikipedia_userlang_iso639-3.tsv` in dezelfde folder op als dit notebook\n",
    "    * use a notebook magic command to show how large this file is."
   ]
  },
  {
   "cell_type": "code",
   "execution_count": 1,
   "metadata": {
    "collapsed": false
   },
   "outputs": [
    {
     "name": "stdout",
     "output_type": "stream",
     "text": [
      "--2017-02-20 09:07:32--  http://language.media.mit.edu/data/public/wikipedia_userlang_iso639-3.zip\n",
      "Resolving language.media.mit.edu... 18.85.11.146\n",
      "Connecting to language.media.mit.edu|18.85.11.146|:80... connected.\n",
      "HTTP request sent, awaiting response... 200 OK\n",
      "Length: 44861131 (43M) [application/zip]\n",
      "Saving to: ‘wikipedia_userlang_iso639-3.zip’\n",
      "\n",
      "wikipedia_userlang_ 100%[===================>]  42.78M  1.41MB/s    in 27s     \n",
      "\n",
      "2017-02-20 09:07:59 (1.60 MB/s) - ‘wikipedia_userlang_iso639-3.zip’ saved [44861131/44861131]\n",
      "\n",
      "gunzip: wikipedia_userlang_iso639-3.zip: not in gzip format\n",
      "       0\n",
      "-rw-r--r--  1 AndreasVos  staff    43M Mar 23  2016 wikipedia_userlang_iso639-3.zip\n"
     ]
    }
   ],
   "source": [
    "#Vraag 1 \n",
    "\n",
    "\n",
    "\n",
    "!wget http://language.media.mit.edu/data/public/wikipedia_userlang_iso639-3.zip\n",
    "    \n"
   ]
  },
  {
   "cell_type": "code",
   "execution_count": 5,
   "metadata": {
    "collapsed": false
   },
   "outputs": [],
   "source": [
    "import zipfile\n",
    "zip_ref = zipfile.ZipFile('wikipedia_userlang_iso639-3.zip', 'r')\n",
    "zip_ref.extractall()\n",
    "zip_ref.close()"
   ]
  },
  {
   "cell_type": "code",
   "execution_count": 6,
   "metadata": {
    "collapsed": false
   },
   "outputs": [
    {
     "name": "stdout",
     "output_type": "stream",
     "text": [
      "-rw-r--r--  1 AndreasVos  staff   128M Feb 20 09:12 wikipedia_userlang_iso639-3.tsv\r\n"
     ]
    }
   ],
   "source": [
    "!ls -lh wikipedia_userlang_iso639-3.tsv"
   ]
  },
  {
   "cell_type": "markdown",
   "metadata": {
    "collapsed": false
   },
   "source": [
    "# N2\n",
    "\n",
    "2. Bepaal de separator en bepaal hoeveel kolommen een regel maximaal heeft.\n",
    "    * het maximaal aantal kolommen in een regel mag je ook in de code in de volgende vraag bepalen."
   ]
  },
  {
   "cell_type": "code",
   "execution_count": 2,
   "metadata": {
    "collapsed": false
   },
   "outputs": [
    {
     "name": "stdout",
     "output_type": "stream",
     "text": [
      "241\n"
     ]
    }
   ],
   "source": [
    "# antwoord N2\n",
    "#.tsv so tab seperated\n",
    "\n",
    "with open('wikipedia_userlang_iso639-3.tsv',\"r\") as tsv:\n",
    "    reader = csv.reader(tsv)\n",
    "    li = list(reader)\n",
    "    len_rows = len(li)\n",
    "    \n",
    "with open('wikipedia_userlang_iso639-3.tsv',\"r\") as tsv:\n",
    "    tab = [next(tsv).count(\"\\t\") for i in range(len_rows)]\n",
    "    max_column = max(tab) +1 \n",
    "    \n",
    "\n",
    "print max_column"
   ]
  },
  {
   "cell_type": "markdown",
   "metadata": {},
   "source": [
    "# N3 \n",
    "\n",
    "3. Verander het spreadsheet in een dataframe met een 3 koloms formaat \n",
    "    * editor-name\n",
    "    * taal code\n",
    "    * hoe vaak (heeft die editor in die taalcode een edit gedaan.\n",
    "4. Laat met df.head de eerste vijf regels zien. Zoals hieronder.\n",
    "5. Doe dit alles in een functie en gebruik %time om te tonen hoe lang het duurt\n",
    "\n",
    "<table border=\"1\" class=\"dataframe\">\n",
    "  <thead>\n",
    "    <tr style=\"text-align: right;\">\n",
    "      <th></th>\n",
    "      <th>gebruikersnaam</th>\n",
    "      <th>taal</th>\n",
    "      <th>aantal_edits</th>\n",
    "    </tr>\n",
    "  </thead>\n",
    "  <tbody>\n",
    "    <tr>\n",
    "      <th>0</th>\n",
    "      <td>! ! ! ! ! ! ! ! ! ! ! ! ! ! !</td>\n",
    "      <td>zho</td>\n",
    "      <td>7</td>\n",
    "    </tr>\n",
    "    <tr>\n",
    "      <th>1</th>\n",
    "      <td>! ! ! ! ! ! ! ! ! ! ! ! ! !</td>\n",
    "      <td>zho</td>\n",
    "      <td>8</td>\n",
    "    </tr>\n",
    "    <tr>\n",
    "      <th>2</th>\n",
    "      <td>! ! ! ! ! ! ! ! ! ! ! ! !</td>\n",
    "      <td>zho</td>\n",
    "      <td>30</td>\n",
    "    </tr>\n",
    "    <tr>\n",
    "      <th>3</th>\n",
    "      <td>! ! ! ! ! ! ! ! ! ! ! !</td>\n",
    "      <td>zho</td>\n",
    "      <td>7</td>\n",
    "    </tr>\n",
    "    <tr>\n",
    "      <th>4</th>\n",
    "      <td>! ! ! ! ! ! ! ! ! ! !</td>\n",
    "      <td>zho</td>\n",
    "      <td>5</td>\n",
    "    </tr>\n",
    "  </tbody>\n",
    "</table>\n",
    "\n",
    "#### Hint\n",
    "* open de file op de behandelde stromende manier en lees hem regel voor regel\n",
    "* schoon elke regel op en splits die op \n",
    "* haal de data die je wilt hebben uit de regel en spaar triples op in een lijst.\n",
    "* Van die lijst met triples maak je in 1 klap een dataframe\n",
    "* geef de juiste kolomsnamen als in het voorbeeld \n",
    "* borduur voort op de gegeven code"
   ]
  },
  {
   "cell_type": "code",
   "execution_count": 4,
   "metadata": {
    "collapsed": false
   },
   "outputs": [
    {
     "name": "stdout",
     "output_type": "stream",
     "text": [
      "CPU times: user 22.9 s, sys: 1.74 s, total: 24.6 s\n",
      "Wall time: 25.3 s\n"
     ]
    },
    {
     "data": {
      "text/html": [
       "<div>\n",
       "<table border=\"1\" class=\"dataframe\">\n",
       "  <thead>\n",
       "    <tr style=\"text-align: right;\">\n",
       "      <th></th>\n",
       "      <th>gebruikersnaam</th>\n",
       "      <th>taal</th>\n",
       "      <th>aantal_edits</th>\n",
       "    </tr>\n",
       "  </thead>\n",
       "  <tbody>\n",
       "    <tr>\n",
       "      <th>0</th>\n",
       "      <td>! ! ! ! ! ! ! ! ! ! ! ! ! ! !</td>\n",
       "      <td>zho</td>\n",
       "      <td>7</td>\n",
       "    </tr>\n",
       "    <tr>\n",
       "      <th>1</th>\n",
       "      <td>! ! ! ! ! ! ! ! ! ! ! ! ! !</td>\n",
       "      <td>zho</td>\n",
       "      <td>8</td>\n",
       "    </tr>\n",
       "    <tr>\n",
       "      <th>2</th>\n",
       "      <td>! ! ! ! ! ! ! ! ! ! ! ! !</td>\n",
       "      <td>zho</td>\n",
       "      <td>30</td>\n",
       "    </tr>\n",
       "    <tr>\n",
       "      <th>3</th>\n",
       "      <td>! ! ! ! ! ! ! ! ! ! ! !</td>\n",
       "      <td>zho</td>\n",
       "      <td>7</td>\n",
       "    </tr>\n",
       "    <tr>\n",
       "      <th>4</th>\n",
       "      <td>! ! ! ! ! ! ! ! ! ! !</td>\n",
       "      <td>zho</td>\n",
       "      <td>5</td>\n",
       "    </tr>\n",
       "  </tbody>\n",
       "</table>\n",
       "</div>"
      ],
      "text/plain": [
       "                  gebruikersnaam taal aantal_edits\n",
       "0  ! ! ! ! ! ! ! ! ! ! ! ! ! ! !  zho            7\n",
       "1    ! ! ! ! ! ! ! ! ! ! ! ! ! !  zho            8\n",
       "2      ! ! ! ! ! ! ! ! ! ! ! ! !  zho           30\n",
       "3        ! ! ! ! ! ! ! ! ! ! ! !  zho            7\n",
       "4          ! ! ! ! ! ! ! ! ! ! !  zho            5"
      ]
     },
     "execution_count": 4,
     "metadata": {},
     "output_type": "execute_result"
    }
   ],
   "source": [
    "# Vraag 3 \n",
    "\n",
    "def vraag3():\n",
    "    L=[]\n",
    "    c=0\n",
    "    with open('wikipedia_userlang_iso639-3.tsv','r') as tsv:\n",
    "        for line in range(len_rows):\n",
    "            x = tsv.readline()\n",
    "            a = x.replace('\\n',\"\").split('\\t')\n",
    "            gebruikersnaam = a[0]\n",
    "            z = [(gebruikersnaam, x.split(',')[0], x.split(',')[1])for x in a[1:]]\n",
    "            [L.append(x) for x in z]   \n",
    "                \n",
    "\n",
    "    df = pd.DataFrame(L)\n",
    "\n",
    "    df.columns=['gebruikersnaam','taal','aantal_edits']\n",
    "    \n",
    "        \n",
    "\n",
    "    return df\n",
    "%time df = vraag3()\n",
    "    \n",
    "df.head()\n",
    "\n",
    "    "
   ]
  },
  {
   "cell_type": "code",
   "execution_count": null,
   "metadata": {
    "collapsed": true
   },
   "outputs": [],
   "source": [
    "\n",
    "            "
   ]
  },
  {
   "cell_type": "markdown",
   "metadata": {},
   "source": [
    "# N4 \n",
    "\n",
    "4. Laadt die nieuwe file in pandas in en bepaal:\n",
    "    1. Hoeveel verschillende editors zijn er?\n",
    "    1. Voor elk getal i, hoeveel editors hebben er in i talen ge-edit?\n",
    "        1. Hoeveel hebben er in precies 3 talen geedit?\n",
    "        2. Plot op de x-as het aantal talen en op de y-as het aantal editors dat in zoveel talen heeft geedit. \n",
    "            * Begin beide assen bij 0\n",
    "            * Gebruik een loglog schaal. Je plot zal er als een bijna rechte neergaande lijn met aan het eind wat wiebels uitzien. \n",
    "    1. Wat is het gemiddeld aantal talen waarin iemand edit? Wat is de mediaan?\n",
    "        * Geef voor zowel het gemiddelde als de mediaan een test waaruit blijkt dat je antwoord klopt.\n",
    "    \n",
    "    \n",
    "#### Geef elk antwoord in een nieuwe cel en geef aan welke subvraag je beantwoordt."
   ]
  },
  {
   "cell_type": "code",
   "execution_count": 17,
   "metadata": {
    "collapsed": false
   },
   "outputs": [
    {
     "name": "stdout",
     "output_type": "stream",
     "text": [
      "8436388\n"
     ]
    }
   ],
   "source": [
    "#A \n",
    "print len(df['gebruikersnaam'])\n",
    "\n",
    "\n",
    "#print \"Er zijn %s verschillende editors.\"% "
   ]
  },
  {
   "cell_type": "code",
   "execution_count": 10,
   "metadata": {
    "collapsed": false
   },
   "outputs": [
    {
     "name": "stdout",
     "output_type": "stream",
     "text": [
      "Er hebben 65988 editors in precies 3 talen ge-edit.\n"
     ]
    }
   ],
   "source": [
    "#B\n",
    "valuecount = df[\"gebruikersnaam\"].value_counts()\n",
    "\n",
    "valuecountframe = valuecount.to_frame()\n",
    "\n",
    "# Rename column with amount of edits to 'Edits'\n",
    "valuecountframe.columns = [\"Edits\"]\n",
    "\n",
    "threecount = len(valuecountframe.query(\"Edits == 3\"))\n",
    "\n",
    "print \"Er hebben %s editors in precies 3 talen ge-edit.\" % threecount\n",
    " \n",
    "\n",
    "    \n",
    "\n",
    "\n",
    " \n",
    "#print \"Er hebben %s editors in precies 3 talen ge-edit.\" % "
   ]
  },
  {
   "cell_type": "code",
   "execution_count": null,
   "metadata": {
    "collapsed": false
   },
   "outputs": [],
   "source": [
    "# B plot"
   ]
  },
  {
   "cell_type": "code",
   "execution_count": null,
   "metadata": {
    "collapsed": false
   },
   "outputs": [],
   "source": [
    "# C mean\n",
    " "
   ]
  },
  {
   "cell_type": "code",
   "execution_count": null,
   "metadata": {
    "collapsed": false
   },
   "outputs": [],
   "source": [
    "# C median "
   ]
  },
  {
   "cell_type": "markdown",
   "metadata": {},
   "source": [
    "# N5 \n",
    "\n",
    " 1. Maak een functie met als input een integer i, dat een dataframe maakt met de kolommen \n",
    "> 'taal,taal,aantal editors die in beide talen minstens  i edits hebben gedaan.'\n",
    "\n",
    "Zorg dat het dataframe omgekeerd gesorteerd is op het aantal editors.\n",
    "* time je functie voor i=6 en laat de top zien. \n",
    " \n",
    "### Hints\n",
    "* denk eens aan een merge\n",
    "* pas op voor dubbel tellingen: je wilt niet zowel (eng, deu, 14940) als (deu,eng, 14940) in je dataframe hebben zitten\n",
    "* met `Counter` kan je heel handig tellen.\n",
    "\n",
    "### Zo moet je output eruit zien:\n",
    "\n",
    "<table border=\"1\" class=\"dataframe\">\n",
    "  <thead>\n",
    "    <tr style=\"text-align: right;\">\n",
    "      <th></th>\n",
    "      <th>taal1</th>\n",
    "      <th>taal2</th>\n",
    "      <th>aantal_editors</th>\n",
    "    </tr>\n",
    "  </thead>\n",
    "  <tbody>\n",
    "    <tr>\n",
    "      <th>15404</th>\n",
    "      <td>deu</td>\n",
    "      <td>eng</td>\n",
    "      <td>34555</td>\n",
    "    </tr>\n",
    "    <tr>\n",
    "      <th>7093</th>\n",
    "      <td>eng</td>\n",
    "      <td>fra</td>\n",
    "      <td>22852</td>\n",
    "    </tr>\n",
    "    <tr>\n",
    "      <th>13069</th>\n",
    "      <td>eng</td>\n",
    "      <td>spa</td>\n",
    "      <td>19043</td>\n",
    "    </tr>\n",
    "    <tr>\n",
    "      <th>3393</th>\n",
    "      <td>eng</td>\n",
    "      <td>rus</td>\n",
    "      <td>12174</td>\n",
    "    </tr>\n",
    "    <tr>\n",
    "      <th>2348</th>\n",
    "      <td>eng</td>\n",
    "      <td>ita</td>\n",
    "      <td>12060</td>\n",
    "    </tr>\n",
    "  </tbody>\n",
    "</table>"
   ]
  },
  {
   "cell_type": "code",
   "execution_count": 1,
   "metadata": {
    "collapsed": false,
    "scrolled": true
   },
   "outputs": [
    {
     "ename": "NameError",
     "evalue": "global name 'df' is not defined",
     "output_type": "error",
     "traceback": [
      "\u001b[0;31m---------------------------------------------------------------------------\u001b[0m",
      "\u001b[0;31mNameError\u001b[0m                                 Traceback (most recent call last)",
      "\u001b[0;32m<ipython-input-1-671ecd3f94e7>\u001b[0m in \u001b[0;36m<module>\u001b[0;34m()\u001b[0m\n\u001b[1;32m     31\u001b[0m \u001b[0;34m\u001b[0m\u001b[0m\n\u001b[1;32m     32\u001b[0m \u001b[0;34m\u001b[0m\u001b[0m\n\u001b[0;32m---> 33\u001b[0;31m \u001b[0mget_ipython\u001b[0m\u001b[0;34m(\u001b[0m\u001b[0;34m)\u001b[0m\u001b[0;34m.\u001b[0m\u001b[0mmagic\u001b[0m\u001b[0;34m(\u001b[0m\u001b[0;34mu'time a = N5(6)'\u001b[0m\u001b[0;34m)\u001b[0m\u001b[0;34m\u001b[0m\u001b[0m\n\u001b[0m\u001b[1;32m     34\u001b[0m \u001b[0ma\u001b[0m\u001b[0;34m\u001b[0m\u001b[0m\n",
      "\u001b[0;32m//anaconda/lib/python2.7/site-packages/IPython/core/interactiveshell.pyc\u001b[0m in \u001b[0;36mmagic\u001b[0;34m(self, arg_s)\u001b[0m\n\u001b[1;32m   2156\u001b[0m         \u001b[0mmagic_name\u001b[0m\u001b[0;34m,\u001b[0m \u001b[0m_\u001b[0m\u001b[0;34m,\u001b[0m \u001b[0mmagic_arg_s\u001b[0m \u001b[0;34m=\u001b[0m \u001b[0marg_s\u001b[0m\u001b[0;34m.\u001b[0m\u001b[0mpartition\u001b[0m\u001b[0;34m(\u001b[0m\u001b[0;34m' '\u001b[0m\u001b[0;34m)\u001b[0m\u001b[0;34m\u001b[0m\u001b[0m\n\u001b[1;32m   2157\u001b[0m         \u001b[0mmagic_name\u001b[0m \u001b[0;34m=\u001b[0m \u001b[0mmagic_name\u001b[0m\u001b[0;34m.\u001b[0m\u001b[0mlstrip\u001b[0m\u001b[0;34m(\u001b[0m\u001b[0mprefilter\u001b[0m\u001b[0;34m.\u001b[0m\u001b[0mESC_MAGIC\u001b[0m\u001b[0;34m)\u001b[0m\u001b[0;34m\u001b[0m\u001b[0m\n\u001b[0;32m-> 2158\u001b[0;31m         \u001b[0;32mreturn\u001b[0m \u001b[0mself\u001b[0m\u001b[0;34m.\u001b[0m\u001b[0mrun_line_magic\u001b[0m\u001b[0;34m(\u001b[0m\u001b[0mmagic_name\u001b[0m\u001b[0;34m,\u001b[0m \u001b[0mmagic_arg_s\u001b[0m\u001b[0;34m)\u001b[0m\u001b[0;34m\u001b[0m\u001b[0m\n\u001b[0m\u001b[1;32m   2159\u001b[0m \u001b[0;34m\u001b[0m\u001b[0m\n\u001b[1;32m   2160\u001b[0m     \u001b[0;31m#-------------------------------------------------------------------------\u001b[0m\u001b[0;34m\u001b[0m\u001b[0;34m\u001b[0m\u001b[0m\n",
      "\u001b[0;32m//anaconda/lib/python2.7/site-packages/IPython/core/interactiveshell.pyc\u001b[0m in \u001b[0;36mrun_line_magic\u001b[0;34m(self, magic_name, line)\u001b[0m\n\u001b[1;32m   2077\u001b[0m                 \u001b[0mkwargs\u001b[0m\u001b[0;34m[\u001b[0m\u001b[0;34m'local_ns'\u001b[0m\u001b[0;34m]\u001b[0m \u001b[0;34m=\u001b[0m \u001b[0msys\u001b[0m\u001b[0;34m.\u001b[0m\u001b[0m_getframe\u001b[0m\u001b[0;34m(\u001b[0m\u001b[0mstack_depth\u001b[0m\u001b[0;34m)\u001b[0m\u001b[0;34m.\u001b[0m\u001b[0mf_locals\u001b[0m\u001b[0;34m\u001b[0m\u001b[0m\n\u001b[1;32m   2078\u001b[0m             \u001b[0;32mwith\u001b[0m \u001b[0mself\u001b[0m\u001b[0;34m.\u001b[0m\u001b[0mbuiltin_trap\u001b[0m\u001b[0;34m:\u001b[0m\u001b[0;34m\u001b[0m\u001b[0m\n\u001b[0;32m-> 2079\u001b[0;31m                 \u001b[0mresult\u001b[0m \u001b[0;34m=\u001b[0m \u001b[0mfn\u001b[0m\u001b[0;34m(\u001b[0m\u001b[0;34m*\u001b[0m\u001b[0margs\u001b[0m\u001b[0;34m,\u001b[0m\u001b[0;34m**\u001b[0m\u001b[0mkwargs\u001b[0m\u001b[0;34m)\u001b[0m\u001b[0;34m\u001b[0m\u001b[0m\n\u001b[0m\u001b[1;32m   2080\u001b[0m             \u001b[0;32mreturn\u001b[0m \u001b[0mresult\u001b[0m\u001b[0;34m\u001b[0m\u001b[0m\n\u001b[1;32m   2081\u001b[0m \u001b[0;34m\u001b[0m\u001b[0m\n",
      "\u001b[0;32m<decorator-gen-59>\u001b[0m in \u001b[0;36mtime\u001b[0;34m(self, line, cell, local_ns)\u001b[0m\n",
      "\u001b[0;32m//anaconda/lib/python2.7/site-packages/IPython/core/magic.pyc\u001b[0m in \u001b[0;36m<lambda>\u001b[0;34m(f, *a, **k)\u001b[0m\n\u001b[1;32m    186\u001b[0m     \u001b[0;31m# but it's overkill for just that one bit of state.\u001b[0m\u001b[0;34m\u001b[0m\u001b[0;34m\u001b[0m\u001b[0m\n\u001b[1;32m    187\u001b[0m     \u001b[0;32mdef\u001b[0m \u001b[0mmagic_deco\u001b[0m\u001b[0;34m(\u001b[0m\u001b[0marg\u001b[0m\u001b[0;34m)\u001b[0m\u001b[0;34m:\u001b[0m\u001b[0;34m\u001b[0m\u001b[0m\n\u001b[0;32m--> 188\u001b[0;31m         \u001b[0mcall\u001b[0m \u001b[0;34m=\u001b[0m \u001b[0;32mlambda\u001b[0m \u001b[0mf\u001b[0m\u001b[0;34m,\u001b[0m \u001b[0;34m*\u001b[0m\u001b[0ma\u001b[0m\u001b[0;34m,\u001b[0m \u001b[0;34m**\u001b[0m\u001b[0mk\u001b[0m\u001b[0;34m:\u001b[0m \u001b[0mf\u001b[0m\u001b[0;34m(\u001b[0m\u001b[0;34m*\u001b[0m\u001b[0ma\u001b[0m\u001b[0;34m,\u001b[0m \u001b[0;34m**\u001b[0m\u001b[0mk\u001b[0m\u001b[0;34m)\u001b[0m\u001b[0;34m\u001b[0m\u001b[0m\n\u001b[0m\u001b[1;32m    189\u001b[0m \u001b[0;34m\u001b[0m\u001b[0m\n\u001b[1;32m    190\u001b[0m         \u001b[0;32mif\u001b[0m \u001b[0mcallable\u001b[0m\u001b[0;34m(\u001b[0m\u001b[0marg\u001b[0m\u001b[0;34m)\u001b[0m\u001b[0;34m:\u001b[0m\u001b[0;34m\u001b[0m\u001b[0m\n",
      "\u001b[0;32m//anaconda/lib/python2.7/site-packages/IPython/core/magics/execution.pyc\u001b[0m in \u001b[0;36mtime\u001b[0;34m(self, line, cell, local_ns)\u001b[0m\n\u001b[1;32m   1178\u001b[0m         \u001b[0;32melse\u001b[0m\u001b[0;34m:\u001b[0m\u001b[0;34m\u001b[0m\u001b[0m\n\u001b[1;32m   1179\u001b[0m             \u001b[0mst\u001b[0m \u001b[0;34m=\u001b[0m \u001b[0mclock2\u001b[0m\u001b[0;34m(\u001b[0m\u001b[0;34m)\u001b[0m\u001b[0;34m\u001b[0m\u001b[0m\n\u001b[0;32m-> 1180\u001b[0;31m             \u001b[0;32mexec\u001b[0m\u001b[0;34m(\u001b[0m\u001b[0mcode\u001b[0m\u001b[0;34m,\u001b[0m \u001b[0mglob\u001b[0m\u001b[0;34m,\u001b[0m \u001b[0mlocal_ns\u001b[0m\u001b[0;34m)\u001b[0m\u001b[0;34m\u001b[0m\u001b[0m\n\u001b[0m\u001b[1;32m   1181\u001b[0m             \u001b[0mend\u001b[0m \u001b[0;34m=\u001b[0m \u001b[0mclock2\u001b[0m\u001b[0;34m(\u001b[0m\u001b[0;34m)\u001b[0m\u001b[0;34m\u001b[0m\u001b[0m\n\u001b[1;32m   1182\u001b[0m             \u001b[0mout\u001b[0m \u001b[0;34m=\u001b[0m \u001b[0mNone\u001b[0m\u001b[0;34m\u001b[0m\u001b[0m\n",
      "\u001b[0;32m<timed exec>\u001b[0m in \u001b[0;36m<module>\u001b[0;34m()\u001b[0m\n",
      "\u001b[0;32m<ipython-input-1-671ecd3f94e7>\u001b[0m in \u001b[0;36mN5\u001b[0;34m(i)\u001b[0m\n\u001b[1;32m      2\u001b[0m \u001b[0;32mdef\u001b[0m \u001b[0mN5\u001b[0m\u001b[0;34m(\u001b[0m\u001b[0mi\u001b[0m\u001b[0;34m)\u001b[0m\u001b[0;34m:\u001b[0m\u001b[0;34m\u001b[0m\u001b[0m\n\u001b[1;32m      3\u001b[0m \u001b[0;34m\u001b[0m\u001b[0m\n\u001b[0;32m----> 4\u001b[0;31m     \u001b[0mdf2\u001b[0m \u001b[0;34m=\u001b[0m \u001b[0mdf\u001b[0m\u001b[0;34m[\u001b[0m\u001b[0mdf\u001b[0m\u001b[0;34m.\u001b[0m\u001b[0mduplicated\u001b[0m\u001b[0;34m(\u001b[0m\u001b[0;34m[\u001b[0m\u001b[0;34m'gebruikersnaam'\u001b[0m\u001b[0;34m]\u001b[0m\u001b[0;34m,\u001b[0m \u001b[0mkeep\u001b[0m\u001b[0;34m=\u001b[0m\u001b[0mFalse\u001b[0m\u001b[0;34m)\u001b[0m\u001b[0;34m]\u001b[0m\u001b[0;34m\u001b[0m\u001b[0m\n\u001b[0m\u001b[1;32m      5\u001b[0m     \u001b[0mdf2\u001b[0m \u001b[0;34m=\u001b[0m \u001b[0mdf2\u001b[0m\u001b[0;34m[\u001b[0m\u001b[0mdf2\u001b[0m\u001b[0;34m[\u001b[0m\u001b[0;34m'aantal_edits'\u001b[0m\u001b[0;34m]\u001b[0m \u001b[0;34m>=\u001b[0m \u001b[0mstr\u001b[0m\u001b[0;34m(\u001b[0m\u001b[0mi\u001b[0m\u001b[0;34m)\u001b[0m\u001b[0;34m]\u001b[0m\u001b[0;34m\u001b[0m\u001b[0m\n\u001b[1;32m      6\u001b[0m     \u001b[0mdf_dict\u001b[0m\u001b[0;34m=\u001b[0m \u001b[0;34m{\u001b[0m\u001b[0mk\u001b[0m\u001b[0;34m:\u001b[0m\u001b[0msorted\u001b[0m\u001b[0;34m(\u001b[0m\u001b[0mg\u001b[0m\u001b[0;34m[\u001b[0m\u001b[0;34m\"taal\"\u001b[0m\u001b[0;34m]\u001b[0m\u001b[0;34m)\u001b[0m \u001b[0;32mfor\u001b[0m \u001b[0mk\u001b[0m\u001b[0;34m,\u001b[0m\u001b[0mg\u001b[0m \u001b[0;32min\u001b[0m \u001b[0mdf2\u001b[0m\u001b[0;34m.\u001b[0m\u001b[0mgroupby\u001b[0m\u001b[0;34m(\u001b[0m\u001b[0;34m\"gebruikersnaam\"\u001b[0m\u001b[0;34m)\u001b[0m\u001b[0;34m}\u001b[0m\u001b[0;34m\u001b[0m\u001b[0m\n",
      "\u001b[0;31mNameError\u001b[0m: global name 'df' is not defined"
     ]
    }
   ],
   "source": [
    "#cant really get the good output. Not sure what I'm doing wrong\n",
    "def N5(i):\n",
    "    \n",
    "    df2 = df[df.duplicated(['gebruikersnaam'], keep=False)]\n",
    "    df2 = df2[df2['aantal_edits'] >= str(i)]\n",
    "    df_dict= {k:sorted(g[\"taal\"]) for k,g in df2.groupby(\"gebruikersnaam\")}\n",
    "\n",
    "    L = []\n",
    "    \n",
    "\n",
    "    for x in df_dict.values():\n",
    "        values = list(combinations(x, 2))\n",
    "           \n",
    "        for x in values:\n",
    "            [L.append(x)]\n",
    "\n",
    "    \n",
    "    data = dict(Counter(L))\n",
    "        \n",
    "\n",
    "\n",
    "\n",
    "    df4 = pd.DataFrame(list(data.iteritems()),columns=['index','aantal_editors'])\n",
    "    df4[['taal1','taal2']] = df4['index'].apply(pd.Series)\n",
    "    df4 = df4.drop('index', 1)\n",
    "    df4 = df4[['taal1','taal2','aantal_editors']]\n",
    "    df4 = df4.sort_values(by = 'aantal_editors', ascending=False)\n",
    "    return df4.head()\n",
    "    \n",
    "    \n",
    "\n",
    "    \n",
    "%time a = N5(6)    \n",
    "a\n"
   ]
  },
  {
   "cell_type": "code",
   "execution_count": null,
   "metadata": {
    "collapsed": false
   },
   "outputs": [],
   "source": [
    "\n",
    "    \n",
    "    \n",
    "\n",
    "    "
   ]
  },
  {
   "cell_type": "code",
   "execution_count": null,
   "metadata": {
    "collapsed": true
   },
   "outputs": [],
   "source": [
    "\n",
    "\n",
    "\n",
    " \n"
   ]
  }
 ],
 "metadata": {
  "kernelspec": {
   "display_name": "Python 2",
   "language": "python",
   "name": "python2"
  },
  "language_info": {
   "codemirror_mode": {
    "name": "ipython",
    "version": 2
   },
   "file_extension": ".py",
   "mimetype": "text/x-python",
   "name": "python",
   "nbconvert_exporter": "python",
   "pygments_lexer": "ipython2",
   "version": "2.7.13"
  }
 },
 "nbformat": 4,
 "nbformat_minor": 0
}
