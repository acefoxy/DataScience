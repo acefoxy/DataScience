{
 "cells": [
  {
   "cell_type": "markdown",
   "metadata": {},
   "source": [
    "#  Reading files in Python \n",
    "\n",
    "We show how to read external file formats in Python: CSV, XML, JSON, PDF, HTML. \n",
    "\n",
    "\n",
    "This notebook starts with some theory and pointers to the literature followed by actual example code.\n",
    "\n",
    "\n",
    "The general logic of all the readers and writers is pretty much the same:\n",
    "\n",
    "* open a file for reading\n",
    "* read it using a special purpose module\n",
    "* the external fileformat is converted into a Python format, usually a list or  a dict.\n"
   ]
  },
  {
   "cell_type": "markdown",
   "metadata": {},
   "source": [
    " \n",
    "## [Reading files in Python](id:read)\n",
    "\n",
    "We show how to read external file formats in Python: CSV, XML, JSON, PDF, HTML. \n",
    "\n",
    "The general logic of all the readers and writers is pretty much the same:\n",
    "\n",
    "* open a file for reading\n",
    "* read it using a special purpose module\n",
    "* the external fileformat is converted into a Python format, usually a list or  a dict.\n",
    "\n",
    "#### Example: spreadsheets\n",
    "A spreadsheet for instance can be transformed   into a list of lists: a spreadsheet is indeed a list of rows, and each row can be seen as a list of data-items. \n",
    "\n",
    "* in this representation we use the index-number of the column to get to the information in that column.\n",
    "\n",
    "We can also transform a spreadsheet into a list of dicts, if we have _names_ for the columns. These names are often given in the first row of the spreadsheet.\n",
    "\n",
    "* now we can use the name of the column to get to that information.\n",
    "\n",
    "For semi-structured information like XML and JSON, nested dicts are the obvious representation. \n",
    "\n",
    "\n",
    "### CSV\n",
    "\n",
    "###### ~~csvreader~~\n",
    "~~CSV (for Comma Separated Value) files are spreadsheets in a textformat. Each row is one one line, data cells are separated by a comma, a semicolon, a tab, or what have you.~~\n",
    "\n",
    "~~In Python they can be read using [CSVreader module](https://docs.python.org/2/library/csv.html). The problem is that this module does not support Unicode well.~~\n",
    "\n",
    "##### pandas \n",
    "[Reading using pandas](http://nbviewer.ipython.org/github/jvns/pandas-cookbook/blob/master/cookbook/Chapter%201%20-%20Reading%20from%20a%20CSV.ipynb) is a better option. Pandas has lots of tricks for reading and \"repairing\" a csv file. \n",
    "\n",
    " \n",
    "* Easiest: make sure the input file contains no junk on top and in the first line it has the names of the columns.\n",
    "\n",
    "```\n",
    "import pandas as pd\n",
    "\n",
    "df =  pd.read_csv('EUspeeches10people2.csv' , sep=\"\\t\", encoding='utf-8' )  \n",
    "```\n",
    "* Some Potential trouble\n",
    "    * no header\n",
    "    * junk lines on top\n",
    "    * strange separator\n",
    "    * encoding issues\n",
    "    * (hard) not a fixed number of columns\n",
    "    * (semi-hard)  very big files\n",
    "* Most of these can be dealt with inside `pd.read_csv`. \n",
    "* The harder ones need special treatment\n",
    " \n",
    "\n",
    "### XML\n",
    "The `lxml` library is considered the best. Using tab completion in your notebook you quickly discover how it works.\n",
    "\n",
    "```\n",
    " # See http://lxml.de/objectify.html\n",
    "from lxml import etree\n",
    "from lxml import objectify\n",
    "\n",
    "url = \"http://www.volkskrant.nl/cultuur/rss.xml\"\n",
    "rss = urllib2.urlopen(url)\n",
    "\n",
    " # Now parse it to a tree\n",
    "parsed = etree.parse(rss)\n",
    " # use XPath to get the items\n",
    "titles=parsed.xpath('//item//title')\n",
    "titlestrings= [ t.text for t in titles]\n",
    "titlestrings\n",
    "```\n",
    "\n",
    "This returns a list of titles. \n",
    "\n",
    "```\n",
    "\t# get all urls\n",
    "[ url.text for url in parsed.findall('//link')]\n",
    "```\n",
    "returns a list of urls\n",
    "\n",
    "### JSON\n",
    "See [consuming-json-data-from-a-web-service.ipynb](consuming-json-data-from-a-web-service.ipynb) for an introduction.\n",
    "\n",
    "You really just need `json.loads` and `json.dumps` (for reading strings) if you are lucky with the data values.\n",
    "\n",
    "If you are reading files, use `json.load` and `json.dump`\n",
    "\n",
    "Try this example:\n",
    "\n",
    "```\n",
    "#See https://docs.python.org/2/howto/urllib2.html\n",
    "import urllib2\n",
    "url = \"https://raw.githubusercontent.com/DevTeam-TheOpenBastion/int-py-notes/master/nbsource/list-dict-and-set-comprehensions.ipynb\"\n",
    "jsonfile= urllib2.urlopen(url)\n",
    " \n",
    "json_as_python_object = json.load(jsonfile) # The josnfile transformed into a Python dict\n",
    "\n",
    "# test \n",
    "json_as_python_object.keys(),len(json_as_python_object) \n",
    "```\n",
    "\n",
    "\n",
    "\n",
    "\n",
    "\n",
    "### PDF\n",
    "\n",
    "PDF parsing is not very well handled in Python. Under Linux there are the Xpdf tools, like [pdftotext](http://en.wikipedia.org/wiki/Pdftotext).\n",
    "\n",
    "For Python,  a tool similar to pdftotext works (but not as well) as follows: <https://github.com/euske/pdfminer>\n",
    "You can run it from the command line, or within a Python script.\n",
    "\n",
    "```\n",
    " # Step 3 From PDF to text\n",
    " # We use pdf2txt.py from http://www.unixuser.org/~euske/python/pdfminer/index.html#pdf2txt\n",
    " # I put the tool in /Users/admin/bin/pdfminer-20140328\n",
    "\n",
    "\n",
    " #do a test\n",
    "wcw-staff-145-18-164-254:pdfminer-20140328 admin$ pwd\n",
    "/Users/admin/bin/pdfminer-20140328\n",
    "wcw-staff-145-18-164-254:pdfminer-20140328 admin$ ./tools/pdf2txt.py ~/Documents/work/onderwijs/DataScience/HarryPotterAnalysis/Harry-Potter-All-7-books-+-3-extras/J.K._Rowling_-Chapter_0_-_Harry_Potter_Prequel.pdf \n",
    "C H A P T E R  Z E R O \n",
    "\n",
    " \n",
    "\n",
    "(cid:145) 1 (cid:145) \n",
    "\n",
    "\n",
    "CHAPTER  ZERO \n",
    "\n",
    "THE PREQUEL \n",
    "```\n",
    "\n",
    "\n",
    "### HTML\n",
    "\n",
    "HTML parsing is best done using the [BeautifulSoup Module](http://www.crummy.com/software/BeautifulSoup/bs4/doc/#beautiful-soup-documentation)\n",
    "\n",
    "* [Intro and installing](http://www.crummy.com/software/BeautifulSoup/bs4/doc/#quick-start)\n",
    "* [Search](http://www.crummy.com/software/BeautifulSoup/bs4/doc/#searching-the-tree)\n",
    "\n",
    "\n"
   ]
  },
  {
   "cell_type": "code",
   "execution_count": null,
   "metadata": {
    "collapsed": false
   },
   "outputs": [],
   "source": [
    "# See https://docs.python.org/2/howto/urllib2.html\n",
    "import urllib2\n",
    "import requests # werkt veel fijner dan urllib2"
   ]
  },
  {
   "cell_type": "code",
   "execution_count": 85,
   "metadata": {
    "collapsed": false
   },
   "outputs": [
    {
     "name": "stdout",
     "output_type": "stream",
     "text": [
      "downloading with requests\n",
      "-rw-r--r--  1 admin  staff    93K Jul 26 17:40 test.xml\n",
      "﻿<?xml version=\"1.0\" encoding=\"utf-8\"?>\n"
     ]
    }
   ],
   "source": [
    "# voorbeeld\n",
    "\n",
    "url= 'https://zoek.officielebekendmakingen.nl/h-ek-20152016-1-9.xml'\n",
    "\n",
    "print \"downloading with requests\"\n",
    "r = requests.get(url)\n",
    "with open(\"test.xml\", \"wb\") as code:\n",
    "    code.write(r.content)\n",
    "    \n",
    "# test if it works\n",
    "%ls -lh test.xml\n",
    "!head -1 test.xml\n",
    "!xmllint test.xml -noout"
   ]
  },
  {
   "cell_type": "markdown",
   "metadata": {},
   "source": [
    "# Reading in files, from the web or from your disk\n",
    "\n",
    "* requests <http://docs.python-requests.org/en/master/user/quickstart/>\n",
    "* urllib2 <https://docs.python.org/2/howto/urllib2.html>\n",
    "* from disk: <https://docs.python.org/2/tutorial/inputoutput.html#reading-and-writing-files>\n",
    "* handy: <https://docs.python.org/2/library/os.path.html#os.path.join>"
   ]
  },
  {
   "cell_type": "code",
   "execution_count": null,
   "metadata": {
    "collapsed": false
   },
   "outputs": [],
   "source": [
    "## Read from disk\n",
    "# ls is a unix command (and thus works on mac too), but %ls is an IPython magic, so it also works on Windows\n",
    "# Mac users can simply type !ls \n",
    "%ls ../Data/"
   ]
  },
  {
   "cell_type": "code",
   "execution_count": null,
   "metadata": {
    "collapsed": false
   },
   "outputs": [],
   "source": [
    "#Stop je files eventjes in een python lijst\n",
    "mijn_files= !ls ../Data\n",
    "len(mijn_files), mijn_files[:3]"
   ]
  },
  {
   "cell_type": "code",
   "execution_count": null,
   "metadata": {
    "collapsed": false
   },
   "outputs": [],
   "source": [
    "# combineer Python met linux commands\n",
    "# Bijvoorbeeld: tel het aantal woorden in elke file\n",
    "# Let op de ! en de $\n",
    "for f in mijn_files:\n",
    "    file_plus_pad = '../Data/'+f\n",
    "    !wc -w \"$file_plus_pad\""
   ]
  },
  {
   "cell_type": "code",
   "execution_count": null,
   "metadata": {
    "collapsed": true
   },
   "outputs": [],
   "source": [
    "f = open('../Data/MONUMENTALE_BOMEN.csv')\n",
    "\n",
    "# What can you do with f?  Use TAB\n"
   ]
  },
  {
   "cell_type": "code",
   "execution_count": null,
   "metadata": {
    "collapsed": false
   },
   "outputs": [],
   "source": [
    "columnnames= f.readline().split(';')\n",
    "columnnames"
   ]
  },
  {
   "cell_type": "markdown",
   "metadata": {},
   "source": [
    "# More control using \"with open as\""
   ]
  },
  {
   "cell_type": "code",
   "execution_count": null,
   "metadata": {
    "collapsed": false
   },
   "outputs": [],
   "source": [
    "with open('../Data/MONUMENTALE_BOMEN.csv') as f:\n",
    "    alllines=[]\n",
    "    for l in f:\n",
    "        alllines.append(l.split(';'))\n",
    "        \n",
    "len(alllines), alllines[:2]"
   ]
  },
  {
   "cell_type": "code",
   "execution_count": null,
   "metadata": {
    "collapsed": false
   },
   "outputs": [],
   "source": [
    "# read from the web\n",
    "url=\"http://maartenmarx.nl/teaching/DataScience/Data/MONUMENTALE_BOMEN.csv\"\n",
    "f=urllib2.urlopen(url)\n",
    "# Find out about f??? Do f. TAB\n",
    "f.readline()"
   ]
  },
  {
   "cell_type": "markdown",
   "metadata": {},
   "source": [
    "# Read from the web: requests"
   ]
  },
  {
   "cell_type": "code",
   "execution_count": null,
   "metadata": {
    "collapsed": false
   },
   "outputs": [],
   "source": [
    "import requests\n",
    "\n",
    "f= requests.get(url)\n",
    "# Find out about f??? Do f. TAB\n",
    "\n",
    "lines= f.text.split('\\n')\n",
    "f.close()\n",
    "\n",
    "len(lines), lines[:2]\n"
   ]
  },
  {
   "cell_type": "code",
   "execution_count": null,
   "metadata": {
    "collapsed": false
   },
   "outputs": [],
   "source": [
    "# Turn it into a matrix using list comprhension and another split\n",
    "\n",
    "list_of_lists= [line.split(';') for line in lines ]\n",
    "\n",
    "len(list_of_lists), list_of_lists[:2]"
   ]
  },
  {
   "cell_type": "markdown",
   "metadata": {},
   "source": [
    "# CSV: use pandas\n",
    "\n",
    "* Zie <http://nbviewer.ipython.org/github/jvns/pandas-cookbook/blob/master/cookbook/Chapter%201%20-%20Reading%20from%20a%20CSV.ipynb>\n"
   ]
  },
  {
   "cell_type": "markdown",
   "metadata": {},
   "source": [
    "## JSON\n",
    "\n",
    "* Mooi voorbeeld op <http://en.wikipedia.org/wiki/JSON#Data_types.2C_syntax_and_example>\n",
    "* `json.load` turns json file into a Python dict "
   ]
  },
  {
   "cell_type": "code",
   "execution_count": null,
   "metadata": {
    "collapsed": false
   },
   "outputs": [],
   "source": [
    "import json\n",
    "\n",
    "test='''\n",
    "{\n",
    "  \"firstName\": \"John\",\n",
    "  \"lastName\": \"Smith\",\n",
    "  \"age\": 25,\n",
    "  \"address\": {\n",
    "    \"streetAddress\": \"21 2nd Street\",\n",
    "    \"city\": \"New York\",\n",
    "    \"state\": \"NY\",\n",
    "    \"postalCode\": \"10021\"\n",
    "  },\n",
    "  \"phoneNumber\": [\n",
    "    {\n",
    "      \"type\": \"home\",\n",
    "      \"number\": \"212 555-1234\"\n",
    "    },\n",
    "    {\n",
    "      \"type\": \"fax\",\n",
    "      \"number\": \"646 555-4567\"\n",
    "    }\n",
    "  ],\n",
    "  \"gender\": {\n",
    "    \"type\": \"male\"\n",
    "  }\n",
    "}\n",
    "'''\n",
    " "
   ]
  },
  {
   "cell_type": "code",
   "execution_count": null,
   "metadata": {
    "collapsed": true
   },
   "outputs": [],
   "source": [
    "#What kind of object is test ?\n",
    "test?"
   ]
  },
  {
   "cell_type": "code",
   "execution_count": null,
   "metadata": {
    "collapsed": false
   },
   "outputs": [],
   "source": [
    "Test_dict= json.loads(test)   \n"
   ]
  },
  {
   "cell_type": "code",
   "execution_count": null,
   "metadata": {
    "collapsed": false
   },
   "outputs": [],
   "source": [
    "#What kind of object is Test_dict\n",
    "\n",
    "Test_dict?"
   ]
  },
  {
   "cell_type": "code",
   "execution_count": null,
   "metadata": {
    "collapsed": false
   },
   "outputs": [],
   "source": [
    "# try it out:\n",
    "Test_dict['address']    "
   ]
  },
  {
   "cell_type": "markdown",
   "metadata": {},
   "source": [
    "### Every IPython notebook is a json file"
   ]
  },
  {
   "cell_type": "code",
   "execution_count": null,
   "metadata": {
    "collapsed": false
   },
   "outputs": [],
   "source": [
    "\n",
    "import json\n",
    "url = \"https://raw.githubusercontent.com/DevTeam-TheOpenBastion/int-py-notes/master/nbsource/list-dict-and-set-comprehensions.ipynb\"\n",
    "jsonfile= urllib2.urlopen(url)\n",
    " \n",
    "json_as_python_object = json.load(jsonfile) # The jsonfile transformed into a Python dict\n",
    "\n",
    "# test \n",
    "json_as_python_object.keys() ,len(json_as_python_object) "
   ]
  },
  {
   "cell_type": "markdown",
   "metadata": {},
   "source": [
    "## XML\n",
    "\n",
    "* json encode in XML : <http://en.wikipedia.org/wiki/JSON#Samples>\n",
    "\n",
    "```\n",
    "<person>\n",
    "  <firstName>John</firstName>\n",
    "  <lastName>Smith</lastName>\n",
    "  <age>25</age>\n",
    "  <address>\n",
    "    <streetAddress>21 2nd Street</streetAddress>\n",
    "    <city>New York</city>\n",
    "    <state>NY</state>\n",
    "    <postalCode>10021</postalCode>\n",
    "  </address>\n",
    "  <phoneNumbers>\n",
    "    <phoneNumber type=\"home\">212 555-1234</phoneNumber>\n",
    "    <phoneNumber type=\"fax\">646 555-4567</phoneNumber>\n",
    "  </phoneNumbers>\n",
    "  <gender>\n",
    "    <type>male</type>\n",
    "  </gender>\n",
    "</person>\n",
    "```"
   ]
  },
  {
   "cell_type": "markdown",
   "metadata": {},
   "source": [
    "## Alternatieve encoding in XML met attributen:\n",
    "```\n",
    "<person firstName=\"John\" lastName=\"Smith\" age=\"25\">\n",
    "  <address streetAddress=\"21 2nd Street\" city=\"New York\" state=\"NY\" postalCode=\"10021\" />\n",
    "  <phoneNumbers>\n",
    "     <phoneNumber type=\"home\" number=\"212 555-1234\"/>\n",
    "     <phoneNumber type=\"fax\"  number=\"646 555-4567\"/>\n",
    "  </phoneNumbers>\n",
    "  <gender type=\"male\"/>\n",
    "</person>\n",
    "```"
   ]
  },
  {
   "cell_type": "code",
   "execution_count": null,
   "metadata": {
    "collapsed": false
   },
   "outputs": [],
   "source": [
    "# See http://lxml.de/objectify.html\n",
    "from lxml import etree\n",
    "from lxml import objectify\n",
    "\n",
    "url = \"http://www.volkskrant.nl/cultuur/rss.xml\"\n",
    "rss = urllib2.urlopen(url)\n",
    "\n",
    "# Now parse it to a tree\n",
    "\n",
    "parsed = etree.parse(rss)\n",
    "root = parsed.getroot()\n",
    "root"
   ]
  },
  {
   "cell_type": "code",
   "execution_count": null,
   "metadata": {
    "collapsed": false
   },
   "outputs": [],
   "source": [
    "# use xpath the select data from the XML document\n",
    "root.xpath('//title/text()')[:6]"
   ]
  },
  {
   "cell_type": "code",
   "execution_count": null,
   "metadata": {
    "collapsed": false
   },
   "outputs": [],
   "source": [
    "from IPython.display import HTML\n",
    "HTML('<iframe width=\"850\" height=\"700\" scrolling=\"no\" frameborder=\"no\" src=\"http://www.volkskrant.nl/cultuur/rss.xml\"></iframe>')\n",
    " "
   ]
  },
  {
   "cell_type": "code",
   "execution_count": null,
   "metadata": {
    "collapsed": false
   },
   "outputs": [],
   "source": [
    "parsed.xpath('//item//text()')[:5]"
   ]
  },
  {
   "cell_type": "code",
   "execution_count": null,
   "metadata": {
    "collapsed": false
   },
   "outputs": [],
   "source": [
    "items= parsed.xpath('//item')\n",
    "first=items[0]\n",
    "first.findall('*')"
   ]
  },
  {
   "cell_type": "code",
   "execution_count": null,
   "metadata": {
    "collapsed": false
   },
   "outputs": [],
   "source": [
    "# Pak de tekst in het description element van first\n",
    "first.findtext('description')"
   ]
  },
  {
   "cell_type": "code",
   "execution_count": null,
   "metadata": {
    "collapsed": false
   },
   "outputs": [],
   "source": [
    "# Pak alle tekst van first  (het eerste item in de RSS feed)\n",
    "first.xpath('.//text() ')"
   ]
  },
  {
   "cell_type": "markdown",
   "metadata": {},
   "source": [
    "### Wat is hier aan de hand??\n",
    "\n",
    "* Dit lijkt toch helemaal niet op het eerste item?\n",
    "* We krijgen alle text elementen onder het eerste item terug.\n",
    "    * Dit is **inclusief** alle opmaak in de XML file.\n",
    "    \n",
    "### Netjes uitprinten:"
   ]
  },
  {
   "cell_type": "code",
   "execution_count": null,
   "metadata": {
    "collapsed": false
   },
   "outputs": [],
   "source": [
    "print ''.join(first.xpath('.//text() '))"
   ]
  },
  {
   "cell_type": "code",
   "execution_count": null,
   "metadata": {
    "collapsed": false
   },
   "outputs": [],
   "source": [
    "# Geef nu alleen de titels van items\n",
    "\n",
    "titles=parsed.xpath('//item//title/text()')\n",
    " \n",
    "titles[:5]"
   ]
  },
  {
   "cell_type": "code",
   "execution_count": null,
   "metadata": {
    "collapsed": false
   },
   "outputs": [],
   "source": [
    "# get all urls\n",
    "[ url.text for url in parsed.findall('//link')][:10]"
   ]
  },
  {
   "cell_type": "code",
   "execution_count": null,
   "metadata": {
    "collapsed": false
   },
   "outputs": [],
   "source": [
    "# get all urls in de items (not the boilerplate urls)\n",
    "[ url.text for url in parsed.findall('//item/link')][:10]"
   ]
  },
  {
   "cell_type": "code",
   "execution_count": null,
   "metadata": {
    "collapsed": false
   },
   "outputs": [],
   "source": [
    "# alternatief:\n",
    "\n",
    "parsed.xpath('//item/link/text()')[:5]"
   ]
  },
  {
   "cell_type": "markdown",
   "metadata": {},
   "source": [
    "### Parsing XML with beautifulsoup\n",
    "\n",
    "If you like beautifulsoup, you can also use it to parse XML of course.\n",
    "\n",
    "You don't have the full XPath power, but often you do not need it.\n",
    "\n",
    "\n",
    "### Note\n",
    "* Beautifulsoup wrongly parses the link elements.\n"
   ]
  },
  {
   "cell_type": "code",
   "execution_count": null,
   "metadata": {
    "collapsed": false
   },
   "outputs": [],
   "source": [
    "from bs4 import BeautifulSoup\n",
    "\n",
    "url = \"http://www.volkskrant.nl/cultuur/rss.xml\"\n",
    "rss = urllib2.urlopen(url)\n",
    "soup = BeautifulSoup(rss)\n",
    "\n",
    "print soup.prettify()"
   ]
  },
  {
   "cell_type": "code",
   "execution_count": null,
   "metadata": {
    "collapsed": false
   },
   "outputs": [],
   "source": [
    "# get text from the description of the   first item\n",
    "soup.item.description.text"
   ]
  },
  {
   "cell_type": "code",
   "execution_count": null,
   "metadata": {
    "collapsed": false
   },
   "outputs": [],
   "source": [
    "soup.findAll('title')[:5]"
   ]
  },
  {
   "cell_type": "markdown",
   "metadata": {},
   "source": [
    "# HTML\n",
    "* We use BeautifulSoup\n",
    "\n",
    "\n",
    "\n",
    "\n",
    "# PDF\n",
    "* We use `pdftotext` (only on mac and linux).\n",
    "* later in teh course, we see some python solutions"
   ]
  },
  {
   "cell_type": "code",
   "execution_count": null,
   "metadata": {
    "collapsed": false
   },
   "outputs": [],
   "source": [
    "from IPython.display import HTML\n",
    "HTML('<iframe src=http://maartenmarx.nl/pub/HAN8168A06.0000.pdf width=700 height=350></iframe>')"
   ]
  },
  {
   "cell_type": "code",
   "execution_count": null,
   "metadata": {
    "collapsed": false
   },
   "outputs": [],
   "source": [
    "!pdftotext"
   ]
  },
  {
   "cell_type": "code",
   "execution_count": null,
   "metadata": {
    "collapsed": false
   },
   "outputs": [],
   "source": [
    "!curl http://maartenmarx.nl/pub/HAN8168A06.0000.pdf > test.pdf; pdftotext  test.pdf"
   ]
  },
  {
   "cell_type": "code",
   "execution_count": null,
   "metadata": {
    "collapsed": false
   },
   "outputs": [],
   "source": [
    "!pdftotext -layout  test.pdf\n",
    "! head test.txt"
   ]
  },
  {
   "cell_type": "markdown",
   "metadata": {},
   "source": [
    "### pdftotext preserves reading order\n",
    "\n",
    "* Note that it even removes hyphens! \n",
    "* There are some encoding issues"
   ]
  },
  {
   "cell_type": "code",
   "execution_count": null,
   "metadata": {
    "collapsed": false
   },
   "outputs": [],
   "source": [
    "!pdftotext   test.pdf\n",
    "!head -1 test.txt"
   ]
  },
  {
   "cell_type": "markdown",
   "metadata": {},
   "source": [
    "# Reading gzipped file line by line"
   ]
  },
  {
   "cell_type": "code",
   "execution_count": 50,
   "metadata": {
    "collapsed": false
   },
   "outputs": [
    {
     "name": "stdout",
     "output_type": "stream",
     "text": [
      "--2016-07-15 14:37:38--  http://web.informatik.uni-mannheim.de/DBpediaAsTables/csv/Brewery.csv.gz\n",
      "Resolving web.informatik.uni-mannheim.de... 134.155.95.98\n",
      "Connecting to web.informatik.uni-mannheim.de|134.155.95.98|:80... connected.\n",
      "HTTP request sent, awaiting response... 200 OK\n",
      "Length: 102530 (100K) [application/x-gzip]\n",
      "Saving to: `Brewery.csv.gz.3'\n",
      "\n",
      "100%[======================================>] 102,530     --.-K/s   in 0.09s   \n",
      "\n",
      "2016-07-15 14:37:38 (1.09 MB/s) - `Brewery.csv.gz.3' saved [102530/102530]\n",
      "\n"
     ]
    }
   ],
   "source": [
    "# Get a file \n",
    "!wget http://web.informatik.uni-mannheim.de/DBpediaAsTables/csv/Brewery.csv.gz"
   ]
  },
  {
   "cell_type": "code",
   "execution_count": 58,
   "metadata": {
    "collapsed": false
   },
   "outputs": [
    {
     "name": "stdout",
     "output_type": "stream",
     "text": [
      "     368\n",
      "-rw-r--r--  1 admin  staff   100K Sep 24  2014 Brewery.csv.gz\n"
     ]
    }
   ],
   "source": [
    "# inspect it\n",
    "!gunzip --stdout  Brewery.csv.gz |wc -l  # how many lines unzipped\n",
    "!ls -lh Brewery.csv.gz;    # how large zipped"
   ]
  },
  {
   "cell_type": "code",
   "execution_count": 59,
   "metadata": {
    "collapsed": false
   },
   "outputs": [
    {
     "name": "stdout",
     "output_type": "stream",
     "text": [
      "Regel 0 : yPerson\",\"location_label\",\"location\",\"locationCity\n",
      "Regel 1 : ttp://dbpedia.org/ontology/foundingYear\",\"http://d\n",
      "Regel 2 : ing\",\"Person\",\"XMLSchema#string\",\"Place\",\"XMLSchem\n",
      "Regel 3 : org/2000/01/rdf-schema#Literal\",\"http://www.w3.org\n",
      "Regel 4 : y is a restaurant and brewery located in the South\n",
      "Regel 5 : ery located in city of Bath England. It was founde\n",
      "Regel 6 : ny is a craft brewery located in Abita Springs Lou\n",
      "Regel 7 : rewing company founded by the original Fort Garry \n",
      "Regel 8 : edish microbrewery located in Ale Västra Götalan\n",
      "Regel 9 : pany a regional craft brewery located in Juneau Al\n",
      "Regel 10 : Company is an American craft brewery founded in 19\n",
      "Regel 11 : 's is a Canadian brewery founded in 1820 in Halifa\n",
      "Regel 12 : -owned independent brewery located in Schinnen the\n",
      "Regel 13 : merican brewery founded in 1999 by Pat Mcilhenney \n",
      "Regel 14 :  is a brewing company founded in Rimini in Emilia \n",
      "Regel 15 :  Inc. is a microbrewery located in Edmonton Albert\n",
      "Regel 16 : rewing Company is a microbrewery based in Toronto \n",
      "Regel 17 : erson Valley Brewing Company is a brewery founded \n",
      "Regel 18 : ed by Adam Komrower in 2008 and was based at Lodge\n",
      "Regel 19 : ska pivara / Апатинска пивара) is a\n",
      "Regel 20 : hian Brewing Company commonly known as ABC is an A\n",
      "Regel 21 :  Company (also known as Arcadia Ales) is a microbr\n",
      "Regel 22 :  located in the historic Pullman District in Chica\n",
      "Regel 23 : in Toms River in Ocean County New Jersey. The brew\n",
      "Regel 24 : ery) was the first brewery in Eritrea. It was foun\n",
      "Regel 25 : ust Schell Brewing Company is a brewing company in\n",
      "Regel 26 :  located in Munich Germany. Established in 1328 it\n",
      "Regel 27 : -ing-gr; German: Brauerei Aying) is a medium-sized\n",
      "Regel 28 : nts Inc. (NASDAQ: BJRI) currently owns and operate\n",
      "Regel 29 : se flagship product is the beer Balashi.\",\"NULL\",\"\n",
      "Regel 30 :  Point Brewing & Spirits Company is an American cr\n",
      "Regel 31 :  other uses see Baltica (disambiguation)Baltika Br\n",
      "Regel 32 : in Red Bank in Monmouth County New Jersey. An Ital\n",
      "Regel 33 :  oldest and second largest active microbrewery in \n",
      "Regel 34 :  Nelson New Zealand established in December 1993.\"\n",
      "Regel 35 : r Republic Brewing Company is an American microbre\n",
      "Regel 36 : \",\"Beau's All Natural Brewing Company also known a\n",
      "Regel 37 : r Dunbar in Scotland owned by Greene King.\",\"NULL\"\n",
      "Regel 38 : any based in Kalamazoo Michigan with a second faci\n",
      "Regel 39 : rija Piva the Belgrade Industry Of Beer) is a brew\n",
      "Regel 40 : White Center Washington. It was started in August \n",
      "Regel 41 : pany is a brewery located in Missoula Montana. It \n",
      "Regel 42 : name of a popular Sardinian-made beer which is bre\n",
      "Regel 43 : company located in Biella Piedmont. Under this lab\n",
      "Regel 44 : y founded in Carate Brianza in Lombardy Italy in 2\n",
      "Regel 45 : mpany founded in Udine in 1859 by Luigi Moretti. I\n",
      "Regel 46 : lo Poretti is an Italian brewing company located i\n",
      "Regel 47 : auerei Th. Simon GmbH) is a large German brewery f\n",
      "Regel 48 : brewery on the Black Isle in the Highland region o\n",
      "Regel 49 : ry in Afton Virginia is a micro-brewery which form\n",
      "Regel 50 : ewing Company is a microbrewery located on Long Is\n",
      "Regel 51 : ralian beer company owned by Foster's Group. The b\n",
      "Regel 52 : ry in Willyabrup near Margaret River Western Austr\n",
      "Regel 53 : sed in Fullerton California is one of the largest \n",
      "Regel 54 : ng Company is a regional brewery located in Kansas\n",
      "Regel 55 : ary Bay Brewing Company also known as the Boundary\n",
      "Regel 56 :  Democratic Republic of the Congo with 5 breweries\n",
      "Regel 57 : he trade name for Brunehaut Brewery located in Ron\n",
      "Regel 58 : elgian artisanal brewery based in Falmignoul (near\n",
      "Regel 59 : largest brewery in Luxembourg based in Bascharage.\n",
      "Regel 60 : aft brewery located in Esquelbecq a town in the Ar\n",
      "Regel 61 : ry located in the town of Silly (Belgium). The bre\n",
      "Regel 62 : rasserie des Franches-Montagnes also known by the \n",
      "Regel 63 : ian family brewery founded in 1858 by Martin Belot\n",
      "Regel 64 : es des Brasseries du Cameroun (SABC or BC) is a br\n",
      "Regel 65 : r and microbrewery based in North Ridgeville Ohio \n",
      "Regel 66 : wery located near Cooperstown New York that specia\n",
      "Regel 67 : imited (TSX: BRB) is located in Waterloo Ontario. \n",
      "Regel 68 : ewing Company is an American brewery located in Po\n",
      "Regel 69 : pany is an American brewery founded in 1994 by Mik\n",
      "Regel 70 :  Australian brewing company founded by partners Ke\n",
      "Regel 71 : y based in Brooklyn in New York City. It was start\n",
      "Regel 72 : er originating in Somerset in South West England a\n",
      "Regel 73 : n: [ˌbrʌuʋəˈrɛi ət ɛi]; English: The IJ Br\n",
      "Regel 74 : weiser Bier or Budweiser Bürgerbräu was (since 1\n",
      "Regel 75 : y is a restaurant and brewery in Hayward Californi\n",
      "Regel 76 : ing Company is a craft brewery in Burleigh Heads Q\n",
      "Regel 77 : ish brewery founded in 1869 in the Shandon area of\n",
      "Regel 78 : ewing Company is a microbrewery located in Sparta \n",
      "Regel 79 : ng Company is a craft brewery located just outside\n",
      "Regel 80 : Company (CMBC) was the first microbrewery to open \n",
      "Regel 81 : d in Middleton Wisconsin. Founded on March 14 1984\n",
      "Regel 82 : aptain Lawrence Brewing Company is an award-winnin\n",
      "Regel 83 : 1788 by François Piller located in Fribourg Switz\n",
      "Regel 84 : tered in Trinidad and Tobago. It produces Carib an\n",
      "Regel 85 : Molson Coors Brewing Company. In South Africa it i\n",
      "Regel 86 : : Carlsberg Srbija d.o.o. Čelarevo) is a beer bre\n",
      "Regel 87 : ted Breweries is an Australian brewing company bas\n",
      "Regel 88 : nually operating brewery in Australia. It is based\n",
      "Regel 89 : as an American microbrewery located in Portland Ma\n",
      "Regel 90 : LL\",\"NULL\",\"{Costa Rica|San José Costa Rica}\",\"{h\n",
      "Regel 91 : cally: [serβeseˈɾi.a i malteˈɾi.a ˈkilmes]) \n",
      "Regel 92 : ry located in the village of Cheddar in Somerset E\n",
      "Regel 93 :  Brewers International Inc. is a brewer of Canadia\n",
      "Regel 94 : bbon (Chinese: 蓝带啤酒; pinyin: Lán dài pí\n",
      "Regel 95 : nd winery on Nantucket Island in Massachusetts. It\n",
      "Regel 96 : stal Extreme Brewing Company is a craft brewery lo\n",
      "Regel 97 : Company is a microbrewery in Bramley Brook Valley \n",
      "Regel 98 : reston British Columbia was once a part of the For\n",
      "Regel 99 :  Australian brewer founded in 2005 to supply beer \n",
      "Regel 100 : s a brewery located in Skipton North Yorkshire. Th\n",
      "Regel 101 : crobrewery located in the historic district of dow\n",
      "Regel 102 : ated in Creemore Ontario Canada which first opened\n",
      "Regel 103 :  microbrewery based in Fairfield New Jersey. In 20\n",
      "Regel 104 : an independent brewery based in South Woodham Ferr\n",
      "Regel 105 : icrobrewery and tap room in Marshall Michigan. The\n",
      "Regel 106 : ewery which opened in 1994 and expanded in 2002.Or\n",
      "Regel 107 : ers) is a Belgian brewery based in Esen in the pro\n",
      "Regel 108 :  De Koninck) is a Belgian brewery based in Antwerp\n",
      "Regel 109 : brewery founded in 1996 by Dirk Naudts and his wif\n",
      "Regel 110 : 's Canyon Brewing Company is an American craft bee\n",
      "Regel 111 : ablished in 2008 Devils Backbone Brewing Company i\n",
      "Regel 112 : ear Brewing Company is a beer brewery located in L\n",
      "Regel 113 : not Brewing Company is a craft brewery and operato\n",
      "Regel 114 : ry and restaurant located in Dillon Colorado U.S.A\n",
      "Regel 115 : ny is a regional brewery founded in New Orleans Lo\n",
      "Regel 116 :  Brewing Company is a microbrewery in the Cedar Pa\n",
      "Regel 117 : Ale- & Porterbryggeri (Dugge's Ale & Porter Brewer\n",
      "Regel 118 :  New York-based brewing company that produces ales\n",
      "Regel 119 : Company is a brewing company based in Latrobe. The\n",
      "Regel 120 :  (1899–1972)\",\"The Duquesne Brewing Company was \n",
      "Regel 121 : Company is a Pittsburgh brewery. According to the \n",
      "Regel 122 :  Company is a craft brewer that operates three pub\n",
      "Regel 123 : microbrewery located in Dunedin New Zealand establ\n",
      "Regel 124 : Company is an American craft brewery founded in 19\n",
      "Regel 125 :  brewing company located in Otahuhu Auckland New Z\n",
      "Regel 126 : ing company founded in 1888 by Símun F. Hansen. T\n",
      "Regel 127 : . & M. Schaefer Brewing Company was founded in 184\n",
      "Regel 128 : ated in the town of Fakse. The Brewery was founded\n",
      "Regel 129 : m Northumberland UK.\",\"NULL\",\"NULL\",\"NULL\",\"NULL\",\n",
      "Regel 130 : ny is an award winning microbrewery located in the\n",
      "Regel 131 : irestone Walker Brewing Company is a microbrewery \n",
      "Regel 132 :  microbrewery in Olympia Washington. Its products \n",
      "Regel 133 :  brewery located in Flensburg in the Bundesland (f\n",
      "Regel 134 : n independent craft brewery located in Melbourne F\n",
      "Regel 135 : obrewery in Hillsborough in Somerset County New Je\n",
      "Regel 136 : son Brewing Company is an American microbrewery lo\n",
      "Regel 137 : brewery located in Frederick Maryland United State\n",
      "Regel 138 : uerei Forst) mainly known as Forst is an Italian b\n",
      "Regel 139 : founded on June 1 1992 by Sandy Jones Karen Jones \n",
      "Regel 140 : y Brewing Company Ltd brews beer in Winnipeg Canad\n",
      "Regel 141 : ted in Astoria Oregon United States and produces o\n",
      "Regel 142 : els Brewing Company is a beer maker based in Mante\n",
      "Regel 143 : ing Co. L.L.C. d/b/a Founders Brewing Company is a\n",
      "Regel 144 : ona brewery and restaurant. The original and main \n",
      "Regel 145 : ng Company is a microbrewery in McKinney Texas. Th\n",
      "Regel 146 : e North Loop area of Minneapolis. According to the\n",
      "Regel 147 : varian brewery company founded in 1872 by Georg Sc\n",
      "Regel 148 : s Brewing Company is an Australian brewery. It is \n",
      "Regel 149 : ewing Company is a craft brewery in Seattle's Geor\n",
      "Regel 150 : brewery in St. Ulrik's Kapelle Belgium. The brewer\n",
      "Regel 151 : ewery based in Asmara Eritrea. It was founded in 2\n",
      "Regel 152 : and Brewing Company (GIB) was a microbrewery origi\n",
      "Regel 153 : akes Brewery is a brewery based in Toronto Ontario\n",
      "Regel 154 :  Brewing Company is a brewery and brewpub in Cleve\n",
      "Regel 155 :  Northern Brewing Company is a traditional “grav\n",
      "Regel 156 : ry in Shreveport LA. Opened in 2013 GRB was the fi\n",
      "Regel 157 : at Western Brewing Company is an independent brewe\n",
      "Regel 158 : wery located in Dunedin New Zealand established in\n",
      "Regel 159 : ng Company is a microbrewery located in Sawyer MI.\n",
      "Regel 160 :  a variety of Belgian abbey beers. Originally made\n",
      "Regel 161 : tty McDuff's Brewing Company commonly contracted t\n",
      "Regel 162 : y is a brewery in Chicago Illinois. The company wa\n",
      "Regel 163 : ewing Company is a privately owned craft brewery i\n",
      "Regel 164 : egional brewery founded in 1777 by Charles Hall in\n",
      "Regel 165 : dquarters in Harar Ethiopia.\",\"NULL\",\"NULL\",\"NULL\"\n",
      "Regel 166 : obrewery with plants in Boston Massachusetts and W\n",
      "Regel 167 : s is a microbrewery based in Christchurch New Zeal\n",
      "Regel 168 :  under the name “Zum Auerhahn” in the district\n",
      "Regel 169 : ng Company (Companaidh Grùdaidh nan Innse Gall) i\n",
      "Regel 170 : on Louisiana|United States}\",\"{http://dbpedia.org/\n",
      "Regel 171 : and Blitz-Weinhard are brands of beer first brewed\n",
      "Regel 172 : d Březnice Castle Brewery a small brewery in Bře\n",
      "Regel 173 :  a New Jersey microbrewery specialing in wheat bee\n",
      "Regel 174 : Korean: 하이트맥주; KRX: 000080) is a South K\n",
      "Regel 175 : in Tongham Surrey England and named after the near\n",
      "Regel 176 : dependent family-owned microbrewery in Woodend Vic\n",
      "Regel 177 : sino and Brewery was a locals casino and microbrew\n",
      "Regel 178 :  Company is a brewery in the village of Houston in\n",
      "Regel 179 : ny Limited is brewery company which brews a range \n",
      "Regel 180 : England. The company has been brewing real ale sin\n",
      "Regel 181 : ewing Company is a brewery founded in Pasco Washin\n",
      "Regel 182 : y is a microbrewery located in the Logan Park neig\n",
      "Regel 183 :  of Pittsburgh\",\"The Independent Brewing Company o\n",
      "Regel 184 : rewing Company (also known as the Pittsburgh Brewi\n",
      "Regel 185 : a microbrewery located in the small village of Pil\n",
      "Regel 186 : \"The Jacob Leinenkugel Brewing Company is a region\n",
      "Regel 187 : cialty beers owned by Carlsberg. Named after Carls\n",
      "Regel 188 : hly Brewery produced beer at Neubrandenburg German\n",
      "Regel 189 : the town of Jever where it is brewed. It has been \n",
      "Regel 190 :  Artisan Ales is a microbrewery in Dexter Michigan\n",
      "Regel 191 : h Huber Brewing Company was founded in 1845 in Mon\n",
      "Regel 192 : oseph Schlitz Brewing Company was an American brew\n",
      "Regel 193 :  is one of the oldest producers of Schwarzbier (bl\n",
      "Regel 194 : d by Albert Foight in Panevėžys in 1902. A lando\n",
      "Regel 195 : uss Brewing Company is a San Diego California-base\n",
      "Regel 196 : (since 2013 formally Heineken Hrvatska d.d.) is a \n",
      "Regel 197 : crobrewery in Ottawa Ontario.The company produces \n",
      "Regel 198 : obleton Ontario Canada which has won a number of a\n",
      "Regel 199 : rewery) was a brewery that was owned and operated \n",
      "Regel 200 :  craft brewery located in Kailua-Kona on Hawaii's \n",
      "Regel 201 : r brewery founded in 1974 in Abovyan Armenia. In 1\n",
      "Regel 202 : ion (German: Kulmbacher Brauerei AG) was founded i\n",
      "Regel 203 : Norfolk. It is located at the The Falcon Brewery i\n",
      "Regel 204 : ing Company is a beer brewer formerly located on B\n",
      "Regel 205 : rewing Company is a brewery and pub located in Lan\n",
      "Regel 206 : pany in Latrobe Pennsylvania founded in 1893 was o\n",
      "Regel 207 : y located in Montreal Quebec Canada. The company w\n",
      "Regel 208 : brewery which produces oud bruin lambic and other \n",
      "Regel 209 : ndemans) is a Belgian family brewery based in Vlez\n",
      "Regel 210 :  list of breweries in Montana.\",\"NULL\",\"NULL\",\"NUL\n",
      "Regel 211 : ing Company located in Austin Texas is a locally o\n",
      "Regel 212 : r business on 26 May 2007. The operation includes \n",
      "Regel 213 : ewing Company is a regional microbrewery located i\n",
      "Regel 214 : o Brewing Company is an American microbrewery loca\n",
      "Regel 215 :  Jack's Brewing Company is a craft brewery in Redm\n",
      "Regel 216 : k Brewery; Norwegian official name: AS L. Macks ø\n",
      "Regel 217 : ng Company is a brewery in South Burlington Vermon\n",
      "Regel 218 :  is an American craft brewery co-founded in 2008 b\n",
      "Regel 219 : cated in the town of Maribo. The Brewery was found\n",
      "Regel 220 : Company is a brewery operating in Tulsa Oklahoma p\n",
      "Regel 221 :  Bay Brewing Company is an Australian brewery. It \n",
      "Regel 222 : y 1989. It is a craft brewery in Montreal. After M\n",
      "Regel 223 : ewery based in Nelson New Zealand. It was founded \n",
      "Regel 224 : ng Company (OTCQB: MENB) is a brewery founded in 1\n",
      "Regel 225 : ing Company was a brewery operating in Webberville\n",
      "Regel 226 : Sun Brewing Company is a microbrewery founded in A\n",
      "Regel 227 : llage of Waterbeach located 6 miles (9.7 km) north\n",
      "Regel 228 : amily-owned brewing company until it was bought by\n",
      "Regel 229 : n the English county of Oxfordshire (formerly Berk\n",
      "Regel 230 : g Company is an independent craft brewery located \n",
      "Regel 231 :  craft beer brewery located in Kinston North Carol\n",
      "Regel 232 : brewery in Richmond Victoria Australia. The brewer\n",
      "Regel 233 : ewing Company is a brewery located in Revelstoke B\n",
      "Regel 234 : ker of Pakistan's beer brand Murree Beer. Its prod\n",
      "Regel 235 : wery is a Canadian micro-brewery founded by Gary M\n",
      "Regel 236 : obrewery and the producer of the world's most expe\n",
      "Regel 237 : es Limited (NBL) is a Namibian brewery founded in \n",
      "Regel 238 : ng Company is a craft brewery located in Bryson Ci\n",
      "Regel 239 : mpany is a brewery located in Nelson British Colum\n",
      "Regel 240 : haminy Creek Brewing Company is a microbrewery fou\n",
      "Regel 241 : ished in 1986 in Clare Suffolk England by former H\n",
      "Regel 242 : lbanian Brewing Company located in the Metropolita\n",
      "Regel 243 :  Brewing Company is a company located in Holland M\n",
      "Regel 244 : rewing Company\",\"The New Orleans Lager and Ale Bre\n",
      "Regel 245 : Oscar Company) is a Swedish microbrewery and spiri\n",
      "Regel 246 : pany is a microbrewery based in Eugene Oregon Unit\n",
      "Regel 247 : oast Brewing Company is a microbrewery and pub loc\n",
      "Regel 248 : dian brewery with facilities in Sudbury and Sault \n",
      "Regel 249 :  of Northumberland Brewery.pngFuggles BarHome of N\n",
      "Regel 250 :  a brewery in the town of Nová Paka in the Czech \n",
      "Regel 251 : ns Ångbryggeri is a Swedish microbrewery located \n",
      "Regel 252 : 0 in Gosport Hampshire England. It brews cask ales\n",
      "Regel 253 : founded in 1850 by Dr. William Okell in Douglas Is\n",
      "Regel 254 : ion Brewing Company founded in 1989 in Ashburn Vir\n",
      "Regel 255 : ewing Company was a brewery located in Huntsville \n",
      "Regel 256 : own as Olivaria or Alivaria Belarusian: ААТ П�\n",
      "Regel 257 :  Company was a brewery firm in Tumwater Washington\n",
      "Regel 258 : aft brewery located in Longmont Colorado. The comp\n",
      "Regel 259 : ey Brewing Company Limited colloquially Otley Brew\n",
      "Regel 260 : aft brewery located in Middlebury Vermont which pr\n",
      "Regel 261 : NULL\",\"NULL\",\"NULL\",\"NULL\",\"{Belgium|Beersel}\",\"{h\n",
      "Regel 262 : ood Brewing Co. is a microbrewery located in Saska\n",
      "Regel 263 : ικροζυθοποιία) is a microbrewery situ\n",
      "Regel 264 : ia Brewing Company is a brewery and restaurant in \n",
      "Regel 265 : ished by Joseph Thomson (at the time one of the yo\n",
      "Regel 266 : ounded in Vigevano in Lombardy Italy in 1846. It h\n",
      "Regel 267 : y was founded by homebrewer Pete Slosberg and Mark\n",
      "Regel 268 : hia Brewing Company is a microbrewery founded in J\n",
      "Regel 269 : Finns Brewery) was a brewery run by the Finns fami\n",
      "Regel 270 : s a tiny craft brewery located in the small hamlet\n",
      "Regel 271 : n as A biera corsa is a brand of beer from the Med\n",
      "Regel 272 : microbrewery located in Chicago Illinois. The brew\n",
      "Regel 273 : ) (full legal name: Pivara MB d.o.o. za proizvodnj\n",
      "Regel 274 : rnsdorf was established in 2008 and is one of the \n",
      "Regel 275 : ery in Donje Pazarište Croatia. It was founded in\n",
      "Regel 276 : four locations in Southern California: Solana Beac\n",
      "Regel 277 :  by Městský Pivovar PLATAN s. r. o. in the South\n",
      "Regel 278 :  craft brewery headquartered in San Marcos Califor\n",
      "Regel 279 : Company is a brewery in Portland Oregon. A pioneer\n",
      "Regel 280 : mo Brewing Company is a Honolulu-based beer manufa\n",
      "Regel 281 : t of Carlsberg in which Pripps remains as a tradem\n",
      "Regel 282 : wing company headquartered in Seattle Washington. \n",
      "Regel 283 : ewing Company is a microbrewery located in Quidi V\n",
      "Regel 284 : en the brewery was founded as Zum Bergkeller in Ra\n",
      "Regel 285 : d Sons Brewing Company is a microbrewery in Fort W\n",
      "Regel 286 : is a regional-sized American brewery founded in 19\n",
      "Regel 287 : mpany in Marlow Bottom Buckinghamshire England is \n",
      "Regel 288 : ng Company named Atlanta Brewing Company before 20\n",
      "Regel 289 : dquartered in Seattle Washington is a brewer of cr\n",
      "Regel 290 : εθυμνιακή Ζυθοποιϊα) is a microb\n",
      "Regel 291 : ry in Chicago Illinois. It was founded as a brewpu\n",
      "Regel 292 :  Brewery is a regional American brewery located in\n",
      "Regel 293 : rer and brewpub based in Peoria Illinois United St\n",
      "Regel 294 : ablished in Rinkuškiai in 1991.\",\"NULL\",\"NULL\",\"N\n",
      "Regel 295 : ewing Company was an American brewery established \n",
      "Regel 296 : y located in Morrisville Vermont. It began product\n",
      "Regel 297 : in Knaresborough Yorkshire. The Rooster's brewery \n",
      "Regel 298 : wery group in Denmark selling under the brands Cer\n",
      "Regel 299 : pany is a premium craft beer brewery located in St\n",
      "Regel 300 :  River Brewing Company is a brewery and brewpub lo\n",
      "Regel 301 : wery founded in 1995 by Bill Graham and Dave Thibo\n",
      "Regel 302 :  Arnold Brewing Company is a craft brewery located\n",
      "Regel 303 : of beers produced by the Saint Louis Brewery Inc. \n",
      "Regel 304 : Company is a brewery located in Santa Fe New Mexic\n",
      "Regel 305 : Michigan. Jim Schwerin (Owner) MTU Alumni and Gabi\n",
      "Regel 306 : u) is a brewery owned by Dinkelacker-Schwaben Brä\n",
      "Regel 307 : pany is an American microbrewery headquartered in \n",
      "Regel 308 :  in Watford Hertfordshire until its sale to local \n",
      "Regel 309 : Company is an American microbrewery and soft drink\n",
      "Regel 310 : ng Company\",\"Silver Gulch Brewing & Bottling Compa\n",
      "Regel 311 : y founded 2004 in Red Hook Brooklyn New York.The S\n",
      "Regel 312 :  Pennsylvania brewery. The original Sly Fox Brewho\n",
      "Regel 313 : n Star Brewing Company is a microbrewery in Conroe\n",
      "Regel 314 : and Lagers is a microbrewery located in the Hunter\n",
      "Regel 315 : Glendale Milwaukee County Wisconsin. It was founde\n",
      "Regel 316 : ield Brewing Company is a microbrewery and restaur\n",
      "Regel 317 : ottled by the St. Pauli Brauerei which is located \n",
      "Regel 318 : r companies established in 2001 and located in Syd\n",
      "Regel 319 : d in 1999 in the town of Charlottesville Virginia \n",
      "Regel 320 : s a microbrewery located in Otahuhu Auckland. It w\n",
      "Regel 321 : s a brewery in Toronto Ontario. The company produc\n",
      "Regel 322 : ewing Company is a brewery located in Vancouver BC\n",
      "Regel 323 : n based and owned brewery located in Tiverton Onta\n",
      "Regel 324 : s a regional American brewery located in Stevens P\n",
      "Regel 325 : raft brewery based on the outskirts of Edinburgh i\n",
      "Regel 326 : y and restaurant located in the Lancaster County b\n",
      "Regel 327 : nia brews Straub Beer (now known as Straub America\n",
      "Regel 328 : y quick frozen (IQF) berry fruit brand in the reta\n",
      "Regel 329 : y is a regional craft brewery in St. Paul Minnesot\n",
      "Regel 330 : the Cole-Noble District of Indianapolis Indiana Un\n",
      "Regel 331 : le lager (bock) from the Unicer brewery which prod\n",
      "Regel 332 : lish: Surinamese Brewery) is the primary beer prod\n",
      "Regel 333 : ny is a Brooklyn Center Minnesota-based craft brew\n",
      "Regel 334 : of the oldest Czech breweries. It is located in th\n",
      "Regel 335 :  in 1860. Tauras was taken over by Royal Unibrew i\n",
      "Regel 336 : Tempo) is Israel's largest brewer and the country'\n",
      "Regel 337 : sed in Sandford in North Somerset England.The comp\n",
      "Regel 338 : aryland brewpub and restaurant. Opened on Friday S\n",
      "Regel 339 : s a brewpub in Pittsburgh Pennsylvania set in the \n",
      "Regel 340 : y is a brewpub in Bury St Edmunds Suffolk UK. They\n",
      "Regel 341 : ewpub located in Berkeley California that exclusiv\n",
      "Regel 342 : n American microbrewery founded in 1996 by brother\n",
      "Regel 343 : rewery in Bishop's Castle Shropshire England estab\n",
      "Regel 344 : merican brewery located in Hershey Pennsylvania (4\n",
      "Regel 345 : Co. (TBC) is a microbrewery owned and operated ent\n",
      "Regel 346 : crobrewery located in Lyndonville Vermont. It bega\n",
      "Regel 347 : ng Company is a brewery in Conway New Hampshire. N\n",
      "Regel 348 : ry is a brewpub in Atlantic City in Atlantic Count\n",
      "Regel 349 : Company is a microbrewery founded in 1996 in the w\n",
      "Regel 350 : mbly Quebec Canada that was started by Serge Racin\n",
      "Regel 351 : p or UB Group is an Indian conglomerate company he\n",
      "Regel 352 : Switzerland.Unser Bier is most widely known for it\n",
      "Regel 353 : y founded in 1997 is a brewery in Bloomington Monr\n",
      "Regel 354 : ada Brewing Company is a brewery that is located i\n",
      "Regel 355 : ng Company (formerly Barley Yards Brewing Company)\n",
      "Regel 356 : est Nature Park outside of Warstein North-Rhine We\n",
      "Regel 357 : grüner Brauerei GmbH is a brewery in Steinberg-We\n",
      "Regel 358 :  Brewing Company is a microbrewery in Easton Penns\n",
      "Regel 359 : an American brewery founded in 1984 in Portland Or\n",
      "Regel 360 : d Beer Company is a micro brewery located in Calga\n",
      "Regel 361 : s an American microbrewery specialising in ales lo\n",
      "Regel 362 : s a regional craft brewery in Philadelphia Pennsyl\n",
      "Regel 363 : s a regional craft brewery located in Nashville Te\n",
      "Regel 364 : mpany based in Wellington New Zealand. It was esta\n",
      "Regel 365 : ngland using the disused brewery equipment of Lion\n",
      "Regel 366 : emark owned by the Chilkoot Brewing Co. Ltd microb\n",
      "Regel 367 : is a brewery in Zagreb Croatia founded in 1892 and\n"
     ]
    }
   ],
   "source": [
    "import gzip\n",
    "\n",
    "with gzip.open('Brewery.csv.gz','r') as fin:\n",
    "    c=0\n",
    "    for line in fin:\n",
    "        print 'Regel',c,':', line[100:150]\n",
    "        c+=1"
   ]
  },
  {
   "cell_type": "markdown",
   "metadata": {},
   "source": [
    "# Your turn\n",
    "\n",
    "* Find the longest line in the file \n",
    "* Count how often the word \"brewery\" occurs in the file\n",
    "    * use regular expressions: `import re`\n",
    "    * in combination with `re.findall`\n",
    "    * and use `.TAB` to explore your objects\n",
    "* [Answer](#longestline)\n",
    "\n"
   ]
  },
  {
   "cell_type": "markdown",
   "metadata": {},
   "source": [
    "## Exercises\n",
    "\n",
    "### 1 Wikipedia\n",
    "* From a wikipedia page, extract \"translations of that page\" in another language. \n",
    "* Return as a dict of the form `language:url`\n",
    "* Use <http://en.wikipedia.org/wiki/Conservative_Party_of_Canada>\n",
    "\n",
    "### 2 Comments harvesting\n",
    "* Collect all comments from a page that allows comments\n",
    "* Make sure you collect relevant metadata too\n",
    "* Use <https://decorrespondent.nl/2324/Zo-bewijs-je-Charlie-Hebdo-misschien-wel-de-meeste-eer/38371206104-46f2aef3>\n",
    "*   To see the comments, take it from our local copy at <http://maartenmarx.nl/teaching/DataScience/Data/Zo%20bewijs%20je%20Charlie%20Hebdo%20misschien%20wel%20de%20meeste%20eer.html>\n",
    "* Store the comments as a list of tuples (article title, comment id,name of reaguurder, text) \n",
    "* Turn that into a dataframe\n",
    " \n",
    "## Hint\n",
    "* use regular expressions: `import re`\n",
    "* in combination with `soup.findall`\n",
    "* and use `.TAB` to explore your objects"
   ]
  },
  {
   "cell_type": "markdown",
   "metadata": {},
   "source": [
    "# Answers\n",
    "\n",
    "# 1 Wikipedia\n",
    "* From a wikipedia page, extract \"translations of that page\" in another language. \n",
    "* Return as a dict of the form `language:url`\n",
    "* Use <http://en.wikipedia.org/wiki/Conservative_Party_of_Canada>\n"
   ]
  },
  {
   "cell_type": "code",
   "execution_count": null,
   "metadata": {
    "collapsed": false
   },
   "outputs": [],
   "source": [
    "# See https://docs.python.org/2/howto/urllib2.html\n",
    "import urllib2\n",
    "from bs4 import BeautifulSoup\n",
    "import re \n",
    "\n",
    "url=\"http://en.wikipedia.org/wiki/Conservative_Party_of_Canada\"\n",
    "html_doc = urllib2.urlopen(url)\n",
    "\n",
    "soup = BeautifulSoup(html_doc)\n",
    "\n"
   ]
  },
  {
   "cell_type": "markdown",
   "metadata": {},
   "source": [
    "###  Now try to find the right expression to get what we want\n",
    "* Do a view page source of the wikipage and try to see what makes what you want unique\n",
    "* Use **inspect element** (control click)"
   ]
  },
  {
   "cell_type": "code",
   "execution_count": null,
   "metadata": {
    "collapsed": false
   },
   "outputs": [],
   "source": [
    "\n",
    "\n",
    "soup.findAll('li', class=re.compile(\"^interlanguage-link\"))"
   ]
  },
  {
   "cell_type": "code",
   "execution_count": null,
   "metadata": {
    "collapsed": false
   },
   "outputs": [],
   "source": [
    "# See http://www.crummy.com/software/BeautifulSoup/bs4/doc/#searching-by-css-class\n",
    "soup.findAll(\"li\", class_=re.compile(\"^interlanguage-link\"))[:5]"
   ]
  },
  {
   "cell_type": "code",
   "execution_count": null,
   "metadata": {
    "collapsed": false
   },
   "outputs": [],
   "source": [
    "# Now take out the content\n",
    "# First try out with the first element\n",
    "a=soup.findAll(\"li\", class_=re.compile(\"interlanguage-link\"))[0].a\n",
    "a"
   ]
  },
  {
   "cell_type": "code",
   "execution_count": null,
   "metadata": {
    "collapsed": false
   },
   "outputs": [],
   "source": [
    "# Use TAB to see what methods 'a' has, \n",
    "# mmmm, the first looks good 'attrs'\n",
    "a.attrs"
   ]
  },
  {
   "cell_type": "code",
   "execution_count": null,
   "metadata": {
    "collapsed": false
   },
   "outputs": [],
   "source": [
    "# Got it!\n",
    "# Now we are ready for the dict comprehension\n",
    "\n",
    "li = soup.findAll(\"li\", class_=re.compile(\"interlanguage-link\"))\n",
    "OurDict = {l.a.attrs['lang']:l.a.attrs['href']  for l in li}\n",
    "OurDict"
   ]
  },
  {
   "cell_type": "code",
   "execution_count": null,
   "metadata": {
    "collapsed": false
   },
   "outputs": [],
   "source": [
    "# repair\n",
    "OurDict= {key:'http:'+OurDict[key] for key in OurDict}\n",
    "OurDict.items()[:2]"
   ]
  },
  {
   "cell_type": "markdown",
   "metadata": {},
   "source": [
    "## The whole script for the exercise"
   ]
  },
  {
   "cell_type": "code",
   "execution_count": null,
   "metadata": {
    "collapsed": false
   },
   "outputs": [],
   "source": [
    "import urllib2\n",
    "from bs4 import BeautifulSoup\n",
    "import re \n",
    "\n",
    "# Download and Open the webpage\n",
    "url=\"http://en.wikipedia.org/wiki/Conservative_Party_of_Canada\"\n",
    "html_doc = urllib2.urlopen(url)\n",
    "\n",
    "# Parse it\n",
    "soup = BeautifulSoup(html_doc)\n",
    "\n",
    "# Get the wanted li elements\n",
    "li = soup.findAll(\"li\", class_=re.compile(\"interlanguage-link\"))\n",
    "# Take out what we want from them: \n",
    "# the href and lang attributes of the a children\n",
    "OurDict = {l.a.attrs['lang']:l.a.attrs['href']  for l in li}\n",
    "OurDict= {key:'http:'+OurDict[key] for key in OurDict}\n",
    "OurDict"
   ]
  },
  {
   "cell_type": "markdown",
   "metadata": {},
   "source": [
    "# 2 Comments harvesting\n",
    "* Collect all comments from a page that allows comments\n",
    "* Make sure you collect relevant metadata too\n",
    "* Use <https://decorrespondent.nl/2324/Zo-bewijs-je-Charlie-Hebdo-misschien-wel-de-meeste-eer/38371206104-46f2aef3>\n",
    "* If link does not work, take it from our local copy at <http://maartenmarx.nl/teaching/DataScience/Data/Zo%20bewijs%20je%20Charlie%20Hebdo%20misschien%20wel%20de%20meeste%20eer.html>\n",
    "* Store the comments as a list of triples (article_id,name of reaguurder, text)"
   ]
  },
  {
   "cell_type": "code",
   "execution_count": null,
   "metadata": {
    "collapsed": false
   },
   "outputs": [],
   "source": [
    "url = \"https://decorrespondent.nl/2324/Zo-bewijs-je-Charlie-Hebdo-misschien-wel-de-meeste-eer/38371206104-46f2aef3\"\n",
    "html_doc = urllib2.urlopen(url)\n",
    "\n",
    "# Parse it\n",
    "soup = BeautifulSoup(html_doc)\n",
    "\n",
    "# This gives a problem because the comments are not visible for non members\n",
    "# So we downloaded the file while being logged in\n",
    "local = '../Data/Zo bewijs je Charlie Hebdo misschien wel de meeste eer.html'\n",
    "html_doc = open(local).read()\n",
    "\n",
    "# Parse it\n",
    "soup = BeautifulSoup(html_doc)"
   ]
  },
  {
   "cell_type": "code",
   "execution_count": null,
   "metadata": {
    "collapsed": false
   },
   "outputs": [],
   "source": [
    "# Get the wanted li elements\n",
    "comments = soup.findAll('li', class_=\"comment\")\n",
    "\n",
    "# Take out what we want.\n",
    "# TODO: name, expertise, url of the piece that they comment on\n",
    "commenttext=[c.p.text for c in comments]\n",
    "commenttext[:3]\n",
    " "
   ]
  },
  {
   "cell_type": "markdown",
   "metadata": {},
   "source": [
    "## Bekijk de structuur van 1 comment"
   ]
  },
  {
   "cell_type": "code",
   "execution_count": null,
   "metadata": {
    "collapsed": false
   },
   "outputs": [],
   "source": [
    "firstcomment= comments[0]\n",
    "firstcomment\n",
    "print firstcomment.prettify()"
   ]
  },
  {
   "cell_type": "markdown",
   "metadata": {},
   "source": [
    "# Put it all together"
   ]
  },
  {
   "cell_type": "code",
   "execution_count": null,
   "metadata": {
    "collapsed": false
   },
   "outputs": [],
   "source": [
    "comment_list=[(soup.title.text,\n",
    "           c.attrs['data-id'],\n",
    "           c.find('span', class_='user-name').text ,  \n",
    "           c.p.text) \n",
    "          for c in comments]"
   ]
  },
  {
   "cell_type": "code",
   "execution_count": null,
   "metadata": {
    "collapsed": false
   },
   "outputs": [],
   "source": [
    "comment_df= pd.DataFrame(comment_list)\n",
    "comment_df.columns=['Artikel','comment_id','reaguurder','reactie']\n",
    "comment_df.head() "
   ]
  },
  {
   "cell_type": "markdown",
   "metadata": {},
   "source": [
    "# The complete script"
   ]
  },
  {
   "cell_type": "code",
   "execution_count": null,
   "metadata": {
    "collapsed": true
   },
   "outputs": [],
   "source": [
    "import pandas as pd\n",
    "\n",
    "#step 1 get the data and parse\n",
    "local = '../Data/Zo bewijs je Charlie Hebdo misschien wel de meeste eer.html'\n",
    "html_doc = open(local).read()\n",
    "# Parse it\n",
    "soup = BeautifulSoup(html_doc)\n",
    "# step 2: extract the comments\n",
    "comments = soup.findAll('li', class_=\"comment\")\n",
    "# step 3: extract what we need from the comments\n",
    "comment_list=[(soup.title.text,\n",
    "           c.attrs['data-id'],\n",
    "           c.find('span', class_='user-name').text ,  \n",
    "           c.p.text) \n",
    "          for c in comments]\n",
    "# step 4: trn into a dataframe\n",
    "comment_df= pd.DataFrame(comment_list)\n",
    "comment_df.columns=['Artikel','comment_id','reaguurder','reactie']\n",
    "comment_df.head() \n",
    "\n",
    "# schrijf naar excel\n",
    "comment_df.to_excel('comments.xls')\n",
    "# schrijf naar csv\n",
    "comment_df.to_csv('comments.csv', encoding='utf-8')"
   ]
  },
  {
   "cell_type": "code",
   "execution_count": 1,
   "metadata": {
    "collapsed": false
   },
   "outputs": [
    {
     "name": "stdout",
     "output_type": "stream",
     "text": [
      "Artikel,comment_id,reaguurder,reactie\r\n",
      "Zo bewijs je Charlie Hebdo misschien wel de meeste eer,90863,Roy van de Ven,\"Bij al die marsen vraag ik me af of die mensen nu niet demonstreren voor het recht om te beledigen onder het mom van 'vrijheid van meningsuiting'. Ik denk niet dat we door steeds dezelfde beledigende cartoons af te drukken, tot een dialoog komen en zo worden de \"\"radicale Moslims\"\" alleen maar in de kaart gespeeld.\"\r\n",
      "Zo bewijs je Charlie Hebdo misschien wel de meeste eer,90841,Aksel de Vries,\"Deze column beangstigt me. Er wordt gesproken over eer bewijzen aan Charlie Hebdo. Eén zin... en vervolgens trekt Rutger zijn eigen bivakmuts op, ratelt hij zijn eigen verhaal, beweert ie dat zijn visie de enige echte is en dat er niets anders belangrijker is dan zijn idealen, zelfs de moord op zijn collega-journalisten is irrelevant. Sorry, dat is geen eer bewijzen, dat is dansen op andermans graf.Als we eer willen bewijzen, laten we satirisch zijn, dan tekenen we een spotprent van Bregman met Kalashnikov... dansend op een kerkhof... strijdt niet voor de Islam, strijdt niet voor vrijheid van meningsuiting... we moeten strijden voor geitenwollen sokken voor elke wereldburger!!!Satire opent de geest, columns zoals deze veranderen mooie idealen in rigide denkbeelden. We willen niet nog meer debat cq. segregatie... we willen begrip over en weer. Ik (her)vertel graag over die wijze man of vrouw in Noord-Ierland, die op het hoogtepunt van de woede en het geweld, the troubles, op een kerkdeur schreef: /If we were born where they were born, and we were taught what they were taught, we would believe what they believe./ Een gouden inzicht.\"\r\n",
      "Zo bewijs je Charlie Hebdo misschien wel de meeste eer,90834,Wendy Van Ierschot ,\"Beste Rudger, dank voor je stuk. Ik worstel echt met de vraag wat er zo goed is aan het opzettelijk beledigen van anderen onder het mom van vrijheid van meningsuiting en 'ik mag alles zeggen wat ik wil'. Ik snap wel dat een juridisch systeem niet op te tuigen is om uit te zoeken wat precies beledigend is of niet. Dat zou zelfs kunnen leiden tot machtsmisbruik maar ik krijg bijna het idee alsof respect voor elkaar, elkaars beleefwerelden en dat niemand hier de waarheid in pacht heeft niets geen waarde meer heeft. Hoe kan dat nou voor een weldenkend mens? Waarom ben je voor de afschaffing van het verbod op haat zaaien? Wat voor iets moois of fijns brengt dat voor de kids die nu opgroeien?  Want wetten zijn er toch voor om de boel een beetje leefbaar te houden? Dit zijn geen retorische vragen. Ik heb echt het gevoel dat ik zo ongeveer de enige ben die me dat afvraagt dus help me alsjeblieft het te begrijpen. Dank je.\"\r\n",
      "Zo bewijs je Charlie Hebdo misschien wel de meeste eer,90872,Bas de Bakker,\"Beste Wendy, lees vooral het gelinkte stuk van Cas Mudde. En dan in het bijzonder het deel \"\"Second\"\". Ik hoop dat je het dan iets beter begrijpt.\"\r\n"
     ]
    }
   ],
   "source": [
    "# check of die csv er goed uit ziet\n",
    "!head -5 'comments.csv'"
   ]
  },
  {
   "cell_type": "markdown",
   "metadata": {},
   "source": [
    "### Nu even zonder de index kolom"
   ]
  },
  {
   "cell_type": "code",
   "execution_count": null,
   "metadata": {
    "collapsed": false
   },
   "outputs": [],
   "source": [
    "comment_df.to_csv('comments.csv', encoding='utf-8',index=False )\n",
    "# check of die csv er goed uit ziet\n",
    "!head -5 'comments.csv'"
   ]
  },
  {
   "cell_type": "markdown",
   "metadata": {},
   "source": [
    "# [Longestline Answer ](id:longestline)"
   ]
  },
  {
   "cell_type": "code",
   "execution_count": 62,
   "metadata": {
    "collapsed": false
   },
   "outputs": [
    {
     "name": "stdout",
     "output_type": "stream",
     "text": [
      "3670 \"http://dbpedia.org/resource/United_Breweries_Group\",\"United Breweries Group\",\"United Breweries Group or UB Group is an Indian conglomerate company he\n"
     ]
    }
   ],
   "source": [
    "import gzip\n",
    "\n",
    "with gzip.open('Brewery.csv.gz','r') as fin:\n",
    "    maxline = ''\n",
    "    for line in fin:\n",
    "        if len(line) > len(maxline):\n",
    "            maxline=line\n",
    "    \n",
    "print len(maxline), maxline[:150]"
   ]
  },
  {
   "cell_type": "code",
   "execution_count": 78,
   "metadata": {
    "collapsed": false
   },
   "outputs": [
    {
     "name": "stdout",
     "output_type": "stream",
     "text": [
      "2515\n"
     ]
    }
   ],
   "source": [
    "import re\n",
    "with gzip.open('Brewery.csv.gz','r') as fin:\n",
    "    brewerycount=0\n",
    "    for line in fin:\n",
    "        hits= re.findall('brewery',line.lower())\n",
    "        #print len(hits)\n",
    "        brewerycount+=len(hits)\n",
    "print brewerycount\n",
    "    "
   ]
  }
 ],
 "metadata": {
  "kernelspec": {
   "display_name": "Python 2",
   "language": "python",
   "name": "python2"
  },
  "language_info": {
   "codemirror_mode": {
    "name": "ipython",
    "version": 2
   },
   "file_extension": ".py",
   "mimetype": "text/x-python",
   "name": "python",
   "nbconvert_exporter": "python",
   "pygments_lexer": "ipython2",
   "version": "2.7.13"
  }
 },
 "nbformat": 4,
 "nbformat_minor": 0
}
