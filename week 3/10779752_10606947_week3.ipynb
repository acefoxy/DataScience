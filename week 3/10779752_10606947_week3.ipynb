{
 "cells": [
  {
   "cell_type": "markdown",
   "metadata": {},
   "source": [
    "## Notebook made by  \n",
    "\n",
    "|Rogier van Witzenburg | 10606947 | rogiervanwitzenburg@gmail.com |\n",
    "|:- |:-|:-|\n",
    "|.Andreas Vos |10779752 | acefoxy@gmail.com|\n",
    "|  | |. |\n",
    "\n",
    "### Pledge (taken from [Coursera's Honor Code](https://www.coursera.org/about/terms/honorcode) )\n",
    "\n",
    "\n",
    "\n",
    "Put here a selfie with your photo where you hold a signed paper with the following text: (if this is team work, put two selfies here). The link must be to some place on the web, not to a local file. \n",
    "\n",
    "> My answers to homework, quizzes and exams will be my own work (except for assignments that explicitly permit collaboration).\n",
    "\n",
    ">I will not make solutions to homework, quizzes or exams available to anyone else. This includes both solutions written by me, as well as any official solutions provided by the course staff.\n",
    "\n",
    ">I will not engage in any other activities that will dishonestly improve my results or dishonestly improve/hurt the results of others.\n",
    "\n",
    "<img src='http://www.andreasvos.nl/own.png'/>\n",
    "<img src='http://2ndgoods.nl/wp-content/uploads/2016/08/148106003133056-2-300x300.jpg'/>n\n",
    "\n",
    "### Note\n",
    "* **Assignments without the selfies or completely filled in information will not be graded and receive 0 points.**\n"
   ]
  },
  {
   "cell_type": "markdown",
   "metadata": {},
   "source": [
    " \n",
    "\n",
    "\n",
    "# AssignmentWikipediaEditors\n",
    "\n",
    "In deze opgave halen we een datafile op, die een naar formaat heeft. Het is een spreadsheet, maar het aantal kolommen is niet constant.\n",
    " "
   ]
  },
  {
   "cell_type": "code",
   "execution_count": 1,
   "metadata": {
    "collapsed": false
   },
   "outputs": [],
   "source": [
    "%matplotlib inline\n",
    "import pandas as pd\n",
    "import re\n",
    "from lxml import etree \n",
    "from bz2file import BZ2File\n",
    "import codecs\n",
    "import nltk\n",
    "from collections import defaultdict, Counter\n",
    "from  itertools import combinations  # ideal for creating all possible pairs that out can make out of a set\n",
    "from __future__ import division\n",
    "from math import sqrt \n",
    "import csv"
   ]
  },
  {
   "cell_type": "markdown",
   "metadata": {},
   "source": [
    "# N1\n",
    "\n",
    "1. Haal de file <http://language.media.mit.edu/data/public/wikipedia_userlang_iso639-3.zip> op, en unzip hem.\n",
    "    * Dit mag met de hand, maar natuurlijk liever in code in je notebook.\n",
    "    * Sla de file `wikipedia_userlang_iso639-3.tsv` in dezelfde folder op als dit notebook\n",
    "    * use a notebook magic command to show how large this file is."
   ]
  },
  {
   "cell_type": "code",
   "execution_count": 13,
   "metadata": {
    "collapsed": false
   },
   "outputs": [
    {
     "name": "stdout",
     "output_type": "stream",
     "text": [
      "--2017-02-27 07:34:30--  http://language.media.mit.edu/data/public/wikipedia_userlang_iso639-3.zip\n",
      "Resolving language.media.mit.edu... 18.85.11.146\n",
      "Connecting to language.media.mit.edu|18.85.11.146|:80... connected.\n",
      "HTTP request sent, awaiting response... 200 OK\n",
      "Length: 44861131 (43M) [application/zip]\n",
      "Saving to: ‘wikipedia_userlang_iso639-3.zip’\n",
      "\n",
      "wikipedia_userlang_ 100%[===================>]  42.78M  1.28MB/s    in 28s     \n",
      "\n",
      "2017-02-27 07:34:58 (1.55 MB/s) - ‘wikipedia_userlang_iso639-3.zip’ saved [44861131/44861131]\n",
      "\n"
     ]
    }
   ],
   "source": [
    "#Vraag 1 \n",
    "\n",
    "\n",
    "\n",
    "!wget http://language.media.mit.edu/data/public/wikipedia_userlang_iso639-3.zip\n",
    "    \n"
   ]
  },
  {
   "cell_type": "code",
   "execution_count": 14,
   "metadata": {
    "collapsed": false
   },
   "outputs": [],
   "source": [
    "import zipfile\n",
    "zip_ref = zipfile.ZipFile('wikipedia_userlang_iso639-3.zip', 'r')\n",
    "zip_ref.extractall()\n",
    "zip_ref.close()"
   ]
  },
  {
   "cell_type": "code",
   "execution_count": 15,
   "metadata": {
    "collapsed": false
   },
   "outputs": [
    {
     "name": "stdout",
     "output_type": "stream",
     "text": [
      "-rw-r--r--  1 AndreasVos  staff   128M Feb 27 07:35 wikipedia_userlang_iso639-3.tsv\r\n"
     ]
    }
   ],
   "source": [
    "!ls -lh wikipedia_userlang_iso639-3.tsv"
   ]
  },
  {
   "cell_type": "markdown",
   "metadata": {
    "collapsed": false
   },
   "source": [
    "# N2\n",
    "\n",
    "2. Bepaal de separator en bepaal hoeveel kolommen een regel maximaal heeft.\n",
    "    * het maximaal aantal kolommen in een regel mag je ook in de code in de volgende vraag bepalen."
   ]
  },
  {
   "cell_type": "code",
   "execution_count": 2,
   "metadata": {
    "collapsed": false
   },
   "outputs": [
    {
     "name": "stdout",
     "output_type": "stream",
     "text": [
      "241\n"
     ]
    }
   ],
   "source": [
    "# antwoord N2\n",
    "#.tsv so tab seperated\n",
    "\n",
    "with open('wikipedia_userlang_iso639-3.tsv',\"r\") as tsv:\n",
    "    reader = csv.reader(tsv)\n",
    "    li = list(reader)\n",
    "    len_rows = len(li)\n",
    "    \n",
    "with open('wikipedia_userlang_iso639-3.tsv',\"r\") as tsv:\n",
    "    tab = [next(tsv).count(\"\\t\") for i in range(len_rows)]\n",
    "    max_column = max(tab) +1 \n",
    "    \n",
    "\n",
    "print max_column"
   ]
  },
  {
   "cell_type": "markdown",
   "metadata": {},
   "source": [
    "# N3 \n",
    "\n",
    "3. Verander het spreadsheet in een dataframe met een 3 koloms formaat \n",
    "    * editor-name\n",
    "    * taal code\n",
    "    * hoe vaak (heeft die editor in die taalcode een edit gedaan.\n",
    "4. Laat met df.head de eerste vijf regels zien. Zoals hieronder.\n",
    "5. Doe dit alles in een functie en gebruik %time om te tonen hoe lang het duurt\n",
    "\n",
    "<table border=\"1\" class=\"dataframe\">\n",
    "  <thead>\n",
    "    <tr style=\"text-align: right;\">\n",
    "      <th></th>\n",
    "      <th>gebruikersnaam</th>\n",
    "      <th>taal</th>\n",
    "      <th>aantal_edits</th>\n",
    "    </tr>\n",
    "  </thead>\n",
    "  <tbody>\n",
    "    <tr>\n",
    "      <th>0</th>\n",
    "      <td>! ! ! ! ! ! ! ! ! ! ! ! ! ! !</td>\n",
    "      <td>zho</td>\n",
    "      <td>7</td>\n",
    "    </tr>\n",
    "    <tr>\n",
    "      <th>1</th>\n",
    "      <td>! ! ! ! ! ! ! ! ! ! ! ! ! !</td>\n",
    "      <td>zho</td>\n",
    "      <td>8</td>\n",
    "    </tr>\n",
    "    <tr>\n",
    "      <th>2</th>\n",
    "      <td>! ! ! ! ! ! ! ! ! ! ! ! !</td>\n",
    "      <td>zho</td>\n",
    "      <td>30</td>\n",
    "    </tr>\n",
    "    <tr>\n",
    "      <th>3</th>\n",
    "      <td>! ! ! ! ! ! ! ! ! ! ! !</td>\n",
    "      <td>zho</td>\n",
    "      <td>7</td>\n",
    "    </tr>\n",
    "    <tr>\n",
    "      <th>4</th>\n",
    "      <td>! ! ! ! ! ! ! ! ! ! !</td>\n",
    "      <td>zho</td>\n",
    "      <td>5</td>\n",
    "    </tr>\n",
    "  </tbody>\n",
    "</table>\n",
    "\n",
    "#### Hint\n",
    "* open de file op de behandelde stromende manier en lees hem regel voor regel\n",
    "* schoon elke regel op en splits die op \n",
    "* haal de data die je wilt hebben uit de regel en spaar triples op in een lijst.\n",
    "* Van die lijst met triples maak je in 1 klap een dataframe\n",
    "* geef de juiste kolomsnamen als in het voorbeeld \n",
    "* borduur voort op de gegeven code"
   ]
  },
  {
   "cell_type": "code",
   "execution_count": 3,
   "metadata": {
    "collapsed": false
   },
   "outputs": [
    {
     "name": "stdout",
     "output_type": "stream",
     "text": [
      "CPU times: user 25.5 s, sys: 3.25 s, total: 28.7 s\n",
      "Wall time: 30.6 s\n"
     ]
    },
    {
     "data": {
      "text/html": [
       "<div>\n",
       "<table border=\"1\" class=\"dataframe\">\n",
       "  <thead>\n",
       "    <tr style=\"text-align: right;\">\n",
       "      <th></th>\n",
       "      <th>gebruikersnaam</th>\n",
       "      <th>taal</th>\n",
       "      <th>aantal_edits</th>\n",
       "    </tr>\n",
       "  </thead>\n",
       "  <tbody>\n",
       "    <tr>\n",
       "      <th>0</th>\n",
       "      <td>! ! ! ! ! ! ! ! ! ! ! ! ! ! !</td>\n",
       "      <td>zho</td>\n",
       "      <td>7</td>\n",
       "    </tr>\n",
       "    <tr>\n",
       "      <th>1</th>\n",
       "      <td>! ! ! ! ! ! ! ! ! ! ! ! ! !</td>\n",
       "      <td>zho</td>\n",
       "      <td>8</td>\n",
       "    </tr>\n",
       "    <tr>\n",
       "      <th>2</th>\n",
       "      <td>! ! ! ! ! ! ! ! ! ! ! ! !</td>\n",
       "      <td>zho</td>\n",
       "      <td>30</td>\n",
       "    </tr>\n",
       "    <tr>\n",
       "      <th>3</th>\n",
       "      <td>! ! ! ! ! ! ! ! ! ! ! !</td>\n",
       "      <td>zho</td>\n",
       "      <td>7</td>\n",
       "    </tr>\n",
       "    <tr>\n",
       "      <th>4</th>\n",
       "      <td>! ! ! ! ! ! ! ! ! ! !</td>\n",
       "      <td>zho</td>\n",
       "      <td>5</td>\n",
       "    </tr>\n",
       "  </tbody>\n",
       "</table>\n",
       "</div>"
      ],
      "text/plain": [
       "                  gebruikersnaam taal aantal_edits\n",
       "0  ! ! ! ! ! ! ! ! ! ! ! ! ! ! !  zho            7\n",
       "1    ! ! ! ! ! ! ! ! ! ! ! ! ! !  zho            8\n",
       "2      ! ! ! ! ! ! ! ! ! ! ! ! !  zho           30\n",
       "3        ! ! ! ! ! ! ! ! ! ! ! !  zho            7\n",
       "4          ! ! ! ! ! ! ! ! ! ! !  zho            5"
      ]
     },
     "execution_count": 3,
     "metadata": {},
     "output_type": "execute_result"
    }
   ],
   "source": [
    "# Vraag 3 \n",
    "\n",
    "def vraag3():\n",
    "    L=[]\n",
    "    c=0\n",
    "    with open('wikipedia_userlang_iso639-3.tsv','r') as tsv:\n",
    "        for line in range(len_rows):\n",
    "            x = tsv.readline()\n",
    "            a = x.replace('\\n',\"\").split('\\t')\n",
    "            gebruikersnaam = a[0]\n",
    "            z = [(gebruikersnaam, x.split(',')[0], x.split(',')[1])for x in a[1:]]\n",
    "            [L.append(x) for x in z]   \n",
    "                \n",
    "\n",
    "    df = pd.DataFrame(L)\n",
    "\n",
    "    df.columns=['gebruikersnaam','taal','aantal_edits']\n",
    "    \n",
    "        \n",
    "\n",
    "    return df\n",
    "%time df = vraag3()\n",
    "    \n",
    "df.head()\n",
    "\n",
    "    "
   ]
  },
  {
   "cell_type": "code",
   "execution_count": null,
   "metadata": {
    "collapsed": true
   },
   "outputs": [],
   "source": [
    "\n",
    "            "
   ]
  },
  {
   "cell_type": "markdown",
   "metadata": {},
   "source": [
    "# N4 \n",
    "\n",
    "4. Laadt die nieuwe file in pandas in en bepaal:\n",
    "    1. Hoeveel verschillende editors zijn er?\n",
    "    1. Voor elk getal i, hoeveel editors hebben er in i talen ge-edit?\n",
    "        1. Hoeveel hebben er in precies 3 talen geedit?\n",
    "        2. Plot op de x-as het aantal talen en op de y-as het aantal editors dat in zoveel talen heeft geedit. \n",
    "            * Begin beide assen bij 0\n",
    "            * Gebruik een loglog schaal. Je plot zal er als een bijna rechte neergaande lijn met aan het eind wat wiebels uitzien. \n",
    "    1. Wat is het gemiddeld aantal talen waarin iemand edit? Wat is de mediaan?\n",
    "        * Geef voor zowel het gemiddelde als de mediaan een test waaruit blijkt dat je antwoord klopt.\n",
    "    \n",
    "    \n",
    "#### Geef elk antwoord in een nieuwe cel en geef aan welke subvraag je beantwoordt."
   ]
  },
  {
   "cell_type": "code",
   "execution_count": 4,
   "metadata": {
    "collapsed": false
   },
   "outputs": [
    {
     "name": "stdout",
     "output_type": "stream",
     "text": [
      "Er zijn 8436388 verschillende editors.\n"
     ]
    }
   ],
   "source": [
    "#A \n",
    "a = len(df['gebruikersnaam'])\n",
    "\n",
    "\n",
    "print \"Er zijn %s verschillende editors.\"% a"
   ]
  },
  {
   "cell_type": "code",
   "execution_count": 5,
   "metadata": {
    "collapsed": false
   },
   "outputs": [
    {
     "name": "stdout",
     "output_type": "stream",
     "text": [
      "Er hebben 65988 editors in precies 3 talen ge-edit.\n"
     ]
    }
   ],
   "source": [
    "#B\n",
    "def count(i):\n",
    "    count = df[\"gebruikersnaam\"].value_counts()\n",
    "\n",
    "    count2 = count.to_frame()\n",
    "\n",
    "\n",
    "    count2.columns = [\"Editors\"]\n",
    "\n",
    "    query = len(count2.query(\"Editors == @i\"))\n",
    "    return query\n",
    "\n",
    "\n",
    "counts = count(3)\n",
    "\n",
    "print \"Er hebben %s editors in precies 3 talen ge-edit.\" % counts\n",
    " \n",
    "\n",
    "    \n",
    "\n",
    "\n"
   ]
  },
  {
   "cell_type": "code",
   "execution_count": null,
   "metadata": {
    "collapsed": false
   },
   "outputs": [],
   "source": [
    "# B plot"
   ]
  },
  {
   "cell_type": "code",
   "execution_count": 6,
   "metadata": {
    "collapsed": false
   },
   "outputs": [
    {
     "name": "stdout",
     "output_type": "stream",
     "text": [
      "gebruikersnaam    1.153354\n",
      "dtype: float64\n"
     ]
    }
   ],
   "source": [
    "# C mean\n",
    "def mean():\n",
    "    count = df[\"gebruikersnaam\"].value_counts()\n",
    "\n",
    "    count2 = count.to_frame()\n",
    "    mean = count2.mean()\n",
    "    return mean\n",
    "\n",
    "a = mean()\n",
    "print a"
   ]
  },
  {
   "cell_type": "code",
   "execution_count": 43,
   "metadata": {
    "collapsed": false
   },
   "outputs": [
    {
     "name": "stdout",
     "output_type": "stream",
     "text": [
      "gebruikersnaam    1.0\n",
      "dtype: float64\n"
     ]
    }
   ],
   "source": [
    "# C median \n",
    "\n",
    "def median():\n",
    "    count = df[\"gebruikersnaam\"].value_counts()\n",
    "\n",
    "    count2 = count.to_frame()\n",
    "    median = count2.median()\n",
    "    return median\n",
    "\n",
    "b = median()\n",
    "print b"
   ]
  },
  {
   "cell_type": "markdown",
   "metadata": {},
   "source": [
    "# N5 \n",
    "\n",
    " 1. Maak een functie met als input een integer i, dat een dataframe maakt met de kolommen \n",
    "> 'taal,taal,aantal editors die in beide talen minstens  i edits hebben gedaan.'\n",
    "\n",
    "Zorg dat het dataframe omgekeerd gesorteerd is op het aantal editors.\n",
    "* time je functie voor i=6 en laat de top zien. \n",
    " \n",
    "### Hints\n",
    "* denk eens aan een merge\n",
    "* pas op voor dubbel tellingen: je wilt niet zowel (eng, deu, 14940) als (deu,eng, 14940) in je dataframe hebben zitten\n",
    "* met `Counter` kan je heel handig tellen.\n",
    "\n",
    "### Zo moet je output eruit zien:\n",
    "\n",
    "<table border=\"1\" class=\"dataframe\">\n",
    "  <thead>\n",
    "    <tr style=\"text-align: right;\">\n",
    "      <th></th>\n",
    "      <th>taal1</th>\n",
    "      <th>taal2</th>\n",
    "      <th>aantal_editors</th>\n",
    "    </tr>\n",
    "  </thead>\n",
    "  <tbody>\n",
    "    <tr>\n",
    "      <th>15404</th>\n",
    "      <td>deu</td>\n",
    "      <td>eng</td>\n",
    "      <td>34555</td>\n",
    "    </tr>\n",
    "    <tr>\n",
    "      <th>7093</th>\n",
    "      <td>eng</td>\n",
    "      <td>fra</td>\n",
    "      <td>22852</td>\n",
    "    </tr>\n",
    "    <tr>\n",
    "      <th>13069</th>\n",
    "      <td>eng</td>\n",
    "      <td>spa</td>\n",
    "      <td>19043</td>\n",
    "    </tr>\n",
    "    <tr>\n",
    "      <th>3393</th>\n",
    "      <td>eng</td>\n",
    "      <td>rus</td>\n",
    "      <td>12174</td>\n",
    "    </tr>\n",
    "    <tr>\n",
    "      <th>2348</th>\n",
    "      <td>eng</td>\n",
    "      <td>ita</td>\n",
    "      <td>12060</td>\n",
    "    </tr>\n",
    "  </tbody>\n",
    "</table>"
   ]
  },
  {
   "cell_type": "code",
   "execution_count": 7,
   "metadata": {
    "collapsed": false,
    "scrolled": true
   },
   "outputs": [
    {
     "name": "stdout",
     "output_type": "stream",
     "text": [
      "CPU times: user 42.7 s, sys: 3.8 s, total: 46.5 s\n",
      "Wall time: 47.4 s\n"
     ]
    },
    {
     "data": {
      "text/html": [
       "<div>\n",
       "<table border=\"1\" class=\"dataframe\">\n",
       "  <thead>\n",
       "    <tr style=\"text-align: right;\">\n",
       "      <th></th>\n",
       "      <th>taal1</th>\n",
       "      <th>taal2</th>\n",
       "      <th>aantal_editors</th>\n",
       "    </tr>\n",
       "  </thead>\n",
       "  <tbody>\n",
       "    <tr>\n",
       "      <th>1912</th>\n",
       "      <td>deu</td>\n",
       "      <td>eng</td>\n",
       "      <td>2916</td>\n",
       "    </tr>\n",
       "    <tr>\n",
       "      <th>13311</th>\n",
       "      <td>eng</td>\n",
       "      <td>fra</td>\n",
       "      <td>2044</td>\n",
       "    </tr>\n",
       "    <tr>\n",
       "      <th>24555</th>\n",
       "      <td>eng</td>\n",
       "      <td>spa</td>\n",
       "      <td>1709</td>\n",
       "    </tr>\n",
       "    <tr>\n",
       "      <th>4423</th>\n",
       "      <td>deu</td>\n",
       "      <td>fra</td>\n",
       "      <td>1117</td>\n",
       "    </tr>\n",
       "    <tr>\n",
       "      <th>6395</th>\n",
       "      <td>eng</td>\n",
       "      <td>rus</td>\n",
       "      <td>1077</td>\n",
       "    </tr>\n",
       "  </tbody>\n",
       "</table>\n",
       "</div>"
      ],
      "text/plain": [
       "      taal1 taal2  aantal_editors\n",
       "1912    deu   eng            2916\n",
       "13311   eng   fra            2044\n",
       "24555   eng   spa            1709\n",
       "4423    deu   fra            1117\n",
       "6395    eng   rus            1077"
      ]
     },
     "execution_count": 7,
     "metadata": {},
     "output_type": "execute_result"
    }
   ],
   "source": [
    "#cant really get the good output. Not sure what I'm doing wrong\n",
    "def N5(i):\n",
    "    \n",
    "    df2 = df[df.duplicated(['gebruikersnaam'], keep=False)]\n",
    "    df2 = df2[df2['aantal_edits'] >= str(i)]\n",
    "    df_dict= {k:sorted(g[\"taal\"]) for k,g in df2.groupby(\"gebruikersnaam\")}\n",
    "\n",
    "    L = []\n",
    "    \n",
    "\n",
    "    for x in df_dict.values():\n",
    "        values = list(combinations(x, 2))\n",
    "           \n",
    "        for x in values:\n",
    "            [L.append(x)]\n",
    "\n",
    "    \n",
    "    data = dict(Counter(L))\n",
    "        \n",
    "\n",
    "\n",
    "\n",
    "    df4 = pd.DataFrame(list(data.iteritems()),columns=['index','aantal_editors'])\n",
    "    df4[['taal1','taal2']] = df4['index'].apply(pd.Series)\n",
    "    df4 = df4.drop('index', 1)\n",
    "    df4 = df4[['taal1','taal2','aantal_editors']]\n",
    "    df4 = df4.sort_values(by = 'aantal_editors', ascending=False)\n",
    "    return df4.head()\n",
    "    \n",
    "    \n",
    "\n",
    "    \n",
    "%time a = N5(6)    \n",
    "a\n"
   ]
  },
  {
   "cell_type": "code",
   "execution_count": null,
   "metadata": {
    "collapsed": false
   },
   "outputs": [],
   "source": [
    "\n",
    "    \n",
    "    \n",
    "\n",
    "    "
   ]
  },
  {
   "cell_type": "code",
   "execution_count": null,
   "metadata": {
    "collapsed": true
   },
   "outputs": [],
   "source": [
    "\n",
    "\n",
    "\n",
    " \n"
   ]
  }
 ],
 "metadata": {
  "kernelspec": {
   "display_name": "Python 2",
   "language": "python",
   "name": "python2"
  },
  "language_info": {
   "codemirror_mode": {
    "name": "ipython",
    "version": 2
   },
   "file_extension": ".py",
   "mimetype": "text/x-python",
   "name": "python",
   "nbconvert_exporter": "python",
   "pygments_lexer": "ipython2",
   "version": "2.7.13"
  }
 },
 "nbformat": 4,
 "nbformat_minor": 0
}
