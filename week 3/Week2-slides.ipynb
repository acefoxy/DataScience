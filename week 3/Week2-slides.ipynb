{
 "cells": [
  {
   "cell_type": "markdown",
   "metadata": {
    "slideshow": {
     "slide_type": "slide"
    }
   },
   "source": [
    "# Data Science  \n",
    "\n",
    "## Themas van vandaag\n",
    "\n",
    "1. Omzetten van informatie\n",
    "2. Impliciete informatie expliciet maken\n",
    "\n",
    "\n"
   ]
  },
  {
   "cell_type": "markdown",
   "metadata": {
    "slideshow": {
     "slide_type": "fragment"
    }
   },
   "source": [
    "### Daarom kijken we naar\n",
    "1. Datastructuren\n",
    "2. Data inlezen en omzetten in Python"
   ]
  },
  {
   "cell_type": "markdown",
   "metadata": {
    "slideshow": {
     "slide_type": "slide"
    }
   },
   "source": [
    "# Themas\n",
    "\n",
    "## Heel veel informatie verwerking is\n",
    "* simpelweg omzetten van ene formaat naar het andere\n",
    "* het duurste/meest tijdrovende onderdeel daarbij is $\\ldots$"
   ]
  },
  {
   "cell_type": "markdown",
   "metadata": {
    "slideshow": {
     "slide_type": "fragment"
    }
   },
   "source": [
    "    * uitvogelen wat er nou bedoeld is"
   ]
  },
  {
   "cell_type": "markdown",
   "metadata": {
    "slideshow": {
     "slide_type": "fragment"
    }
   },
   "source": [
    "## Impliciete informatie expliciet maken\n",
    "* $\\equiv$ leesbaar maken voor een computer\n",
    "* in een formaat dat \n",
    "    * computationeel snel is\n",
    "    * aansluit bij beeld/model dat een mens heeft van die informatie"
   ]
  },
  {
   "cell_type": "markdown",
   "metadata": {
    "slideshow": {
     "slide_type": "slide"
    }
   },
   "source": [
    "# Impliciete informatie expliciet maken\n",
    "\n",
    "## We laten dit zien met 4 voorbeelden:\n",
    "1. datums\n",
    "2. notulen\n",
    "3. word document\n",
    "4. lemma uit een woordenboek"
   ]
  },
  {
   "cell_type": "markdown",
   "metadata": {
    "slideshow": {
     "slide_type": "slide"
    }
   },
   "source": [
    "# Voorbeeld 1 : datums\n",
    "\n",
    "## Model is theoretisch duidelijk:\n",
    "* \"tijd is een rechte lijn\"\n",
    "* alle tijdstippen zijn lineair geordend (eerder/later)\n",
    "    * $\\ldots$ moet je wel de tijd_zone_ weten "
   ]
  },
  {
   "cell_type": "markdown",
   "metadata": {
    "slideshow": {
     "slide_type": "fragment"
    }
   },
   "source": [
    "## Representatie van datums\n",
    "* mooi\n",
    "* leesbaar\n",
    "* conventies\n",
    "* lekker kort\n",
    "* handig om mee te werken"
   ]
  },
  {
   "cell_type": "markdown",
   "metadata": {
    "slideshow": {
     "slide_type": "slide"
    }
   },
   "source": [
    "# Wat zijn de verschillen tussen\n",
    "\n",
    "## 9 februari 2015\n",
    "\n",
    "* 9-2-2015\n",
    "* 2015-02-09"
   ]
  },
  {
   "cell_type": "markdown",
   "metadata": {
    "slideshow": {
     "slide_type": "fragment"
    }
   },
   "source": [
    "1. Free format vs fixed format\n",
    "2. Natuurlijke ordening $\\ldots$"
   ]
  },
  {
   "cell_type": "markdown",
   "metadata": {
    "slideshow": {
     "slide_type": "fragment"
    }
   },
   "source": [
    "* alfabetisch $\\equiv$ chronologisch\n",
    "    \n",
    "* _Geef me alle hits uit deze eeuw:_ "
   ]
  },
  {
   "cell_type": "markdown",
   "metadata": {
    "slideshow": {
     "slide_type": "fragment"
    }
   },
   "source": [
    "* `datum >= 2`\n",
    "    "
   ]
  },
  {
   "cell_type": "markdown",
   "metadata": {
    "slideshow": {
     "slide_type": "fragment"
    }
   },
   "source": [
    "* _Geef me alle hits uit deze maand:_ "
   ]
  },
  {
   "cell_type": "markdown",
   "metadata": {
    "slideshow": {
     "slide_type": "fragment"
    }
   },
   "source": [
    "* `datum >= 2015-02`"
   ]
  },
  {
   "cell_type": "markdown",
   "metadata": {
    "slideshow": {
     "slide_type": "slide"
    }
   },
   "source": [
    "# Voorbeeld 2: notulen van een vergadering\n",
    "\n",
    "* Bekijk <http://maartenmarx.nl/pub/HAN8168A06.0000.pdf>\n",
    "\n",
    "* PDF wordt automatisch gegenereerd uit een Word bestand\n",
    "* Daarin wordt met allerlei codes **semantische informatie** aangegeven\n",
    "* Die wordt dan weer omgezet naar **opmaak commandos**\n",
    "\n",
    "## Document zit tsjokvol impliciete informatie."
   ]
  },
  {
   "cell_type": "markdown",
   "metadata": {
    "slideshow": {
     "slide_type": "slide"
    }
   },
   "source": [
    "# Voorbeeld 3: word document\n",
    "\n",
    "1. Een docx bestand is in feite een zipfile\n",
    "1. boordevol machine leesbare informatie.\n",
    "1. Zie <http://nbviewer.ipython.org/url/maartenmarx.nl/teaching/DataScience/Data/OpenOfficeDoc/OpenOffice.ipynb>"
   ]
  },
  {
   "cell_type": "markdown",
   "metadata": {
    "slideshow": {
     "slide_type": "slide"
    }
   },
   "source": [
    "# Voorbeeld 4: Lemma uit een woordenboek\n",
    "\n",
    "## Jullie beurt:\n",
    "\n",
    "* neem dit lemma uit een woordenboek\n",
    "* maak alle impliciete informatie expliciet\n",
    "* gebruik een datastructuur die je prettig vindt om mee te werken\n",
    "    * iets uit Python\n",
    "    * of iets uit de \"echte wereld\": spreadsheet, database, json, xml, pdf, html,....\n",
    "    \n",
    "```\n",
    "Lemma\n",
    "\n",
    "\n",
    "(o.; lemmata of -s) [me. Lat. (thema, gedachte, idee) ,Gr. Lemma (veronderstelling)], \n",
    "het lemma zelfst.naamw.Uitspraak:   ['lɛma] Verbuigingen:   lemma|'s, lemma|ta (meerv.)   \n",
    "Voorbeeld:   `een beknopt woordenboek met 12.000 lemma's`\n",
    "Synoniem:   trefwoord\n",
    "1 hulpstelling waarvan de juistheid in afwahting van nader bewijs wordt aangenomen; \n",
    "2 leus, lijfspreuk, motto, devies; \n",
    "3 titelwoord in een woordenboek of encyclopedie, hoofd van een artikel, syn. trefwoord.\n",
    "```\n",
    "\n"
   ]
  },
  {
   "cell_type": "code",
   "execution_count": 1,
   "metadata": {
    "collapsed": false,
    "slideshow": {
     "slide_type": "slide"
    }
   },
   "outputs": [
    {
     "name": "stdout",
     "output_type": "stream",
     "text": [
      "[NbConvertApp] Converting notebook week2-slides.ipynb to slides\n",
      "[NbConvertApp] Writing 202656 bytes to week2-slides.slides.html\n"
     ]
    }
   ],
   "source": [
    "!ipython nbconvert week2-slides.ipynb  --to slides --reveal-prefix \"http://maartenmarx.nl/reveal.js\""
   ]
  },
  {
   "cell_type": "code",
   "execution_count": 2,
   "metadata": {
    "collapsed": false,
    "slideshow": {
     "slide_type": "slide"
    }
   },
   "outputs": [
    {
     "data": {
      "text/html": [
       "<iframe width=\"850\" height=\"700\" scrolling=\"no\" frameborder=\"no\" src=\"week2-slides.slides.html\"></iframe>"
      ],
      "text/plain": [
       "<IPython.core.display.HTML object>"
      ]
     },
     "execution_count": 2,
     "metadata": {},
     "output_type": "execute_result"
    }
   ],
   "source": [
    "from IPython.display import HTML\n",
    "HTML('<iframe width=\"850\" height=\"700\" scrolling=\"no\" frameborder=\"no\" src=\"week2-slides.slides.html\"></iframe>')\n",
    " "
   ]
  },
  {
   "cell_type": "code",
   "execution_count": null,
   "metadata": {
    "collapsed": false
   },
   "outputs": [],
   "source": []
  }
 ],
 "metadata": {
  "celltoolbar": "Slideshow",
  "kernelspec": {
   "display_name": "Python 2",
   "language": "python",
   "name": "python2"
  },
  "language_info": {
   "codemirror_mode": {
    "name": "ipython",
    "version": 2
   },
   "file_extension": ".py",
   "mimetype": "text/x-python",
   "name": "python",
   "nbconvert_exporter": "python",
   "pygments_lexer": "ipython2",
   "version": "2.7.13"
  }
 },
 "nbformat": 4,
 "nbformat_minor": 0
}
