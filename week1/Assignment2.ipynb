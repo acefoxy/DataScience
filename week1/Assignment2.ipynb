{
 "cells": [
  {
   "cell_type": "markdown",
   "metadata": {
    "deletable": true,
    "editable": true,
    "slideshow": {
     "slide_type": "slide"
    }
   },
   "source": [
    "# Assignment2\n",
    "\n",
    "## Notebook made by  \n",
    "\n",
    "|Rogier van Witzenburg | 10606947 | rogiervanwitzenburg@gmail.com |\n",
    "|:- |:-|:-|\n",
    "|.Andreas Vos |10779752 | acefoxy@gmail.com|\n",
    "|  | |. |\n",
    "\n",
    "### Pledge (taken from [Coursera's Honor Code](https://www.coursera.org/about/terms/honorcode) )\n",
    "\n",
    "\n",
    "\n",
    "Put here a selfie with your photo where you hold a signed paper with the following text: (if this is team work, put two selfies here). The link must be to some place on the web, not to a local file. \n",
    "\n",
    "> My answers to homework, quizzes and exams will be my own work (except for assignments that explicitly permit collaboration).\n",
    "\n",
    ">I will not make solutions to homework, quizzes or exams available to anyone else. This includes both solutions written by me, as well as any official solutions provided by the course staff.\n",
    "\n",
    ">I will not engage in any other activities that will dishonestly improve my results or dishonestly improve/hurt the results of others.\n",
    "\n",
    "<img src='http://www.andreasvos.nl/own.png'/>\n",
    "<img src='http://2ndgoods.nl/wp-content/uploads/2016/08/148106003133056-2-300x300.jpg'/>n",
    "\n",
    "### Note\n",
    "* **Assignments without the selfies or completely filled in information will not be graded and receive 0 points.**\n"
   ]
  },
  {
   "cell_type": "markdown",
   "metadata": {
    "deletable": true,
    "editable": true,
    "slideshow": {
     "slide_type": "slide"
    }
   },
   "source": [
    "# Part 1: obtaining information from the web\n",
    "\n",
    "### RSS parsing\n",
    "\n",
    "Make a notebook that performs the following steps.\n",
    "\n",
    "1. Create a script that retrieves all urls of rss feeds from <http://www.volkskrant.nl/rss/feeds/>. Use urllib2 and beautifulsoup for this. Store the urls in a list.\n",
    "    * **update 2016**\n",
    "    * As all Dutch sites, Volkskrant asks whether you accept cookies. This makes simple collecting webpages a lot harder. \n",
    "    * The code in the code cell below does the trick. \n",
    "    * After running this, I could collect further files from Volkskrant without additional cookie hassle.\n",
    "2. Download all rss feeds and store them on disk.\n",
    "3. Parse all RSS feeds using `lxml`. Create a list of  dicts with fields \"channel\", \"url\", \"title\", \"date\" in which you store this information for each item.\n",
    "4. Compute some statistics about this dict: how many items, how many per channel, are there doubles (items occuring in several channels), etc.\n",
    "5. Write this list as a csv file, store on disk, and upload to Google fusion tables.\n",
    "6. Download all articles (once), parse out the text and store as pairs (date,text) in a list.\n",
    "7. Count per day the number of words, and the number of unique words. Show this in a plot."
   ]
  },
  {
   "cell_type": "code",
   "execution_count": 46,
   "metadata": {
    "collapsed": true
   },
   "outputs": [],
   "source": [
    "import cookielib # Thanks to http://stackoverflow.com/questions/29395407/enabling-cookies-with-urllib\n",
    "import urllib2\n",
    "import urllib\n",
    "import requests\n",
    "import os\n",
    "from bs4 import BeautifulSoup\n",
    "import re \n",
    "from collections import Counter\n",
    "\n",
    "import pandas as pd\n",
    "import csv\n",
    "import json\n",
    "import matplotlib.pyplot as plt"
   ]
  },
  {
   "cell_type": "code",
   "execution_count": 2,
   "metadata": {
    "collapsed": false,
    "deletable": true,
    "editable": true
   },
   "outputs": [
    {
     "name": "stdout",
     "output_type": "stream",
     "text": [
      "['http://www.volkskrant.nl/nieuws/rss.xml', 'http://www.volkskrant.nl/nieuws-voorpagina/rss.xml', 'http://www.volkskrant.nl/buitenland/rss.xml', 'http://www.volkskrant.nl/binnenland/rss.xml', 'http://www.volkskrant.nl/opinie/rss.xml', 'http://www.volkskrant.nl/economie/rss.xml', 'http://www.volkskrant.nl/sport/rss.xml', 'http://www.volkskrant.nl/tech/rss.xml', 'http://www.volkskrant.nl/media/rss.xml', 'http://www.volkskrant.nl/wetenschap/rss.xml', 'http://www.volkskrant.nl/politiek/rss.xml', 'http://www.volkskrant.nl/kijkverder/rss.xml', 'http://www.volkskrant.nl/cartoons/rss.xml', 'http://www.volkskrant.nl/foto/rss.xml', 'http://www.volkskrant.nl/vonk/rss.xml', 'http://www.volkskrant.nl/authors/rss.xml', 'http://www.volkskrant.nl/toplists/rss.xml', 'http://www.volkskrant.nl/archief/rss.xml', 'http://www.volkskrant.nl/cultuur-en-leven/rss.xml', 'http://www.volkskrant.nl/cultuur-en-leven-voorpagina/rss.xml', 'http://www.volkskrant.nl/recensies/rss.xml', 'http://www.volkskrant.nl/film/rss.xml', 'http://www.volkskrant.nl/muziek/rss.xml', 'http://www.volkskrant.nl/reizen/rss.xml', 'http://www.volkskrant.nl/koken-en-eten/rss.xml', 'http://www.volkskrant.nl/theater/rss.xml', 'http://www.volkskrant.nl/boeken/rss.xml', 'http://www.volkskrant.nl/magazine/rss.xml', 'http://www.volkskrant.nl/beeldende-kunst/rss.xml', 'http://www.volkskrant.nl/mode-en-mooi/rss.xml', 'http://www.volkskrant.nl/festivals/rss.xml', 'http://www.volkskrant.nl/televisie/rss.xml', 'http://www.volkskrant.nl/voordeel/rss.xml']\n"
     ]
    }
   ],
   "source": [
    "\n",
    "\n",
    "\n",
    "url =   'http://www.volkskrant.nl/rss/feeds/'\n",
    "\n",
    "# with urllib2 and handling cookies\n",
    "cookiejar= cookielib.LWPCookieJar()\n",
    "opener= urllib2.build_opener( urllib2.HTTPCookieProcessor(cookiejar) )\n",
    "response=opener.open(url)\n",
    "html_doc= ' '.join(response.readlines())\n",
    " \n",
    "rsssoup = BeautifulSoup(html_doc, \"lxml\")\n",
    "\n",
    "\n",
    "# test \n",
    "list_items=[ref['href'] for ref in  rsssoup.findAll('a')  if ref.get('href')]\n",
    "len(list_items), list_items[91:124]\n",
    "list_items = list_items[91:124]\n",
    "\n",
    "\n",
    "print list_items"
   ]
  },
  {
   "cell_type": "code",
   "execution_count": null,
   "metadata": {
    "collapsed": false,
    "deletable": true,
    "editable": true
   },
   "outputs": [],
   "source": [
    "#download all files and store them on disk\n",
    "for i in range(len(list_items)):\n",
    "    url = list_items[i]\n",
    "    filename = url[25:29]+'.xml'\n",
    "    \n",
    "    r = requests.get(url)\n",
    "    with open(filename, \"wb\") as code:\n",
    "        code.write(r.content)  \n"
   ]
  },
  {
   "cell_type": "code",
   "execution_count": 48,
   "metadata": {
    "collapsed": false,
    "deletable": true,
    "editable": true
   },
   "outputs": [],
   "source": [
    "# Parse all RSS feeds using lxml. Create a list of dicts with fields \"channel\", \"url\", \"title\", \"date\" in which you store this information for each item.\n",
    "from lxml import etree\n",
    "from lxml import objectify\n",
    "\n",
    "#need channels\n",
    "#parse with single files in lists  \n",
    "path = '/Users/macbook/Desktop/DS/week1/hi/'\n",
    "files = !ls '/Users/macbook/Desktop/DS/week1/hi/'\n",
    "for filee in files:\n",
    "    with open(path+filee, 'r') as f:\n",
    "        parsed = etree.parse(f)\n",
    "        titles=parsed.xpath('//channel//title')\n",
    "        titlestrings= [ t.text for t in titles]\n",
    "        links=parsed.xpath('//channel//link')\n",
    "        linkstrings= [ t.text for t in links]\n",
    "        dates=parsed.xpath('//channel//pubDate')\n",
    "        datestrings = [ t.text for t in dates]\n",
    "        channel=parsed.xpath('//channel//title')\n",
    "        channelstrings = [ t.text for t in channel]\n",
    "        channels = [i for i in channelstrings if i.startswith('VK:')]\n",
    "        title_dict = [{'channel':x, 'title':y, 'link':z, 'date':a} for x in channels for y in titlestrings for z in linkstrings for a in datestrings]\n",
    "        how_many_channel = len(title_dict)\n",
    "        \n",
    "        \n",
    "        data = pd.DataFrame.from_dict(title_dict)\n",
    "\n",
    "        \n",
    "        data.to_csv('dates3.csv',encoding='utf-8',mode='a',sep='\\t')\n",
    "        \n",
    "titles_dict = [{'channel':x, 'title':y, 'link':z, 'date':a} for x in channels for y in titlestrings for z in linkstrings for a in datestrings]\n",
    "\n",
    "\n",
    "\n",
    "\n",
    "\n",
    "\n",
    "\n",
    "\n",
    "\n",
    "\n",
    "\n"
   ]
  },
  {
   "cell_type": "code",
   "execution_count": null,
   "metadata": {
    "collapsed": false
   },
   "outputs": [],
   "source": [
    "\n",
    "\n",
    "\n",
    "\n"
   ]
  },
  {
   "cell_type": "code",
   "execution_count": 26,
   "metadata": {
    "collapsed": false,
    "deletable": true,
    "editable": true
   },
   "outputs": [],
   "source": [
    "#getting all volkskrant articles\n",
    "from lxml import etree\n",
    "from lxml import objectify\n",
    "import requests\n",
    "\n",
    "\n",
    "path = '/Users/macbook/Desktop/DS/week1/hi/'\n",
    "files = !ls '/Users/macbook/Desktop/DS/week1/hi/'\n",
    "for filee in files:\n",
    "    with open(path+filee, 'r') as f:\n",
    "        parsed = etree.parse(f)\n",
    "        links=parsed.xpath('//channel//link')\n",
    "        linkstrings= list(set([ t.text for t in links]))\n",
    "        linkstringss= [i for i in linkstrings if not i.endswith('krant.nl')]\n",
    "        \n",
    "\n",
    "        for i in range(len(linkstringss)):\n",
    "            url = linkstrings[i]\n",
    "            filename = url[-9:-1]+\".html\"\n",
    "            r = requests.get(url)\n",
    "            with open(filename, \"wb\") as code:\n",
    "                  code.write(r.content) \n",
    "            \n",
    "        "
   ]
  },
  {
   "cell_type": "code",
   "execution_count": null,
   "metadata": {
    "collapsed": false
   },
   "outputs": [],
   "source": []
  },
  {
   "cell_type": "code",
   "execution_count": 1,
   "metadata": {
    "collapsed": false
   },
   "outputs": [
    {
     "ename": "NameError",
     "evalue": "name 'BeautifulSoup' is not defined",
     "output_type": "error",
     "traceback": [
      "\u001b[0;31m---------------------------------------------------------------------------\u001b[0m",
      "\u001b[0;31mNameError\u001b[0m                                 Traceback (most recent call last)",
      "\u001b[0;32m<ipython-input-1-496b650cda2a>\u001b[0m in \u001b[0;36m<module>\u001b[0;34m()\u001b[0m\n\u001b[1;32m      5\u001b[0m \u001b[0;32mfor\u001b[0m \u001b[0mfilee\u001b[0m \u001b[0;32min\u001b[0m \u001b[0mfiles\u001b[0m\u001b[0;34m:\u001b[0m\u001b[0;34m\u001b[0m\u001b[0m\n\u001b[1;32m      6\u001b[0m     \u001b[0;32mwith\u001b[0m \u001b[0mopen\u001b[0m\u001b[0;34m(\u001b[0m\u001b[0mpath\u001b[0m\u001b[0;34m+\u001b[0m\u001b[0mfilee\u001b[0m\u001b[0;34m,\u001b[0m \u001b[0;34m'r'\u001b[0m\u001b[0;34m)\u001b[0m \u001b[0;32mas\u001b[0m \u001b[0mf\u001b[0m\u001b[0;34m:\u001b[0m\u001b[0;34m\u001b[0m\u001b[0m\n\u001b[0;32m----> 7\u001b[0;31m         \u001b[0mvolkskrant\u001b[0m \u001b[0;34m=\u001b[0m \u001b[0mBeautifulSoup\u001b[0m\u001b[0;34m(\u001b[0m\u001b[0mf\u001b[0m\u001b[0;34m,\u001b[0m \u001b[0;34m\"lxml\"\u001b[0m\u001b[0;34m)\u001b[0m\u001b[0;34m\u001b[0m\u001b[0m\n\u001b[0m\u001b[1;32m      8\u001b[0m         \u001b[0mlist_items\u001b[0m\u001b[0;34m=\u001b[0m\u001b[0;34m[\u001b[0m\u001b[0;34m(\u001b[0m\u001b[0mtime\u001b[0m\u001b[0;34m.\u001b[0m\u001b[0mtext\u001b[0m\u001b[0;34m,\u001b[0m \u001b[0mref\u001b[0m\u001b[0;34m.\u001b[0m\u001b[0mtext\u001b[0m\u001b[0;34m)\u001b[0m \u001b[0;32mfor\u001b[0m \u001b[0mref\u001b[0m \u001b[0;32min\u001b[0m  \u001b[0mvolkskrant\u001b[0m\u001b[0;34m.\u001b[0m\u001b[0mfindAll\u001b[0m\u001b[0;34m(\u001b[0m\u001b[0;34m'p'\u001b[0m\u001b[0;34m,\u001b[0m\u001b[0mattrs\u001b[0m\u001b[0;34m=\u001b[0m\u001b[0;34m{\u001b[0m\u001b[0;34m'class'\u001b[0m \u001b[0;34m:\u001b[0m \u001b[0;34m'article__body__paragraph'\u001b[0m\u001b[0;34m}\u001b[0m\u001b[0;34m)\u001b[0m \u001b[0;32mfor\u001b[0m \u001b[0mtime\u001b[0m \u001b[0;32min\u001b[0m  \u001b[0mvolkskrant\u001b[0m\u001b[0;34m.\u001b[0m\u001b[0mfindAll\u001b[0m\u001b[0;34m(\u001b[0m\u001b[0;34m'time'\u001b[0m\u001b[0;34m,\u001b[0m\u001b[0mattrs\u001b[0m\u001b[0;34m=\u001b[0m\u001b[0;34m{\u001b[0m\u001b[0;34m'class'\u001b[0m \u001b[0;34m:\u001b[0m \u001b[0;34m'article__publication-date'\u001b[0m\u001b[0;34m}\u001b[0m\u001b[0;34m)\u001b[0m\u001b[0;34m]\u001b[0m\u001b[0;34m\u001b[0m\u001b[0m\n\u001b[1;32m      9\u001b[0m \u001b[0;34m\u001b[0m\u001b[0m\n",
      "\u001b[0;31mNameError\u001b[0m: name 'BeautifulSoup' is not defined"
     ]
    }
   ],
   "source": [
    "#6 make tuples\n",
    "path = '/Users/macbook/Desktop/DataScience/week1/volkskrantartikelen/'\n",
    "files = !ls '/Users/macbook/Desktop/DataScience/week1/volkskrantartikelen/'\n",
    "\n",
    "for filee in files:\n",
    "    with open(path+filee, 'r') as f:\n",
    "        volkskrant = BeautifulSoup(f, \"lxml\")\n",
    "        list_items=[(time.text, ref.text) for ref in  volkskrant.findAll('p',attrs={'class' : 'article__body__paragraph'}) for time in  volkskrant.findAll('time',attrs={'class' : 'article__publication-date'})]\n",
    "        \n",
    "          #Count per day the number of words,  \n",
    "        seven = [(str(time.text), Counter(ref.text.split())) for ref in  volkskrant.findAll('p',attrs={'class' : 'article__body__paragraph'}) for time in  volkskrant.findAll('time',attrs={'class' : 'article__publication-date'})]\n",
    "        #the number of unique words.\n",
    "        unique = {a:len([(i,j) for a,b in seven for i,j in b.iteritems() if j == 1])for a,b in seven}\n",
    "        \n",
    "    \n",
    "    "
   ]
  },
  {
   "cell_type": "code",
   "execution_count": 9,
   "metadata": {
    "collapsed": false
   },
   "outputs": [
    {
     "name": "stdout",
     "output_type": "stream",
     "text": [
      "{'6 februari 2017, 12:19': 161}\n"
     ]
    }
   ],
   "source": [
    "#Plots\n",
    "for a,b in seven:\n",
    "    plt.plot(b.values())\n",
    "    plt.ylabel('how many words')\n",
    "    plt.show()\n",
    "    \n",
    "#unique number of words\n",
    "for a,b in unique.iteritems():\n",
    "    \n",
    "    \n",
    "    plt.plot(b)\n",
    "    plt.ylabel('how many words')\n",
    "    plt.show()"
   ]
  },
  {
   "cell_type": "code",
   "execution_count": 14,
   "metadata": {
    "collapsed": false
   },
   "outputs": [
    {
     "data": {
      "image/png": "[encoded data removed]",
      "text/plain": [
       "<matplotlib.figure.Figure at 0x10c776790>"
      ]
     },
     "metadata": {},
     "output_type": "display_data"
    },
    {
     "data": {
      "image/png": "[encoded data removed]",
      "text/plain": [
       "<matplotlib.figure.Figure at 0x10cea6b10>"
      ]
     },
     "metadata": {},
     "output_type": "display_data"
    },
    {
     "data": {
      "image/png": "[encoded data removed]",
      "text/plain": [
       "<matplotlib.figure.Figure at 0x10c7766d0>"
      ]
     },
     "metadata": {},
     "output_type": "display_data"
    }
   ],
   "source": [
    "\n",
    "\n",
    "\n",
    "\n"
   ]
  },
  {
   "cell_type": "markdown",
   "metadata": {
    "deletable": true,
    "editable": true,
    "slideshow": {
     "slide_type": "slide"
    }
   },
   "source": [
    "### JSON parsing\n",
    "\n",
    "1. Download <http://maartenmarx.nl/teaching/DataScience/NoteBooks/consuming-json-data-from-a-web-service.ipynb>, remove all code blocks, and turn it into a notebook again. \n",
    "2. Check that what you did is correct and you did not remove too much using a notebook viewer.\n",
    "3. Now extract all code from the downloaded notebook, save it to a file, and execute it as a Python script. Does it give errors? Is it syntactically correct?"
   ]
  },
  {
   "cell_type": "code",
   "execution_count": 43,
   "metadata": {
    "collapsed": false
   },
   "outputs": [],
   "source": [
    "#See https://docs.python.org/2/howto/urllib2.html\n",
    "import json\n",
    "import urllib2\n",
    "url = \"http://maartenmarx.nl/teaching/DataScience/NoteBooks/consuming-json-data-from-a-web-service.ipynb\"\n",
    "jsonfile= urllib2.urlopen(url)\n",
    "#getting files\n",
    "json_as_python_object = json.load(jsonfile) # The josnfile transformed into a Python dict\n",
    "json_as_python_object\n",
    "not_code = [i for i in json_as_python_object['cells'] if not i['cell_type'] == 'code']\n",
    "code = [i for i in json_as_python_object['cells'] if i['cell_type'] == 'code']\n",
    "\n",
    "        \n"
   ]
  },
  {
   "cell_type": "code",
   "execution_count": 45,
   "metadata": {
    "collapsed": true
   },
   "outputs": [],
   "source": [
    "#1#wrote without code\n",
    "with open('data.ipynb', 'w') as outfile:\n",
    "    json.dump(not_code, outfile)"
   ]
  },
  {
   "cell_type": "code",
   "execution_count": 44,
   "metadata": {
    "collapsed": false
   },
   "outputs": [],
   "source": [
    "#3 json_as_python_object\n",
    "\n",
    "with open('data.py', 'w') as outfile:\n",
    "    json.dump(code, outfile)\n",
    "\n",
    "# it does give errors. It is horrible.\n"
   ]
  },
  {
   "cell_type": "markdown",
   "metadata": {
    "deletable": true,
    "editable": true,
    "slideshow": {
     "slide_type": "slide"
    }
   },
   "source": [
    "### PDF parsing\n",
    "\n",
    "1. Save a wordfile as PDF, open it in Python, extract all text. Describe the differences, if any. Try the same with a two column PDF file from the web. This exercise gets more interesting if you use _difficult_ PDF. Why not try <http://wch.github.io/latexsheet/latexsheet.pdf>?\n",
    "\n",
    "* Is the word order still as it should be?\n",
    "* What about the strange characters?"
   ]
  },
  {
   "cell_type": "code",
   "execution_count": 12,
   "metadata": {
    "collapsed": false
   },
   "outputs": [],
   "source": [
    "paper = !pdf2txt.py /Users/macbook/Desktop/pdfminer/Paperanalyselab.pdf\n",
    "\n",
    "book = !pdf2txt.py /Users/macbook/Desktop/pdfminer/networksbook.pdf\n",
    "\n",
    "latex = !pdf2txt.py /Users/macbook/Desktop/pdfminer/latexsheet.pdf\n",
    "\n",
    "#All worked pretty well. The book crashed the notebook but the word order does it well. Strange caracters are well defined in the latexsheet so no problem either"
   ]
  },
  {
   "cell_type": "markdown",
   "metadata": {
    "deletable": true,
    "editable": true,
    "slideshow": {
     "slide_type": "slide"
    }
   },
   "source": [
    "# Part 2  Monty Hall\n",
    "\n",
    "# Q1 (Monty Hall problem)\n",
    "\n",
    "This is the part you hand in from the [warm up notebook](MontyHall.ipynb).\n",
    "\n",
    "##  This counts for your mark\n",
    "\n",
    "Generalize your simulation code to handle the case of `n` doors.\n",
    "\n",
    "\n",
    "This sentence can be read in two ways, giving very different outcomes! You must program both, and understand that it all makes sense.\n",
    "\n",
    "\n",
    "### Your work\n",
    "For both interpretations, give a plot with the number of doors on the x-axis and the win_percentage on the y-axis, and plot that value for the two strategies for numbers of doors between 3 and 20. \n",
    "\n",
    "Describe briefly what is going on here, and why the plots makes sense.\n",
    "\n",
    "\n",
    "### Interpretation  1\n",
    "* There are _n_ doors.\n",
    "* You have chosen one door.\n",
    "* The host opens one door as before (it is not the door you have chosen and not a door with the prize)\n",
    "* Now you switch or not."
   ]
  },
  {
   "cell_type": "code",
   "execution_count": null,
   "metadata": {
    "collapsed": true,
    "deletable": true,
    "editable": true
   },
   "outputs": [],
   "source": []
  },
  {
   "cell_type": "markdown",
   "metadata": {
    "deletable": true,
    "editable": true
   },
   "source": [
    "### Interpretation 2\n",
    "* There are _n_ doors.\n",
    "* You have chosen one door.\n",
    "* The host opens _all except two doors_, namely your door, and a random other door.  Behind none of the opened doors lies the prize."
   ]
  },
  {
   "cell_type": "code",
   "execution_count": null,
   "metadata": {
    "collapsed": true,
    "deletable": true,
    "editable": true
   },
   "outputs": [],
   "source": [
    "# your code here"
   ]
  },
  {
   "cell_type": "markdown",
   "metadata": {
    "deletable": true,
    "editable": true
   },
   "source": [
    "# Uitleg \n",
    "\n",
    "* hier komt jullie uitleg"
   ]
  },
  {
   "cell_type": "code",
   "execution_count": null,
   "metadata": {
    "collapsed": true,
    "deletable": true,
    "editable": true
   },
   "outputs": [],
   "source": [
    "\n"
   ]
  }
 ],
 "metadata": {
  "celltoolbar": "Slideshow",
  "kernelspec": {
   "display_name": "Python 2",
   "language": "python",
   "name": "python2"
  },
  "language_info": {
   "codemirror_mode": {
    "name": "ipython",
    "version": 2
   },
   "file_extension": ".py",
   "mimetype": "text/x-python",
   "name": "python",
   "nbconvert_exporter": "python",
   "pygments_lexer": "ipython2",
   "version": "2.7.13"
  }
 },
 "nbformat": 4,
 "nbformat_minor": 0
}
