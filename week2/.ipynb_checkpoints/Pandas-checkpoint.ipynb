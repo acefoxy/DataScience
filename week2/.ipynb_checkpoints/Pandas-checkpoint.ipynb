{
 "cells": [
  {
   "cell_type": "markdown",
   "metadata": {
    "slideshow": {
     "slide_type": "slide"
    }
   },
   "source": [
    "# Pandas\n",
    "\n",
    "In this lesson we will get familiar with [pandas](http://pandas.pydata.org/), the python module for doing data analysis on spreadsheet formatted data.\n",
    "\n",
    "## Literature\n",
    "\n",
    "* all sections called _using pandas_ from Learning IPython\n",
    "* [Pandas cookbook](https://github.com/jvns/pandas-cookbook)\n",
    "\n",
    "### Further literature\n",
    "* Optional : [Python for Data Analysis](http://shop.oreilly.com/product/0636920023784.do)\n",
    "* Pandas manual: <http://pandas.pydata.org/>\n",
    "* [Pandas intro video](http://vimeo.com/59324550)\n",
    "    * [view the notebook](http://nbviewer.ipython.org/urls/gist.github.com/wesm/4757075/raw/a72d3450ad4924d0e74fb57c9f62d1d895ea4574/PandasTour.ipynb)\n",
    "    * [ get the notebook](https://gist.github.com/wesm/4757075/raw/a72d3450ad4924d0e74fb57c9f62d1d895ea4574/PandasTour.ipynb)\n",
    "* [Plotting with Pandas](http://nbviewer.ipython.org/gist/fonnesbeck/5850463)    \n",
    "* Plotly, really cool interactive plots coupled to pandas data. [Example on NYC 301 calls data](http://nbviewer.ipython.org/gist/chriddyp/9827cb5086cfab8da092/Pandas%20Widget%20-%20Time%20Series,%20Search,%20and%20Filtering.ipynb) [Collection of notebooks with examples](http://nbviewer.ipython.org/gist/chriddyp/9827cb5086cfab8da092)"
   ]
  },
  {
   "cell_type": "markdown",
   "metadata": {
    "slideshow": {
     "slide_type": "slide"
    }
   },
   "source": [
    "# [What problem does pandas solve?](http://pandas.pydata.org/#what-problem-does-pandas-solve)\n",
    "\n",
    "Python has long been great for data munging and preparation, but less so for data analysis and modeling. pandas helps fill this gap, enabling you to carry out your entire data analysis workflow in Python without having to switch to a more domain specific language like R.\n",
    "\n",
    "Combined with the excellent IPython toolkit and other libraries, the environment for doing data analysis in Python excels in performance, productivity, and the ability to collaborate.\n",
    "\n",
    "pandas does not implement significant modeling functionality outside of linear and panel regression; for this, look to statsmodels and scikit-learn. More work is still needed to make Python a first class statistical modeling environment, but we are well on our way toward that goal."
   ]
  },
  {
   "cell_type": "markdown",
   "metadata": {
    "slideshow": {
     "slide_type": "slide"
    }
   },
   "source": [
    "<a id='as'></a>\n",
    "# Assignment \n",
    "\n",
    "\n",
    "### Warm up\n",
    "1. Download the local version <http://maartenmarx.nl/teaching/DataScience/NoteBooks/pandas-cookbook/> of the cookbook at <https://github.com/jvns/pandas-cookbook>\n",
    "    1. This local version has some extra warm up exercises added for you.\n",
    "    1. Go through all of the cookbooks.\n",
    "    1. See if you learn new things that you can apply with your speeches data set. If so, apply them.\n",
    "1. Do all applicable  steps in <http://pandas.pydata.org/pandas-docs/stable/10min.html> with the spreadsheet <https://www.google.com/fusiontables/DataSource?docid=1Fvqz160uqX-f7Neow_PZmMfeRH9PA1oKpIB18us#rows:id=1>. Make sure you download all 1000 rows in the spreadsheet. \n",
    "    1.   Record all your steps in a notebook, with a similar structure as the 10 minutes tutorial.  \n",
    "    \n",
    " "
   ]
  },
  {
   "cell_type": "markdown",
   "metadata": {
    "slideshow": {
     "slide_type": "slide"
    }
   },
   "source": [
    "# Pandas datastructures\n",
    "\n",
    "## Main reference\n",
    "\n",
    "* <http://pandas.pydata.org/pandas-docs/stable/dsintro.html>\n",
    "* Two main structures: Series and Dataframe"
   ]
  },
  {
   "cell_type": "markdown",
   "metadata": {
    "slideshow": {
     "slide_type": "slide"
    }
   },
   "source": [
    "### [Series](http://pandas.pydata.org/pandas-docs/stable/dsintro.html#series)\n",
    "\n",
    "* Series is a one-dimensional labeled array capable of holding any data type (integers, strings, floating point numbers, Python objects, etc.). The axis labels are collectively referred to as the index. \n",
    "* See [examples](#Series) below\n",
    "* You can do all kind of vector operations with series: <http://pandas.pydata.org/pandas-docs/stable/dsintro.html#vectorized-operations-and-label-alignment-with-series>"
   ]
  },
  {
   "cell_type": "markdown",
   "metadata": {
    "slideshow": {
     "slide_type": "slide"
    }
   },
   "source": [
    "### [Dataframe](http://pandas.pydata.org/pandas-docs/stable/dsintro.html#dataframe)\n",
    "\n",
    "* DataFrame is a 2-dimensional labeled data structure with columns of potentially different types. You can think of it like a spreadsheet or SQL table, or a dict of Series objects. It is generally the most commonly used pandas object. \n",
    "* See examples below\n",
    "* You can do all kind of matrix operations on dataframes: <http://pandas.pydata.org/pandas-docs/stable/10min.html#operations>"
   ]
  },
  {
   "cell_type": "markdown",
   "metadata": {
    "slideshow": {
     "slide_type": "slide"
    }
   },
   "source": [
    "### Selection and projection in Pandas\n",
    "\n",
    "* Taking a subset of the columns and/or the rows\n",
    "* <http://pandas.pydata.org/pandas-docs/stable/dsintro.html#indexing-selection>\n",
    "* Examples below"
   ]
  },
  {
   "cell_type": "markdown",
   "metadata": {
    "slideshow": {
     "slide_type": "slide"
    }
   },
   "source": [
    "# Switch to interactive notebook"
   ]
  },
  {
   "cell_type": "code",
   "execution_count": 1,
   "metadata": {
    "collapsed": false,
    "slideshow": {
     "slide_type": "slide"
    }
   },
   "outputs": [],
   "source": [
    "%matplotlib inline \n",
    "import pandas as pd\n",
    "import numpy as np\n",
    "import matplotlib.pyplot as plt\n",
    "import seaborn\n",
    "randn = np.random.randn\n",
    "\n",
    "pd.set_option('display.mpl_style', 'default') # Make the graphs a bit prettier\n",
    "plt.rcParams['figure.figsize'] = (15, 5)\n"
   ]
  },
  {
   "cell_type": "markdown",
   "metadata": {
    "slideshow": {
     "slide_type": "slide"
    }
   },
   "source": [
    "## [Series](id:se)"
   ]
  },
  {
   "cell_type": "code",
   "execution_count": 4,
   "metadata": {
    "collapsed": false
   },
   "outputs": [
    {
     "data": {
      "text/plain": [
       "a    0.035363\n",
       "b    1.210642\n",
       "c    0.725357\n",
       "d   -0.493361\n",
       "e   -1.632711\n",
       "dtype: float64"
      ]
     },
     "execution_count": 4,
     "metadata": {},
     "output_type": "execute_result"
    }
   ],
   "source": [
    "s = pd.Series(randn(5) , index=['a', 'b', 'c', 'd', 'e'])\n",
    "s"
   ]
  },
  {
   "cell_type": "code",
   "execution_count": 5,
   "metadata": {
    "collapsed": false
   },
   "outputs": [
    {
     "data": {
      "text/plain": [
       "0.035363478613188323"
      ]
     },
     "execution_count": 5,
     "metadata": {},
     "output_type": "execute_result"
    }
   ],
   "source": [
    "s['a']"
   ]
  },
  {
   "cell_type": "code",
   "execution_count": 6,
   "metadata": {
    "collapsed": false
   },
   "outputs": [
    {
     "data": {
      "text/plain": [
       "0.72535685204454425"
      ]
     },
     "execution_count": 6,
     "metadata": {},
     "output_type": "execute_result"
    }
   ],
   "source": [
    "s[2]"
   ]
  },
  {
   "cell_type": "code",
   "execution_count": 9,
   "metadata": {
    "collapsed": false
   },
   "outputs": [
    {
     "data": {
      "text/plain": [
       "array([ 0.03536348,  1.2106416 ,  0.72535685, -0.49336129, -1.63271137])"
      ]
     },
     "execution_count": 9,
     "metadata": {},
     "output_type": "execute_result"
    }
   ],
   "source": [
    "s.values"
   ]
  },
  {
   "cell_type": "code",
   "execution_count": 10,
   "metadata": {
    "collapsed": false
   },
   "outputs": [
    {
     "data": {
      "text/plain": [
       "-0.030942146956667037"
      ]
     },
     "execution_count": 10,
     "metadata": {},
     "output_type": "execute_result"
    }
   ],
   "source": [
    "# more information:  (do s.TAB for all methods)\n",
    "s.mean()\n"
   ]
  },
  {
   "cell_type": "code",
   "execution_count": null,
   "metadata": {
    "collapsed": false
   },
   "outputs": [],
   "source": [
    "s.max()"
   ]
  },
  {
   "cell_type": "code",
   "execution_count": 11,
   "metadata": {
    "collapsed": false
   },
   "outputs": [
    {
     "data": {
      "text/plain": [
       "0    10\n",
       "1    11\n",
       "2    12\n",
       "3    13\n",
       "4    14\n",
       "dtype: int64"
      ]
     },
     "execution_count": 11,
     "metadata": {},
     "output_type": "execute_result"
    }
   ],
   "source": [
    "baby=pd.Series(range(10,15))\n",
    "baby"
   ]
  },
  {
   "cell_type": "code",
   "execution_count": 16,
   "metadata": {
    "collapsed": false
   },
   "outputs": [
    {
     "data": {
      "text/plain": [
       "0    100\n",
       "1    121\n",
       "2    144\n",
       "3    169\n",
       "4    196\n",
       "dtype: int64"
      ]
     },
     "execution_count": 16,
     "metadata": {},
     "output_type": "execute_result"
    }
   ],
   "source": [
    "baby* baby"
   ]
  },
  {
   "cell_type": "code",
   "execution_count": 18,
   "metadata": {
    "collapsed": false
   },
   "outputs": [
    {
     "data": {
      "text/plain": [
       "219.0"
      ]
     },
     "execution_count": 18,
     "metadata": {},
     "output_type": "execute_result"
    }
   ],
   "source": [
    "((baby * baby )* 1.5).mean()"
   ]
  },
  {
   "cell_type": "code",
   "execution_count": 19,
   "metadata": {
    "collapsed": false
   },
   "outputs": [
    {
     "name": "stdout",
     "output_type": "stream",
     "text": [
      "CPU times: user 204 µs, sys: 147 µs, total: 351 µs\n",
      "Wall time: 35.1 ms\n"
     ]
    },
    {
     "data": {
      "text/plain": [
       "730"
      ]
     },
     "execution_count": 19,
     "metadata": {},
     "output_type": "execute_result"
    }
   ],
   "source": [
    "%time baby.dot(baby)  # Similarly, the dot method on Series implements dot product:"
   ]
  },
  {
   "cell_type": "markdown",
   "metadata": {
    "slideshow": {
     "slide_type": "slide"
    }
   },
   "source": [
    "**Exercise:** Implement the dot product of s with itself using a for loop and the sum function. You get the same answer?\n",
    "\n",
    "$$ \\Sigma_i (s_i \\cdot s_i) $$"
   ]
  },
  {
   "cell_type": "code",
   "execution_count": 20,
   "metadata": {
    "collapsed": false,
    "slideshow": {
     "slide_type": "slide"
    }
   },
   "outputs": [
    {
     "name": "stdout",
     "output_type": "stream",
     "text": [
      "CPU times: user 63 µs, sys: 9 µs, total: 72 µs\n",
      "Wall time: 70.8 µs\n"
     ]
    },
    {
     "data": {
      "text/plain": [
       "730"
      ]
     },
     "execution_count": 20,
     "metadata": {},
     "output_type": "execute_result"
    }
   ],
   "source": [
    "%time sum(i*i for i in baby)"
   ]
  },
  {
   "cell_type": "markdown",
   "metadata": {},
   "source": [
    "## Now time the differences for big(ger) vectors"
   ]
  },
  {
   "cell_type": "code",
   "execution_count": 21,
   "metadata": {
    "collapsed": true
   },
   "outputs": [],
   "source": [
    "biggirl=pd.Series(range(10**6))"
   ]
  },
  {
   "cell_type": "code",
   "execution_count": 22,
   "metadata": {
    "collapsed": false
   },
   "outputs": [
    {
     "name": "stdout",
     "output_type": "stream",
     "text": [
      "CPU times: user 2.06 ms, sys: 618 µs, total: 2.68 ms\n",
      "Wall time: 1.96 ms\n"
     ]
    },
    {
     "data": {
      "text/plain": [
       "333332833333500000"
      ]
     },
     "execution_count": 22,
     "metadata": {},
     "output_type": "execute_result"
    }
   ],
   "source": [
    "% time biggirl.dot(biggirl)"
   ]
  },
  {
   "cell_type": "code",
   "execution_count": 24,
   "metadata": {
    "collapsed": false
   },
   "outputs": [
    {
     "name": "stdout",
     "output_type": "stream",
     "text": [
      "CPU times: user 386 ms, sys: 40 ms, total: 426 ms\n",
      "Wall time: 413 ms\n"
     ]
    },
    {
     "data": {
      "text/plain": [
       "333332833333500000"
      ]
     },
     "execution_count": 24,
     "metadata": {},
     "output_type": "execute_result"
    }
   ],
   "source": [
    "%time sum([i*i for i in biggirl])"
   ]
  },
  {
   "cell_type": "markdown",
   "metadata": {
    "slideshow": {
     "slide_type": "slide"
    }
   },
   "source": [
    "## Dataframe"
   ]
  },
  {
   "cell_type": "code",
   "execution_count": 27,
   "metadata": {
    "collapsed": false
   },
   "outputs": [
    {
     "name": "stdout",
     "output_type": "stream",
     "text": [
      "-rw-r--r--@ 1 admin  staff  439287 Jan  8  2015 ../Data/MONUMENTALE_BOMEN.csv\n",
      "-rw-r--r--  1 admin  staff      56 Jan  8  2015 ../Data/foo.csv\n",
      "date,A,B,C\n",
      "20090101,a,1,2\n",
      "20090102,b,3,4\n",
      "20090103,c,4,5\n"
     ]
    }
   ],
   "source": [
    "%ls -l ../Data/*.csv\n",
    "%cat ../Data/foo.csv"
   ]
  },
  {
   "cell_type": "code",
   "execution_count": 28,
   "metadata": {
    "collapsed": false
   },
   "outputs": [
    {
     "name": "stdout",
     "output_type": "stream",
     "text": [
      "date,A,B,C\n",
      "20090101,a,1,2\n",
      "20090102,b,3,4\n",
      "20090103,c,4,5\n",
      "\n"
     ]
    }
   ],
   "source": [
    "# reading in a csv file\n",
    "print(open('../Data/foo.csv').read())"
   ]
  },
  {
   "cell_type": "code",
   "execution_count": 29,
   "metadata": {
    "collapsed": false
   },
   "outputs": [
    {
     "data": {
      "text/html": [
       "<div>\n",
       "<table border=\"1\" class=\"dataframe\">\n",
       "  <thead>\n",
       "    <tr style=\"text-align: right;\">\n",
       "      <th></th>\n",
       "      <th>date</th>\n",
       "      <th>A</th>\n",
       "      <th>B</th>\n",
       "      <th>C</th>\n",
       "    </tr>\n",
       "  </thead>\n",
       "  <tbody>\n",
       "    <tr>\n",
       "      <th>0</th>\n",
       "      <td>20090101</td>\n",
       "      <td>a</td>\n",
       "      <td>1</td>\n",
       "      <td>2</td>\n",
       "    </tr>\n",
       "    <tr>\n",
       "      <th>1</th>\n",
       "      <td>20090102</td>\n",
       "      <td>b</td>\n",
       "      <td>3</td>\n",
       "      <td>4</td>\n",
       "    </tr>\n",
       "    <tr>\n",
       "      <th>2</th>\n",
       "      <td>20090103</td>\n",
       "      <td>c</td>\n",
       "      <td>4</td>\n",
       "      <td>5</td>\n",
       "    </tr>\n",
       "  </tbody>\n",
       "</table>\n",
       "</div>"
      ],
      "text/plain": [
       "       date  A  B  C\n",
       "0  20090101  a  1  2\n",
       "1  20090102  b  3  4\n",
       "2  20090103  c  4  5"
      ]
     },
     "execution_count": 29,
     "metadata": {},
     "output_type": "execute_result"
    }
   ],
   "source": [
    "pd.read_csv('../Data/foo.csv')"
   ]
  },
  {
   "cell_type": "code",
   "execution_count": null,
   "metadata": {
    "collapsed": true
   },
   "outputs": [],
   "source": []
  },
  {
   "cell_type": "code",
   "execution_count": 30,
   "metadata": {
    "collapsed": false
   },
   "outputs": [
    {
     "data": {
      "text/html": [
       "<div>\n",
       "<table border=\"1\" class=\"dataframe\">\n",
       "  <thead>\n",
       "    <tr style=\"text-align: right;\">\n",
       "      <th></th>\n",
       "      <th>A</th>\n",
       "      <th>B</th>\n",
       "      <th>C</th>\n",
       "    </tr>\n",
       "    <tr>\n",
       "      <th>date</th>\n",
       "      <th></th>\n",
       "      <th></th>\n",
       "      <th></th>\n",
       "    </tr>\n",
       "  </thead>\n",
       "  <tbody>\n",
       "    <tr>\n",
       "      <th>2009-01-01</th>\n",
       "      <td>a</td>\n",
       "      <td>1</td>\n",
       "      <td>2</td>\n",
       "    </tr>\n",
       "    <tr>\n",
       "      <th>2009-01-02</th>\n",
       "      <td>b</td>\n",
       "      <td>3</td>\n",
       "      <td>4</td>\n",
       "    </tr>\n",
       "    <tr>\n",
       "      <th>2009-01-03</th>\n",
       "      <td>c</td>\n",
       "      <td>4</td>\n",
       "      <td>5</td>\n",
       "    </tr>\n",
       "  </tbody>\n",
       "</table>\n",
       "</div>"
      ],
      "text/plain": [
       "            A  B  C\n",
       "date               \n",
       "2009-01-01  a  1  2\n",
       "2009-01-02  b  3  4\n",
       "2009-01-03  c  4  5"
      ]
     },
     "execution_count": 30,
     "metadata": {},
     "output_type": "execute_result"
    }
   ],
   "source": [
    "# Make date the index and tell pandas date is of datatype date\n",
    "df = pd.read_csv('../Data/foo.csv',  parse_dates=['date'],   index_col='date')\n",
    "df"
   ]
  },
  {
   "cell_type": "code",
   "execution_count": 31,
   "metadata": {
    "collapsed": false
   },
   "outputs": [
    {
     "data": {
      "text/html": [
       "<div>\n",
       "<table border=\"1\" class=\"dataframe\">\n",
       "  <thead>\n",
       "    <tr style=\"text-align: right;\">\n",
       "      <th></th>\n",
       "      <th>B</th>\n",
       "      <th>A</th>\n",
       "    </tr>\n",
       "    <tr>\n",
       "      <th>date</th>\n",
       "      <th></th>\n",
       "      <th></th>\n",
       "    </tr>\n",
       "  </thead>\n",
       "  <tbody>\n",
       "    <tr>\n",
       "      <th>2009-01-01</th>\n",
       "      <td>1</td>\n",
       "      <td>a</td>\n",
       "    </tr>\n",
       "    <tr>\n",
       "      <th>2009-01-02</th>\n",
       "      <td>3</td>\n",
       "      <td>b</td>\n",
       "    </tr>\n",
       "    <tr>\n",
       "      <th>2009-01-03</th>\n",
       "      <td>4</td>\n",
       "      <td>c</td>\n",
       "    </tr>\n",
       "  </tbody>\n",
       "</table>\n",
       "</div>"
      ],
      "text/plain": [
       "            B  A\n",
       "date            \n",
       "2009-01-01  1  a\n",
       "2009-01-02  3  b\n",
       "2009-01-03  4  c"
      ]
     },
     "execution_count": 31,
     "metadata": {},
     "output_type": "execute_result"
    }
   ],
   "source": [
    "## Projection : take a subset of the columns\n",
    "df[['B','A']]"
   ]
  },
  {
   "cell_type": "code",
   "execution_count": 34,
   "metadata": {
    "collapsed": false
   },
   "outputs": [
    {
     "data": {
      "text/plain": [
       "3.0"
      ]
     },
     "execution_count": 34,
     "metadata": {},
     "output_type": "execute_result"
    }
   ],
   "source": [
    "df.B.median()"
   ]
  },
  {
   "cell_type": "code",
   "execution_count": 37,
   "metadata": {
    "collapsed": false
   },
   "outputs": [
    {
     "data": {
      "text/html": [
       "<div>\n",
       "<table border=\"1\" class=\"dataframe\">\n",
       "  <thead>\n",
       "    <tr style=\"text-align: right;\">\n",
       "      <th></th>\n",
       "      <th>A</th>\n",
       "      <th>B</th>\n",
       "      <th>C</th>\n",
       "    </tr>\n",
       "    <tr>\n",
       "      <th>date</th>\n",
       "      <th></th>\n",
       "      <th></th>\n",
       "      <th></th>\n",
       "    </tr>\n",
       "  </thead>\n",
       "  <tbody>\n",
       "    <tr>\n",
       "      <th>2009-01-01</th>\n",
       "      <td>a</td>\n",
       "      <td>1</td>\n",
       "      <td>2</td>\n",
       "    </tr>\n",
       "    <tr>\n",
       "      <th>2009-01-02</th>\n",
       "      <td>b</td>\n",
       "      <td>3</td>\n",
       "      <td>4</td>\n",
       "    </tr>\n",
       "    <tr>\n",
       "      <th>2009-01-03</th>\n",
       "      <td>c</td>\n",
       "      <td>4</td>\n",
       "      <td>5</td>\n",
       "    </tr>\n",
       "  </tbody>\n",
       "</table>\n",
       "</div>"
      ],
      "text/plain": [
       "            A  B  C\n",
       "date               \n",
       "2009-01-01  a  1  2\n",
       "2009-01-02  b  3  4\n",
       "2009-01-03  c  4  5"
      ]
     },
     "execution_count": 37,
     "metadata": {},
     "output_type": "execute_result"
    }
   ],
   "source": [
    "# Selection: take a subset of the rows\n",
    "df"
   ]
  },
  {
   "cell_type": "code",
   "execution_count": 36,
   "metadata": {
    "collapsed": false
   },
   "outputs": [
    {
     "data": {
      "text/plain": [
       "A    b\n",
       "B    3\n",
       "C    4\n",
       "Name: 2009-01-02 00:00:00, dtype: object"
      ]
     },
     "execution_count": 36,
     "metadata": {},
     "output_type": "execute_result"
    }
   ],
   "source": [
    "# take one row (use the index name)\n",
    "df.loc['2009-01-02']"
   ]
  },
  {
   "cell_type": "code",
   "execution_count": 41,
   "metadata": {
    "collapsed": false
   },
   "outputs": [],
   "source": [
    "# The tricky bit: boolean selection: selecting on values\n",
    "test=df.C >= 3"
   ]
  },
  {
   "cell_type": "code",
   "execution_count": 42,
   "metadata": {
    "collapsed": false
   },
   "outputs": [
    {
     "data": {
      "text/html": [
       "<div>\n",
       "<table border=\"1\" class=\"dataframe\">\n",
       "  <thead>\n",
       "    <tr style=\"text-align: right;\">\n",
       "      <th></th>\n",
       "      <th>A</th>\n",
       "      <th>B</th>\n",
       "      <th>C</th>\n",
       "    </tr>\n",
       "    <tr>\n",
       "      <th>date</th>\n",
       "      <th></th>\n",
       "      <th></th>\n",
       "      <th></th>\n",
       "    </tr>\n",
       "  </thead>\n",
       "  <tbody>\n",
       "    <tr>\n",
       "      <th>2009-01-02</th>\n",
       "      <td>b</td>\n",
       "      <td>3</td>\n",
       "      <td>4</td>\n",
       "    </tr>\n",
       "    <tr>\n",
       "      <th>2009-01-03</th>\n",
       "      <td>c</td>\n",
       "      <td>4</td>\n",
       "      <td>5</td>\n",
       "    </tr>\n",
       "  </tbody>\n",
       "</table>\n",
       "</div>"
      ],
      "text/plain": [
       "            A  B  C\n",
       "date               \n",
       "2009-01-02  b  3  4\n",
       "2009-01-03  c  4  5"
      ]
     },
     "execution_count": 42,
     "metadata": {},
     "output_type": "execute_result"
    }
   ],
   "source": [
    "df[test]"
   ]
  },
  {
   "cell_type": "code",
   "execution_count": 40,
   "metadata": {
    "collapsed": false
   },
   "outputs": [
    {
     "data": {
      "text/html": [
       "<div>\n",
       "<table border=\"1\" class=\"dataframe\">\n",
       "  <thead>\n",
       "    <tr style=\"text-align: right;\">\n",
       "      <th></th>\n",
       "      <th>A</th>\n",
       "      <th>B</th>\n",
       "      <th>C</th>\n",
       "    </tr>\n",
       "    <tr>\n",
       "      <th>date</th>\n",
       "      <th></th>\n",
       "      <th></th>\n",
       "      <th></th>\n",
       "    </tr>\n",
       "  </thead>\n",
       "  <tbody>\n",
       "    <tr>\n",
       "      <th>2009-01-02</th>\n",
       "      <td>b</td>\n",
       "      <td>3</td>\n",
       "      <td>4</td>\n",
       "    </tr>\n",
       "    <tr>\n",
       "      <th>2009-01-03</th>\n",
       "      <td>c</td>\n",
       "      <td>4</td>\n",
       "      <td>5</td>\n",
       "    </tr>\n",
       "  </tbody>\n",
       "</table>\n",
       "</div>"
      ],
      "text/plain": [
       "            A  B  C\n",
       "date               \n",
       "2009-01-02  b  3  4\n",
       "2009-01-03  c  4  5"
      ]
     },
     "execution_count": 40,
     "metadata": {},
     "output_type": "execute_result"
    }
   ],
   "source": [
    "# Now select only those rows for which the Boolean vector returns True\n",
    "\n",
    "df[df['B'] >= 3]"
   ]
  },
  {
   "cell_type": "code",
   "execution_count": 43,
   "metadata": {
    "collapsed": false
   },
   "outputs": [
    {
     "data": {
      "text/html": [
       "<div>\n",
       "<table border=\"1\" class=\"dataframe\">\n",
       "  <thead>\n",
       "    <tr style=\"text-align: right;\">\n",
       "      <th></th>\n",
       "      <th>A</th>\n",
       "      <th>B</th>\n",
       "      <th>C</th>\n",
       "    </tr>\n",
       "    <tr>\n",
       "      <th>date</th>\n",
       "      <th></th>\n",
       "      <th></th>\n",
       "      <th></th>\n",
       "    </tr>\n",
       "  </thead>\n",
       "  <tbody>\n",
       "    <tr>\n",
       "      <th>2009-01-01</th>\n",
       "      <td>aaaaa</td>\n",
       "      <td>5</td>\n",
       "      <td>10</td>\n",
       "    </tr>\n",
       "    <tr>\n",
       "      <th>2009-01-02</th>\n",
       "      <td>bbbbb</td>\n",
       "      <td>15</td>\n",
       "      <td>20</td>\n",
       "    </tr>\n",
       "    <tr>\n",
       "      <th>2009-01-03</th>\n",
       "      <td>ccccc</td>\n",
       "      <td>20</td>\n",
       "      <td>25</td>\n",
       "    </tr>\n",
       "  </tbody>\n",
       "</table>\n",
       "</div>"
      ],
      "text/plain": [
       "                A   B   C\n",
       "date                     \n",
       "2009-01-01  aaaaa   5  10\n",
       "2009-01-02  bbbbb  15  20\n",
       "2009-01-03  ccccc  20  25"
      ]
     },
     "execution_count": 43,
     "metadata": {},
     "output_type": "execute_result"
    }
   ],
   "source": [
    "df * 5"
   ]
  },
  {
   "cell_type": "code",
   "execution_count": 45,
   "metadata": {
    "collapsed": false
   },
   "outputs": [
    {
     "ename": "TypeError",
     "evalue": "can't multiply sequence by non-int of type 'str'",
     "output_type": "error",
     "traceback": [
      "\u001b[0;31m---------------------------------------------------------------------------\u001b[0m",
      "\u001b[0;31mTypeError\u001b[0m                                 Traceback (most recent call last)",
      "\u001b[0;32m<ipython-input-45-084cee7e9c85>\u001b[0m in \u001b[0;36m<module>\u001b[0;34m()\u001b[0m\n\u001b[0;32m----> 1\u001b[0;31m \u001b[0mdf\u001b[0m\u001b[0;34m*\u001b[0m\u001b[0mdf\u001b[0m\u001b[0;34m\u001b[0m\u001b[0m\n\u001b[0m",
      "\u001b[0;32m/Users/admin/anaconda/lib/python2.7/site-packages/pandas/core/ops.pyc\u001b[0m in \u001b[0;36mf\u001b[0;34m(self, other, axis, level, fill_value)\u001b[0m\n\u001b[1;32m    991\u001b[0m     \u001b[0;32mdef\u001b[0m \u001b[0mf\u001b[0m\u001b[0;34m(\u001b[0m\u001b[0mself\u001b[0m\u001b[0;34m,\u001b[0m \u001b[0mother\u001b[0m\u001b[0;34m,\u001b[0m \u001b[0maxis\u001b[0m\u001b[0;34m=\u001b[0m\u001b[0mdefault_axis\u001b[0m\u001b[0;34m,\u001b[0m \u001b[0mlevel\u001b[0m\u001b[0;34m=\u001b[0m\u001b[0mNone\u001b[0m\u001b[0;34m,\u001b[0m \u001b[0mfill_value\u001b[0m\u001b[0;34m=\u001b[0m\u001b[0mNone\u001b[0m\u001b[0;34m)\u001b[0m\u001b[0;34m:\u001b[0m\u001b[0;34m\u001b[0m\u001b[0m\n\u001b[1;32m    992\u001b[0m         \u001b[0;32mif\u001b[0m \u001b[0misinstance\u001b[0m\u001b[0;34m(\u001b[0m\u001b[0mother\u001b[0m\u001b[0;34m,\u001b[0m \u001b[0mpd\u001b[0m\u001b[0;34m.\u001b[0m\u001b[0mDataFrame\u001b[0m\u001b[0;34m)\u001b[0m\u001b[0;34m:\u001b[0m    \u001b[0;31m# Another DataFrame\u001b[0m\u001b[0;34m\u001b[0m\u001b[0m\n\u001b[0;32m--> 993\u001b[0;31m             \u001b[0;32mreturn\u001b[0m \u001b[0mself\u001b[0m\u001b[0;34m.\u001b[0m\u001b[0m_combine_frame\u001b[0m\u001b[0;34m(\u001b[0m\u001b[0mother\u001b[0m\u001b[0;34m,\u001b[0m \u001b[0mna_op\u001b[0m\u001b[0;34m,\u001b[0m \u001b[0mfill_value\u001b[0m\u001b[0;34m,\u001b[0m \u001b[0mlevel\u001b[0m\u001b[0;34m)\u001b[0m\u001b[0;34m\u001b[0m\u001b[0m\n\u001b[0m\u001b[1;32m    994\u001b[0m         \u001b[0;32melif\u001b[0m \u001b[0misinstance\u001b[0m\u001b[0;34m(\u001b[0m\u001b[0mother\u001b[0m\u001b[0;34m,\u001b[0m \u001b[0mpd\u001b[0m\u001b[0;34m.\u001b[0m\u001b[0mSeries\u001b[0m\u001b[0;34m)\u001b[0m\u001b[0;34m:\u001b[0m\u001b[0;34m\u001b[0m\u001b[0m\n\u001b[1;32m    995\u001b[0m             \u001b[0;32mreturn\u001b[0m \u001b[0mself\u001b[0m\u001b[0;34m.\u001b[0m\u001b[0m_combine_series\u001b[0m\u001b[0;34m(\u001b[0m\u001b[0mother\u001b[0m\u001b[0;34m,\u001b[0m \u001b[0mna_op\u001b[0m\u001b[0;34m,\u001b[0m \u001b[0mfill_value\u001b[0m\u001b[0;34m,\u001b[0m \u001b[0maxis\u001b[0m\u001b[0;34m,\u001b[0m \u001b[0mlevel\u001b[0m\u001b[0;34m)\u001b[0m\u001b[0;34m\u001b[0m\u001b[0m\n",
      "\u001b[0;32m/Users/admin/anaconda/lib/python2.7/site-packages/pandas/core/frame.pyc\u001b[0m in \u001b[0;36m_combine_frame\u001b[0;34m(self, other, func, fill_value, level)\u001b[0m\n\u001b[1;32m   3412\u001b[0m                                                     dtype=r.dtype)\n\u001b[1;32m   3413\u001b[0m \u001b[0;34m\u001b[0m\u001b[0m\n\u001b[0;32m-> 3414\u001b[0;31m                 \u001b[0mresult\u001b[0m \u001b[0;34m=\u001b[0m \u001b[0mdict\u001b[0m\u001b[0;34m(\u001b[0m\u001b[0;34m[\u001b[0m\u001b[0;34m(\u001b[0m\u001b[0mcol\u001b[0m\u001b[0;34m,\u001b[0m \u001b[0mf\u001b[0m\u001b[0;34m(\u001b[0m\u001b[0mcol\u001b[0m\u001b[0;34m)\u001b[0m\u001b[0;34m)\u001b[0m \u001b[0;32mfor\u001b[0m \u001b[0mcol\u001b[0m \u001b[0;32min\u001b[0m \u001b[0mthis\u001b[0m\u001b[0;34m]\u001b[0m\u001b[0;34m)\u001b[0m\u001b[0;34m\u001b[0m\u001b[0m\n\u001b[0m\u001b[1;32m   3415\u001b[0m \u001b[0;34m\u001b[0m\u001b[0m\n\u001b[1;32m   3416\u001b[0m             \u001b[0;31m# non-unique\u001b[0m\u001b[0;34m\u001b[0m\u001b[0;34m\u001b[0m\u001b[0m\n",
      "\u001b[0;32m/Users/admin/anaconda/lib/python2.7/site-packages/pandas/core/frame.pyc\u001b[0m in \u001b[0;36mf\u001b[0;34m(col)\u001b[0m\n\u001b[1;32m   3408\u001b[0m \u001b[0;34m\u001b[0m\u001b[0m\n\u001b[1;32m   3409\u001b[0m                 \u001b[0;32mdef\u001b[0m \u001b[0mf\u001b[0m\u001b[0;34m(\u001b[0m\u001b[0mcol\u001b[0m\u001b[0;34m)\u001b[0m\u001b[0;34m:\u001b[0m\u001b[0;34m\u001b[0m\u001b[0m\n\u001b[0;32m-> 3410\u001b[0;31m                     \u001b[0mr\u001b[0m \u001b[0;34m=\u001b[0m \u001b[0m_arith_op\u001b[0m\u001b[0;34m(\u001b[0m\u001b[0mthis\u001b[0m\u001b[0;34m[\u001b[0m\u001b[0mcol\u001b[0m\u001b[0;34m]\u001b[0m\u001b[0;34m.\u001b[0m\u001b[0mvalues\u001b[0m\u001b[0;34m,\u001b[0m \u001b[0mother\u001b[0m\u001b[0;34m[\u001b[0m\u001b[0mcol\u001b[0m\u001b[0;34m]\u001b[0m\u001b[0;34m.\u001b[0m\u001b[0mvalues\u001b[0m\u001b[0;34m)\u001b[0m\u001b[0;34m\u001b[0m\u001b[0m\n\u001b[0m\u001b[1;32m   3411\u001b[0m                     return self._constructor_sliced(r, index=new_index,\n\u001b[1;32m   3412\u001b[0m                                                     dtype=r.dtype)\n",
      "\u001b[0;32m/Users/admin/anaconda/lib/python2.7/site-packages/pandas/core/frame.pyc\u001b[0m in \u001b[0;36m_arith_op\u001b[0;34m(left, right)\u001b[0m\n\u001b[1;32m   3400\u001b[0m                 \u001b[0mright\u001b[0m\u001b[0;34m[\u001b[0m\u001b[0mright_mask\u001b[0m \u001b[0;34m&\u001b[0m \u001b[0mmask\u001b[0m\u001b[0;34m]\u001b[0m \u001b[0;34m=\u001b[0m \u001b[0mfill_value\u001b[0m\u001b[0;34m\u001b[0m\u001b[0m\n\u001b[1;32m   3401\u001b[0m \u001b[0;34m\u001b[0m\u001b[0m\n\u001b[0;32m-> 3402\u001b[0;31m             \u001b[0;32mreturn\u001b[0m \u001b[0mfunc\u001b[0m\u001b[0;34m(\u001b[0m\u001b[0mleft\u001b[0m\u001b[0;34m,\u001b[0m \u001b[0mright\u001b[0m\u001b[0;34m)\u001b[0m\u001b[0;34m\u001b[0m\u001b[0m\n\u001b[0m\u001b[1;32m   3403\u001b[0m \u001b[0;34m\u001b[0m\u001b[0m\n\u001b[1;32m   3404\u001b[0m         \u001b[0;32mif\u001b[0m \u001b[0mthis\u001b[0m\u001b[0;34m.\u001b[0m\u001b[0m_is_mixed_type\u001b[0m \u001b[0;32mor\u001b[0m \u001b[0mother\u001b[0m\u001b[0;34m.\u001b[0m\u001b[0m_is_mixed_type\u001b[0m\u001b[0;34m:\u001b[0m\u001b[0;34m\u001b[0m\u001b[0m\n",
      "\u001b[0;32m/Users/admin/anaconda/lib/python2.7/site-packages/pandas/core/ops.pyc\u001b[0m in \u001b[0;36mna_op\u001b[0;34m(x, y)\u001b[0m\n\u001b[1;32m    929\u001b[0m                 \u001b[0myrav\u001b[0m \u001b[0;34m=\u001b[0m \u001b[0myrav\u001b[0m\u001b[0;34m[\u001b[0m\u001b[0mmask\u001b[0m\u001b[0;34m]\u001b[0m\u001b[0;34m\u001b[0m\u001b[0m\n\u001b[1;32m    930\u001b[0m                 \u001b[0;32mif\u001b[0m \u001b[0mnp\u001b[0m\u001b[0;34m.\u001b[0m\u001b[0mprod\u001b[0m\u001b[0;34m(\u001b[0m\u001b[0mxrav\u001b[0m\u001b[0;34m.\u001b[0m\u001b[0mshape\u001b[0m\u001b[0;34m)\u001b[0m \u001b[0;32mand\u001b[0m \u001b[0mnp\u001b[0m\u001b[0;34m.\u001b[0m\u001b[0mprod\u001b[0m\u001b[0;34m(\u001b[0m\u001b[0myrav\u001b[0m\u001b[0;34m.\u001b[0m\u001b[0mshape\u001b[0m\u001b[0;34m)\u001b[0m\u001b[0;34m:\u001b[0m\u001b[0;34m\u001b[0m\u001b[0m\n\u001b[0;32m--> 931\u001b[0;31m                     \u001b[0mresult\u001b[0m\u001b[0;34m[\u001b[0m\u001b[0mmask\u001b[0m\u001b[0;34m]\u001b[0m \u001b[0;34m=\u001b[0m \u001b[0mop\u001b[0m\u001b[0;34m(\u001b[0m\u001b[0mxrav\u001b[0m\u001b[0;34m,\u001b[0m \u001b[0myrav\u001b[0m\u001b[0;34m)\u001b[0m\u001b[0;34m\u001b[0m\u001b[0m\n\u001b[0m\u001b[1;32m    932\u001b[0m             \u001b[0;32melif\u001b[0m \u001b[0mhasattr\u001b[0m\u001b[0;34m(\u001b[0m\u001b[0mx\u001b[0m\u001b[0;34m,\u001b[0m\u001b[0;34m'size'\u001b[0m\u001b[0;34m)\u001b[0m\u001b[0;34m:\u001b[0m\u001b[0;34m\u001b[0m\u001b[0m\n\u001b[1;32m    933\u001b[0m                 \u001b[0mresult\u001b[0m \u001b[0;34m=\u001b[0m \u001b[0mnp\u001b[0m\u001b[0;34m.\u001b[0m\u001b[0mempty\u001b[0m\u001b[0;34m(\u001b[0m\u001b[0mx\u001b[0m\u001b[0;34m.\u001b[0m\u001b[0msize\u001b[0m\u001b[0;34m,\u001b[0m \u001b[0mdtype\u001b[0m\u001b[0;34m=\u001b[0m\u001b[0mx\u001b[0m\u001b[0;34m.\u001b[0m\u001b[0mdtype\u001b[0m\u001b[0;34m)\u001b[0m\u001b[0;34m\u001b[0m\u001b[0m\n",
      "\u001b[0;31mTypeError\u001b[0m: can't multiply sequence by non-int of type 'str'"
     ]
    }
   ],
   "source": [
    "df*df"
   ]
  },
  {
   "cell_type": "code",
   "execution_count": 44,
   "metadata": {
    "collapsed": false
   },
   "outputs": [
    {
     "data": {
      "text/html": [
       "<div>\n",
       "<table border=\"1\" class=\"dataframe\">\n",
       "  <thead>\n",
       "    <tr style=\"text-align: right;\">\n",
       "      <th></th>\n",
       "      <th>B</th>\n",
       "      <th>C</th>\n",
       "    </tr>\n",
       "    <tr>\n",
       "      <th>date</th>\n",
       "      <th></th>\n",
       "      <th></th>\n",
       "    </tr>\n",
       "  </thead>\n",
       "  <tbody>\n",
       "    <tr>\n",
       "      <th>2009-01-01</th>\n",
       "      <td>1</td>\n",
       "      <td>4</td>\n",
       "    </tr>\n",
       "    <tr>\n",
       "      <th>2009-01-02</th>\n",
       "      <td>9</td>\n",
       "      <td>16</td>\n",
       "    </tr>\n",
       "    <tr>\n",
       "      <th>2009-01-03</th>\n",
       "      <td>16</td>\n",
       "      <td>25</td>\n",
       "    </tr>\n",
       "  </tbody>\n",
       "</table>\n",
       "</div>"
      ],
      "text/plain": [
       "             B   C\n",
       "date              \n",
       "2009-01-01   1   4\n",
       "2009-01-02   9  16\n",
       "2009-01-03  16  25"
      ]
     },
     "execution_count": 44,
     "metadata": {},
     "output_type": "execute_result"
    }
   ],
   "source": [
    "#df*df  this is called broadcasting. \n",
    "\n",
    "df[['B','C']]* df[['B','C']]"
   ]
  },
  {
   "cell_type": "code",
   "execution_count": 46,
   "metadata": {
    "collapsed": false
   },
   "outputs": [
    {
     "data": {
      "text/plain": [
       "<matplotlib.axes._subplots.AxesSubplot at 0x1123ce2d0>"
      ]
     },
     "execution_count": 46,
     "metadata": {},
     "output_type": "execute_result"
    },
    {
     "data": {
      "image/png": "[encoded data removed]",
      "text/plain": [
       "<matplotlib.figure.Figure at 0x1123bb790>"
      ]
     },
     "metadata": {},
     "output_type": "display_data"
    }
   ],
   "source": [
    "df[['B']].plot(kind='barh')\n",
    " "
   ]
  },
  {
   "cell_type": "code",
   "execution_count": 47,
   "metadata": {
    "collapsed": false
   },
   "outputs": [
    {
     "data": {
      "image/png": "[encoded data removed]",
      "text/plain": [
       "<matplotlib.figure.Figure at 0x1023836d0>"
      ]
     },
     "metadata": {},
     "output_type": "display_data"
    }
   ],
   "source": [
    "#df.hist()\n",
    "df[['B','C']].hist();"
   ]
  },
  {
   "cell_type": "markdown",
   "metadata": {},
   "source": [
    "## Pandas with  pivot table\n",
    "\n",
    "* Next time ;-)"
   ]
  },
  {
   "cell_type": "markdown",
   "metadata": {},
   "source": [
    "# Pandas in action\n",
    "\n",
    "We will use pandas to see some data about trees in Amsterdam.\n",
    "\n",
    "See <http://www.amsterdamopendata.nl/web/guest/data/?dataset=monumentale_bomen>"
   ]
  },
  {
   "cell_type": "code",
   "execution_count": 48,
   "metadata": {
    "collapsed": false
   },
   "outputs": [],
   "source": [
    "# Render our plots inline\n",
    "%matplotlib inline\n",
    "\n",
    "import pandas as pd\n",
    "import matplotlib.pyplot as plt\n",
    "\n",
    "pd.set_option('display.mpl_style', 'default') # Make the graphs a bit prettier\n",
    "plt.rcParams['figure.figsize'] = (15, 5)"
   ]
  },
  {
   "cell_type": "code",
   "execution_count": 49,
   "metadata": {
    "collapsed": false
   },
   "outputs": [
    {
     "data": {
      "text/html": [
       "<div>\n",
       "<table border=\"1\" class=\"dataframe\">\n",
       "  <thead>\n",
       "    <tr style=\"text-align: right;\">\n",
       "      <th></th>\n",
       "      <th>&lt;!DOCTYPE html&gt; &lt;html class=\"ltr\" dir=\"ltr\" lang=\"nl-NL\"&gt; &lt;head&gt; &lt;title&gt;Data - Amsterdam Open Data&lt;/title&gt; &lt;link rel=stylesheet type=\"text/css\" href=\"/rods2ThemeAmsterdam-1.0-SNAPSHOT/js/colorbox-master/colorbox.css\"&gt; &lt;script type=\"text/javascript\" src=\"https://ajax.googleapis.com/ajax/libs/jquery/1.7.2/jquery.min.js\"&gt;&lt;/script&gt; &lt;!--script type=\"text/javascript\" src=\"//use.typekit.net/aop7lwu.js\"&gt;&lt;/script--&gt; &lt;!--script type=\"text/javascript\"&gt;try{Typekit.load();}catch(e){}&lt;/script--&gt; &lt;meta content=\"text/html; charset=UTF-8\" http-equiv=\"content-type\" /&gt; &lt;meta name=\"robots\" content=\"all\" lang=\"nl-NL\" /&gt; &lt;meta name=\"description\" content=\"In deze website</th>\n",
       "      <th>gemaakt in het kader van het project Amsterdam Open Data</th>\n",
       "      <th>is hetmogelijk om datasets te bekijken en downloaden.\" lang=\"nl-NL\" /&gt; &lt;meta name=\"keywords\" content=\"Amsterdam</th>\n",
       "      <th>open</th>\n",
       "      <th>data</th>\n",
       "      <th>opendata</th>\n",
       "      <th>datastore</th>\n",
       "      <th>datasets</th>\n",
       "      <th>Gemeente</th>\n",
       "      <th>aods</th>\n",
       "      <th>...</th>\n",
       "      <th>columnPos:0.2</th>\n",
       "      <th>isStatic:\"end\".3</th>\n",
       "      <th>namespacedId:\"p_p_id_search_WAR_rods20Portlet_\"</th>\n",
       "      <th>portletId:\"search_WAR_rods20Portlet\"</th>\n",
       "      <th>refreshURL:\"\\x2fc\\x2fportal\\x2frender_portlet\\x3fp_l_id\\x3d10840\\x26p_p_id\\x3dsearch_WAR_rods20Portlet\\x26p_p_lifecycle\\x3d0\\x26p_t_lifecycle\\x3d0\\x26p_p_state\\x3dnormal\\x26p_p_mode\\x3dview\\x26p_p_col_id\\x3dcolumn-2\\x26p_p_col_pos\\x3d0\\x26p_p_col_count\\x3d2\\x26p_p_isolated\\x3d1\\x26currentURL\\x3d\\x252Fweb\\x252Fguest\\x252Fdata\\x252F\\x253Fdataset\\x253Dmonumentale_bomen\"});AUI().use(\"aui-base\"</th>\n",
       "      <th>liferay-menu</th>\n",
       "      <th>liferay-notice</th>\n",
       "      <th>liferay-poller</th>\n",
       "      <th>function(a){(function(){Liferay.Util.addInputType();Liferay.Portlet.ready(function(b</th>\n",
       "      <th>c){Liferay.Util.addInputType(c)})})();(function(){new Liferay.Menu();var b=Liferay.Data.notices;for(var c=1;c&lt;b.length;c++){new Liferay.Notice(b[c])}})()});/*]]&gt;*/&lt;/script&gt; &lt;script src=\"/rods2ThemeAmsterdam-1.0-SNAPSHOT/js/main.js?browserId=other&amp;amp;minifierType=js&amp;amp;languageId=nl_NL&amp;amp;b=6100&amp;amp;t=1381235977000\" type=\"text/javascript\"&gt;&lt;/script&gt; &lt;script type=\"text/javascript\"&gt;&lt;/script&gt; &lt;/html&gt;</th>\n",
       "    </tr>\n",
       "  </thead>\n",
       "  <tbody>\n",
       "  </tbody>\n",
       "</table>\n",
       "<p>0 rows × 244 columns</p>\n",
       "</div>"
      ],
      "text/plain": [
       "Empty DataFrame\n",
       "Columns: [<!DOCTYPE html> <html class=\"ltr\" dir=\"ltr\" lang=\"nl-NL\"> <head> <title>Data - Amsterdam Open Data</title> <link rel=stylesheet type=\"text/css\" href=\"/rods2ThemeAmsterdam-1.0-SNAPSHOT/js/colorbox-master/colorbox.css\"> <script type=\"text/javascript\" src=\"https://ajax.googleapis.com/ajax/libs/jquery/1.7.2/jquery.min.js\"></script> <!--script type=\"text/javascript\" src=\"//use.typekit.net/aop7lwu.js\"></script--> <!--script type=\"text/javascript\">try{Typekit.load();}catch(e){}</script--> <meta content=\"text/html; charset=UTF-8\" http-equiv=\"content-type\" /> <meta name=\"robots\" content=\"all\" lang=\"nl-NL\" /> <meta name=\"description\" content=\"In deze website,  gemaakt in het kader van het project Amsterdam Open Data,  is hetmogelijk om datasets te bekijken en downloaden.\" lang=\"nl-NL\" /> <meta name=\"keywords\" content=\"Amsterdam,  open,  data,  opendata,  datastore,  datasets,  Gemeente,  aods,  aod,  Amsterdam open data\" lang=\"nl-NL\" /> <link href=\"/rods2ThemeAmsterdam-1.0-SNAPSHOT/images/favicon.ico\" rel=\"Shortcut Icon\" /> <link href=\"http://amsterdamopendata.nl/data?dataset=monumentale_bomen\" rel=\"canonical\" /> <link href=\"http://amsterdamopendata.nl/en/data?dataset=monumentale_bomen\" hreflang=\"en-GB\" rel=\"alternate\" /> <link href=\"/html/css/main.css?browserId=other&amp;themeId=amsterdamopendata_WAR_rods2ThemeAmsterdam10SNAPSHOT&amp;minifierType=css&amp;languageId=nl_NL&amp;b=6100&amp;t=1323691428000\" rel=\"stylesheet\" type=\"text/css\" /> <link href=\"/rods2.0Portlet/js/jquery-validation-1.9.0/demo/css/screen.css?browserId=other&amp;themeId=amsterdamopendata_WAR_rods2ThemeAmsterdam10SNAPSHOT&amp;minifierType=css&amp;languageId=nl_NL&amp;b=6100&amp;t=1415129404000\" rel=\"stylesheet\" type=\"text/css\" /> <link href=\"/rods2.0Portlet/js/bootstrap/css/bootstrap.css?browserId=other&amp;themeId=amsterdamopendata_WAR_rods2ThemeAmsterdam10SNAPSHOT&amp;minifierType=css&amp;languageId=nl_NL&amp;b=6100&amp;t=1415129404000\" rel=\"stylesheet\" type=\"text/css\" /> <link href=\"/rods2.0Portlet/js/bootstrap/css/bootstrap-responsive.css?browserId=other&amp;themeId=amsterdamopendata_WAR_rods2ThemeAmsterdam10SNAPSHOT&amp;minifierType=css&amp;languageId=nl_NL&amp;b=6100&amp;t=1415129404000\" rel=\"stylesheet\" type=\"text/css\" /> <link href=\"/rods2.0Portlet/js/jquery-loadmask/jquery.loadmask.css?browserId=other&amp;themeId=amsterdamopendata_WAR_rods2ThemeAmsterdam10SNAPSHOT&amp;minifierType=css&amp;languageId=nl_NL&amp;b=6100&amp;t=1415129404000\" rel=\"stylesheet\" type=\"text/css\" /> <link href=\"/rods2.0Portlet/js/jquery-ui-1.8.23.custom/css/custom-theme/jquery-ui-1.8.23.custom.css?browserId=other&amp;themeId=amsterdamopendata_WAR_rods2ThemeAmsterdam10SNAPSHOT&amp;minifierType=css&amp;languageId=nl_NL&amp;b=6100&amp;t=1415129404000\" rel=\"stylesheet\" type=\"text/css\" /> <link href=\"/rods2.0Portlet/js/fancyapps-fancyBox/source/jquery.fancybox.css?browserId=other&amp;themeId=amsterdamopendata_WAR_rods2ThemeAmsterdam10SNAPSHOT&amp;minifierType=css&amp;languageId=nl_NL&amp;b=6100&amp;t=1415129404000\" rel=\"stylesheet\" type=\"text/css\" /> <link href=\"/rods2.0Portlet/js/jquery.rating/jquery.rating.css?browserId=other&amp;themeId=amsterdamopendata_WAR_rods2ThemeAmsterdam10SNAPSHOT&amp;minifierType=css&amp;languageId=nl_NL&amp;b=6100&amp;t=1415129404000\" rel=\"stylesheet\" type=\"text/css\" /> <link href=\"/rods2.0Portlet/css/main.css?browserId=other&amp;themeId=amsterdamopendata_WAR_rods2ThemeAmsterdam10SNAPSHOT&amp;minifierType=css&amp;languageId=nl_NL&amp;b=6100&amp;t=1415129404000\" rel=\"stylesheet\" type=\"text/css\" /> <link href=\"/rods2.0Portlet/js/uploadify/uploadify.css?browserId=other&amp;themeId=amsterdamopendata_WAR_rods2ThemeAmsterdam10SNAPSHOT&amp;minifierType=css&amp;languageId=nl_NL&amp;b=6100&amp;t=1415129404000\" rel=\"stylesheet\" type=\"text/css\" /> <script type=\"text/javascript\">/*<![CDATA[*/var Liferay={Browser:{acceptsGzip:function(){return false}, getMajorVersion:function(){return 0}, getRevision:function(){return\"\"}, getVersion:function(){return\"\"}, isAir:function(){return false}, isChrome:function(){return false}, isFirefox:function(){return false}, isGecko:function(){return false}, isIe:function(){return false}, isIphone:function(){return false}, isLinux:function(){return false}, isMac:function(){return false}, isMobile:function(){return false}, isMozilla:function(){return false}, isOpera:function(){return false}, isRtf:function(){return false}, isSafari:function(){return false}, isSun:function(){return false}, isWap:function(){return false}, isWapXhtml:function(){return false}, isWebKit:function(){return false}, isWindows:function(){return false}, isWml:function(){return false}}, Data:{isCustomizationView:function(){return false}, notices:[null]}, ThemeDisplay:{getCompanyId:function(){return\"10154\"}, getCompanyGroupId:function(){return\"10192\"}, getUserId:function(){return\"10158\"}, getDoAsUserIdEncoded:function(){return\"\"}, getPlid:function(){return\"10840\"}, getLayoutId:function(){return\"12\"}, getLayoutURL:function(){return\"/web/guest/data\"}, isPrivateLayout:function(){return\"false\"}, getParentLayoutId:function(){return\"0\"}, getScopeGroupId:function(){return\"10180\"}, getScopeGroupIdOrLiveGroupId:function(){return\"10180\"}, getParentGroupId:function(){return\"10180\"}, isImpersonated:function(){return false}, isSignedIn:function(){return false}, getDefaultLanguageId:function(){return\"nl_NL\"}, getLanguageId:function(){return\"nl_NL\"}, isAddSessionIdToURL:function(){return false}, isFreeformLayout:function(){return false}, isStateExclusive:function(){return false}, isStateMaximized:function(){return false}, isStatePopUp:function(){return false}, getPathContext:function(){return\"\"}, getPathImage:function(){return\"/image\"}, getPathJavaScript:function(){return\"/html/js\"}, getPathMain:function(){return\"/c\"}, getPathThemeImages:function(){return\"/rods2ThemeAmsterdam-1.0-SNAPSHOT/images\"}, getPathThemeRoot:function(){return\"/rods2ThemeAmsterdam-1.0-SNAPSHOT/\"}, getURLHome:function(){return\"http://www.amsterdamopendata.nl/web/guest/home\"}, getSessionId:function(){return\"394BF1F57D106CC3A9764BF8B7B9E8DA\"}, getPortletSetupShowBordersDefault:function(){return false}}, PropsValues:{NTLM_AUTH_ENABLED:false}};var themeDisplay=Liferay.ThemeDisplay;Liferay.AUI={getBaseURL:function(){return\"http://www.amsterdamopendata.nl/html/js/aui/\"}, getCombine:function(){return true}, getComboPath:function(){return\"/combo/?browserId=other&minifierType=&languageId=nl_NL&b=6100&t=1367928070000&p=/html/js&\"}, getFilter:function(){return{replaceStr:function(c, b, a){return b+\"m=\"+(c.split(\"/html/js\")[1]||\"\")}, searchExp:\"(\\\\?|&)/([^&]+)\"}}, getJavaScriptRootPath:function(){return\"/html/js\"}, getLangPath:function(){return\"aui_lang.jsp?browserId=other&themeId=amsterdamopendata_WAR_rods2ThemeAmsterdam10SNAPSHOT&colorSchemeId=01&minifierType=js&languageId=nl_NL&b=6100&t=1367928070000\"}, getRootPath:function(){return\"/html/js/aui/\"}};window.YUI_config={base:Liferay.AUI.getBaseURL(), comboBase:Liferay.AUI.getComboPath(), fetchCSS:true, filter:Liferay.AUI.getFilter(), root:Liferay.AUI.getRootPath(), useBrowserConsole:false};Liferay.currentURL=\"\\x2fweb\\x2fguest\\x2fdata\\x2f\\x3fdataset\\x3dmonumentale_bomen\";Liferay.currentURLEncoded=\"%2Fweb%2Fguest%2Fdata%2F%3Fdataset%3Dmonumentale_bomen\";/*]]>*/</script> <script src=\"/html/js/barebone.jsp?browserId=other&amp;themeId=amsterdamopendata_WAR_rods2ThemeAmsterdam10SNAPSHOT&amp;colorSchemeId=01&amp;minifierType=js&amp;minifierBundleId=javascript.barebone.files&amp;languageId=nl_NL&amp;b=6100&amp;t=1367928070000\" type=\"text/javascript\"></script> <script type=\"text/javascript\">/*<![CDATA[*/Liferay.Portlet.list=[\"datasetRightColumn_WAR_rods20Portlet\", search_WAR_rods20Portlet, dataset_WAR_rods20Portlet];/*]]>*/</script> <script type=\"text/javascript\">/*<![CDATA[*/var _gaq=_gaq||[];_gaq.push([\"_setAccount\", UA-40744836-1]);_gaq.push([\"_trackPageview\"]);(function(){var a=document.createElement(\"script\");a.src=(\"https:\"==document.location.protocol?\"https://ssl\":\"http://www\")+\".google-analytics.com/ga.js\";a.setAttribute(\"async\", true);document.documentElement.firstChild.appendChild(a)})();/*]]>*/</script> <script src=\"/rods2.0Portlet/js/jquery/jquery-1.7.2.min.js?browserId=other&amp;minifierType=js&amp;languageId=nl_NL&amp;b=6100&amp;t=1415129404000\" type=\"text/javascript\"></script> <script src=\"/rods2.0Portlet/js/bootstrap/js/bootstrap.js?browserId=other&amp;minifierType=js&amp;languageId=nl_NL&amp;b=6100&amp;t=1415129404000\" type=\"text/javascript\"></script> <script src=\"/rods2.0Portlet/js/jquery-loadmask/jquery.loadmask.min.js?browserId=other&amp;minifierType=js&amp;languageId=nl_NL&amp;b=6100&amp;t=1415129404000\" type=\"text/javascript\"></script> <script src=\"/rods2.0Portlet/js/uploadify/jquery.uploadify-3.1.js?browserId=other&amp;minifierType=js&amp;languageId=nl_NL&amp;b=6100&amp;t=1415129404000\" type=\"text/javascript\"></script> <link class=\"lfr-css-file\" href=\"/rods2ThemeAmsterdam-1.0-SNAPSHOT/css/main.css?browserId=other&amp;themeId=amsterdamopendata_WAR_rods2ThemeAmsterdam10SNAPSHOT&amp;minifierType=css&amp;languageId=nl_NL&amp;b=6100&amp;t=1381235977000\" rel=\"stylesheet\" type=\"text/css\" /> <style type=\"text/css\"></style> <style type=\"text/css\"></style> <script id=\"\" src=\"/rods2ThemeAmsterdam-1.0-SNAPSHOT/js/jquery.nivo.slider.pack.js?browserId=other&amp;minifierType=js&amp;languageId=nl_NL&amp;b=6100&amp;t=1381235977000\" type=\"text/javascript\"></script> <script id=\"\" src=\"/rods2ThemeAmsterdam-1.0-SNAPSHOT/js/jquery.reject.js?browserId=other&amp;minifierType=js&amp;languageId=nl_NL&amp;b=6100&amp;t=1381235977000\" type=\"text/javascript\"></script> <script id=\"\" src=\"/rods2ThemeAmsterdam-1.0-SNAPSHOT/js/colorbox-master/jquery.colorbox.js?browserId=other&amp;minifierType=js&amp;languageId=nl_NL&amp;b=6100&amp;t=1381235977000\" type=\"text/javascript\"></script> </head> <body class=\" yui3-skin-sam controls-visible guest-site signed-out public-page site no_ie\"> <header class=\"container headerImage\" role=\"banner\" id=\"banner\"> <div class=\"row\"> <div id=\"headerWidget\"> <a href=\"http://www.amsterdamopendata.nl/web/guest/faq\" class=\"\"> Vragen </a> <a href=\"http://www.amsterdamopendata.nl/web/guest/contact\" class=\"\"> Contact </a> <a href=\"http://www.amsterdamopendata.nl/web/guest/who\" class=\"\"> Wie zijn wij? </a> <a href=\"http://www.amsterdamopendata.nl/web/guest/colophon\" class=\"\"> Colofon </a> <!-- <a href=\"/who\">Wie zijn wij?</a> <a href=\"/contact\">Contact</a> <a href=\"/faq\">Vragen</a> <a href=\"/colophon\">Colofon</a> --> </div> <!-- <h1 class=\"logo\"> <a href=\"http://www.amsterdamopendata.nl/web/guest/data?p_p_auth=JzHI3tyF&amp;p_p_id=49&amp;p_p_lifecycle=1&amp;p_p_state=normal&amp;p_p_mode=view&amp;p_p_col_count=2&amp;_49_struts_action=%2Fmy_sites%2Fview&amp;_49_groupId=10180&amp;_49_privateLayout=false\" title=\"Gaan naar Amsterdam Open Data\">Amsterdam Open Data</a> </h1> --> </div> </header> <div class=\"container nav\"> <div class=\"row\"> <nav class=\"sort-pages modify-pages container menu\" id=\"access\" role=\"navigation\"> <div class=\"menu-header\"> <ul id=\"menu-standard\" class=\"menu\"> <li class=\"navigationlogo\"></li> <li class=\" menu-item\"> <a onClick=\"_gaq.push(['_trackEvent',  'Menu Bar',  'Home']);\" href=\"http://www.amsterdamopendata.nl/web/guest/home\" ><span> Home</span></a> </li> <li class=\"selected current_page_item menu-item\"> <a onClick=\"_gaq.push(['_trackEvent',  'Menu Bar'.1,  'Data']);\" href=\"http://www.amsterdamopendata.nl/web/guest/data\" ><span> Data</span></a> </li> <li class=\" menu-item\"> <a onClick=\"_gaq.push(['_trackEvent',  'Menu Bar'.2,  'Apps']);\" href=\"http://www.amsterdamopendata.nl/web/guest/app\" ><span> Apps</span></a> </li> <li class=\" menu-item\"> <a onClick=\"_gaq.push(['_trackEvent',  'Menu Bar'.3,  'Ideeën']);\" href=\"http://www.amsterdamopendata.nl/web/guest/idea\" ><span> Ideeën</span></a> </li> <li class=\" menu-item\"> <a onClick=\"_gaq.push(['_trackEvent',  'Menu Bar'.4,  'Documenten']);\" href=\"http://www.amsterdamopendata.nl/web/guest/documenten\" ><span> Documenten</span></a> </li> <li class=\" menu-item\"> <a onClick=\"_gaq.push(['_trackEvent',  'Menu Bar'.5,  'Over Open Data']);\" href=\"http://www.amsterdamopendata.nl/web/guest/over-open-data\" ><span> Over Open Data</span></a> </li> <li class=\" menu-item\"> <a onClick=\"_gaq.push(['_trackEvent',  'Menu Bar'.6,  'Over Het Programma']);\" href=\"http://www.amsterdamopendata.nl/web/guest/about-the-programme\" ><span> Over Het Programma</span></a> </li> <li class=\" menu-item\"> <a onClick=\"_gaq.push(['_trackEvent',  'Menu Bar'.7, ...]\n",
       "Index: []\n",
       "\n",
       "[0 rows x 244 columns]"
      ]
     },
     "execution_count": 49,
     "metadata": {},
     "output_type": "execute_result"
    }
   ],
   "source": [
    "bomen_df = pd.read_csv('http://www.amsterdamopendata.nl/web/guest/data/?dataset=monumentale_bomen')\n",
    "bomen_df"
   ]
  },
  {
   "cell_type": "markdown",
   "metadata": {},
   "source": [
    "Reading this file directly from the web does not work. We must download the file by hand, and load it.\n",
    "\n",
    "**WATCH OUT** The file starts with  some strange characters. I had to manually remove the word 'OBJECTNUMMER' from the first row and type it in again in a texteditor. Then the code below worked. So if you download the file yourself: be careful."
   ]
  },
  {
   "cell_type": "code",
   "execution_count": 50,
   "metadata": {
    "collapsed": false
   },
   "outputs": [],
   "source": [
    "bomen_df = pd.read_csv('../Data/MONUMENTALE_BOMEN.csv', sep=';' , index_col='OBJECTNUMMER'  )\n",
    " "
   ]
  },
  {
   "cell_type": "code",
   "execution_count": 51,
   "metadata": {
    "collapsed": false
   },
   "outputs": [
    {
     "data": {
      "text/html": [
       "<div>\n",
       "<table border=\"1\" class=\"dataframe\">\n",
       "  <thead>\n",
       "    <tr style=\"text-align: right;\">\n",
       "      <th></th>\n",
       "      <th>SELECTIE</th>\n",
       "      <th>FILTER</th>\n",
       "      <th>Boomsoort</th>\n",
       "      <th>Wetenschappelijke_naam</th>\n",
       "      <th>Plantjaar</th>\n",
       "      <th>Stamomtrek</th>\n",
       "      <th>Stamdiameter</th>\n",
       "      <th>Beschermwaarde</th>\n",
       "      <th>Toelichting</th>\n",
       "      <th>Referentienummer_stadsdeel</th>\n",
       "      <th>Volgnummer</th>\n",
       "      <th>Groep</th>\n",
       "      <th>Weblink</th>\n",
       "      <th>COORDS</th>\n",
       "      <th>CENTERLNG1</th>\n",
       "      <th>CENTERLAT1</th>\n",
       "      <th>CENTERLNG2</th>\n",
       "      <th>CENTERLAT2</th>\n",
       "      <th>Unnamed: 19</th>\n",
       "    </tr>\n",
       "    <tr>\n",
       "      <th>OBJECTNUMMER</th>\n",
       "      <th></th>\n",
       "      <th></th>\n",
       "      <th></th>\n",
       "      <th></th>\n",
       "      <th></th>\n",
       "      <th></th>\n",
       "      <th></th>\n",
       "      <th></th>\n",
       "      <th></th>\n",
       "      <th></th>\n",
       "      <th></th>\n",
       "      <th></th>\n",
       "      <th></th>\n",
       "      <th></th>\n",
       "      <th></th>\n",
       "      <th></th>\n",
       "      <th></th>\n",
       "      <th></th>\n",
       "      <th></th>\n",
       "    </tr>\n",
       "  </thead>\n",
       "  <tbody>\n",
       "    <tr>\n",
       "      <th>1</th>\n",
       "      <td>NaN</td>\n",
       "      <td>NaN</td>\n",
       "      <td>Zilveresdoorn</td>\n",
       "      <td>Acer saccharinum</td>\n",
       "      <td>1960</td>\n",
       "      <td>300-400 cm</td>\n",
       "      <td>NaN</td>\n",
       "      <td>Beeldbepalende waarde</td>\n",
       "      <td>NaN</td>\n",
       "      <td>92</td>\n",
       "      <td>N001</td>\n",
       "      <td>Monumentale boom</td>\n",
       "      <td>NaN</td>\n",
       "      <td>POINT(4.898402 52.413653)</td>\n",
       "      <td>4.898402</td>\n",
       "      <td>52.413653</td>\n",
       "      <td>4,898402</td>\n",
       "      <td>52,413653</td>\n",
       "      <td>NaN</td>\n",
       "    </tr>\n",
       "    <tr>\n",
       "      <th>2</th>\n",
       "      <td>NaN</td>\n",
       "      <td>NaN</td>\n",
       "      <td>Noordse esdoorn</td>\n",
       "      <td>Acer platanoides</td>\n",
       "      <td>1960</td>\n",
       "      <td>200-300 cm</td>\n",
       "      <td>NaN</td>\n",
       "      <td>Beeldbepalende waarde</td>\n",
       "      <td>NaN</td>\n",
       "      <td>93</td>\n",
       "      <td>N002</td>\n",
       "      <td>Monumentale boom</td>\n",
       "      <td>NaN</td>\n",
       "      <td>POINT(4.898386 52.413603)</td>\n",
       "      <td>4.898386</td>\n",
       "      <td>52.413603</td>\n",
       "      <td>4,898386</td>\n",
       "      <td>52,413603</td>\n",
       "      <td>NaN</td>\n",
       "    </tr>\n",
       "    <tr>\n",
       "      <th>3</th>\n",
       "      <td>NaN</td>\n",
       "      <td>NaN</td>\n",
       "      <td>Zachte es</td>\n",
       "      <td>Fraxinus pennsylvanica</td>\n",
       "      <td>1960</td>\n",
       "      <td>100-200 cm</td>\n",
       "      <td>NaN</td>\n",
       "      <td>Beeldbepalende waarde</td>\n",
       "      <td>NaN</td>\n",
       "      <td>98</td>\n",
       "      <td>N003</td>\n",
       "      <td>Monumentale boom</td>\n",
       "      <td>NaN</td>\n",
       "      <td>POINT(4.896247 52.411902)</td>\n",
       "      <td>4.896247</td>\n",
       "      <td>52.411902</td>\n",
       "      <td>4,896247</td>\n",
       "      <td>52,411902</td>\n",
       "      <td>NaN</td>\n",
       "    </tr>\n",
       "  </tbody>\n",
       "</table>\n",
       "</div>"
      ],
      "text/plain": [
       "              SELECTIE  FILTER        Boomsoort  Wetenschappelijke_naam  \\\n",
       "OBJECTNUMMER                                                              \n",
       "1                  NaN     NaN    Zilveresdoorn        Acer saccharinum   \n",
       "2                  NaN     NaN  Noordse esdoorn        Acer platanoides   \n",
       "3                  NaN     NaN        Zachte es  Fraxinus pennsylvanica   \n",
       "\n",
       "              Plantjaar  Stamomtrek Stamdiameter         Beschermwaarde  \\\n",
       "OBJECTNUMMER                                                              \n",
       "1                  1960  300-400 cm          NaN  Beeldbepalende waarde   \n",
       "2                  1960  200-300 cm          NaN  Beeldbepalende waarde   \n",
       "3                  1960  100-200 cm          NaN  Beeldbepalende waarde   \n",
       "\n",
       "             Toelichting  Referentienummer_stadsdeel Volgnummer  \\\n",
       "OBJECTNUMMER                                                      \n",
       "1                    NaN                          92       N001   \n",
       "2                    NaN                          93       N002   \n",
       "3                    NaN                          98       N003   \n",
       "\n",
       "                         Groep Weblink                     COORDS  CENTERLNG1  \\\n",
       "OBJECTNUMMER                                                                    \n",
       "1             Monumentale boom     NaN  POINT(4.898402 52.413653)    4.898402   \n",
       "2             Monumentale boom     NaN  POINT(4.898386 52.413603)    4.898386   \n",
       "3             Monumentale boom     NaN  POINT(4.896247 52.411902)    4.896247   \n",
       "\n",
       "              CENTERLAT1 CENTERLNG2 CENTERLAT2  Unnamed: 19  \n",
       "OBJECTNUMMER                                                 \n",
       "1              52.413653   4,898402  52,413653          NaN  \n",
       "2              52.413603   4,898386  52,413603          NaN  \n",
       "3              52.411902   4,896247  52,411902          NaN  "
      ]
     },
     "execution_count": 51,
     "metadata": {},
     "output_type": "execute_result"
    }
   ],
   "source": [
    "bomen_df[:3]"
   ]
  },
  {
   "cell_type": "markdown",
   "metadata": {},
   "source": [
    "# Hoeveel bomen zijn er van elke soort?"
   ]
  },
  {
   "cell_type": "code",
   "execution_count": 52,
   "metadata": {
    "collapsed": false
   },
   "outputs": [
    {
     "data": {
      "text/html": [
       "<div>\n",
       "<table border=\"1\" class=\"dataframe\">\n",
       "  <thead>\n",
       "    <tr style=\"text-align: right;\">\n",
       "      <th></th>\n",
       "      <th>Boomsoort</th>\n",
       "    </tr>\n",
       "  </thead>\n",
       "  <tbody>\n",
       "    <tr>\n",
       "      <th>count</th>\n",
       "      <td>1990</td>\n",
       "    </tr>\n",
       "    <tr>\n",
       "      <th>unique</th>\n",
       "      <td>178</td>\n",
       "    </tr>\n",
       "    <tr>\n",
       "      <th>top</th>\n",
       "      <td>Hollandse iep</td>\n",
       "    </tr>\n",
       "    <tr>\n",
       "      <th>freq</th>\n",
       "      <td>484</td>\n",
       "    </tr>\n",
       "  </tbody>\n",
       "</table>\n",
       "</div>"
      ],
      "text/plain": [
       "            Boomsoort\n",
       "count            1990\n",
       "unique            178\n",
       "top     Hollandse iep\n",
       "freq              484"
      ]
     },
     "execution_count": 52,
     "metadata": {},
     "output_type": "execute_result"
    }
   ],
   "source": [
    "# Hoeveel bomen zijn er van elke soort?\n",
    "boomsoort= bomen_df[['Boomsoort']]\n",
    " \n",
    "boomsoort.describe()"
   ]
  },
  {
   "cell_type": "code",
   "execution_count": 62,
   "metadata": {
    "collapsed": false
   },
   "outputs": [
    {
     "data": {
      "text/plain": [
       "hollandse iep                     484\n",
       "gewone plataan                    173\n",
       "canadese populier                  79\n",
       "italiaanse populier                73\n",
       "plataan                            66\n",
       "linde                              63\n",
       "gewone vleugelnoot                 61\n",
       "gladde iep                         60\n",
       "dubbelbloemige paardenkastanje     59\n",
       "vleugelnoot                        56\n",
       "Name: Boomsoort, dtype: int64"
      ]
     },
     "execution_count": 62,
     "metadata": {},
     "output_type": "execute_result"
    }
   ],
   "source": [
    "bomen_df.Boomsoort.str.lower().value_counts().head(10)"
   ]
  },
  {
   "cell_type": "code",
   "execution_count": 55,
   "metadata": {
    "collapsed": false
   },
   "outputs": [
    {
     "data": {
      "text/plain": [
       "Hollandse iep                     484\n",
       "Gewone plataan                    173\n",
       "Canadese populier                  79\n",
       "Italiaanse populier                72\n",
       "Plataan                            66\n",
       "Linde                              63\n",
       "Gladde iep                         60\n",
       "Gewone vleugelnoot                 60\n",
       "Dubbelbloemige paardenkastanje     59\n",
       "Vleugelnoot                        56\n",
       "Huntingdon-iep                     36\n",
       "Gewone es                          32\n",
       "Monumentaaliep                     30\n",
       "Zuilvormige haagbeuk               29\n",
       "Pluim iep                          26\n",
       "Zilveresdoorn                      25\n",
       "Zomereik                           25\n",
       "Huntingdon iep                     24\n",
       "Zwarte linde                       21\n",
       "Witte paardenkastanje              19\n",
       "Name: Boomsoort, dtype: int64"
      ]
     },
     "execution_count": 55,
     "metadata": {},
     "output_type": "execute_result"
    }
   ],
   "source": [
    "bomen_df['Boomsoort'].value_counts().head(20)"
   ]
  },
  {
   "cell_type": "code",
   "execution_count": 56,
   "metadata": {
    "collapsed": false
   },
   "outputs": [
    {
     "data": {
      "text/plain": [
       "<matplotlib.axes._subplots.AxesSubplot at 0x1101d3650>"
      ]
     },
     "execution_count": 56,
     "metadata": {},
     "output_type": "execute_result"
    },
    {
     "data": {
      "image/png": "[encoded data removed]",
      "text/plain": [
       "<matplotlib.figure.Figure at 0x10d5ac510>"
      ]
     },
     "metadata": {},
     "output_type": "display_data"
    }
   ],
   "source": [
    "bomen_df['Boomsoort'].value_counts()[:10].plot(kind='barh')"
   ]
  },
  {
   "cell_type": "markdown",
   "metadata": {
    "slideshow": {
     "slide_type": "slide"
    }
   },
   "source": [
    "# Jouw beurt: Hoeveel bomen per jaar\n"
   ]
  },
  {
   "cell_type": "code",
   "execution_count": null,
   "metadata": {
    "collapsed": false,
    "slideshow": {
     "slide_type": "slide"
    }
   },
   "outputs": [],
   "source": [
    "bomen_df.Plantjaar.value_counts().plot(kind='bar')  # gesorteerd op aantal\n",
    "#bomen_df.Plantjaar.value_counts().sort_index().plot(kind='bar')  # gesorteerd op jaar\n",
    "#bomen_df.Plantjaar.dropna().astype(int).value_counts().sort_index().plot(kind='bar')  # nu met echte jaartallen ipv reals"
   ]
  },
  {
   "cell_type": "markdown",
   "metadata": {},
   "source": [
    "# Pak alle bomen die geplant zijn na 2000"
   ]
  },
  {
   "cell_type": "code",
   "execution_count": null,
   "metadata": {
    "collapsed": false
   },
   "outputs": [],
   "source": [
    "bomen_df['Plantjaar'] >= 2000"
   ]
  },
  {
   "cell_type": "code",
   "execution_count": null,
   "metadata": {
    "collapsed": false
   },
   "outputs": [],
   "source": [
    "# Pak alle bomen geplant vanaf 2000, en laat alleen de plantjaar en boomsoort kolommen zien\n",
    "bomen_df[bomen_df['Plantjaar'] >= 2000][['Plantjaar','Boomsoort']]"
   ]
  },
  {
   "cell_type": "markdown",
   "metadata": {},
   "source": [
    "# Welke boomsoorten groeien het snelst?\n",
    "\n",
    "* We hebben stamomtrek en stamdiameter. Die kunnen natuurlijk naar elkaar getransformeerd worden.\n",
    "* Eerst maar eens de data bekijken.\n",
    "* Dan is het een kwestie van de gemiddelde groeisnelheid per jaar uitrekenen voor elke boomsoort."
   ]
  },
  {
   "cell_type": "markdown",
   "metadata": {},
   "source": [
    "## Data bekijken"
   ]
  },
  {
   "cell_type": "code",
   "execution_count": null,
   "metadata": {
    "collapsed": false
   },
   "outputs": [],
   "source": [
    "bomen_df['Stamomtrek'].unique()"
   ]
  },
  {
   "cell_type": "code",
   "execution_count": null,
   "metadata": {
    "collapsed": false
   },
   "outputs": [],
   "source": [
    "bomen_df['Stamomtrek'].value_counts()"
   ]
  },
  {
   "cell_type": "markdown",
   "metadata": {},
   "source": [
    "## Data opschonen\n",
    "* Het is duidelijk dat er te veel waardes zijn. Er is geknoeid met spaties.\n",
    "* Laten we meteen een nieuwe waarde bepalen"
   ]
  },
  {
   "cell_type": "code",
   "execution_count": null,
   "metadata": {
    "collapsed": false
   },
   "outputs": [],
   "source": [
    "stammen = bomen_df[['Plantjaar','Stamomtrek', 'Stamdiameter']]\n",
    "stammen[:5]"
   ]
  },
  {
   "cell_type": "code",
   "execution_count": null,
   "metadata": {
    "collapsed": false
   },
   "outputs": [],
   "source": [
    "# See http://pandas.pydata.org/pandas-docs/stable/10min.html#missing-data\n",
    "# Are there trees with both values?\n",
    "stammen.dropna(how='any')[:5] #, stammen.dropna(how='any')[:5]"
   ]
  },
  {
   "cell_type": "code",
   "execution_count": null,
   "metadata": {
    "collapsed": false
   },
   "outputs": [],
   "source": [
    "# hoeveel?\n",
    "len(stammen.dropna(how='any'))"
   ]
  },
  {
   "cell_type": "code",
   "execution_count": null,
   "metadata": {
    "collapsed": false
   },
   "outputs": [],
   "source": [
    "stammen['Stamdiameter'].value_counts()"
   ]
  },
  {
   "cell_type": "code",
   "execution_count": null,
   "metadata": {
    "collapsed": false
   },
   "outputs": [],
   "source": [
    "# http://pandas.pydata.org/pandas-docs/stable/text.html#text-string-methods\n",
    "stammen['Stamdiameter'].str.replace(' ','').value_counts()"
   ]
  },
  {
   "cell_type": "code",
   "execution_count": null,
   "metadata": {
    "collapsed": false
   },
   "outputs": [],
   "source": [
    "# Nu veranderen we de data in ons dataframe\n",
    "stammen['Stamdiameter'] = stammen['Stamdiameter'].str.replace(' ','')\n",
    "stammen['Stamomtrek'] = stammen['Stamomtrek'].str.replace(' ','')\n",
    "stammen['Stamdiameter'].value_counts(), stammen['Stamomtrek'].value_counts()"
   ]
  },
  {
   "cell_type": "markdown",
   "metadata": {},
   "source": [
    "## Dan is het een kwestie van de gemiddelde groeisnelheid per jaar uitrekenen voor elke boomsoort.\n",
    "\n",
    "Dat is makkelijker gezegd dan gedaan....\n",
    "\n",
    "We moeten\n",
    "\n",
    "1. De data over dikte veranderen naar integer waardes.\n",
    "1. Er 1 systeem van maken\n",
    "1. Een gok maken wanneer de metingen zijn verricht.\n",
    "1. Gemiddelde groei(boomsoort) := sum([stamdikte(b)/(metingjaar(b)-plantjaar(b)) for b in boomsoort])/len(boomsoort)\n",
    "1. Hier een snelle pandas expressie voor vinden."
   ]
  },
  {
   "cell_type": "markdown",
   "metadata": {},
   "source": [
    "# Stap 1: data numeriek maken\n",
    "\n",
    "* Kijkend naar de counts kunnen we het best beginnen met de diameter.\n",
    "* We moeten een paar klassen bij elkaar gooien, want die overlappen.\n",
    "* We nemen gewoon maar het middelpunt"
   ]
  },
  {
   "cell_type": "code",
   "execution_count": null,
   "metadata": {
    "collapsed": false
   },
   "outputs": [],
   "source": [
    "stammen['Stamdiameter'] = stammen['Stamdiameter'].str.replace('cm','')\n",
    "stammen['Stamdiameter'].value_counts()"
   ]
  },
  {
   "cell_type": "code",
   "execution_count": null,
   "metadata": {
    "collapsed": false
   },
   "outputs": [],
   "source": [
    "# verander alle waardes op de velden met waarde '>100' in '100-200'\n",
    "# Eerst selecteren we die rijen, en dan veranderen we\n",
    "\n",
    "stammen[stammen.Stamdiameter =='>100']['Stamdiameter'].str.replace('.*','100-200')"
   ]
  },
  {
   "cell_type": "code",
   "execution_count": null,
   "metadata": {
    "collapsed": false
   },
   "outputs": [],
   "source": [
    "# We nemen overal het middlepunt\n",
    "stammen['Stamdiameter'] = stammen['Stamdiameter'].str.replace('>100','100-200')\n",
    "stammen['Stamdiameter'] = stammen['Stamdiameter'].str.replace('0-50','0-25')\n",
    "stammen['Stamdiameter'] = stammen['Stamdiameter'].str.replace('0-25','12.5')\n",
    "stammen['Stamdiameter'] = stammen['Stamdiameter'].str.replace('25-50','37.5')\n",
    "stammen['Stamdiameter'] = stammen['Stamdiameter'].str.replace('50-100','75')\n",
    "stammen['Stamdiameter'] = stammen['Stamdiameter'].str.replace('100-200','150')\n",
    "\n",
    "stammen.Stamdiameter.value_counts()"
   ]
  },
  {
   "cell_type": "code",
   "execution_count": null,
   "metadata": {
    "collapsed": false
   },
   "outputs": [],
   "source": [
    "# Nu niet numerieke waardes wegdoen en datatype omzetten\n",
    "stammen['Stamdiameter']= stammen['Stamdiameter'].astype(float)"
   ]
  },
  {
   "cell_type": "code",
   "execution_count": null,
   "metadata": {
    "collapsed": false
   },
   "outputs": [],
   "source": [
    "# Eerst die Niet te beoordelen weg\n",
    "stammen= stammen[stammen.Stamdiameter != 'Niettebeoordelen']\n",
    "stammen['Stamdiameter']= stammen['Stamdiameter'].astype(float)\n",
    "\n"
   ]
  },
  {
   "cell_type": "code",
   "execution_count": null,
   "metadata": {
    "collapsed": false
   },
   "outputs": [],
   "source": [
    "# check\n",
    "stammen.Stamdiameter*2 "
   ]
  },
  {
   "cell_type": "markdown",
   "metadata": {},
   "source": [
    "# Stap 2: berekenen\n",
    "\n",
    "1. Een gok maken wanneer de metingen zijn verricht.\n",
    "1. Gemiddelde groei(boomsoort) := sum([stamdikte(b)/(metingjaar(b)-plantjaar(b)) for b in boomsoort])/len(boomsoort)\n",
    "1. Hier een snelle pandas expressie voor vinden.\n",
    "\n"
   ]
  },
  {
   "cell_type": "code",
   "execution_count": null,
   "metadata": {
    "collapsed": false
   },
   "outputs": [],
   "source": [
    "# We houden alleen de kolommen die we willen\n",
    "# We gooien alle missing data weg\n",
    "stammen = stammen[['Plantjaar','Stamdiameter']] \n",
    "stammen=stammen.dropna()\n",
    "len(stammen) #[:10]# ,stammen[:10]"
   ]
  },
  {
   "cell_type": "code",
   "execution_count": null,
   "metadata": {
    "collapsed": false
   },
   "outputs": [],
   "source": [
    "# Goed we, hebben nog 864 data punten over\n",
    "stammen['Groeisnelheid']= stammen.Stamdiameter /(2012 - stammen.Plantjaar )\n",
    "stammen.Groeisnelheid.describe()"
   ]
  },
  {
   "cell_type": "code",
   "execution_count": null,
   "metadata": {
    "collapsed": false
   },
   "outputs": [],
   "source": [
    "stammen.Groeisnelheid.plot()"
   ]
  },
  {
   "cell_type": "markdown",
   "metadata": {},
   "source": [
    "## Jouw beurt: nu per boomsoort"
   ]
  },
  {
   "cell_type": "code",
   "execution_count": null,
   "metadata": {
    "collapsed": false
   },
   "outputs": [],
   "source": []
  },
  {
   "cell_type": "markdown",
   "metadata": {},
   "source": [
    "# Real cool plots with plotly\n",
    "\n",
    "* you must make a free account\n",
    "* Your plots will be public on the web, but also nicely viewed in the notebook\n",
    "* See also <https://plot.ly/ipython-notebooks/cufflinks/>"
   ]
  },
  {
   "cell_type": "code",
   "execution_count": null,
   "metadata": {
    "collapsed": false
   },
   "outputs": [],
   "source": [
    "# Learn about API authentication here: https://plot.ly/pandas/getting-started\n",
    "# Find your api_key here: https://plot.ly/settings/api\n",
    "\n",
    "import pandas as pd\n",
    "import plotly.plotly as py\n",
    "df = pd.read_csv('http://www.stat.ubc.ca/~jenny/notOcto/STAT545A/examples/gapminder/data/gapminderDataFiveYear.txt', sep='\\t')\n",
    "df2007 = df[df.year==2007]\n",
    "df1952 = df[df.year==1952]\n",
    "df.head(2)"
   ]
  },
  {
   "cell_type": "code",
   "execution_count": null,
   "metadata": {
    "collapsed": false
   },
   "outputs": [],
   "source": [
    "fig = {\n",
    "    'data': [\n",
    "  \t\t{\n",
    "  \t\t\t'x': df2007.gdpPercap, \n",
    "        \t'y': df2007.lifeExp, \n",
    "        \t'text': df2007.country, \n",
    "        \t'mode': 'markers', \n",
    "        \t'name': '2007'},\n",
    "        {\n",
    "        \t'x': df1952.gdpPercap, \n",
    "        \t'y': df1952.lifeExp, \n",
    "        \t'text': df1952.country, \n",
    "        \t'mode': 'markers', \n",
    "        \t'name': '1952'}\n",
    "    ],\n",
    "    'layout': {\n",
    "        'xaxis': {'title': 'GDP per Capita', 'type': 'log'},\n",
    "        'yaxis': {'title': \"Life Expectancy\"}\n",
    "    }\n",
    "}\n",
    "\n",
    "# IPython notebook\n",
    "py.iplot(fig, filename='pandas/multiple-scatter')\n",
    "\n"
   ]
  },
  {
   "cell_type": "code",
   "execution_count": null,
   "metadata": {
    "collapsed": false
   },
   "outputs": [],
   "source": [
    "import cufflinks as cf\n",
    "print cf.__version__"
   ]
  },
  {
   "cell_type": "code",
   "execution_count": null,
   "metadata": {
    "collapsed": false
   },
   "outputs": [],
   "source": [
    "df = cf.datagen.lines()\n",
    "df.head()"
   ]
  },
  {
   "cell_type": "code",
   "execution_count": null,
   "metadata": {
    "collapsed": false
   },
   "outputs": [],
   "source": [
    "df.iplot(kind='scatter', filename='cufflinks/cf-simple-line')"
   ]
  },
  {
   "cell_type": "code",
   "execution_count": null,
   "metadata": {
    "collapsed": true
   },
   "outputs": [],
   "source": []
  }
 ],
 "metadata": {
  "celltoolbar": "Slideshow",
  "kernelspec": {
   "display_name": "Python 2",
   "language": "python",
   "name": "python2"
  },
  "language_info": {
   "codemirror_mode": {
    "name": "ipython",
    "version": 2
   },
   "file_extension": ".py",
   "mimetype": "text/x-python",
   "name": "python",
   "nbconvert_exporter": "python",
   "pygments_lexer": "ipython2",
   "version": "2.7.13"
  }
 },
 "nbformat": 4,
 "nbformat_minor": 0
}
