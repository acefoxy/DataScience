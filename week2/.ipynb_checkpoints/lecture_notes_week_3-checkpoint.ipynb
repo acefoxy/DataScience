{
 "cells": [
  {
   "cell_type": "markdown",
   "metadata": {
    "slideshow": {
     "slide_type": "slide"
    }
   },
   "source": [
    "# Lecture notes week 3\n",
    "\n",
    "## Onderwerp: werken met hele grote spreadsheets\n",
    "\n",
    "### Inhoud\n",
    "\n",
    "1. Taken met spreadsheets\n",
    "1. Spreadsheet programmas\n",
    "1. Waarom moet je in dit vak eigenlijk leren werken met spreeadsheets?\n",
    "1. Spreadsheet manipulatie in Python met Pandas"
   ]
  },
  {
   "cell_type": "markdown",
   "metadata": {
    "slideshow": {
     "slide_type": "slide"
    }
   },
   "source": [
    "# Taken met spreadsheets\n",
    "\n",
    "## Jullie beurt:\n",
    "\n",
    "1. Maak een lijstje met taken die je uitvoert met spreadsheets\n",
    "1. Probeer ze _abstract_ te beschrijven, als een taak in het spreadsheet,\n",
    "    * onafhankelijk van een bepaalde instantie van een taak\n",
    "    * Bijvoorbeeld: _rijen toevoegen_ , _gemiddelde berekenen van een kolom_\n",
    "    \n",
    "1. Probeer de taken ook te groeperen"
   ]
  },
  {
   "cell_type": "markdown",
   "metadata": {
    "slideshow": {
     "slide_type": "subslide"
    }
   },
   "source": [
    "# Taken met spreadsheets\n",
    "\n",
    "## Data insert/delete/update\n",
    "* rijen weghalen/toevoegen/veranderen  : nieuw element\n",
    "* kolom    weghalen/toevoegen/veranderen    : nieuwe eigenschap"
   ]
  },
  {
   "cell_type": "markdown",
   "metadata": {
    "slideshow": {
     "slide_type": "fragment"
    }
   },
   "source": [
    "## Andere view\n",
    "* Herordenen, sorteren\n",
    "* slicing/dicing (selecteer alleen bepaalde rijen/kolommen)"
   ]
  },
  {
   "cell_type": "markdown",
   "metadata": {
    "slideshow": {
     "slide_type": "fragment"
    }
   },
   "source": [
    "## combineren van spreadsheets\n",
    "* Twee sheets aan elkaar voegen\n",
    "    * sheet met jullie student ID en cijfers  (uit Blackboard)\n",
    "    * sheet met jullie student ID en aanwezigheid (uit Datanose)\n",
    "* Waarom?\n",
    "    * Kijken of er een verband is $\\ldots$"
   ]
  },
  {
   "cell_type": "markdown",
   "metadata": {
    "slideshow": {
     "slide_type": "subslide"
    }
   },
   "source": [
    "## Aggregaties\n",
    "* nieuw veld is een ingewikkelde functie van data in een rij, of een kolom\n",
    "    * bijv: som, gemiddelde, mediaan, logaritme\n",
    "* **correlatie**\n",
    "    * bepaal de \"gelijkheid\" van 2 rijen of kolommen\n",
    "    "
   ]
  },
  {
   "cell_type": "markdown",
   "metadata": {
    "slideshow": {
     "slide_type": "subslide"
    }
   },
   "source": [
    "## Groeperen Pivot table\n",
    "\n",
    "* Pivot table is typisch een 3D matrix.\n",
    "    * gebruik bij categoriale eigenschappen\n",
    "* Groepeer rijen op een eigenschap (bijvoorbeeld geslacht)\n",
    "* Kies 1 kolom, maak groepjes voor elke waarde\n",
    "    * bijv. _opleiding_ \n",
    "* Kies een te verklaren _variabele_ (kolom dus), en \n",
    "    * vat die samen voor elke cel (hier geslacht-opleiding combinatie)\n",
    "    * bijvoorbeeld: _gemiddeld inkomen_ \n",
    "* Als je de aantallen in de cellen zet heb je een **kruistabel** (crosstabs).\n",
    "* Vaak eerste stap in data exploratie.\n",
    "\n",
    "### Bij 2 numerieke variabelen kan je een scatterplot maken\n",
    "* Eg, leeftijd tegen inkomen\n",
    "\n"
   ]
  },
  {
   "cell_type": "markdown",
   "metadata": {
    "slideshow": {
     "slide_type": "subslide"
    }
   },
   "source": [
    "## Presentatie van resultaten\n",
    "\n",
    "* gave grafieken, tabellen, animaties\n",
    "* steeds vaker _interactief_\n",
    "\n"
   ]
  },
  {
   "cell_type": "markdown",
   "metadata": {
    "slideshow": {
     "slide_type": "slide"
    }
   },
   "source": [
    "# Spreadsheet programmas\n",
    "\n",
    "* Excel, openoffice, Google spreadsheets\n",
    "    * allemaal zo'n beetje hetzelfde\n",
    "    * combineren is lastig\n",
    "* Tableaux\n",
    "    * Snelle mooie interactieve visualisaties\n",
    "* Google Fusion tables\n",
    "    * kan echt grote spreadsheets aan\n",
    "    * makkelijk plaatjes te maken\n",
    "    * interactief\n",
    "    * op het web\n",
    "    * Je kan _makkelijk_ spreadsheets **combineren** (= fusion)\n",
    "* `awk`, oer Linux spreadsheet/database programma  op de command line (dus iedereen met een Mac heeft het)\n",
    "    * kan hele grote bestanden aan\n",
    "    * doet veel \"regelgebaseerd\", dus zuinig met geheugen\n",
    "    * echt programmeren\n",
    "* `pandas` in Python"
   ]
  },
  {
   "cell_type": "markdown",
   "metadata": {
    "slideshow": {
     "slide_type": "slide"
    }
   },
   "source": [
    "# Waarom moet je in dit vak eigenlijk leren werken met spreeadsheets?\n",
    "\n",
    "## Onderzoeks cyclus\n",
    "\n",
    "1. Kom met een idee/hypothese/vraag/$\\ldots$\n",
    "1. verzamel data \n",
    "1. schoon je data op\n",
    "1. herstructureer je data (meestal in de vorm van _numerieke data_)\n",
    "1. analyse: ga rekenen, doe statistiek, toets je hypothese, $\\ldots$\n",
    "1. rapporteer"
   ]
  },
  {
   "cell_type": "markdown",
   "metadata": {
    "slideshow": {
     "slide_type": "fragment"
    }
   },
   "source": [
    "### De herstructureer en analyse stappen kunnen vaak prima in een spreadsheet programma.\n",
    "* Als je geluk hebt zijn de data-verzamel/opschoon/herstructureer stappen al voor je gedaan.\n",
    "    * Jullie hebben met de RSS en woordje tel opdracht gezien wat een gedoe dat kan zijn....\n",
    "    "
   ]
  },
  {
   "cell_type": "markdown",
   "metadata": {
    "slideshow": {
     "slide_type": "subslide"
    }
   },
   "source": [
    "### Waarom mogen we niet lekker blijven Excelen?\n",
    "1. Schaalt niet\n",
    "    1. Niet naar grote datasets (wil ie niet inlezen)\n",
    "    1. Niet naar steeds dezelfde taak uitvoeren (want handmatig via GUI commandos geven)\n",
    "    1. Niet naar echt heavy berekeningen \n",
    "1. Beperkte functionaliteit\n",
    "    1. Bijvoorbeeld niet makkelijk om data op te schonen \n",
    "        * Kan wel handig in Google Refine.\n",
    "1. Integratie met allerlei andere tools\n",
    "    * Kan natuurlijk heerlijk in Python"
   ]
  },
  {
   "cell_type": "markdown",
   "metadata": {
    "slideshow": {
     "slide_type": "slide"
    }
   },
   "source": [
    "# Spreadsheet manipulatie in Python met Pandas\n",
    "\n",
    "## Invoer vanuit andere formaten is vaak kinderlijk eenvoudig\n",
    "* See <http://pandas.pydata.org/pandas-docs/stable/io.html>\n",
    "\n",
    "```\n",
    "import pandas as pd\n",
    "\n",
    "csvfilename= os.path.join(path, 'names2.csv')\n",
    "dataframe=pd.DataFrame(all_vk_items)  # all_vk_items is a list of dicts\n",
    "dataframe.to_csv(csvfilename, encoding='utf-8') # and just write it away\n",
    "```"
   ]
  },
  {
   "cell_type": "markdown",
   "metadata": {
    "slideshow": {
     "slide_type": "slide"
    }
   },
   "source": [
    "# Pandas in actie\n",
    "\n",
    "## We bekijken 2 hele goede tutorials\n",
    "\n",
    "* <https://github.com/jvns/pandas-cookbook>, \n",
    "    * locally versie (met wat extra code en opgaven) <http://maartenmarx.nl/teaching/DataScience/NoteBooks/pandas-cookbook/>\n",
    "* <http://pandas.pydata.org/pandas-docs/stable/10min.html>\n",
    "    \n",
    "## En we hebben zelf een notebook met de eerste handige dingetjes\n",
    "\n",
    "* <http://nbviewer.ipython.org/url/maartenmarx.nl/teaching/DataScience/NoteBooks/Pandas.ipynb>\n",
    "    \n",
    "    "
   ]
  },
  {
   "cell_type": "code",
   "execution_count": 1,
   "metadata": {
    "collapsed": false,
    "slideshow": {
     "slide_type": "notes"
    }
   },
   "outputs": [
    {
     "name": "stdout",
     "output_type": "stream",
     "text": [
      "[NbConvertApp] Converting notebook lecture_notes_week_3.ipynb to slides\n",
      "[NbConvertApp] Writing 205519 bytes to lecture_notes_week_3.slides.html\n",
      "[NbConvertApp] Redirecting reveal.js requests to https://cdn.jsdelivr.net/reveal.js/2.6.2\n",
      "Serving your slides at http://127.0.0.1:8000/lecture_notes_week_3.slides.html\n",
      "Use Control-C to stop this server\n",
      "WARNING:tornado.access:404 GET /custom.css (127.0.0.1) 107.93ms\n",
      "WARNING:tornado.access:404 GET /favicon.ico (127.0.0.1) 1.31ms\n",
      "^C\n",
      "Interrupted\n",
      "\n"
     ]
    }
   ],
   "source": [
    "# Converting this notebook to a slideshow\n",
    "!ipython nbconvert --to slides --reveal-prefix \"http://maartenmarx.nl/reveal.js\" lecture_notes_week_3.ipynb --post serve"
   ]
  },
  {
   "cell_type": "code",
   "execution_count": 1,
   "metadata": {
    "collapsed": false,
    "slideshow": {
     "slide_type": "notes"
    }
   },
   "outputs": [
    {
     "data": {
      "text/html": [
       "<iframe src=http://nbviewer.jupyter.org/url/maartenmarx.nl/teaching/DataScience/LectureNotes/lecture_notes_week_3.ipynb  width=700 height=350></iframe>"
      ],
      "text/plain": [
       "<IPython.core.display.HTML object>"
      ]
     },
     "execution_count": 1,
     "metadata": {},
     "output_type": "execute_result"
    }
   ],
   "source": [
    "from IPython.display import HTML\n",
    "HTML('<iframe src=http://nbviewer.jupyter.org/url/maartenmarx.nl/teaching/DataScience/LectureNotes/lecture_notes_week_3.ipynb  width=700 height=350></iframe>')"
   ]
  },
  {
   "cell_type": "code",
   "execution_count": null,
   "metadata": {
    "collapsed": true
   },
   "outputs": [],
   "source": []
  }
 ],
 "metadata": {
  "celltoolbar": "Slideshow",
  "kernelspec": {
   "display_name": "Python 2",
   "language": "python",
   "name": "python2"
  },
  "language_info": {
   "codemirror_mode": {
    "name": "ipython",
    "version": 2
   },
   "file_extension": ".py",
   "mimetype": "text/x-python",
   "name": "python",
   "nbconvert_exporter": "python",
   "pygments_lexer": "ipython2",
   "version": "2.7.13"
  }
 },
 "nbformat": 4,
 "nbformat_minor": 0
}
