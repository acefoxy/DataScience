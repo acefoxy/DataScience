{
 "cells": [
  {
   "cell_type": "markdown",
   "metadata": {},
   "source": [
    "# Notebook accompaning Chapter 2 from \n",
    "\n",
    "\n",
    "* Discovering knowledge in data : an introduction to data mining / Daniel T. Larose\n",
    "\n",
    "This notebook shows how we can do all things described in this chapter rather easily inside `pandas`.\n"
   ]
  },
  {
   "cell_type": "markdown",
   "metadata": {},
   "source": [
    "\n",
    "## Download all data\n",
    "\n",
    "* You can do this within Python of course, but from the shell it is super easy, using `wget`. The following command _recursively_ downloads all webpages \"below\" (that is the `-np` (for no parents)) the given url. \n",
    "* `wget -np -r http://www.sgi.com/tech/mlc/db/`\n",
    "* It will create a directory structure `www.sgi.com/tech/mlc/db/` below the working directory and put all files in there."
   ]
  },
  {
   "cell_type": "code",
   "execution_count": 1,
   "metadata": {
    "collapsed": false
   },
   "outputs": [],
   "source": [
    "import pandas as pd\n",
    "%matplotlib inline\n",
    "#!wget -np -r http://www.sgi.com/tech/mlc/db/"
   ]
  },
  {
   "cell_type": "code",
   "execution_count": 2,
   "metadata": {
    "collapsed": false
   },
   "outputs": [
    {
     "ename": "SyntaxError",
     "evalue": "invalid syntax (<ipython-input-2-db63ad8f2f9d>, line 2)",
     "output_type": "error",
     "traceback": [
      "\u001b[0;36m  File \u001b[0;32m\"<ipython-input-2-db63ad8f2f9d>\"\u001b[0;36m, line \u001b[0;32m2\u001b[0m\n\u001b[0;31m    ls www.sgi.com/tech/mlc/db/*.data\u001b[0m\n\u001b[0m         ^\u001b[0m\n\u001b[0;31mSyntaxError\u001b[0m\u001b[0;31m:\u001b[0m invalid syntax\n"
     ]
    }
   ],
   "source": [
    "# list all the datasets in the  www.sgi.com/tech/mlc/db folder\n",
    "!ls www.sgi.com/tech/mlc/db/*.data"
   ]
  },
  {
   "cell_type": "code",
   "execution_count": 16,
   "metadata": {
    "collapsed": false
   },
   "outputs": [
    {
     "name": "stdout",
     "output_type": "stream",
     "text": [
      "-rw-r--r--  1 AndreasVos  staff    17K Feb 27  2001 www.sgi.com/tech/mlc/db/cars.all\r\n",
      "-rw-r--r--  1 AndreasVos  staff    12K Feb 27  2001 www.sgi.com/tech/mlc/db/cars.data\r\n",
      "-rw-r--r--  1 AndreasVos  staff   362B Feb 27  2001 www.sgi.com/tech/mlc/db/cars.names\r\n",
      "-rw-r--r--  1 AndreasVos  staff   5.9K Feb 27  2001 www.sgi.com/tech/mlc/db/cars.test\r\n",
      "-rw-r--r--  1 AndreasVos  staff    15K Feb 27  2001 www.sgi.com/tech/mlc/db/cars1.all\r\n",
      "-rw-r--r--  1 AndreasVos  staff   9.8K Feb 27  2001 www.sgi.com/tech/mlc/db/cars1.data\r\n",
      "-rw-r--r--  1 AndreasVos  staff   366B Feb 27  2001 www.sgi.com/tech/mlc/db/cars1.names\r\n",
      "-rw-r--r--  1 AndreasVos  staff   4.9K Feb 27  2001 www.sgi.com/tech/mlc/db/cars1.test\r\n"
     ]
    }
   ],
   "source": [
    "ls -lh www.sgi.com/tech/mlc/db/cars*"
   ]
  },
  {
   "cell_type": "markdown",
   "metadata": {},
   "source": [
    "# Let's try\n",
    "\n",
    "* Let us just try to read in the data with pandas"
   ]
  },
  {
   "cell_type": "code",
   "execution_count": 3,
   "metadata": {
    "collapsed": false
   },
   "outputs": [
    {
     "name": "stdout",
     "output_type": "stream",
     "text": [
      "(261, 1)\n"
     ]
    },
    {
     "data": {
      "text/html": [
       "<div>\n",
       "<table border=\"1\" class=\"dataframe\">\n",
       "  <thead>\n",
       "    <tr style=\"text-align: right;\">\n",
       "      <th></th>\n",
       "      <th></th>\n",
       "      <th></th>\n",
       "      <th></th>\n",
       "      <th></th>\n",
       "      <th></th>\n",
       "      <th></th>\n",
       "      <th></th>\n",
       "      <th>|1x3 Cross validator</th>\n",
       "    </tr>\n",
       "  </thead>\n",
       "  <tbody>\n",
       "    <tr>\n",
       "      <th>14.0</th>\n",
       "      <th>8</th>\n",
       "      <th>350</th>\n",
       "      <th>165</th>\n",
       "      <th>4209</th>\n",
       "      <th>12</th>\n",
       "      <th>1972</th>\n",
       "      <th>chevrolet</th>\n",
       "      <td>US.</td>\n",
       "    </tr>\n",
       "    <tr>\n",
       "      <th>31.9</th>\n",
       "      <th>4</th>\n",
       "      <th>89</th>\n",
       "      <th>71</th>\n",
       "      <th>1925</th>\n",
       "      <th>14</th>\n",
       "      <th>1980</th>\n",
       "      <th>vw</th>\n",
       "      <td>Europe.</td>\n",
       "    </tr>\n",
       "    <tr>\n",
       "      <th>17.0</th>\n",
       "      <th>8</th>\n",
       "      <th>302</th>\n",
       "      <th>140</th>\n",
       "      <th>3449</th>\n",
       "      <th>11</th>\n",
       "      <th>1971</th>\n",
       "      <th>ford</th>\n",
       "      <td>US.</td>\n",
       "    </tr>\n",
       "    <tr>\n",
       "      <th>15.0</th>\n",
       "      <th>8</th>\n",
       "      <th>400</th>\n",
       "      <th>150</th>\n",
       "      <th>3761</th>\n",
       "      <th>10</th>\n",
       "      <th>1971</th>\n",
       "      <th>chevrolet</th>\n",
       "      <td>US.</td>\n",
       "    </tr>\n",
       "    <tr>\n",
       "      <th>30.5</th>\n",
       "      <th>4</th>\n",
       "      <th>98</th>\n",
       "      <th>63</th>\n",
       "      <th>2051</th>\n",
       "      <th>17</th>\n",
       "      <th>1978</th>\n",
       "      <th>chevrolet</th>\n",
       "      <td>US.</td>\n",
       "    </tr>\n",
       "  </tbody>\n",
       "</table>\n",
       "</div>"
      ],
      "text/plain": [
       "                                       |1x3 Cross validator\n",
       "14.0 8 350 165 4209 12 1972  chevrolet                  US.\n",
       "31.9 4 89  71  1925 14 1980  vw                     Europe.\n",
       "17.0 8 302 140 3449 11 1971  ford                       US.\n",
       "15.0 8 400 150 3761 10 1971  chevrolet                  US.\n",
       "30.5 4 98  63  2051 17 1978  chevrolet                  US."
      ]
     },
     "execution_count": 3,
     "metadata": {},
     "output_type": "execute_result"
    }
   ],
   "source": [
    "carsdf= pd.read_csv('www.sgi.com/tech/mlc/db/cars.data')\n",
    "print carsdf.shape\n",
    "carsdf.head()"
   ]
  },
  {
   "cell_type": "markdown",
   "metadata": {},
   "source": [
    "* That does not look good. \n",
    "* Let's check out the file. In linux we can do that using `head` or `cat`: these commands just print the file to the terminal.\n",
    "\n",
    "### What do we learn?\n",
    "* first line should go\n",
    "* the file does not have column headers\n",
    "* comma separated (that is good, that is the default in pandas).\n",
    "\n",
    "### How to fix this?\n",
    "* Learn the arguments of `pd.read_csv` by running `pd.read_csv?`\n",
    "* Only use Google if the manual that you can access does not give you the information"
   ]
  },
  {
   "cell_type": "code",
   "execution_count": 4,
   "metadata": {
    "collapsed": false
   },
   "outputs": [
    {
     "name": "stdout",
     "output_type": "stream",
     "text": [
      "|1x3 Cross validator\r\n",
      "14, 8, 350, 165, 4209, 12, 1972, chevrolet, US.\r\n",
      "31.9, 4, 89, 71, 1925, 14, 1980, vw, Europe.\r\n",
      "17, 8, 302, 140, 3449, 11, 1971, ford, US.\r\n",
      "15, 8, 400, 150, 3761, 10, 1971, chevrolet, US.\r\n",
      "30.5, 4, 98, 63, 2051, 17, 1978, chevrolet, US.\r\n",
      "23, 8, 350, 125, 3900, 17, 1980, cadillac, US.\r\n",
      "13, 8, 351, 158, 4363, 13, 1974, ford, US.\r\n",
      "14, 8, 440, 215, 4312, 9, 1971, plymouth, US.\r\n",
      "25.4, 5, 183, 77, 3530, 20, 1980, mercedes, Europe.\r\n"
     ]
    }
   ],
   "source": [
    "!head www.sgi.com/tech/mlc/db/cars.data"
   ]
  },
  {
   "cell_type": "code",
   "execution_count": 5,
   "metadata": {
    "collapsed": false
   },
   "outputs": [
    {
     "data": {
      "text/html": [
       "<div>\n",
       "<table border=\"1\" class=\"dataframe\">\n",
       "  <thead>\n",
       "    <tr style=\"text-align: right;\">\n",
       "      <th></th>\n",
       "      <th>mpg</th>\n",
       "      <th>cylinders</th>\n",
       "      <th>cubicinches</th>\n",
       "      <th>hp</th>\n",
       "      <th>no_idea</th>\n",
       "      <th>no_idea2</th>\n",
       "      <th>year</th>\n",
       "      <th>brand</th>\n",
       "      <th>country</th>\n",
       "    </tr>\n",
       "  </thead>\n",
       "  <tbody>\n",
       "    <tr>\n",
       "      <th>0</th>\n",
       "      <td>14.0</td>\n",
       "      <td>8</td>\n",
       "      <td>350</td>\n",
       "      <td>165</td>\n",
       "      <td>4209</td>\n",
       "      <td>12</td>\n",
       "      <td>1972</td>\n",
       "      <td>chevrolet</td>\n",
       "      <td>US.</td>\n",
       "    </tr>\n",
       "    <tr>\n",
       "      <th>1</th>\n",
       "      <td>31.9</td>\n",
       "      <td>4</td>\n",
       "      <td>89</td>\n",
       "      <td>71</td>\n",
       "      <td>1925</td>\n",
       "      <td>14</td>\n",
       "      <td>1980</td>\n",
       "      <td>vw</td>\n",
       "      <td>Europe.</td>\n",
       "    </tr>\n",
       "    <tr>\n",
       "      <th>2</th>\n",
       "      <td>17.0</td>\n",
       "      <td>8</td>\n",
       "      <td>302</td>\n",
       "      <td>140</td>\n",
       "      <td>3449</td>\n",
       "      <td>11</td>\n",
       "      <td>1971</td>\n",
       "      <td>ford</td>\n",
       "      <td>US.</td>\n",
       "    </tr>\n",
       "    <tr>\n",
       "      <th>3</th>\n",
       "      <td>15.0</td>\n",
       "      <td>8</td>\n",
       "      <td>400</td>\n",
       "      <td>150</td>\n",
       "      <td>3761</td>\n",
       "      <td>10</td>\n",
       "      <td>1971</td>\n",
       "      <td>chevrolet</td>\n",
       "      <td>US.</td>\n",
       "    </tr>\n",
       "    <tr>\n",
       "      <th>4</th>\n",
       "      <td>30.5</td>\n",
       "      <td>4</td>\n",
       "      <td>98</td>\n",
       "      <td>63</td>\n",
       "      <td>2051</td>\n",
       "      <td>17</td>\n",
       "      <td>1978</td>\n",
       "      <td>chevrolet</td>\n",
       "      <td>US.</td>\n",
       "    </tr>\n",
       "  </tbody>\n",
       "</table>\n",
       "</div>"
      ],
      "text/plain": [
       "    mpg  cylinders  cubicinches   hp  no_idea  no_idea2  year       brand  \\\n",
       "0  14.0          8          350  165     4209        12  1972   chevrolet   \n",
       "1  31.9          4           89   71     1925        14  1980          vw   \n",
       "2  17.0          8          302  140     3449        11  1971        ford   \n",
       "3  15.0          8          400  150     3761        10  1971   chevrolet   \n",
       "4  30.5          4           98   63     2051        17  1978   chevrolet   \n",
       "\n",
       "    country  \n",
       "0       US.  \n",
       "1   Europe.  \n",
       "2       US.  \n",
       "3       US.  \n",
       "4       US.  "
      ]
     },
     "execution_count": 5,
     "metadata": {},
     "output_type": "execute_result"
    }
   ],
   "source": [
    "carsdf= pd.read_csv('www.sgi.com/tech/mlc/db/cars.data', skiprows=1, \n",
    "                    names=['mpg','cylinders','cubicinches','hp','no_idea','no_idea2','year','brand','country'])\n",
    "carsdf.head()"
   ]
  },
  {
   "cell_type": "code",
   "execution_count": 6,
   "metadata": {
    "collapsed": false
   },
   "outputs": [
    {
     "data": {
      "text/html": [
       "<div>\n",
       "<table border=\"1\" class=\"dataframe\">\n",
       "  <thead>\n",
       "    <tr style=\"text-align: right;\">\n",
       "      <th></th>\n",
       "      <th>mpg</th>\n",
       "      <th>cylinders</th>\n",
       "      <th>cubicinches</th>\n",
       "      <th>hp</th>\n",
       "      <th>no_idea</th>\n",
       "      <th>no_idea2</th>\n",
       "      <th>year</th>\n",
       "    </tr>\n",
       "  </thead>\n",
       "  <tbody>\n",
       "    <tr>\n",
       "      <th>count</th>\n",
       "      <td>261.000000</td>\n",
       "      <td>261.000000</td>\n",
       "      <td>261.000000</td>\n",
       "      <td>261.000000</td>\n",
       "      <td>261.000000</td>\n",
       "      <td>261.000000</td>\n",
       "      <td>261.000000</td>\n",
       "    </tr>\n",
       "    <tr>\n",
       "      <th>mean</th>\n",
       "      <td>23.144828</td>\n",
       "      <td>5.590038</td>\n",
       "      <td>201.103448</td>\n",
       "      <td>106.360153</td>\n",
       "      <td>3005.490421</td>\n",
       "      <td>15.547893</td>\n",
       "      <td>1976.819923</td>\n",
       "    </tr>\n",
       "    <tr>\n",
       "      <th>std</th>\n",
       "      <td>7.823570</td>\n",
       "      <td>1.733310</td>\n",
       "      <td>108.879683</td>\n",
       "      <td>40.499959</td>\n",
       "      <td>852.645596</td>\n",
       "      <td>2.910625</td>\n",
       "      <td>3.637696</td>\n",
       "    </tr>\n",
       "    <tr>\n",
       "      <th>min</th>\n",
       "      <td>10.000000</td>\n",
       "      <td>3.000000</td>\n",
       "      <td>68.000000</td>\n",
       "      <td>46.000000</td>\n",
       "      <td>1613.000000</td>\n",
       "      <td>8.000000</td>\n",
       "      <td>1971.000000</td>\n",
       "    </tr>\n",
       "    <tr>\n",
       "      <th>25%</th>\n",
       "      <td>16.900000</td>\n",
       "      <td>4.000000</td>\n",
       "      <td>101.000000</td>\n",
       "      <td>75.000000</td>\n",
       "      <td>2246.000000</td>\n",
       "      <td>14.000000</td>\n",
       "      <td>1974.000000</td>\n",
       "    </tr>\n",
       "    <tr>\n",
       "      <th>50%</th>\n",
       "      <td>22.000000</td>\n",
       "      <td>6.000000</td>\n",
       "      <td>156.000000</td>\n",
       "      <td>95.000000</td>\n",
       "      <td>2835.000000</td>\n",
       "      <td>16.000000</td>\n",
       "      <td>1977.000000</td>\n",
       "    </tr>\n",
       "    <tr>\n",
       "      <th>75%</th>\n",
       "      <td>28.800000</td>\n",
       "      <td>8.000000</td>\n",
       "      <td>302.000000</td>\n",
       "      <td>138.000000</td>\n",
       "      <td>3664.000000</td>\n",
       "      <td>17.000000</td>\n",
       "      <td>1980.000000</td>\n",
       "    </tr>\n",
       "    <tr>\n",
       "      <th>max</th>\n",
       "      <td>46.600000</td>\n",
       "      <td>8.000000</td>\n",
       "      <td>455.000000</td>\n",
       "      <td>230.000000</td>\n",
       "      <td>4997.000000</td>\n",
       "      <td>25.000000</td>\n",
       "      <td>1983.000000</td>\n",
       "    </tr>\n",
       "  </tbody>\n",
       "</table>\n",
       "</div>"
      ],
      "text/plain": [
       "              mpg   cylinders  cubicinches          hp      no_idea  \\\n",
       "count  261.000000  261.000000   261.000000  261.000000   261.000000   \n",
       "mean    23.144828    5.590038   201.103448  106.360153  3005.490421   \n",
       "std      7.823570    1.733310   108.879683   40.499959   852.645596   \n",
       "min     10.000000    3.000000    68.000000   46.000000  1613.000000   \n",
       "25%     16.900000    4.000000   101.000000   75.000000  2246.000000   \n",
       "50%     22.000000    6.000000   156.000000   95.000000  2835.000000   \n",
       "75%     28.800000    8.000000   302.000000  138.000000  3664.000000   \n",
       "max     46.600000    8.000000   455.000000  230.000000  4997.000000   \n",
       "\n",
       "         no_idea2         year  \n",
       "count  261.000000   261.000000  \n",
       "mean    15.547893  1976.819923  \n",
       "std      2.910625     3.637696  \n",
       "min      8.000000  1971.000000  \n",
       "25%     14.000000  1974.000000  \n",
       "50%     16.000000  1977.000000  \n",
       "75%     17.000000  1980.000000  \n",
       "max     25.000000  1983.000000  "
      ]
     },
     "execution_count": 6,
     "metadata": {},
     "output_type": "execute_result"
    }
   ],
   "source": [
    "carsdf.describe()"
   ]
  },
  {
   "cell_type": "markdown",
   "metadata": {},
   "source": [
    "# Missing values\n",
    "\n",
    "In the book they perform the following techniques on missing values:\n",
    "\n",
    "1. Replace the missing value with some constant, specified by the analyst.\n",
    "2. Replace the missing value with the field mean (for numerical variables) or the mode (for categorical variables).\n",
    "3. Replace the missing values with a value generated at random from the variable distribution observed.\n",
    "\n",
    "### How to do that in pandas?\n",
    "\n",
    "* See <http://pandas.pydata.org/pandas-docs/stable/missing_data.html>\n",
    "\n",
    "* [How do missing values look like?](http://pandas.pydata.org/pandas-docs/stable/missing_data.html#values-considered-missing) Easy, like `NaN` or `None`. \n",
    "* How to check for missing values?\n",
    "    * **Your turn** Figure out what `carsdf.isnull()` and `.notnull()` are doing. You can ask pandas of course using `carsdf.isnull?`. Now what is `carsdf.year.notnull()`, and what does it say? And what about `carsdf.isnull().mean()` and `carsdf.notnull().mean()`? What do they say?\n",
    "    * **Your turn 2** Create out of our cars file a file _with the same missing data as in the book_, and then experiment with the same commands.\n",
    "* [Cleaning and filling missing data](http://pandas.pydata.org/pandas-docs/stable/missing_data.html#cleaning-filling-missing-data) \n",
    "    * **Your turn** Find out how to replace missing values with a constant\n",
    "        * everywhere with the same constant\n",
    "        * just for one or a few specified columns\n",
    "    * **Your turn** Find out how to replace missing values with the columns mean\n",
    "        * everywhere  \n",
    "        * just for one or a few specified columns\n",
    "    * **Your turn** Find out how to replace missing values with a random value from the column\n",
    "        * all missing values in a column with the same random value is easy.\n",
    "        * can you do it when picking a new random value for every missing value?\n",
    "        *  Try the `random` module and consider a command like `carsdf.year.values`\n",
    "        \n",
    "        \n",
    "### Pandas can do much more\n",
    "\n",
    "Continue reading  <http://pandas.pydata.org/pandas-docs/stable/missing_data.html> and you learn great things about missing value handling in Pandas. Also the value normalization using regular expressions and `replace` is very useful."
   ]
  },
  {
   "cell_type": "code",
   "execution_count": 7,
   "metadata": {
    "collapsed": false
   },
   "outputs": [
    {
     "data": {
      "text/plain": [
       "0         US\n",
       "1     Europe\n",
       "2         US\n",
       "3         US\n",
       "4         US\n",
       "Name: country, dtype: object"
      ]
     },
     "execution_count": 7,
     "metadata": {},
     "output_type": "execute_result"
    }
   ],
   "source": [
    "carsdf.country.str.replace('.','').head()"
   ]
  },
  {
   "cell_type": "code",
   "execution_count": 8,
   "metadata": {
    "collapsed": false
   },
   "outputs": [
    {
     "data": {
      "text/plain": [
       "0         USA\n",
       "1     Europe.\n",
       "2         USA\n",
       "3         USA\n",
       "4         USA\n",
       "Name: country, dtype: object"
      ]
     },
     "execution_count": 8,
     "metadata": {},
     "output_type": "execute_result"
    }
   ],
   "source": [
    "carsdf.country.str.replace(r'U.*','USA').head()"
   ]
  },
  {
   "cell_type": "markdown",
   "metadata": {},
   "source": [
    "# IDENTIFYING MISCLASSIFICATIONS\n",
    "\n",
    "### Get a histogram of the values in a column"
   ]
  },
  {
   "cell_type": "code",
   "execution_count": 9,
   "metadata": {
    "collapsed": false
   },
   "outputs": [
    {
     "data": {
      "text/plain": [
       " US.        162\n",
       " Japan.      51\n",
       " Europe.     48\n",
       "Name: country, dtype: int64"
      ]
     },
     "execution_count": 9,
     "metadata": {},
     "output_type": "execute_result"
    }
   ],
   "source": [
    "# Get a histogram of the values in a column\n",
    "\n",
    "carsdf.country.value_counts()"
   ]
  },
  {
   "cell_type": "code",
   "execution_count": 10,
   "metadata": {
    "collapsed": false
   },
   "outputs": [
    {
     "data": {
      "image/png": "[encoded data removed]",
      "text/plain": [
       "<matplotlib.figure.Figure at 0x1156f3a10>"
      ]
     },
     "metadata": {},
     "output_type": "display_data"
    }
   ],
   "source": [
    "carsdf.country.value_counts().plot(kind='barh');"
   ]
  },
  {
   "cell_type": "code",
   "execution_count": 11,
   "metadata": {
    "collapsed": false
   },
   "outputs": [
    {
     "data": {
      "text/plain": [
       "<pandas.tools.plotting.SeriesPlotMethods object at 0x115820e10>"
      ]
     },
     "execution_count": 11,
     "metadata": {},
     "output_type": "execute_result"
    }
   ],
   "source": [
    "carsdf.country.value_counts().plot"
   ]
  },
  {
   "cell_type": "code",
   "execution_count": 12,
   "metadata": {
    "collapsed": false
   },
   "outputs": [
    {
     "data": {
      "text/plain": [
       "1974    35\n",
       "1977    26\n",
       "1971    23\n",
       "1976    22\n",
       "1980    21\n",
       "1979    21\n",
       "1982    18\n",
       "1981    18\n",
       "1978    18\n",
       "1983    16\n",
       "1973    16\n",
       "1972    15\n",
       "1975    12\n",
       "Name: year, dtype: int64"
      ]
     },
     "execution_count": 12,
     "metadata": {},
     "output_type": "execute_result"
    }
   ],
   "source": [
    "carsdf.year.value_counts()"
   ]
  },
  {
   "cell_type": "code",
   "execution_count": 13,
   "metadata": {
    "collapsed": false
   },
   "outputs": [
    {
     "data": {
      "image/png": "[encoded data removed]",
      "text/plain": [
       "<matplotlib.figure.Figure at 0x115820090>"
      ]
     },
     "metadata": {},
     "output_type": "display_data"
    }
   ],
   "source": [
    "carsdf.year.value_counts().plot(kind ='bar');"
   ]
  },
  {
   "cell_type": "code",
   "execution_count": 14,
   "metadata": {
    "collapsed": false
   },
   "outputs": [
    {
     "name": "stdout",
     "output_type": "stream",
     "text": [
      "count     261.000000\n",
      "mean     1976.819923\n",
      "std         3.637696\n",
      "min      1971.000000\n",
      "25%      1974.000000\n",
      "50%      1977.000000\n",
      "75%      1980.000000\n",
      "max      1983.000000\n",
      "Name: year, dtype: float64\n"
     ]
    },
    {
     "data": {
      "image/png": "[encoded data removed]",
      "text/plain": [
       "<matplotlib.figure.Figure at 0x118b3e190>"
      ]
     },
     "metadata": {},
     "output_type": "display_data"
    }
   ],
   "source": [
    "carsdf.year.value_counts().sort_index().plot(kind ='bar');\n",
    "print carsdf.year.describe()"
   ]
  },
  {
   "cell_type": "markdown",
   "metadata": {},
   "source": [
    "# Your turn\n",
    "\n",
    "* Reproduce figure 2.5\n"
   ]
  },
  {
   "cell_type": "markdown",
   "metadata": {},
   "source": [
    "# Scatter plots\n",
    "\n",
    "* **Your turn**: try to reproduce Figure 2.6.\n",
    "* I could not find those outliers in the given datasets....\n",
    "* Experiment with the extra parameters that you can give. Try to add those arrows as well. "
   ]
  },
  {
   "cell_type": "code",
   "execution_count": 15,
   "metadata": {
    "collapsed": false
   },
   "outputs": [
    {
     "data": {
      "image/png": "[encoded data removed]",
      "text/plain": [
       "<matplotlib.figure.Figure at 0x118bd66d0>"
      ]
     },
     "metadata": {},
     "output_type": "display_data"
    }
   ],
   "source": [
    "carsdf.plot.scatter(x='no_idea',y='mpg', title='Scatterplot');\n"
   ]
  },
  {
   "cell_type": "code",
   "execution_count": 16,
   "metadata": {
    "collapsed": false
   },
   "outputs": [
    {
     "data": {
      "image/png": "[encoded data removed]",
      "text/plain": [
       "<matplotlib.figure.Figure at 0x11acd53d0>"
      ]
     },
     "metadata": {},
     "output_type": "display_data"
    }
   ],
   "source": [
    "# Simply adding a regression line\n",
    "\n",
    "import seaborn as sns\n",
    "sns.lmplot(x='no_idea',y='mpg',data=carsdf,fit_reg=True);"
   ]
  },
  {
   "cell_type": "code",
   "execution_count": 17,
   "metadata": {
    "collapsed": false
   },
   "outputs": [
    {
     "data": {
      "image/png": "[encoded data removed]",
      "text/plain": [
       "<matplotlib.figure.Figure at 0x118f97750>"
      ]
     },
     "metadata": {},
     "output_type": "display_data"
    }
   ],
   "source": [
    "carsdf2= pd.read_csv('www.sgi.com/tech/mlc/db/cars.all',   \n",
    "                    names=['mpg','cylinders','cubicinches','hp','no_idea','no_idea2','year','brand','country'])\n",
    "sns.lmplot(x='no_idea',y='mpg',data=carsdf2,fit_reg=True);"
   ]
  },
  {
   "cell_type": "markdown",
   "metadata": {},
   "source": [
    "# DATA TRANSFORMATION\n",
    "\n",
    "### Your turn\n",
    "* Reproduce Figure 2.7\n",
    "\n"
   ]
  },
  {
   "cell_type": "markdown",
   "metadata": {},
   "source": [
    "## Min–Max Normalization\n",
    "\n",
    "* Here we show how easy you program min-max normalization in pandas.\n",
    "\n",
    "* **Your turn**: do the same but now for **time-to-60**"
   ]
  },
  {
   "cell_type": "code",
   "execution_count": 18,
   "metadata": {
    "collapsed": false
   },
   "outputs": [
    {
     "name": "stdout",
     "output_type": "stream",
     "text": [
      "count    392.000000\n",
      "mean       0.384200\n",
      "std        0.207580\n",
      "min        0.000000\n",
      "25%        0.212766\n",
      "50%        0.365691\n",
      "75%        0.531915\n",
      "max        1.000000\n",
      "Name: mpg, dtype: float64\n"
     ]
    },
    {
     "data": {
      "image/png": "[encoded data removed]",
      "text/plain": [
       "<matplotlib.figure.Figure at 0x1190e4590>"
      ]
     },
     "metadata": {},
     "output_type": "display_data"
    }
   ],
   "source": [
    "df= carsdf2.mpg\n",
    "\n",
    "dfnorm=(df - df.min()) / (df.max() - df.min())\n",
    "\n",
    "print dfnorm.describe()\n",
    "\n",
    "dfnorm.plot();"
   ]
  },
  {
   "cell_type": "markdown",
   "metadata": {},
   "source": [
    "## Z-Score Standardization\n",
    "\n",
    "* **Your turn**\n",
    "    * Compute the Z score normalization for _time to 60_\n",
    "    * reproduce Figure 2.8 \n",
    "* **Hint** Use df. TAB to see which methods exist for a series or a dataframe. Maybe the method for the mean of a column is called ...."
   ]
  },
  {
   "cell_type": "markdown",
   "metadata": {},
   "source": [
    "# Your turn\n",
    "\n",
    "Make all exercises from Chapter 2.\n",
    "\n",
    "\n",
    "\n",
    "1. Describethepossiblenegativeeffectsofproceedingdirectlytominedatathathasnotbeen preprocessed.\n",
    "2. Find the mean value for the income attribute of the five customers in Table 2.1 before preprocessing. What does this number actually mean? Calculate the mean income for the three values left after preprocessing. Does this value have a meaning?\n",
    "3. Which of the three methods from Figures 2.2 to 2.4 do you prefer for handling missing\n",
    "values?\n",
    "a. Which method is the most conservative and probably the safest, meaning that it fabri- cates the least amount of data? What are some drawbacks to this method?\n",
    "b. Which method would tend to lead to an underestimate of the spread (e.g., standard deviation) of the variable? What are some benefits to this method?\n",
    "c. What are some benefits and drawbacks of the method that chooses values at random from the variable distribution?\n",
    "4. Make up a classification scheme that is inherently flawed and would lead to misclassifi- cation, as we find in Table 2.2: for example, classes of items bought in a grocery store.\n",
    "5. Make up a data set consisting of eight scores on an exam in which one of the scores is an outlier.\n",
    "a. Find the mean score and the median score, with and without the outlier.\n",
    "b. State which measure, the mean or the median, the presence of the outlier affects more,\n",
    "and why. (Mean, median, and other statistics are explained in Chapter 4.)\n",
    "c. Verify that the outlier is indeed an outlier, using the IQR method.\n",
    "6. Make up a data set, consisting of the heights and weights of six children, in which one of the children, but not the other, is an outlier with respect to one of the variables. Then alter this data set so that the child is an outlier with respect to both variables.\n",
    "7. UsingyourdatasetfromExercise5,findthemin–maxnormalizationofthescores.Verify that each value lies between zero and \n",
    "\n",
    "## Hands-on Analysis\n",
    "Use the churn data set at the book series Web site for the following exercises.\n",
    "\n",
    "8. Explore whether there are missing values for any of the variables.\n",
    "9. Compare the area code and state fields. Discuss any apparent abnormalities.\n",
    "10. Use a graph to determine visually whether there are any outliers among the number of calls to customer service.\n",
    "11. Transform the day minutes attribute using min–max normalization. Verify using a graph that all values lie between zero and 1.\n",
    "12. Transform the night minutes attribute using Z-score standardization. Using a graph, de- scribe the range of the standardized values."
   ]
  },
  {
   "cell_type": "markdown",
   "metadata": {},
   "source": [
    "Question 1 \n",
    "\n",
    "The data could be in the wrong format, there could be empty values or not wel coded special caracters. Maybe you don't need anything and that will cost computational power"
   ]
  },
  {
   "cell_type": "code",
   "execution_count": null,
   "metadata": {
    "collapsed": true
   },
   "outputs": [],
   "source": [
    "#Question 2\n",
    "#Find the mean value for the income attribute of the five customers in Table 2.1 before preprocessing. \n",
    "#What does this number actually mean? \n",
    "#Calculate the mean income for the three values left after preprocessing. Does this value have a meaning?\n",
    "\n",
    "\n"
   ]
  }
 ],
 "metadata": {
  "kernelspec": {
   "display_name": "Python 2",
   "language": "python",
   "name": "python2"
  },
  "language_info": {
   "codemirror_mode": {
    "name": "ipython",
    "version": 2
   },
   "file_extension": ".py",
   "mimetype": "text/x-python",
   "name": "python",
   "nbconvert_exporter": "python",
   "pygments_lexer": "ipython2",
   "version": "2.7.13"
  }
 },
 "nbformat": 4,
 "nbformat_minor": 0
}
