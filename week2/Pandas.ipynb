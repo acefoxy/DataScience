{
 "cells": [
  {
   "cell_type": "markdown",
   "metadata": {
    "slideshow": {
     "slide_type": "slide"
    }
   },
   "source": [
    "# Pandas\n",
    "\n",
    "In this lesson we will get familiar with [pandas](http://pandas.pydata.org/), the python module for doing data analysis on spreadsheet formatted data.\n",
    "\n",
    "## Literature\n",
    "\n",
    "* all sections called _using pandas_ from Learning IPython\n",
    "* [Pandas cookbook](https://github.com/jvns/pandas-cookbook)\n",
    "\n",
    "### Further literature\n",
    "* Optional : [Python for Data Analysis](http://shop.oreilly.com/product/0636920023784.do)\n",
    "* Pandas manual: <http://pandas.pydata.org/>\n",
    "* [Pandas intro video](http://vimeo.com/59324550)\n",
    "    * [view the notebook](http://nbviewer.ipython.org/urls/gist.github.com/wesm/4757075/raw/a72d3450ad4924d0e74fb57c9f62d1d895ea4574/PandasTour.ipynb)\n",
    "    * [ get the notebook](https://gist.github.com/wesm/4757075/raw/a72d3450ad4924d0e74fb57c9f62d1d895ea4574/PandasTour.ipynb)\n",
    "* [Plotting with Pandas](http://nbviewer.ipython.org/gist/fonnesbeck/5850463)    \n",
    "* Plotly, really cool interactive plots coupled to pandas data. [Example on NYC 301 calls data](http://nbviewer.ipython.org/gist/chriddyp/9827cb5086cfab8da092/Pandas%20Widget%20-%20Time%20Series,%20Search,%20and%20Filtering.ipynb) [Collection of notebooks with examples](http://nbviewer.ipython.org/gist/chriddyp/9827cb5086cfab8da092)"
   ]
  },
  {
   "cell_type": "markdown",
   "metadata": {
    "slideshow": {
     "slide_type": "slide"
    }
   },
   "source": [
    "# [What problem does pandas solve?](http://pandas.pydata.org/#what-problem-does-pandas-solve)\n",
    "\n",
    "Python has long been great for data munging and preparation, but less so for data analysis and modeling. pandas helps fill this gap, enabling you to carry out your entire data analysis workflow in Python without having to switch to a more domain specific language like R.\n",
    "\n",
    "Combined with the excellent IPython toolkit and other libraries, the environment for doing data analysis in Python excels in performance, productivity, and the ability to collaborate.\n",
    "\n",
    "pandas does not implement significant modeling functionality outside of linear and panel regression; for this, look to statsmodels and scikit-learn. More work is still needed to make Python a first class statistical modeling environment, but we are well on our way toward that goal."
   ]
  },
  {
   "cell_type": "markdown",
   "metadata": {
    "slideshow": {
     "slide_type": "slide"
    }
   },
   "source": [
    "<a id='as'></a>\n",
    "# Assignment \n",
    "\n",
    "\n",
    "### Warm up\n",
    "1. Download the local version <http://maartenmarx.nl/teaching/DataScience/NoteBooks/pandas-cookbook/> of the cookbook at <https://github.com/jvns/pandas-cookbook>\n",
    "    1. This local version has some extra warm up exercises added for you.\n",
    "    1. Go through all of the cookbooks.\n",
    "    1. See if you learn new things that you can apply with your speeches data set. If so, apply them.\n",
    "1. Do all applicable  steps in <http://pandas.pydata.org/pandas-docs/stable/10min.html> with the spreadsheet <https://www.google.com/fusiontables/DataSource?docid=1Fvqz160uqX-f7Neow_PZmMfeRH9PA1oKpIB18us#rows:id=1>. Make sure you download all 1000 rows in the spreadsheet. \n",
    "    1.   Record all your steps in a notebook, with a similar structure as the 10 minutes tutorial.  \n",
    "    \n",
    " "
   ]
  },
  {
   "cell_type": "markdown",
   "metadata": {
    "slideshow": {
     "slide_type": "slide"
    }
   },
   "source": [
    "# Pandas datastructures\n",
    "\n",
    "## Main reference\n",
    "\n",
    "* <http://pandas.pydata.org/pandas-docs/stable/dsintro.html>\n",
    "* Two main structures: Series and Dataframe"
   ]
  },
  {
   "cell_type": "markdown",
   "metadata": {
    "slideshow": {
     "slide_type": "slide"
    }
   },
   "source": [
    "### [Series](http://pandas.pydata.org/pandas-docs/stable/dsintro.html#series)\n",
    "\n",
    "* Series is a one-dimensional labeled array capable of holding any data type (integers, strings, floating point numbers, Python objects, etc.). The axis labels are collectively referred to as the index. \n",
    "* See [examples](#Series) below\n",
    "* You can do all kind of vector operations with series: <http://pandas.pydata.org/pandas-docs/stable/dsintro.html#vectorized-operations-and-label-alignment-with-series>"
   ]
  },
  {
   "cell_type": "markdown",
   "metadata": {
    "slideshow": {
     "slide_type": "slide"
    }
   },
   "source": [
    "### [Dataframe](http://pandas.pydata.org/pandas-docs/stable/dsintro.html#dataframe)\n",
    "\n",
    "* DataFrame is a 2-dimensional labeled data structure with columns of potentially different types. You can think of it like a spreadsheet or SQL table, or a dict of Series objects. It is generally the most commonly used pandas object. \n",
    "* See examples below\n",
    "* You can do all kind of matrix operations on dataframes: <http://pandas.pydata.org/pandas-docs/stable/10min.html#operations>"
   ]
  },
  {
   "cell_type": "markdown",
   "metadata": {
    "slideshow": {
     "slide_type": "slide"
    }
   },
   "source": [
    "### Selection and projection in Pandas\n",
    "\n",
    "* Taking a subset of the columns and/or the rows\n",
    "* <http://pandas.pydata.org/pandas-docs/stable/dsintro.html#indexing-selection>\n",
    "* Examples below"
   ]
  },
  {
   "cell_type": "markdown",
   "metadata": {
    "slideshow": {
     "slide_type": "slide"
    }
   },
   "source": [
    "# Switch to interactive notebook"
   ]
  },
  {
   "cell_type": "code",
   "execution_count": 3,
   "metadata": {
    "collapsed": false,
    "slideshow": {
     "slide_type": "slide"
    }
   },
   "outputs": [
    {
     "name": "stderr",
     "output_type": "stream",
     "text": [
      "//anaconda/lib/python2.7/site-packages/IPython/core/interactiveshell.py:2881: FutureWarning: \n",
      "mpl_style had been deprecated and will be removed in a future version.\n",
      "Use `matplotlib.pyplot.style.use` instead.\n",
      "\n",
      "  exec(code_obj, self.user_global_ns, self.user_ns)\n"
     ]
    }
   ],
   "source": [
    "%matplotlib inline \n",
    "import pandas as pd\n",
    "import numpy as np\n",
    "import matplotlib.pyplot as plt\n",
    "import seaborn\n",
    "randn = np.random.randn\n",
    "\n",
    "pd.set_option('display.mpl_style', 'default') # Make the graphs a bit prettier\n",
    "plt.rcParams['figure.figsize'] = (15, 5)\n"
   ]
  },
  {
   "cell_type": "markdown",
   "metadata": {
    "slideshow": {
     "slide_type": "slide"
    }
   },
   "source": [
    "## [Series](id:se)"
   ]
  },
  {
   "cell_type": "code",
   "execution_count": 4,
   "metadata": {
    "collapsed": false
   },
   "outputs": [
    {
     "data": {
      "text/plain": [
       "a   -0.408387\n",
       "b    0.786442\n",
       "c   -0.457831\n",
       "d   -0.732644\n",
       "e   -0.675145\n",
       "dtype: float64"
      ]
     },
     "execution_count": 4,
     "metadata": {},
     "output_type": "execute_result"
    }
   ],
   "source": [
    "s = pd.Series(randn(5) , index=['a', 'b', 'c', 'd', 'e'])\n",
    "s"
   ]
  },
  {
   "cell_type": "code",
   "execution_count": 5,
   "metadata": {
    "collapsed": false
   },
   "outputs": [
    {
     "data": {
      "text/plain": [
       "-0.40838714443008473"
      ]
     },
     "execution_count": 5,
     "metadata": {},
     "output_type": "execute_result"
    }
   ],
   "source": [
    "s['a']"
   ]
  },
  {
   "cell_type": "code",
   "execution_count": 6,
   "metadata": {
    "collapsed": false
   },
   "outputs": [
    {
     "data": {
      "text/plain": [
       "-0.45783137861145989"
      ]
     },
     "execution_count": 6,
     "metadata": {},
     "output_type": "execute_result"
    }
   ],
   "source": [
    "s[2]"
   ]
  },
  {
   "cell_type": "code",
   "execution_count": 7,
   "metadata": {
    "collapsed": false
   },
   "outputs": [
    {
     "data": {
      "text/plain": [
       "array([-0.40838714,  0.78644212, -0.45783138, -0.73264385, -0.67514518])"
      ]
     },
     "execution_count": 7,
     "metadata": {},
     "output_type": "execute_result"
    }
   ],
   "source": [
    "s.values"
   ]
  },
  {
   "cell_type": "code",
   "execution_count": 8,
   "metadata": {
    "collapsed": false
   },
   "outputs": [
    {
     "data": {
      "text/plain": [
       "-0.297513087469787"
      ]
     },
     "execution_count": 8,
     "metadata": {},
     "output_type": "execute_result"
    }
   ],
   "source": [
    "# more information:  (do s.TAB for all methods)\n",
    "s.mean()\n"
   ]
  },
  {
   "cell_type": "code",
   "execution_count": 9,
   "metadata": {
    "collapsed": false
   },
   "outputs": [
    {
     "data": {
      "text/plain": [
       "0.78644211858336599"
      ]
     },
     "execution_count": 9,
     "metadata": {},
     "output_type": "execute_result"
    }
   ],
   "source": [
    "s.max()"
   ]
  },
  {
   "cell_type": "code",
   "execution_count": 10,
   "metadata": {
    "collapsed": false
   },
   "outputs": [
    {
     "data": {
      "text/plain": [
       "0    10\n",
       "1    11\n",
       "2    12\n",
       "3    13\n",
       "4    14\n",
       "dtype: int64"
      ]
     },
     "execution_count": 10,
     "metadata": {},
     "output_type": "execute_result"
    }
   ],
   "source": [
    "baby=pd.Series(range(10,15))\n",
    "baby"
   ]
  },
  {
   "cell_type": "code",
   "execution_count": 11,
   "metadata": {
    "collapsed": false
   },
   "outputs": [
    {
     "data": {
      "text/plain": [
       "0    100\n",
       "1    121\n",
       "2    144\n",
       "3    169\n",
       "4    196\n",
       "dtype: int64"
      ]
     },
     "execution_count": 11,
     "metadata": {},
     "output_type": "execute_result"
    }
   ],
   "source": [
    "baby* baby"
   ]
  },
  {
   "cell_type": "code",
   "execution_count": 12,
   "metadata": {
    "collapsed": false
   },
   "outputs": [
    {
     "data": {
      "text/plain": [
       "219.0"
      ]
     },
     "execution_count": 12,
     "metadata": {},
     "output_type": "execute_result"
    }
   ],
   "source": [
    "((baby * baby )* 1.5).mean()"
   ]
  },
  {
   "cell_type": "code",
   "execution_count": 13,
   "metadata": {
    "collapsed": false
   },
   "outputs": [
    {
     "name": "stdout",
     "output_type": "stream",
     "text": [
      "CPU times: user 213 µs, sys: 131 µs, total: 344 µs\n",
      "Wall time: 537 µs\n"
     ]
    },
    {
     "data": {
      "text/plain": [
       "730"
      ]
     },
     "execution_count": 13,
     "metadata": {},
     "output_type": "execute_result"
    }
   ],
   "source": [
    "%time baby.dot(baby)  # Similarly, the dot method on Series implements dot product:"
   ]
  },
  {
   "cell_type": "markdown",
   "metadata": {
    "slideshow": {
     "slide_type": "slide"
    }
   },
   "source": [
    "**Exercise:** Implement the dot product of s with itself using a for loop and the sum function. You get the same answer?\n",
    "\n",
    "$$ \\Sigma_i (s_i \\cdot s_i) $$"
   ]
  },
  {
   "cell_type": "code",
   "execution_count": 14,
   "metadata": {
    "collapsed": false,
    "slideshow": {
     "slide_type": "slide"
    }
   },
   "outputs": [
    {
     "name": "stdout",
     "output_type": "stream",
     "text": [
      "CPU times: user 73 µs, sys: 9 µs, total: 82 µs\n",
      "Wall time: 73.9 µs\n"
     ]
    },
    {
     "data": {
      "text/plain": [
       "730"
      ]
     },
     "execution_count": 14,
     "metadata": {},
     "output_type": "execute_result"
    }
   ],
   "source": [
    "%time sum(i*i for i in baby)"
   ]
  },
  {
   "cell_type": "markdown",
   "metadata": {},
   "source": [
    "## Now time the differences for big(ger) vectors"
   ]
  },
  {
   "cell_type": "code",
   "execution_count": 15,
   "metadata": {
    "collapsed": true
   },
   "outputs": [],
   "source": [
    "biggirl=pd.Series(range(10**6))"
   ]
  },
  {
   "cell_type": "code",
   "execution_count": 16,
   "metadata": {
    "collapsed": false
   },
   "outputs": [
    {
     "name": "stdout",
     "output_type": "stream",
     "text": [
      "CPU times: user 2.36 ms, sys: 837 µs, total: 3.19 ms\n",
      "Wall time: 1.96 ms\n"
     ]
    },
    {
     "data": {
      "text/plain": [
       "333332833333500000"
      ]
     },
     "execution_count": 16,
     "metadata": {},
     "output_type": "execute_result"
    }
   ],
   "source": [
    "% time biggirl.dot(biggirl)"
   ]
  },
  {
   "cell_type": "code",
   "execution_count": 17,
   "metadata": {
    "collapsed": false
   },
   "outputs": [
    {
     "name": "stdout",
     "output_type": "stream",
     "text": [
      "CPU times: user 348 ms, sys: 31.9 ms, total: 380 ms\n",
      "Wall time: 415 ms\n"
     ]
    },
    {
     "data": {
      "text/plain": [
       "333332833333500000"
      ]
     },
     "execution_count": 17,
     "metadata": {},
     "output_type": "execute_result"
    }
   ],
   "source": [
    "%time sum([i*i for i in biggirl])"
   ]
  },
  {
   "cell_type": "markdown",
   "metadata": {
    "slideshow": {
     "slide_type": "slide"
    }
   },
   "source": [
    "## Dataframe"
   ]
  },
  {
   "cell_type": "code",
   "execution_count": 18,
   "metadata": {
    "collapsed": false
   },
   "outputs": [
    {
     "name": "stdout",
     "output_type": "stream",
     "text": [
      "ls: ../Data/*.csv: No such file or directory\n",
      "cat: ../Data/foo.csv: No such file or directory\n"
     ]
    }
   ],
   "source": [
    "%ls -l ../Data/*.csv\n",
    "%cat ../Data/foo.csv"
   ]
  },
  {
   "cell_type": "code",
   "execution_count": 19,
   "metadata": {
    "collapsed": false
   },
   "outputs": [
    {
     "ename": "IOError",
     "evalue": "[Errno 2] No such file or directory: '../Data/foo.csv'",
     "output_type": "error",
     "traceback": [
      "\u001b[0;31m---------------------------------------------------------------------------\u001b[0m",
      "\u001b[0;31mIOError\u001b[0m                                   Traceback (most recent call last)",
      "\u001b[0;32m<ipython-input-19-164769139920>\u001b[0m in \u001b[0;36m<module>\u001b[0;34m()\u001b[0m\n\u001b[1;32m      1\u001b[0m \u001b[0;31m# reading in a csv file\u001b[0m\u001b[0;34m\u001b[0m\u001b[0;34m\u001b[0m\u001b[0m\n\u001b[0;32m----> 2\u001b[0;31m \u001b[0;32mprint\u001b[0m\u001b[0;34m(\u001b[0m\u001b[0mopen\u001b[0m\u001b[0;34m(\u001b[0m\u001b[0;34m'../Data/foo.csv'\u001b[0m\u001b[0;34m)\u001b[0m\u001b[0;34m.\u001b[0m\u001b[0mread\u001b[0m\u001b[0;34m(\u001b[0m\u001b[0;34m)\u001b[0m\u001b[0;34m)\u001b[0m\u001b[0;34m\u001b[0m\u001b[0m\n\u001b[0m",
      "\u001b[0;31mIOError\u001b[0m: [Errno 2] No such file or directory: '../Data/foo.csv'"
     ]
    }
   ],
   "source": [
    "# reading in a csv file\n",
    "print(open('../Data/foo.csv').read())"
   ]
  },
  {
   "cell_type": "code",
   "execution_count": null,
   "metadata": {
    "collapsed": false
   },
   "outputs": [],
   "source": [
    "pd.read_csv('../Data/foo.csv')"
   ]
  },
  {
   "cell_type": "code",
   "execution_count": null,
   "metadata": {
    "collapsed": true
   },
   "outputs": [],
   "source": []
  },
  {
   "cell_type": "code",
   "execution_count": null,
   "metadata": {
    "collapsed": false
   },
   "outputs": [],
   "source": [
    "# Make date the index and tell pandas date is of datatype date\n",
    "df = pd.read_csv('../Data/foo.csv',  parse_dates=['date'],   index_col='date')\n",
    "df"
   ]
  },
  {
   "cell_type": "code",
   "execution_count": null,
   "metadata": {
    "collapsed": false
   },
   "outputs": [],
   "source": [
    "## Projection : take a subset of the columns\n",
    "df[['B','A']]"
   ]
  },
  {
   "cell_type": "code",
   "execution_count": null,
   "metadata": {
    "collapsed": false
   },
   "outputs": [],
   "source": [
    "df.B.median()"
   ]
  },
  {
   "cell_type": "code",
   "execution_count": null,
   "metadata": {
    "collapsed": false
   },
   "outputs": [],
   "source": [
    "# Selection: take a subset of the rows\n",
    "df"
   ]
  },
  {
   "cell_type": "code",
   "execution_count": null,
   "metadata": {
    "collapsed": false
   },
   "outputs": [],
   "source": [
    "# take one row (use the index name)\n",
    "df.loc['2009-01-02']"
   ]
  },
  {
   "cell_type": "code",
   "execution_count": null,
   "metadata": {
    "collapsed": false
   },
   "outputs": [],
   "source": [
    "# The tricky bit: boolean selection: selecting on values\n",
    "test=df.C >= 3"
   ]
  },
  {
   "cell_type": "code",
   "execution_count": null,
   "metadata": {
    "collapsed": false
   },
   "outputs": [],
   "source": [
    "df[test]"
   ]
  },
  {
   "cell_type": "code",
   "execution_count": null,
   "metadata": {
    "collapsed": false
   },
   "outputs": [],
   "source": [
    "# Now select only those rows for which the Boolean vector returns True\n",
    "\n",
    "df[df['B'] >= 3]"
   ]
  },
  {
   "cell_type": "code",
   "execution_count": null,
   "metadata": {
    "collapsed": false
   },
   "outputs": [],
   "source": [
    "df * 5"
   ]
  },
  {
   "cell_type": "code",
   "execution_count": null,
   "metadata": {
    "collapsed": false
   },
   "outputs": [],
   "source": [
    "df*df"
   ]
  },
  {
   "cell_type": "code",
   "execution_count": null,
   "metadata": {
    "collapsed": false
   },
   "outputs": [],
   "source": [
    "#df*df  this is called broadcasting. \n",
    "\n",
    "df[['B','C']]* df[['B','C']]"
   ]
  },
  {
   "cell_type": "code",
   "execution_count": null,
   "metadata": {
    "collapsed": false
   },
   "outputs": [],
   "source": [
    "df[['B']].plot(kind='barh')\n",
    " "
   ]
  },
  {
   "cell_type": "code",
   "execution_count": null,
   "metadata": {
    "collapsed": false
   },
   "outputs": [],
   "source": [
    "#df.hist()\n",
    "df[['B','C']].hist();"
   ]
  },
  {
   "cell_type": "markdown",
   "metadata": {},
   "source": [
    "## Pandas with  pivot table\n",
    "\n",
    "* Next time ;-)"
   ]
  },
  {
   "cell_type": "markdown",
   "metadata": {},
   "source": [
    "# Pandas in action\n",
    "\n",
    "We will use pandas to see some data about trees in Amsterdam.\n",
    "\n",
    "See <http://www.amsterdamopendata.nl/web/guest/data/?dataset=monumentale_bomen>"
   ]
  },
  {
   "cell_type": "code",
   "execution_count": null,
   "metadata": {
    "collapsed": false
   },
   "outputs": [],
   "source": [
    "# Render our plots inline\n",
    "%matplotlib inline\n",
    "\n",
    "import pandas as pd\n",
    "import matplotlib.pyplot as plt\n",
    "\n",
    "pd.set_option('display.mpl_style', 'default') # Make the graphs a bit prettier\n",
    "plt.rcParams['figure.figsize'] = (15, 5)"
   ]
  },
  {
   "cell_type": "code",
   "execution_count": null,
   "metadata": {
    "collapsed": false
   },
   "outputs": [],
   "source": [
    "bomen_df = pd.read_csv('http://www.amsterdamopendata.nl/web/guest/data/?dataset=monumentale_bomen')\n",
    "bomen_df"
   ]
  },
  {
   "cell_type": "markdown",
   "metadata": {},
   "source": [
    "Reading this file directly from the web does not work. We must download the file by hand, and load it.\n",
    "\n",
    "**WATCH OUT** The file starts with  some strange characters. I had to manually remove the word 'OBJECTNUMMER' from the first row and type it in again in a texteditor. Then the code below worked. So if you download the file yourself: be careful."
   ]
  },
  {
   "cell_type": "code",
   "execution_count": null,
   "metadata": {
    "collapsed": false
   },
   "outputs": [],
   "source": [
    "bomen_df = pd.read_csv('../Data/MONUMENTALE_BOMEN.csv', sep=';' , index_col='OBJECTNUMMER'  )\n",
    " "
   ]
  },
  {
   "cell_type": "code",
   "execution_count": null,
   "metadata": {
    "collapsed": false
   },
   "outputs": [],
   "source": [
    "bomen_df[:3]"
   ]
  },
  {
   "cell_type": "markdown",
   "metadata": {},
   "source": [
    "# Hoeveel bomen zijn er van elke soort?"
   ]
  },
  {
   "cell_type": "code",
   "execution_count": null,
   "metadata": {
    "collapsed": false
   },
   "outputs": [],
   "source": [
    "# Hoeveel bomen zijn er van elke soort?\n",
    "boomsoort= bomen_df[['Boomsoort']]\n",
    " \n",
    "boomsoort.describe()"
   ]
  },
  {
   "cell_type": "code",
   "execution_count": null,
   "metadata": {
    "collapsed": false
   },
   "outputs": [],
   "source": [
    "bomen_df.Boomsoort.str.lower().value_counts().head(10)"
   ]
  },
  {
   "cell_type": "code",
   "execution_count": null,
   "metadata": {
    "collapsed": false
   },
   "outputs": [],
   "source": [
    "bomen_df['Boomsoort'].value_counts().head(20)"
   ]
  },
  {
   "cell_type": "code",
   "execution_count": null,
   "metadata": {
    "collapsed": false
   },
   "outputs": [],
   "source": [
    "bomen_df['Boomsoort'].value_counts()[:10].plot(kind='barh')"
   ]
  },
  {
   "cell_type": "markdown",
   "metadata": {
    "slideshow": {
     "slide_type": "slide"
    }
   },
   "source": [
    "# Jouw beurt: Hoeveel bomen per jaar\n"
   ]
  },
  {
   "cell_type": "code",
   "execution_count": null,
   "metadata": {
    "collapsed": false,
    "slideshow": {
     "slide_type": "slide"
    }
   },
   "outputs": [],
   "source": [
    "bomen_df.Plantjaar.value_counts().plot(kind='bar')  # gesorteerd op aantal\n",
    "#bomen_df.Plantjaar.value_counts().sort_index().plot(kind='bar')  # gesorteerd op jaar\n",
    "#bomen_df.Plantjaar.dropna().astype(int).value_counts().sort_index().plot(kind='bar')  # nu met echte jaartallen ipv reals"
   ]
  },
  {
   "cell_type": "markdown",
   "metadata": {},
   "source": [
    "# Pak alle bomen die geplant zijn na 2000"
   ]
  },
  {
   "cell_type": "code",
   "execution_count": 20,
   "metadata": {
    "collapsed": false
   },
   "outputs": [
    {
     "ename": "NameError",
     "evalue": "name 'bomen_df' is not defined",
     "output_type": "error",
     "traceback": [
      "\u001b[0;31m---------------------------------------------------------------------------\u001b[0m",
      "\u001b[0;31mNameError\u001b[0m                                 Traceback (most recent call last)",
      "\u001b[0;32m<ipython-input-20-1d11bcb01414>\u001b[0m in \u001b[0;36m<module>\u001b[0;34m()\u001b[0m\n\u001b[0;32m----> 1\u001b[0;31m \u001b[0mbomen_df\u001b[0m\u001b[0;34m[\u001b[0m\u001b[0;34m'Plantjaar'\u001b[0m\u001b[0;34m]\u001b[0m \u001b[0;34m>=\u001b[0m \u001b[0;36m2000\u001b[0m\u001b[0;34m\u001b[0m\u001b[0m\n\u001b[0m",
      "\u001b[0;31mNameError\u001b[0m: name 'bomen_df' is not defined"
     ]
    }
   ],
   "source": [
    "bomen_df['Plantjaar'] >= 2000"
   ]
  },
  {
   "cell_type": "code",
   "execution_count": null,
   "metadata": {
    "collapsed": false
   },
   "outputs": [],
   "source": [
    "# Pak alle bomen geplant vanaf 2000, en laat alleen de plantjaar en boomsoort kolommen zien\n",
    "bomen_df[bomen_df['Plantjaar'] >= 2000][['Plantjaar','Boomsoort']]"
   ]
  },
  {
   "cell_type": "markdown",
   "metadata": {},
   "source": [
    "# Welke boomsoorten groeien het snelst?\n",
    "\n",
    "* We hebben stamomtrek en stamdiameter. Die kunnen natuurlijk naar elkaar getransformeerd worden.\n",
    "* Eerst maar eens de data bekijken.\n",
    "* Dan is het een kwestie van de gemiddelde groeisnelheid per jaar uitrekenen voor elke boomsoort."
   ]
  },
  {
   "cell_type": "markdown",
   "metadata": {},
   "source": [
    "## Data bekijken"
   ]
  },
  {
   "cell_type": "code",
   "execution_count": null,
   "metadata": {
    "collapsed": false
   },
   "outputs": [],
   "source": [
    "bomen_df['Stamomtrek'].unique()"
   ]
  },
  {
   "cell_type": "code",
   "execution_count": null,
   "metadata": {
    "collapsed": false
   },
   "outputs": [],
   "source": [
    "bomen_df['Stamomtrek'].value_counts()"
   ]
  },
  {
   "cell_type": "markdown",
   "metadata": {},
   "source": [
    "## Data opschonen\n",
    "* Het is duidelijk dat er te veel waardes zijn. Er is geknoeid met spaties.\n",
    "* Laten we meteen een nieuwe waarde bepalen"
   ]
  },
  {
   "cell_type": "code",
   "execution_count": null,
   "metadata": {
    "collapsed": false
   },
   "outputs": [],
   "source": [
    "stammen = bomen_df[['Plantjaar','Stamomtrek', 'Stamdiameter']]\n",
    "stammen[:5]"
   ]
  },
  {
   "cell_type": "code",
   "execution_count": null,
   "metadata": {
    "collapsed": false
   },
   "outputs": [],
   "source": [
    "# See http://pandas.pydata.org/pandas-docs/stable/10min.html#missing-data\n",
    "# Are there trees with both values?\n",
    "stammen.dropna(how='any')[:5] #, stammen.dropna(how='any')[:5]"
   ]
  },
  {
   "cell_type": "code",
   "execution_count": null,
   "metadata": {
    "collapsed": false
   },
   "outputs": [],
   "source": [
    "# hoeveel?\n",
    "len(stammen.dropna(how='any'))"
   ]
  },
  {
   "cell_type": "code",
   "execution_count": null,
   "metadata": {
    "collapsed": false
   },
   "outputs": [],
   "source": [
    "stammen['Stamdiameter'].value_counts()"
   ]
  },
  {
   "cell_type": "code",
   "execution_count": null,
   "metadata": {
    "collapsed": false
   },
   "outputs": [],
   "source": [
    "# http://pandas.pydata.org/pandas-docs/stable/text.html#text-string-methods\n",
    "stammen['Stamdiameter'].str.replace(' ','').value_counts()"
   ]
  },
  {
   "cell_type": "code",
   "execution_count": null,
   "metadata": {
    "collapsed": false
   },
   "outputs": [],
   "source": [
    "# Nu veranderen we de data in ons dataframe\n",
    "stammen['Stamdiameter'] = stammen['Stamdiameter'].str.replace(' ','')\n",
    "stammen['Stamomtrek'] = stammen['Stamomtrek'].str.replace(' ','')\n",
    "stammen['Stamdiameter'].value_counts(), stammen['Stamomtrek'].value_counts()"
   ]
  },
  {
   "cell_type": "markdown",
   "metadata": {},
   "source": [
    "## Dan is het een kwestie van de gemiddelde groeisnelheid per jaar uitrekenen voor elke boomsoort.\n",
    "\n",
    "Dat is makkelijker gezegd dan gedaan....\n",
    "\n",
    "We moeten\n",
    "\n",
    "1. De data over dikte veranderen naar integer waardes.\n",
    "1. Er 1 systeem van maken\n",
    "1. Een gok maken wanneer de metingen zijn verricht.\n",
    "1. Gemiddelde groei(boomsoort) := sum([stamdikte(b)/(metingjaar(b)-plantjaar(b)) for b in boomsoort])/len(boomsoort)\n",
    "1. Hier een snelle pandas expressie voor vinden."
   ]
  },
  {
   "cell_type": "markdown",
   "metadata": {},
   "source": [
    "# Stap 1: data numeriek maken\n",
    "\n",
    "* Kijkend naar de counts kunnen we het best beginnen met de diameter.\n",
    "* We moeten een paar klassen bij elkaar gooien, want die overlappen.\n",
    "* We nemen gewoon maar het middelpunt"
   ]
  },
  {
   "cell_type": "code",
   "execution_count": null,
   "metadata": {
    "collapsed": false
   },
   "outputs": [],
   "source": [
    "stammen['Stamdiameter'] = stammen['Stamdiameter'].str.replace('cm','')\n",
    "stammen['Stamdiameter'].value_counts()"
   ]
  },
  {
   "cell_type": "code",
   "execution_count": null,
   "metadata": {
    "collapsed": false
   },
   "outputs": [],
   "source": [
    "# verander alle waardes op de velden met waarde '>100' in '100-200'\n",
    "# Eerst selecteren we die rijen, en dan veranderen we\n",
    "\n",
    "stammen[stammen.Stamdiameter =='>100']['Stamdiameter'].str.replace('.*','100-200')"
   ]
  },
  {
   "cell_type": "code",
   "execution_count": null,
   "metadata": {
    "collapsed": false
   },
   "outputs": [],
   "source": [
    "# We nemen overal het middlepunt\n",
    "stammen['Stamdiameter'] = stammen['Stamdiameter'].str.replace('>100','100-200')\n",
    "stammen['Stamdiameter'] = stammen['Stamdiameter'].str.replace('0-50','0-25')\n",
    "stammen['Stamdiameter'] = stammen['Stamdiameter'].str.replace('0-25','12.5')\n",
    "stammen['Stamdiameter'] = stammen['Stamdiameter'].str.replace('25-50','37.5')\n",
    "stammen['Stamdiameter'] = stammen['Stamdiameter'].str.replace('50-100','75')\n",
    "stammen['Stamdiameter'] = stammen['Stamdiameter'].str.replace('100-200','150')\n",
    "\n",
    "stammen.Stamdiameter.value_counts()"
   ]
  },
  {
   "cell_type": "code",
   "execution_count": null,
   "metadata": {
    "collapsed": false
   },
   "outputs": [],
   "source": [
    "# Nu niet numerieke waardes wegdoen en datatype omzetten\n",
    "stammen['Stamdiameter']= stammen['Stamdiameter'].astype(float)"
   ]
  },
  {
   "cell_type": "code",
   "execution_count": null,
   "metadata": {
    "collapsed": false
   },
   "outputs": [],
   "source": [
    "# Eerst die Niet te beoordelen weg\n",
    "stammen= stammen[stammen.Stamdiameter != 'Niettebeoordelen']\n",
    "stammen['Stamdiameter']= stammen['Stamdiameter'].astype(float)\n",
    "\n"
   ]
  },
  {
   "cell_type": "code",
   "execution_count": null,
   "metadata": {
    "collapsed": false
   },
   "outputs": [],
   "source": [
    "# check\n",
    "stammen.Stamdiameter*2 "
   ]
  },
  {
   "cell_type": "markdown",
   "metadata": {},
   "source": [
    "# Stap 2: berekenen\n",
    "\n",
    "1. Een gok maken wanneer de metingen zijn verricht.\n",
    "1. Gemiddelde groei(boomsoort) := sum([stamdikte(b)/(metingjaar(b)-plantjaar(b)) for b in boomsoort])/len(boomsoort)\n",
    "1. Hier een snelle pandas expressie voor vinden.\n",
    "\n"
   ]
  },
  {
   "cell_type": "code",
   "execution_count": null,
   "metadata": {
    "collapsed": false
   },
   "outputs": [],
   "source": [
    "# We houden alleen de kolommen die we willen\n",
    "# We gooien alle missing data weg\n",
    "stammen = stammen[['Plantjaar','Stamdiameter']] \n",
    "stammen=stammen.dropna()\n",
    "len(stammen) #[:10]# ,stammen[:10]"
   ]
  },
  {
   "cell_type": "code",
   "execution_count": null,
   "metadata": {
    "collapsed": false
   },
   "outputs": [],
   "source": [
    "# Goed we, hebben nog 864 data punten over\n",
    "stammen['Groeisnelheid']= stammen.Stamdiameter /(2012 - stammen.Plantjaar )\n",
    "stammen.Groeisnelheid.describe()"
   ]
  },
  {
   "cell_type": "code",
   "execution_count": null,
   "metadata": {
    "collapsed": false
   },
   "outputs": [],
   "source": [
    "stammen.Groeisnelheid.plot()"
   ]
  },
  {
   "cell_type": "markdown",
   "metadata": {},
   "source": [
    "## Jouw beurt: nu per boomsoort"
   ]
  },
  {
   "cell_type": "code",
   "execution_count": null,
   "metadata": {
    "collapsed": false
   },
   "outputs": [],
   "source": []
  },
  {
   "cell_type": "markdown",
   "metadata": {},
   "source": [
    "# Real cool plots with plotly\n",
    "\n",
    "* you must make a free account\n",
    "* Your plots will be public on the web, but also nicely viewed in the notebook\n",
    "* See also <https://plot.ly/ipython-notebooks/cufflinks/>"
   ]
  },
  {
   "cell_type": "code",
   "execution_count": null,
   "metadata": {
    "collapsed": false
   },
   "outputs": [],
   "source": [
    "# Learn about API authentication here: https://plot.ly/pandas/getting-started\n",
    "# Find your api_key here: https://plot.ly/settings/api\n",
    "\n",
    "import pandas as pd\n",
    "import plotly.plotly as py\n",
    "df = pd.read_csv('http://www.stat.ubc.ca/~jenny/notOcto/STAT545A/examples/gapminder/data/gapminderDataFiveYear.txt', sep='\\t')\n",
    "df2007 = df[df.year==2007]\n",
    "df1952 = df[df.year==1952]\n",
    "df.head(2)"
   ]
  },
  {
   "cell_type": "code",
   "execution_count": null,
   "metadata": {
    "collapsed": false
   },
   "outputs": [],
   "source": [
    "fig = {\n",
    "    'data': [\n",
    "  \t\t{\n",
    "  \t\t\t'x': df2007.gdpPercap, \n",
    "        \t'y': df2007.lifeExp, \n",
    "        \t'text': df2007.country, \n",
    "        \t'mode': 'markers', \n",
    "        \t'name': '2007'},\n",
    "        {\n",
    "        \t'x': df1952.gdpPercap, \n",
    "        \t'y': df1952.lifeExp, \n",
    "        \t'text': df1952.country, \n",
    "        \t'mode': 'markers', \n",
    "        \t'name': '1952'}\n",
    "    ],\n",
    "    'layout': {\n",
    "        'xaxis': {'title': 'GDP per Capita', 'type': 'log'},\n",
    "        'yaxis': {'title': \"Life Expectancy\"}\n",
    "    }\n",
    "}\n",
    "\n",
    "# IPython notebook\n",
    "py.iplot(fig, filename='pandas/multiple-scatter')\n",
    "\n"
   ]
  },
  {
   "cell_type": "code",
   "execution_count": null,
   "metadata": {
    "collapsed": false
   },
   "outputs": [],
   "source": [
    "import cufflinks as cf\n",
    "print cf.__version__"
   ]
  },
  {
   "cell_type": "code",
   "execution_count": null,
   "metadata": {
    "collapsed": false
   },
   "outputs": [],
   "source": [
    "df = cf.datagen.lines()\n",
    "df.head()"
   ]
  },
  {
   "cell_type": "code",
   "execution_count": null,
   "metadata": {
    "collapsed": false
   },
   "outputs": [],
   "source": [
    "df.iplot(kind='scatter', filename='cufflinks/cf-simple-line')"
   ]
  },
  {
   "cell_type": "code",
   "execution_count": null,
   "metadata": {
    "collapsed": true
   },
   "outputs": [],
   "source": []
  }
 ],
 "metadata": {
  "celltoolbar": "Slideshow",
  "kernelspec": {
   "display_name": "Python 2",
   "language": "python",
   "name": "python2"
  },
  "language_info": {
   "codemirror_mode": {
    "name": "ipython",
    "version": 2
   },
   "file_extension": ".py",
   "mimetype": "text/x-python",
   "name": "python",
   "nbconvert_exporter": "python",
   "pygments_lexer": "ipython2",
   "version": "2.7.13"
  }
 },
 "nbformat": 4,
 "nbformat_minor": 0
}
