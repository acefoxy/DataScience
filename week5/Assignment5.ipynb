{
 "cells": [
  {
   "cell_type": "markdown",
   "metadata": {},
   "source": [
    "#  Assignment 5\n",
    "\n",
    "## Notebook made by  \n",
    "\n",
    "|** Name** | **Student id** | **email**|\n",
    "|:- |:-|:-|\n",
    "|. | | |\n",
    "|  | |. |\n",
    "\n",
    "### Pledge (taken from [Coursera's Honor Code](https://www.coursera.org/about/terms/honorcode) )\n",
    "\n",
    "\n",
    "\n",
    "Put here a selfie with your photo where you hold a signed paper with the following text: (if this is team work, put two selfies here). The link must be to some place on the web, not to a local file. \n",
    "\n",
    "> My answers to homework, quizzes and exams will be my own work (except for assignments that explicitly permit collaboration).\n",
    "\n",
    ">I will not make solutions to homework, quizzes or exams available to anyone else. This includes both solutions written by me, as well as any official solutions provided by the course staff.\n",
    "\n",
    ">I will not engage in any other activities that will dishonestly improve my results or dishonestly improve/hurt the results of others.\n",
    "\n",
    "<img src='link to your selfie'/>\n",
    "\n",
    "### Note\n",
    "* **Assignments without the selfies or completely filled in information will not be graded and receive 0 points.**\n"
   ]
  },
  {
   "cell_type": "markdown",
   "metadata": {},
   "source": [
    "We maken de toetsassignment af. We bekijken dus weer het artikel <http://language.media.mit.edu/paper>. In de toets hebben we de netwerkdata gebaseerd op boekvertalingen gemaakt.\n",
    "In dit huiswerk gaan we verder.\n",
    "\n",
    " "
   ]
  },
  {
   "cell_type": "code",
   "execution_count": 2,
   "metadata": {
    "collapsed": true
   },
   "outputs": [],
   "source": [
    "%matplotlib inline\n",
    "import pandas as pd\n",
    "import re\n",
    "from lxml import etree \n",
    "from bz2file import BZ2File\n",
    "import codecs\n",
    "import nltk\n",
    "from collections import defaultdict\n",
    "from  itertools import combinations  # ideal for creating all possible pairs that out can make out of a set\n",
    "from __future__ import division\n",
    "from math import sqrt "
   ]
  },
  {
   "cell_type": "markdown",
   "metadata": {},
   "source": [
    "### Deel  Wikipedia  \n",
    "\n",
    " \n",
    "\n",
    "1. Maak   van de Wikipedia _raw_ dataset de netwerk  datasets die op <http://language.media.mit.edu/data> beschreven staan. \n",
    "2. We bekijken in hoeverre onze resultaten afwijken van die in de geleverde bewerkte datasets.\n",
    "3. We leggen eventuele verschillen uit.\n",
    "\n",
    "#### In Stapjes\n",
    "\n",
    "We doen de opdracht in een aantal stapjes.\n",
    "\n",
    "#### Let op, je notebook moet vanzelf draaien. Alle data moet opgehaald worden."
   ]
  },
  {
   "cell_type": "markdown",
   "metadata": {},
   "source": [
    "# Download \n",
    "\n",
    "1. Download de ruwe dataset als zip file, ontzip hem en sla hem in de directory op waarin dit notebook ook staat.\n",
    "    * Dit mag je met de hand doen. De code **moet niet runbaar** in je notebook staan.\n",
    "    * Maar zorg dat de rest van de code er vanuit gaat dat `wikipedia_userlang_iso639-3.tsv` in dezelfde folder staat als dit notebook\n",
    "2. Lees de 2 bewerkte datasets over Wikipedia _Wikipedia Stats by Language_ en _Edges_ direct in van de urls in  pandas Dataframes, die je respectivelijk `dataset_stats_wikipedia` en `wikipedia_edges` noemt.\n",
    "    1. Maak de Taal code de index in het eerste frame, en hou alleen de Kolommen `['Editors', 'Edits','Multilinguals','Edits by mulitlinguals']`\n",
    "    2. Sorteer het frame op de index\n",
    "    2. Verwijder de kolommen `SourceLanguageName\tTargetLanguageName\tSourcePopulation\tTargetPopulations` uit het tweede frame\n",
    "    3. Sorteer het frame op `SourceLanguageName`\n",
    "    3. Laat steeds met `head()` zien dat het werkt.\n",
    "    \n",
    "### Je antwoord bestaat uit 2 cellen"
   ]
  },
  {
   "cell_type": "code",
   "execution_count": 15,
   "metadata": {
    "collapsed": false
   },
   "outputs": [
    {
     "data": {
      "text/html": [
       "<div>\n",
       "<table border=\"1\" class=\"dataframe\">\n",
       "  <thead>\n",
       "    <tr style=\"text-align: right;\">\n",
       "      <th></th>\n",
       "      <th>Editors</th>\n",
       "      <th>Edits</th>\n",
       "      <th>Multilinguals</th>\n",
       "      <th>Edits by mulitlinguals</th>\n",
       "    </tr>\n",
       "    <tr>\n",
       "      <th>Code</th>\n",
       "      <th></th>\n",
       "      <th></th>\n",
       "      <th></th>\n",
       "      <th></th>\n",
       "    </tr>\n",
       "  </thead>\n",
       "  <tbody>\n",
       "    <tr>\n",
       "      <th>aar</th>\n",
       "      <td>4</td>\n",
       "      <td>46</td>\n",
       "      <td>3</td>\n",
       "      <td>9</td>\n",
       "    </tr>\n",
       "    <tr>\n",
       "      <th>abk</th>\n",
       "      <td>15</td>\n",
       "      <td>2807</td>\n",
       "      <td>7</td>\n",
       "      <td>1494</td>\n",
       "    </tr>\n",
       "    <tr>\n",
       "      <th>afr</th>\n",
       "      <td>511</td>\n",
       "      <td>103652</td>\n",
       "      <td>352</td>\n",
       "      <td>95988</td>\n",
       "    </tr>\n",
       "    <tr>\n",
       "      <th>aka</th>\n",
       "      <td>31</td>\n",
       "      <td>327</td>\n",
       "      <td>24</td>\n",
       "      <td>240</td>\n",
       "    </tr>\n",
       "    <tr>\n",
       "      <th>amh</th>\n",
       "      <td>68</td>\n",
       "      <td>4596</td>\n",
       "      <td>45</td>\n",
       "      <td>4039</td>\n",
       "    </tr>\n",
       "  </tbody>\n",
       "</table>\n",
       "</div>"
      ],
      "text/plain": [
       "      Editors   Edits  Multilinguals  Edits by mulitlinguals\n",
       "Code                                                        \n",
       "aar         4      46              3                       9\n",
       "abk        15    2807              7                    1494\n",
       "afr       511  103652            352                   95988\n",
       "aka        31     327             24                     240\n",
       "amh        68    4596             45                    4039"
      ]
     },
     "execution_count": 15,
     "metadata": {},
     "output_type": "execute_result"
    }
   ],
   "source": [
    "#download the data\n",
    "#done it by hand in the browser\n",
    "\n",
    "\n",
    "# jouw code hier \n",
    "dataset_stats_wikipedia = pd.read_csv(\"http://language.media.mit.edu/data/public/dataset_stats_wikipedia.tsv\", sep = '\\t')\n",
    "dataset_stats_wikipedia = dataset_stats_wikipedia.set_index('Code')\n",
    "dataset_stats_wikipedia = dataset_stats_wikipedia[['Editors', 'Edits','Multilinguals','Edits by mulitlinguals']].sort_index()\n",
    "dataset_stats_wikipedia.head()\n"
   ]
  },
  {
   "cell_type": "code",
   "execution_count": 22,
   "metadata": {
    "collapsed": false
   },
   "outputs": [
    {
     "data": {
      "text/html": [
       "<div>\n",
       "<table border=\"1\" class=\"dataframe\">\n",
       "  <thead>\n",
       "    <tr style=\"text-align: right;\">\n",
       "      <th></th>\n",
       "      <th>TargetLanguageCode</th>\n",
       "      <th>Coocurrences</th>\n",
       "      <th>PhiCorrelation</th>\n",
       "      <th>Tstatistic</th>\n",
       "    </tr>\n",
       "    <tr>\n",
       "      <th>SourceLanguageCode</th>\n",
       "      <th></th>\n",
       "      <th></th>\n",
       "      <th></th>\n",
       "      <th></th>\n",
       "    </tr>\n",
       "  </thead>\n",
       "  <tbody>\n",
       "    <tr>\n",
       "      <th>afr</th>\n",
       "      <td>eng</td>\n",
       "      <td>271</td>\n",
       "      <td>0.013648</td>\n",
       "      <td>17.207148</td>\n",
       "    </tr>\n",
       "    <tr>\n",
       "      <th>afr</th>\n",
       "      <td>nld</td>\n",
       "      <td>78</td>\n",
       "      <td>0.015377</td>\n",
       "      <td>3.332197</td>\n",
       "    </tr>\n",
       "    <tr>\n",
       "      <th>amh</th>\n",
       "      <td>eng</td>\n",
       "      <td>28</td>\n",
       "      <td>0.004344</td>\n",
       "      <td>5.476711</td>\n",
       "    </tr>\n",
       "    <tr>\n",
       "      <th>ang</th>\n",
       "      <td>eng</td>\n",
       "      <td>51</td>\n",
       "      <td>0.006363</td>\n",
       "      <td>8.021067</td>\n",
       "    </tr>\n",
       "    <tr>\n",
       "      <th>ara</th>\n",
       "      <td>deu</td>\n",
       "      <td>446</td>\n",
       "      <td>0.007497</td>\n",
       "      <td>3.550224</td>\n",
       "    </tr>\n",
       "  </tbody>\n",
       "</table>\n",
       "</div>"
      ],
      "text/plain": [
       "                   TargetLanguageCode  Coocurrences  PhiCorrelation  \\\n",
       "SourceLanguageCode                                                    \n",
       "afr                               eng           271        0.013648   \n",
       "afr                               nld            78        0.015377   \n",
       "amh                               eng            28        0.004344   \n",
       "ang                               eng            51        0.006363   \n",
       "ara                               deu           446        0.007497   \n",
       "\n",
       "                    Tstatistic  \n",
       "SourceLanguageCode              \n",
       "afr                  17.207148  \n",
       "afr                   3.332197  \n",
       "amh                   5.476711  \n",
       "ang                   8.021067  \n",
       "ara                   3.550224  "
      ]
     },
     "execution_count": 22,
     "metadata": {},
     "output_type": "execute_result"
    }
   ],
   "source": [
    "# jouw code hier \n",
    "\n",
    "wikipedia_edges = pd.read_csv('http://language.media.mit.edu/data/public/wikipedia_edges.tsv', sep = '\\t')\n",
    "wikipedia_edges = wikipedia_edges.drop(['SourceLanguageName', 'TargetLanguageName', 'SourcePopulation','TargetPopulations'], axis = 1).set_index('SourceLanguageCode')\n",
    "wikipedia_edges.head()"
   ]
  },
  {
   "cell_type": "markdown",
   "metadata": {},
   "source": [
    "# Haal gegevens uit de ruwe data, deel 1\n",
    "\n",
    "* De file `'wikipedia_userlang_iso639-3.tsv'` lijkt een spreadsheet maar hij heeft niet op elke regel evenveel kolommen.\n",
    "* Processing met pandas is dus ook lastig.\n",
    "* Als alternatief gaan we file zelf regel voor regel  inlezen, en de gewenste gegevens opslaan.\n",
    "* Ons einddoel is om een dataframe te maken dat er precies zo uitziet als `dataset_stats_wikipedia`\n",
    "* We doen dat in 2 stappen:\n",
    "    1. We maken een aantal dicts aan met de gewenste gegevens\n",
    "    2. Van elke dict maken we een dataframe met `pd.DataFrame.from_dict`\n",
    "    3. Die plakken we allemaal aan elkaar met `join` (neem een inner join)\n",
    "    4. Noem het eindresultaat `stats`, sorteer het ook op de index en laat het begin zien met `head`.\n",
    "    5. Check natuurlijk zelf of je op de goede weg zit door je resultaat te vergelijken met `dataset_stats_wikipedia`\n",
    "* Hieronder staat wat code om je op weg te helpen\n",
    "* **Lees het artikel en de supplementary material goed om net als zij de ruwe data te filteren.**\n",
    "\n",
    "\n",
    "# Haal gegevens uit de ruwe data, deel 2\n",
    "\n",
    "* In dezelfde code waarin je de vorige vraag hebt gemaakt, maak je ook een dict `pairs` aan. Hier zijn de sleutels paren van taalcodes, **waarbij de eerste altijd alfabetisch eerder is dan de tweede**, en hun waarde het aantal cooccurences.\n",
    "* Maak van dit dict een Dataframe `edges`, waarbij `edges.columns=['SourceLanguageCode','TargetLanguageCode','Coocurrencesmy']`\n",
    "* Sorteer ook hier op `'SourceLanguageCode'`\n",
    "* **Lees het artikel en de supplementary material goed om net als zij de ruwe data te filteren.**"
   ]
  },
  {
   "cell_type": "code",
   "execution_count": 15,
   "metadata": {
    "collapsed": false
   },
   "outputs": [],
   "source": [
    "# Your code \n",
    "with open('wikipedia_userlang_iso639-3.tsv') as f:\n",
    "    c=0\n",
    "    editors=defaultdict(int)\n",
    "    edits=defaultdict(int)\n",
    "    multilingual=defaultdict(int)\n",
    "    Edits_by_multilinguals=defaultdict(int)\n",
    "    pairs= defaultdict(int)\n",
    "    pairs = {}\n",
    "    c=0\n",
    "    z=defaultdict(int)\n",
    "    for l in f:\n",
    "        \n",
    "        a = l.replace('\\n',\"\").split('\\t')\n",
    "        #maximal 5 languages\n",
    "        if len(a) < 6:\n",
    "            \n",
    "            for i in a[1:]:\n",
    "                \n",
    "                x = sum([int(i.split(',')[-1])])\n",
    "                \n",
    "                \n",
    "                #at least two edits and more than 4 per language\n",
    "                if int(i.split(',')[1]) >=2 and x > 4:\n",
    "                    \n",
    "                    \n",
    "                    \n",
    "                                 #original dicts\n",
    "                    editors[i.split(',')[0]] +=1\n",
    "                    edits[i.split(',')[0]] += int(i.split(',')[1])\n",
    "                    if len(a) >= 3:\n",
    "                 \n",
    "                        multilingual[i.split(',')[0]] +=1\n",
    "                        Edits_by_multilinguals[i.split(',')[0]] += int(i.split(',')[1])\n",
    "               \n",
    "                        \n",
    "                \n",
    "                        all_languages = sorted([i.split(',')[0] for i in a[1:]])\n",
    "                    \n",
    "                        \n",
    "                        combs = [i for i in combinations(all_languages, 2)]\n",
    "                        for pair in combs:\n",
    "                            if pair in pairs:\n",
    "                                pairs[pair] += 1\n",
    "                            else: \n",
    "                                pairs[pair] = 1 \n",
    "\n",
    "                    \n",
    "                 \n",
    "                    \n",
    "                \n",
    "                    \n",
    "                \n",
    "                    \n",
    "                    \n",
    "                        \n",
    "               \n",
    "        \n",
    "    \n",
    "\n",
    "  \n"
   ]
  },
  {
   "cell_type": "code",
   "execution_count": 13,
   "metadata": {
    "collapsed": false
   },
   "outputs": [
    {
     "data": {
      "text/plain": [
       "0"
      ]
     },
     "execution_count": 13,
     "metadata": {},
     "output_type": "execute_result"
    }
   ],
   "source": [
    "len(pairs)"
   ]
  },
  {
   "cell_type": "code",
   "execution_count": 16,
   "metadata": {
    "collapsed": false
   },
   "outputs": [
    {
     "data": {
      "text/html": [
       "<div>\n",
       "<table border=\"1\" class=\"dataframe\">\n",
       "  <thead>\n",
       "    <tr style=\"text-align: right;\">\n",
       "      <th></th>\n",
       "      <th>Editors</th>\n",
       "      <th>Edits</th>\n",
       "      <th>Multilinguals</th>\n",
       "      <th>Edits by mulitlinguals</th>\n",
       "    </tr>\n",
       "    <tr>\n",
       "      <th>Code</th>\n",
       "      <th></th>\n",
       "      <th></th>\n",
       "      <th></th>\n",
       "      <th></th>\n",
       "    </tr>\n",
       "  </thead>\n",
       "  <tbody>\n",
       "    <tr>\n",
       "      <th>aar</th>\n",
       "      <td>1</td>\n",
       "      <td>37</td>\n",
       "      <td>1</td>\n",
       "      <td>37</td>\n",
       "    </tr>\n",
       "    <tr>\n",
       "      <th>abk</th>\n",
       "      <td>12</td>\n",
       "      <td>2798</td>\n",
       "      <td>6</td>\n",
       "      <td>1523</td>\n",
       "    </tr>\n",
       "    <tr>\n",
       "      <th>afr</th>\n",
       "      <td>348</td>\n",
       "      <td>57809</td>\n",
       "      <td>218</td>\n",
       "      <td>51858</td>\n",
       "    </tr>\n",
       "    <tr>\n",
       "      <th>aka</th>\n",
       "      <td>15</td>\n",
       "      <td>258</td>\n",
       "      <td>9</td>\n",
       "      <td>191</td>\n",
       "    </tr>\n",
       "    <tr>\n",
       "      <th>amh</th>\n",
       "      <td>47</td>\n",
       "      <td>4513</td>\n",
       "      <td>24</td>\n",
       "      <td>3956</td>\n",
       "    </tr>\n",
       "  </tbody>\n",
       "</table>\n",
       "</div>"
      ],
      "text/plain": [
       "      Editors  Edits  Multilinguals  Edits by mulitlinguals\n",
       "Code                                                       \n",
       "aar         1     37              1                      37\n",
       "abk        12   2798              6                    1523\n",
       "afr       348  57809            218                   51858\n",
       "aka        15    258              9                     191\n",
       "amh        47   4513             24                    3956"
      ]
     },
     "execution_count": 16,
     "metadata": {},
     "output_type": "execute_result"
    }
   ],
   "source": [
    "#Deel 1\n",
    "# jouw code hier \n",
    "editorframe = pd.DataFrame.from_dict(dict(editors), orient='index')\n",
    "editorframe.rename(columns={0:'Editors'}, inplace=True)\n",
    "\n",
    "editframe = pd.DataFrame.from_dict(edits, orient='index')\n",
    "editframe.rename(columns={0:'Edits'}, inplace=True)\n",
    "\n",
    "multiframe = pd.DataFrame.from_dict(multilingual, orient='index')\n",
    "multiframe.rename(columns={0:'Multilinguals'}, inplace=True)\n",
    "\n",
    "edits_by_multiframe = pd.DataFrame.from_dict(Edits_by_multilinguals, orient='index')\n",
    "edits_by_multiframe.rename(columns={0:'Edits by mulitlinguals'}, inplace=True)\n",
    "\n",
    "stats = pd.DataFrame.join(editorframe, [editframe, multiframe, edits_by_multiframe], how='inner')\n",
    "stats.index.name= \"Code\"\n",
    "stats.sort_index().head()\n"
   ]
  },
  {
   "cell_type": "code",
   "execution_count": 17,
   "metadata": {
    "collapsed": false
   },
   "outputs": [
    {
     "data": {
      "text/html": [
       "<div>\n",
       "<table border=\"1\" class=\"dataframe\">\n",
       "  <thead>\n",
       "    <tr style=\"text-align: right;\">\n",
       "      <th></th>\n",
       "      <th>SourceLanguageCode</th>\n",
       "      <th>TargetLanguageCode</th>\n",
       "      <th>Coocurrencesmy</th>\n",
       "    </tr>\n",
       "  </thead>\n",
       "  <tbody>\n",
       "    <tr>\n",
       "      <th>1969</th>\n",
       "      <td>aar</td>\n",
       "      <td>xho</td>\n",
       "      <td>2</td>\n",
       "    </tr>\n",
       "    <tr>\n",
       "      <th>1126</th>\n",
       "      <td>aar</td>\n",
       "      <td>swe</td>\n",
       "      <td>1</td>\n",
       "    </tr>\n",
       "    <tr>\n",
       "      <th>2553</th>\n",
       "      <td>aar</td>\n",
       "      <td>deu</td>\n",
       "      <td>2</td>\n",
       "    </tr>\n",
       "    <tr>\n",
       "      <th>897</th>\n",
       "      <td>aar</td>\n",
       "      <td>ron</td>\n",
       "      <td>1</td>\n",
       "    </tr>\n",
       "    <tr>\n",
       "      <th>1305</th>\n",
       "      <td>aar</td>\n",
       "      <td>ita</td>\n",
       "      <td>3</td>\n",
       "    </tr>\n",
       "    <tr>\n",
       "      <th>518</th>\n",
       "      <td>aar</td>\n",
       "      <td>arg</td>\n",
       "      <td>1</td>\n",
       "    </tr>\n",
       "    <tr>\n",
       "      <th>3081</th>\n",
       "      <td>aar</td>\n",
       "      <td>bis</td>\n",
       "      <td>2</td>\n",
       "    </tr>\n",
       "    <tr>\n",
       "      <th>4223</th>\n",
       "      <td>aar</td>\n",
       "      <td>eng</td>\n",
       "      <td>2</td>\n",
       "    </tr>\n",
       "    <tr>\n",
       "      <th>3713</th>\n",
       "      <td>abk</td>\n",
       "      <td>jpn</td>\n",
       "      <td>2</td>\n",
       "    </tr>\n",
       "    <tr>\n",
       "      <th>4065</th>\n",
       "      <td>abk</td>\n",
       "      <td>tur</td>\n",
       "      <td>2</td>\n",
       "    </tr>\n",
       "  </tbody>\n",
       "</table>\n",
       "</div>"
      ],
      "text/plain": [
       "     SourceLanguageCode TargetLanguageCode  Coocurrencesmy\n",
       "1969                aar                xho               2\n",
       "1126                aar                swe               1\n",
       "2553                aar                deu               2\n",
       "897                 aar                ron               1\n",
       "1305                aar                ita               3\n",
       "518                 aar                arg               1\n",
       "3081                aar                bis               2\n",
       "4223                aar                eng               2\n",
       "3713                abk                jpn               2\n",
       "4065                abk                tur               2"
      ]
     },
     "execution_count": 17,
     "metadata": {},
     "output_type": "execute_result"
    }
   ],
   "source": [
    "#Deel2\n",
    "tuples = pairs.keys()\n",
    "\n",
    "# Lists are ordered so the unzipped order matches\n",
    "source = zip(*pairs.keys())[0]\n",
    "target = zip(*pairs.keys())[1]\n",
    "\n",
    "coocurrences = [pairs[tup] for tup in tuples]\n",
    "\n",
    "edges = pd.DataFrame(zip(source, target, coocurrences), \n",
    "                     columns=['SourceLanguageCode','TargetLanguageCode',\n",
    "                              'Coocurrencesmy']).sort_values(by='SourceLanguageCode')\n",
    "\n",
    "edges.head(10) # Klopt niet\n"
   ]
  },
  {
   "cell_type": "markdown",
   "metadata": {},
   "source": [
    "# Vergelijk \n",
    "\n",
    "We gaan nu onze dataframes vergelijken met die we hebben opgehaald.\n",
    "\n",
    "We zijn natuurlijk erg benieuwd of er verschillen zijn, en vooral ook groot die dan zijn, als ze er zijn.\n",
    "\n",
    "1. Join `dataset_stats_wikipedia` en `stats` in een nieuwe dataframe `samen`. \n",
    "    * laat met `samen.describe()` zien hoe groot of klein de verschillen zijn\n",
    "2. Maak een functie `fout_percentage` waar je twee kolommen en een dataframe aan geeft en die _het verschil tussen die twee kolommen bepaalt, en omzet naar een \"foutpercentage\"_.\n",
    "3. Bereken dat percentage voor de vier kolommen `['Editors', 'Edits','Multilinguals','Edits by mulitlinguals']` en print het netjes uit.\n",
    "4. Leg in een paar zinnen uit waarom jouw maat voor \"foutpercentage\" echt ergens op slaat, en het een goede indicator geeft. \n",
    "5. Doe tenslotte hetzelfde voor `edges`. \n",
    "    * Hier doe je natuurlijk een `merge`\n",
    "    * Bekijk hier eens het verschil tussen een outer en een inner join.\n",
    "    * Leg uit wat er hier aan de hand is.\n",
    "    * Kan je het verschil verklaren?\n"
   ]
  },
  {
   "cell_type": "code",
   "execution_count": 230,
   "metadata": {
    "collapsed": false
   },
   "outputs": [
    {
     "name": "stdout",
     "output_type": "stream",
     "text": [
      "Editors\t0.518\t4689\n",
      "Edits\t0.014\t17285\n",
      "Multilinguals\t0.349\t503\n",
      "Edits by mulitlinguals\t0.003\t1006\n"
     ]
    }
   ],
   "source": [
    "# vergelijk stats met dataset_stats_wikipedia\n",
    "\n",
    "samen=\n",
    "\n",
    "def fout_percentage(col1,col2,df):\n",
    "     # jouw code hier \n",
    "\n",
    " \n",
    "\n",
    "for col in stats.columns:\n",
    "    print \"%s\\t%s\\t%s\" %(col, fout_percentage(col, col+'my', samen)"
   ]
  },
  {
   "cell_type": "code",
   "execution_count": 231,
   "metadata": {
    "collapsed": false
   },
   "outputs": [
    {
     "data": {
      "text/html": [
       "<div>\n",
       "<table border=\"1\" class=\"dataframe\">\n",
       "  <thead>\n",
       "    <tr style=\"text-align: right;\">\n",
       "      <th></th>\n",
       "      <th>Editors</th>\n",
       "      <th>Edits</th>\n",
       "      <th>Multilinguals</th>\n",
       "      <th>Edits by mulitlinguals</th>\n",
       "      <th>Editorsmy</th>\n",
       "      <th>Editsmy</th>\n",
       "      <th>Multilingualsmy</th>\n",
       "      <th>Edits by mulitlingualsmy</th>\n",
       "    </tr>\n",
       "  </thead>\n",
       "  <tbody>\n",
       "    <tr>\n",
       "      <th>count</th>\n",
       "      <td>238.000000</td>\n",
       "      <td>2.380000e+02</td>\n",
       "      <td>238.000000</td>\n",
       "      <td>238.000000</td>\n",
       "      <td>238.000000</td>\n",
       "      <td>2.380000e+02</td>\n",
       "      <td>238.000000</td>\n",
       "      <td>238.000000</td>\n",
       "    </tr>\n",
       "    <tr>\n",
       "      <th>mean</th>\n",
       "      <td>12243.554622</td>\n",
       "      <td>1.608757e+06</td>\n",
       "      <td>2648.226891</td>\n",
       "      <td>729135.878151</td>\n",
       "      <td>12307.088235</td>\n",
       "      <td>1.608984e+06</td>\n",
       "      <td>2657.487395</td>\n",
       "      <td>729154.399160</td>\n",
       "    </tr>\n",
       "    <tr>\n",
       "      <th>std</th>\n",
       "      <td>105148.317861</td>\n",
       "      <td>1.322120e+07</td>\n",
       "      <td>15606.769464</td>\n",
       "      <td>5342618.270859</td>\n",
       "      <td>105478.073646</td>\n",
       "      <td>1.322242e+07</td>\n",
       "      <td>15647.386691</td>\n",
       "      <td>5342696.119103</td>\n",
       "    </tr>\n",
       "    <tr>\n",
       "      <th>min</th>\n",
       "      <td>1.000000</td>\n",
       "      <td>2.000000e+00</td>\n",
       "      <td>1.000000</td>\n",
       "      <td>2.000000</td>\n",
       "      <td>1.000000</td>\n",
       "      <td>2.000000e+00</td>\n",
       "      <td>1.000000</td>\n",
       "      <td>2.000000</td>\n",
       "    </tr>\n",
       "    <tr>\n",
       "      <th>25%</th>\n",
       "      <td>20.250000</td>\n",
       "      <td>1.410500e+03</td>\n",
       "      <td>13.000000</td>\n",
       "      <td>562.500000</td>\n",
       "      <td>21.000000</td>\n",
       "      <td>1.413500e+03</td>\n",
       "      <td>13.000000</td>\n",
       "      <td>562.500000</td>\n",
       "    </tr>\n",
       "    <tr>\n",
       "      <th>50%</th>\n",
       "      <td>61.500000</td>\n",
       "      <td>8.092500e+03</td>\n",
       "      <td>39.000000</td>\n",
       "      <td>5325.500000</td>\n",
       "      <td>63.500000</td>\n",
       "      <td>8.094500e+03</td>\n",
       "      <td>39.000000</td>\n",
       "      <td>5325.500000</td>\n",
       "    </tr>\n",
       "    <tr>\n",
       "      <th>75%</th>\n",
       "      <td>458.250000</td>\n",
       "      <td>1.099002e+05</td>\n",
       "      <td>238.500000</td>\n",
       "      <td>64802.000000</td>\n",
       "      <td>463.250000</td>\n",
       "      <td>1.099082e+05</td>\n",
       "      <td>240.000000</td>\n",
       "      <td>64802.000000</td>\n",
       "    </tr>\n",
       "    <tr>\n",
       "      <th>max</th>\n",
       "      <td>1589250.000000</td>\n",
       "      <td>1.983610e+08</td>\n",
       "      <td>218320.000000</td>\n",
       "      <td>78341211.000000</td>\n",
       "      <td>1593939.000000</td>\n",
       "      <td>1.983783e+08</td>\n",
       "      <td>218823.000000</td>\n",
       "      <td>78342217.000000</td>\n",
       "    </tr>\n",
       "  </tbody>\n",
       "</table>\n",
       "</div>"
      ],
      "text/plain": [
       "              Editors         Edits  Multilinguals  Edits by mulitlinguals  \\\n",
       "count      238.000000  2.380000e+02     238.000000              238.000000   \n",
       "mean     12243.554622  1.608757e+06    2648.226891           729135.878151   \n",
       "std     105148.317861  1.322120e+07   15606.769464          5342618.270859   \n",
       "min          1.000000  2.000000e+00       1.000000                2.000000   \n",
       "25%         20.250000  1.410500e+03      13.000000              562.500000   \n",
       "50%         61.500000  8.092500e+03      39.000000             5325.500000   \n",
       "75%        458.250000  1.099002e+05     238.500000            64802.000000   \n",
       "max    1589250.000000  1.983610e+08  218320.000000         78341211.000000   \n",
       "\n",
       "            Editorsmy       Editsmy  Multilingualsmy  Edits by mulitlingualsmy  \n",
       "count      238.000000  2.380000e+02       238.000000                238.000000  \n",
       "mean     12307.088235  1.608984e+06      2657.487395             729154.399160  \n",
       "std     105478.073646  1.322242e+07     15647.386691            5342696.119103  \n",
       "min          1.000000  2.000000e+00         1.000000                  2.000000  \n",
       "25%         21.000000  1.413500e+03        13.000000                562.500000  \n",
       "50%         63.500000  8.094500e+03        39.000000               5325.500000  \n",
       "75%        463.250000  1.099082e+05       240.000000              64802.000000  \n",
       "max    1593939.000000  1.983783e+08    218823.000000           78342217.000000  "
      ]
     },
     "execution_count": 231,
     "metadata": {},
     "output_type": "execute_result"
    }
   ],
   "source": [
    "samen.describe()"
   ]
  },
  {
   "cell_type": "code",
   "execution_count": null,
   "metadata": {
    "collapsed": false
   },
   "outputs": [],
   "source": [
    "# vergelijk edges met \"inner join\"\n",
    " "
   ]
  },
  {
   "cell_type": "code",
   "execution_count": null,
   "metadata": {
    "collapsed": false
   },
   "outputs": [],
   "source": [
    "# vergelijk edges met \"outer join\"\n",
    "\n",
    "edges2=pd.merge(edges,wikipedia_edges, how='outer', on=['SourceLanguageCode','TargetLanguageCode'])\n",
    "print fout_percentage('Coocurrencesmy','Coocurrences', edges2)\n",
    "edges2.describe()"
   ]
  },
  {
   "cell_type": "markdown",
   "metadata": {},
   "source": [
    "# Compute our own PhiCorrelation and T-statistic\n",
    "\n",
    "Maak een functie `PhiCorrelation(i,j)` die gegeven 2 talen, de $\\phi$ correlatie en de $t$-statistic uitrekent volgens vergelijkingen [1] en [2] uit het artikel.\n",
    "\n",
    "* Let vooral op hoe je $N$ bepaalt. En beschrijf goed waarom je precies die keuze hebt genomen. Je uitkomsten hangen daar sterk vanaf."
   ]
  },
  {
   "cell_type": "code",
   "execution_count": 213,
   "metadata": {
    "collapsed": false
   },
   "outputs": [
    {
     "data": {
      "text/plain": [
       "(79, 531, 26706, 2929087, 0.019785094309992902, 3.2337861998200852)"
      ]
     },
     "execution_count": 213,
     "metadata": {},
     "output_type": "execute_result"
    }
   ],
   "source": [
    "# Compute our own PhiCorrelation and T-statistic\n",
    "\n",
    "\n",
    "def PhiCorrelation(i,j):\n",
    "     #Your code here\n",
    "    return Mij,Mi, Mj,  N, PhiCorrelation, Tstatistic\n",
    "\n",
    "# test\n",
    "PhiCorrelation('afr','nld')"
   ]
  },
  {
   "cell_type": "markdown",
   "metadata": {},
   "source": [
    "# Reflectie\n",
    "Je hebt getracht een deel van het artikel te reproduceren. Ook hebben we gedacht over het artikel en de mate van herhaalbaarheid van de vermelde gegevens. \n",
    "\n",
    "Geef nu in een half A4 je eigen mening. Behandel deze twee punten:\n",
    "\n",
    "1. Wat was al goed gedaan?\n",
    "2. Wat kon beter en hoe dan?"
   ]
  },
  {
   "cell_type": "code",
   "execution_count": null,
   "metadata": {
    "collapsed": true
   },
   "outputs": [],
   "source": []
  }
 ],
 "metadata": {
  "kernelspec": {
   "display_name": "Python 2",
   "language": "python",
   "name": "python2"
  },
  "language_info": {
   "codemirror_mode": {
    "name": "ipython",
    "version": 2
   },
   "file_extension": ".py",
   "mimetype": "text/x-python",
   "name": "python",
   "nbconvert_exporter": "python",
   "pygments_lexer": "ipython2",
   "version": "2.7.13"
  }
 },
 "nbformat": 4,
 "nbformat_minor": 0
}
