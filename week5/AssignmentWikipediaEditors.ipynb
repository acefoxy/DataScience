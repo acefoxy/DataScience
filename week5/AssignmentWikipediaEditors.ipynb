








<!DOCTYPE html>
<html lang="en">

<head>
  <meta charset="utf-8">
  <title>Jupyter Notebook Viewer</title>
  <meta name="viewport" content="width=device-width, initial-scale=1.0">
  <meta name="description" content="">
  <meta name="author" content="">
  
  <meta name="robots" content="noindex,nofollow">
  

  <!--NEW RELIC Start Perf Measurement-->
  
  <!--NREND-->

  <!-- Le styles -->
  <script type="text/javascript">
//<![CDATA[
try{if (!window.CloudFlare) {var CloudFlare=[{verbose:0,p:0,byc:0,owlid:"cf",bag2:1,mirage2:0,oracle:0,paths:{cloudflare:"/cdn-cgi/nexp/dok3v=1613a3a185/"},atok:"0bb343844c6a09be3d558354a7971337",petok:"6226f8b0168675e3e06cacd411588a002510d648-1486370050-1800",zone:"jupyter.org",rocket:"0",apps:{"ga_key":{"ua":"UA-52617120-5","ga_bs":"2"}}}];!function(a,b){a=document.createElement("script"),b=document.getElementsByTagName("script")[0],a.async=!0,a.src="//ajax.cloudflare.com/cdn-cgi/nexp/dok3v=f2befc48d1/cloudflare.min.js",b.parentNode.insertBefore(a,b)}()}}catch(e){};
//]]>
</script>
<link href="/static/build/styles.css?v=c18d49652a516277e15114bbd447f1c1" rel="stylesheet">

  <!-- Le HTML5 shim, for IE6-8 support of HTML5 elements -->
  <!--[if lt IE 9]>
    <script src="http://html5shim.googlecode.com/svn/trunk/html5.js"></script>
  <![endif]-->

  <!-- Le fav and touch icons -->
  <link rel="shortcut icon" href="/static/ico/ipynb_icon_16x16.png">
  <link rel="apple-touch-icon-precomposed" sizes="144x144"
        href="/static/ico/apple-touch-icon-144-precomposed.png?v=5a3c9ede93e2a8b8ea9e3f8f3da1a905">
  <link rel="apple-touch-icon-precomposed" sizes="114x114"
        href="/static/ico/apple-touch-icon-114-precomposed.png?v=45d86fc8f24dc00638035e1dd7a6d898">
  <link rel="apple-touch-icon-precomposed" sizes="72x72"
        href="/static/ico/apple-touch-icon-72-precomposed.png?v=540b5eb0f3cfd25f1439d1c9bd30e15f">
  <link rel="apple-touch-icon-precomposed"
        href="/static/ico/apple-touch-icon-57-precomposed.png?v=225f0590e187e1458625654f10a28f56">
  
  

  

  
  <meta name="twitter:card" content="summary">
  <meta name="twitter:title" content="Notebook on nbviewer">
  <meta name="twitter:description" content="Check out this Jupyter notebook!">

  
  <meta name="twitter:domain" content="nbviewer.ipython.org">
  <meta name="twitter:image:src" content="http://ipython.org/ipython-doc/dev/_images/ipynb_icon_128x128.png">

  
    <link href="/static/build/notebook.css?v=f5b9901b9b1ce080900a843637976afe" rel="stylesheet">
  

  

  
    <script src="https://cdn.mathjax.org/mathjax/latest/MathJax.js?config=TeX-AMS_HTML" type="text/javascript">
    </script>
    <script type="text/javascript">
      init_mathjax = function() {
        if (window.MathJax) {
          // MathJax loaded
          MathJax.Hub.Config({
            TeX: {
              equationNumbers: {
                autoNumber: "AMS",
                useLabelIds: true
              }
            },
            tex2jax: {
              inlineMath: [ ['$','$'], ["\\(","\\)"] ],
              displayMath: [ ['$$','$$'], ["\\[","\\]"] ],
              processEscapes: true,
              processEnvironments: true
            },
            displayAlign: 'center',
            "HTML-CSS": {
              styles: {'.MathJax_Display': {"margin": 0}},
              linebreaks: { automatic: true }
            }
          });
          MathJax.Hub.Queue(["Typeset", MathJax.Hub]);
        }
      }
      init_mathjax();
    </script>
  

<script type="text/javascript">
/* <![CDATA[ */
var _gaq = _gaq || [];
_gaq.push(['_setAccount', 'UA-52617120-5']);
_gaq.push(['_trackPageview']);

(function() {
var ga = document.createElement('script'); ga.type = 'text/javascript'; ga.async = true;
ga.src = ('https:' == document.location.protocol ? 'https://ssl' : 'http://www') + '.google-analytics.com/ga.js';
var s = document.getElementsByTagName('script')[0]; s.parentNode.insertBefore(ga, s);
})();

(function(b){(function(a){"__CF"in b&&"DJS"in b.__CF?b.__CF.DJS.push(a):"addEventListener"in b?b.addEventListener("load",a,!1):b.attachEvent("onload",a)})(function(){"FB"in b&&"Event"in FB&&"subscribe"in FB.Event&&(FB.Event.subscribe("edge.create",function(a){_gaq.push(["_trackSocial","facebook","like",a])}),FB.Event.subscribe("edge.remove",function(a){_gaq.push(["_trackSocial","facebook","unlike",a])}),FB.Event.subscribe("message.send",function(a){_gaq.push(["_trackSocial","facebook","send",a])}));"twttr"in b&&"events"in twttr&&"bind"in twttr.events&&twttr.events.bind("tweet",function(a){if(a){var b;if(a.target&&a.target.nodeName=="IFRAME")a:{if(a=a.target.src){a=a.split("#")[0].match(/[^?=&]+=([^&]*)?/g);b=0;for(var c;c=a[b];++b)if(c.indexOf("url")===0){b=unescape(c.split("=")[1]);break a}}b=void 0}_gaq.push(["_trackSocial","twitter","tweet",b])}})})})(window);
/* ]]> */
</script>
</head>

<body class="nbviewer">

  <!-- These are loaded at the top of the body so they are available to
       notebook cells when they are loaded below. -->
  <script src="/static/components/jquery/dist/jquery.min.js?v=e071abda8fe61194711cfc2ab99fe104"></script>
  <script src="/static/components/requirejs/require.js?v=6da8be361b9ee26c5e721e76c6d4afce"></script>
  <script src="/static/components/moment/min/moment.min.js?v=89f87298ad94aa1e6b92f42eb66da043"></script>

<!-- Navbar
================================================== -->
  <nav id="menubar" class="navbar navbar-default navbar-fixed-top" data-spy="affix">
    <div class="container">
      <div class="navbar-header">
        <button type="button" class="navbar-toggle collapsed" data-toggle="collapse" data-target=".navbar-collapse">
          <span class="sr-only">Toggle navigation</span>
          <i class="fa fa-bars"></i>
        </button>
        <a class="navbar-brand" href="/">
          <img src="/static/img/nav_logo.svg?v=479cefe8d932fb14a67b93911b97d70f" width="159"/>
        </a>
      </div>

      <div class="collapse navbar-collapse">
        <ul class="nav navbar-nav navbar-right">
          <li>
            <a class="active" href="http://jupyter.org">JUPYTER</a>
          </li>
          <li>
    <a href="/faq" title="FAQ" >
      
        <span>FAQ</span>
      
    </a>
  </li>

          
  
    
      
        <li>
    <a href="/format/script/url/maartenmarx.nl/teaching/DataScience//Assignments/ASSIGNMENTS/Assignment5.ipynb" title="View as Code" >
      <span class="fa fa- fa-2x menu-icon"></span>
      <span class="menu-text">View as Code</span>
    </a>
  </li>
      
    
  
    
  

  
    <li>
    <a href="#" title="Python 2 Kernel" >
      <span class="fa fa-server fa-2x menu-icon"></span>
      <span class="menu-text">Python 2 Kernel</span>
    </a>
  </li>
  

  

  <li>
    <a href="http://maartenmarx.nl/teaching/DataScience//Assignments/ASSIGNMENTS/Assignment5.ipynb" title="Download Notebook" download>
      <span class="fa fa-download fa-2x menu-icon"></span>
      <span class="menu-text">Download Notebook</span>
    </a>
  </li>

        </ul>
      </div><!-- /.navbar-collapse -->
      
      
    </div>
  </nav>

  <div class="container container-main">
    
  
  <div id="notebook">
    <div id="notebook-container">
      
<div class="cell border-box-sizing text_cell rendered">
<div class="prompt input_prompt">
</div>
<div class="inner_cell">
<div class="text_cell_render border-box-sizing rendered_html">
<h1 id="Assignment-5">Assignment 5<a class="anchor-link" href="#Assignment-5">&#182;</a></h1><h2 id="Notebook-made-by">Notebook made by<a class="anchor-link" href="#Notebook-made-by">&#182;</a></h2><table>
<thead><tr>
<th style="text-align:left"><strong> Name</strong></th>
<th style="text-align:left"><strong>Student id</strong></th>
<th style="text-align:left"><strong>email</strong></th>
</tr>
</thead>
<tbody>
<tr>
<td style="text-align:left">.</td>
<td style="text-align:left"></td>
<td style="text-align:left"></td>
</tr>
<tr>
<td style="text-align:left"></td>
<td style="text-align:left"></td>
<td style="text-align:left">.</td>
</tr>
</tbody>
</table>
<h3 id="Pledge-(taken-from-Coursera's-Honor-Code-)">Pledge (taken from <a href="https://www.coursera.org/about/terms/honorcode">Coursera's Honor Code</a> )<a class="anchor-link" href="#Pledge-(taken-from-Coursera's-Honor-Code-)">&#182;</a></h3><p>Put here a selfie with your photo where you hold a signed paper with the following text: (if this is team work, put two selfies here). The link must be to some place on the web, not to a local file.</p>
<blockquote><p>My answers to homework, quizzes and exams will be my own work (except for assignments that explicitly permit collaboration).</p>
<p>I will not make solutions to homework, quizzes or exams available to anyone else. This includes both solutions written by me, as well as any official solutions provided by the course staff.</p>
<p>I will not engage in any other activities that will dishonestly improve my results or dishonestly improve/hurt the results of others.</p>
</blockquote>
<p><img src='link to your selfie'/></p>
<h3 id="Note">Note<a class="anchor-link" href="#Note">&#182;</a></h3><ul>
<li><strong>Assignments without the selfies or completely filled in information will not be graded and receive 0 points.</strong></li>
</ul>

</div>
</div>
</div>
<div class="cell border-box-sizing text_cell rendered">
<div class="prompt input_prompt">
</div>
<div class="inner_cell">
<div class="text_cell_render border-box-sizing rendered_html">
<p>We maken de toetsassignment af. We bekijken dus weer het artikel <a href="http://language.media.mit.edu/paper">http://language.media.mit.edu/paper</a>. In de toets hebben we de netwerkdata gebaseerd op boekvertalingen gemaakt.
In dit huiswerk gaan we verder.</p>

</div>
</div>
</div>
<div class="cell border-box-sizing code_cell rendered">
<div class="input">
<div class="prompt input_prompt">In&nbsp;[202]:</div>
<div class="inner_cell">
    <div class="input_area">
<div class=" highlight hl-ipython2"><pre><span></span><span class="o">%</span><span class="k">matplotlib</span> inline
<span class="kn">import</span> <span class="nn">pandas</span> <span class="kn">as</span> <span class="nn">pd</span>
<span class="kn">import</span> <span class="nn">re</span>
<span class="kn">from</span> <span class="nn">lxml</span> <span class="kn">import</span> <span class="n">etree</span> 
<span class="kn">from</span> <span class="nn">bz2file</span> <span class="kn">import</span> <span class="n">BZ2File</span>
<span class="kn">import</span> <span class="nn">codecs</span>
<span class="kn">import</span> <span class="nn">nltk</span>
<span class="kn">from</span> <span class="nn">collections</span> <span class="kn">import</span> <span class="n">defaultdict</span>
<span class="kn">from</span>  <span class="nn">itertools</span> <span class="kn">import</span> <span class="n">combinations</span>  <span class="c1"># ideal for creating all possible pairs that out can make out of a set</span>
<span class="kn">from</span> <span class="nn">__future__</span> <span class="kn">import</span> <span class="n">division</span>
<span class="kn">from</span> <span class="nn">math</span> <span class="kn">import</span> <span class="n">sqrt</span> 
</pre></div>

</div>
</div>
</div>

</div>
<div class="cell border-box-sizing text_cell rendered">
<div class="prompt input_prompt">
</div>
<div class="inner_cell">
<div class="text_cell_render border-box-sizing rendered_html">
<h3 id="Deel--Wikipedia">Deel  Wikipedia<a class="anchor-link" href="#Deel--Wikipedia">&#182;</a></h3><ol>
<li>Maak   van de Wikipedia <em>raw</em> dataset de netwerk  datasets die op <a href="http://language.media.mit.edu/data">http://language.media.mit.edu/data</a> beschreven staan. </li>
<li>We bekijken in hoeverre onze resultaten afwijken van die in de geleverde bewerkte datasets.</li>
<li>We leggen eventuele verschillen uit.</li>
</ol>
<h4 id="In-Stapjes">In Stapjes<a class="anchor-link" href="#In-Stapjes">&#182;</a></h4><p>We doen de opdracht in een aantal stapjes.</p>
<h4 id="Let-op,-je-notebook-moet-vanzelf-draaien.-Alle-data-moet-opgehaald-worden.">Let op, je notebook moet vanzelf draaien. Alle data moet opgehaald worden.<a class="anchor-link" href="#Let-op,-je-notebook-moet-vanzelf-draaien.-Alle-data-moet-opgehaald-worden.">&#182;</a></h4>
</div>
</div>
</div>
<div class="cell border-box-sizing text_cell rendered">
<div class="prompt input_prompt">
</div>
<div class="inner_cell">
<div class="text_cell_render border-box-sizing rendered_html">
<h1 id="Download">Download<a class="anchor-link" href="#Download">&#182;</a></h1><ol>
<li>Download de ruwe dataset als zip file, ontzip hem en sla hem in de directory op waarin dit notebook ook staat.<ul>
<li>Dit mag je met de hand doen. De code <strong>moet niet runbaar</strong> in je notebook staan.</li>
<li>Maar zorg dat de rest van de code er vanuit gaat dat <code>wikipedia_userlang_iso639-3.tsv</code> in dezelfde folder staat als dit notebook</li>
</ul>
</li>
<li>Lees de 2 bewerkte datasets over Wikipedia <em>Wikipedia Stats by Language</em> en <em>Edges</em> direct in van de urls in  pandas Dataframes, die je respectivelijk <code>dataset_stats_wikipedia</code> en <code>wikipedia_edges</code> noemt.<ol>
<li>Maak de Taal code de index in het eerste frame, en hou alleen de Kolommen <code>['Editors', 'Edits','Multilinguals','Edits by mulitlinguals']</code></li>
<li>Sorteer het frame op de index</li>
<li>Verwijder de kolommen <code>SourceLanguageName    TargetLanguageName    SourcePopulation    TargetPopulations</code> uit het tweede frame</li>
<li>Sorteer het frame op <code>SourceLanguageName</code></li>
<li>Laat steeds met <code>head()</code> zien dat het werkt.</li>
</ol>
</li>
</ol>
<h3 id="Je-antwoord-bestaat-uit-2-cellen">Je antwoord bestaat uit 2 cellen<a class="anchor-link" href="#Je-antwoord-bestaat-uit-2-cellen">&#182;</a></h3>
</div>
</div>
</div>
<div class="cell border-box-sizing code_cell rendered">
<div class="input">
<div class="prompt input_prompt">In&nbsp;[216]:</div>
<div class="inner_cell">
    <div class="input_area">
<div class=" highlight hl-ipython2"><pre><span></span><span class="c1">#download the data</span>

<span class="c1"># jouw code hier </span>
<span class="n">dataset_stats_wikipedia</span><span class="o">.</span><span class="n">head</span><span class="p">()</span>
</pre></div>

</div>
</div>
</div>

<div class="output_wrapper">
<div class="output">


<div class="output_area"><div class="prompt output_prompt">Out[216]:</div>

<div class="output_html rendered_html output_subarea output_execute_result">
<div>
<table border="1" class="dataframe">
  <thead>
    <tr style="text-align: right;">
      <th></th>
      <th>Editors</th>
      <th>Edits</th>
      <th>Multilinguals</th>
      <th>Edits by mulitlinguals</th>
    </tr>
    <tr>
      <th>Code</th>
      <th></th>
      <th></th>
      <th></th>
      <th></th>
    </tr>
  </thead>
  <tbody>
    <tr>
      <th>aar</th>
      <td>4</td>
      <td>46</td>
      <td>3</td>
      <td>9</td>
    </tr>
    <tr>
      <th>abk</th>
      <td>15</td>
      <td>2807</td>
      <td>7</td>
      <td>1494</td>
    </tr>
    <tr>
      <th>afr</th>
      <td>511</td>
      <td>103652</td>
      <td>352</td>
      <td>95988</td>
    </tr>
    <tr>
      <th>aka</th>
      <td>31</td>
      <td>327</td>
      <td>24</td>
      <td>240</td>
    </tr>
    <tr>
      <th>amh</th>
      <td>68</td>
      <td>4596</td>
      <td>45</td>
      <td>4039</td>
    </tr>
  </tbody>
</table>
</div>
</div>

</div>

</div>
</div>

</div>
<div class="cell border-box-sizing code_cell rendered">
<div class="input">
<div class="prompt input_prompt">In&nbsp;[225]:</div>
<div class="inner_cell">
    <div class="input_area">
<div class=" highlight hl-ipython2"><pre><span></span><span class="c1"># jouw code hier </span>
<span class="n">wikipedia_edges</span><span class="o">.</span><span class="n">head</span><span class="p">()</span>
</pre></div>

</div>
</div>
</div>

<div class="output_wrapper">
<div class="output">


<div class="output_area"><div class="prompt output_prompt">Out[225]:</div>

<div class="output_html rendered_html output_subarea output_execute_result">
<div>
<table border="1" class="dataframe">
  <thead>
    <tr style="text-align: right;">
      <th></th>
      <th>SourceLanguageCode</th>
      <th>TargetLanguageCode</th>
      <th>Coocurrences</th>
      <th>PhiCorrelation</th>
      <th>Tstatistic</th>
    </tr>
  </thead>
  <tbody>
    <tr>
      <th>0</th>
      <td>afr</td>
      <td>eng</td>
      <td>271</td>
      <td>0.013648</td>
      <td>17.207148</td>
    </tr>
    <tr>
      <th>1</th>
      <td>afr</td>
      <td>nld</td>
      <td>78</td>
      <td>0.015377</td>
      <td>3.332197</td>
    </tr>
    <tr>
      <th>2</th>
      <td>amh</td>
      <td>eng</td>
      <td>28</td>
      <td>0.004344</td>
      <td>5.476711</td>
    </tr>
    <tr>
      <th>3</th>
      <td>ang</td>
      <td>eng</td>
      <td>51</td>
      <td>0.006363</td>
      <td>8.021067</td>
    </tr>
    <tr>
      <th>4</th>
      <td>ara</td>
      <td>deu</td>
      <td>446</td>
      <td>0.007497</td>
      <td>3.550224</td>
    </tr>
  </tbody>
</table>
</div>
</div>

</div>

</div>
</div>

</div>
<div class="cell border-box-sizing text_cell rendered">
<div class="prompt input_prompt">
</div>
<div class="inner_cell">
<div class="text_cell_render border-box-sizing rendered_html">
<h1 id="Haal-gegevens-uit-de-ruwe-data,-deel-1">Haal gegevens uit de ruwe data, deel 1<a class="anchor-link" href="#Haal-gegevens-uit-de-ruwe-data,-deel-1">&#182;</a></h1><ul>
<li>De file <code>'wikipedia_userlang_iso639-3.tsv'</code> lijkt een spreadsheet maar hij heeft niet op elke regel evenveel kolommen.</li>
<li>Processing met pandas is dus ook lastig.</li>
<li>Als alternatief gaan we file zelf regel voor regel  inlezen, en de gewenste gegevens opslaan.</li>
<li>Ons einddoel is om een dataframe te maken dat er precies zo uitziet als <code>dataset_stats_wikipedia</code></li>
<li>We doen dat in 2 stappen:<ol>
<li>We maken een aantal dicts aan met de gewenste gegevens</li>
<li>Van elke dict maken we een dataframe met <code>pd.DataFrame.from_dict</code></li>
<li>Die plakken we allemaal aan elkaar met <code>join</code> (neem een inner join)</li>
<li>Noem het eindresultaat <code>stats</code>, sorteer het ook op de index en laat het begin zien met <code>head</code>.</li>
<li>Check natuurlijk zelf of je op de goede weg zit door je resultaat te vergelijken met <code>dataset_stats_wikipedia</code></li>
</ol>
</li>
<li>Hieronder staat wat code om je op weg te helpen</li>
<li><strong>Lees het artikel en de supplementary material goed om net als zij de ruwe data te filteren.</strong></li>
</ul>
<h1 id="Haal-gegevens-uit-de-ruwe-data,-deel-2">Haal gegevens uit de ruwe data, deel 2<a class="anchor-link" href="#Haal-gegevens-uit-de-ruwe-data,-deel-2">&#182;</a></h1><ul>
<li>In dezelfde code waarin je de vorige vraag hebt gemaakt, maak je ook een dict <code>pairs</code> aan. Hier zijn de sleutels paren van taalcodes, <strong>waarbij de eerste altijd alfabetisch eerder is dan de tweede</strong>, en hun waarde het aantal cooccurences.</li>
<li>Maak van dit dict een Dataframe <code>edges</code>, waarbij <code>edges.columns=['SourceLanguageCode','TargetLanguageCode','Coocurrencesmy']</code></li>
<li>Sorteer ook hier op <code>'SourceLanguageCode'</code></li>
<li><strong>Lees het artikel en de supplementary material goed om net als zij de ruwe data te filteren.</strong></li>
</ul>

</div>
</div>
</div>
<div class="cell border-box-sizing code_cell rendered">
<div class="input">
<div class="prompt input_prompt">In&nbsp;[111]:</div>
<div class="inner_cell">
    <div class="input_area">
<div class=" highlight hl-ipython2"><pre><span></span><span class="c1"># Your code </span>
<span class="k">with</span> <span class="nb">open</span><span class="p">(</span><span class="s1">&#39;wikipedia_userlang_iso639-3.tsv&#39;</span><span class="p">)</span> <span class="k">as</span> <span class="n">f</span><span class="p">:</span>
    <span class="n">c</span><span class="o">=</span><span class="mi">0</span>
    <span class="n">editors</span><span class="o">=</span><span class="n">defaultdict</span><span class="p">(</span><span class="nb">int</span><span class="p">)</span>
    <span class="n">edits</span><span class="o">=</span><span class="n">defaultdict</span><span class="p">(</span><span class="nb">int</span><span class="p">)</span>
    <span class="n">multilingual</span><span class="o">=</span><span class="n">defaultdict</span><span class="p">(</span><span class="nb">int</span><span class="p">)</span>
    <span class="n">Edits_by_mulitlinguals</span><span class="o">=</span><span class="n">defaultdict</span><span class="p">(</span><span class="nb">int</span><span class="p">)</span>
    <span class="n">pairs</span><span class="o">=</span> <span class="n">defaultdict</span><span class="p">(</span><span class="nb">int</span><span class="p">)</span>
    <span class="n">c</span><span class="o">=</span><span class="mi">0</span>
    <span class="k">for</span> <span class="n">l</span> <span class="ow">in</span> <span class="n">f</span><span class="p">:</span>
        <span class="c1"># your code</span>
            <span class="n">c</span><span class="o">+=</span><span class="mi">1</span>
            <span class="k">if</span> <span class="n">c</span><span class="o">%</span> <span class="mi">10</span><span class="o">**</span><span class="mi">5</span><span class="o">==</span><span class="mi">0</span><span class="p">:</span>  <span class="c1"># om te debuggen doe ik hier 10**2==0: break </span>
                <span class="k">print</span> <span class="n">c</span>
        
<span class="nb">len</span><span class="p">(</span><span class="n">pairs</span><span class="p">)</span>
</pre></div>

</div>
</div>
</div>

<div class="output_wrapper">
<div class="output">


<div class="output_area"><div class="prompt"></div>
<div class="output_subarea output_stream output_stdout output_text">
<pre>100000
200000
300000
400000
500000
600000
700000
800000
900000
1000000
1100000
1200000
1300000
1400000
1500000
1600000
1700000
1800000
1900000
2000000
2100000
2200000
2300000
2400000
2500000
</pre>
</div>
</div>

<div class="output_area"><div class="prompt output_prompt">Out[111]:</div>


<div class="output_text output_subarea output_execute_result">
<pre>4157</pre>
</div>

</div>

</div>
</div>

</div>
<div class="cell border-box-sizing code_cell rendered">
<div class="input">
<div class="prompt input_prompt">In&nbsp;[220]:</div>
<div class="inner_cell">
    <div class="input_area">
<div class=" highlight hl-ipython2"><pre><span></span><span class="c1">#Deel 1</span>
<span class="c1"># jouw code hier </span>
<span class="n">stats</span><span class="o">.</span><span class="n">head</span><span class="p">()</span>
</pre></div>

</div>
</div>
</div>

<div class="output_wrapper">
<div class="output">


<div class="output_area"><div class="prompt output_prompt">Out[220]:</div>

<div class="output_html rendered_html output_subarea output_execute_result">
<div>
<table border="1" class="dataframe">
  <thead>
    <tr style="text-align: right;">
      <th></th>
      <th>Editors</th>
      <th>Edits</th>
      <th>Multilinguals</th>
      <th>Edits by mulitlinguals</th>
    </tr>
  </thead>
  <tbody>
    <tr>
      <th>aar</th>
      <td>5</td>
      <td>48</td>
      <td>4</td>
      <td>11</td>
    </tr>
    <tr>
      <th>abk</th>
      <td>15</td>
      <td>2807</td>
      <td>7</td>
      <td>1494</td>
    </tr>
    <tr>
      <th>afr</th>
      <td>521</td>
      <td>103684</td>
      <td>355</td>
      <td>95994</td>
    </tr>
    <tr>
      <th>aka</th>
      <td>32</td>
      <td>329</td>
      <td>25</td>
      <td>242</td>
    </tr>
    <tr>
      <th>amh</th>
      <td>69</td>
      <td>4600</td>
      <td>45</td>
      <td>4039</td>
    </tr>
  </tbody>
</table>
</div>
</div>

</div>

</div>
</div>

</div>
<div class="cell border-box-sizing code_cell rendered">
<div class="input">
<div class="prompt input_prompt">In&nbsp;[182]:</div>
<div class="inner_cell">
    <div class="input_area">
<div class=" highlight hl-ipython2"><pre><span></span><span class="c1">#Deel2</span>

<span class="c1"># jouw code hier </span>
<span class="n">edges</span><span class="o">.</span><span class="n">head</span><span class="p">(</span><span class="mi">10</span><span class="p">)</span>
</pre></div>

</div>
</div>
</div>

<div class="output_wrapper">
<div class="output">


<div class="output_area"><div class="prompt"></div>
<div class="output_subarea output_stream output_stdout output_text">
<pre>1391 130 164
</pre>
</div>
</div>

<div class="output_area"><div class="prompt output_prompt">Out[182]:</div>

<div class="output_html rendered_html output_subarea output_execute_result">
<div>
<table border="1" class="dataframe">
  <thead>
    <tr style="text-align: right;">
      <th></th>
      <th>SourceLanguageCode</th>
      <th>TargetLanguageCode</th>
      <th>Coocurrencesmy</th>
    </tr>
  </thead>
  <tbody>
    <tr>
      <th>2327</th>
      <td>afr</td>
      <td>eng</td>
      <td>272</td>
    </tr>
    <tr>
      <th>2775</th>
      <td>afr</td>
      <td>fra</td>
      <td>35</td>
    </tr>
    <tr>
      <th>3964</th>
      <td>afr</td>
      <td>ita</td>
      <td>7</td>
    </tr>
    <tr>
      <th>1046</th>
      <td>afr</td>
      <td>spa</td>
      <td>21</td>
    </tr>
    <tr>
      <th>3012</th>
      <td>afr</td>
      <td>deu</td>
      <td>70</td>
    </tr>
    <tr>
      <th>456</th>
      <td>afr</td>
      <td>epo</td>
      <td>6</td>
    </tr>
    <tr>
      <th>2501</th>
      <td>afr</td>
      <td>nld</td>
      <td>79</td>
    </tr>
    <tr>
      <th>226</th>
      <td>afr</td>
      <td>rus</td>
      <td>11</td>
    </tr>
    <tr>
      <th>2082</th>
      <td>afr</td>
      <td>pol</td>
      <td>6</td>
    </tr>
    <tr>
      <th>3055</th>
      <td>afr</td>
      <td>lim</td>
      <td>5</td>
    </tr>
  </tbody>
</table>
</div>
</div>

</div>

</div>
</div>

</div>
<div class="cell border-box-sizing text_cell rendered">
<div class="prompt input_prompt">
</div>
<div class="inner_cell">
<div class="text_cell_render border-box-sizing rendered_html">
<h1 id="Vergelijk">Vergelijk<a class="anchor-link" href="#Vergelijk">&#182;</a></h1><p>We gaan nu onze dataframes vergelijken met die we hebben opgehaald.</p>
<p>We zijn natuurlijk erg benieuwd of er verschillen zijn, en vooral ook groot die dan zijn, als ze er zijn.</p>
<ol>
<li>Join <code>dataset_stats_wikipedia</code> en <code>stats</code> in een nieuwe dataframe <code>samen</code>. <ul>
<li>laat met <code>samen.describe()</code> zien hoe groot of klein de verschillen zijn</li>
</ul>
</li>
<li>Maak een functie <code>fout_percentage</code> waar je twee kolommen en een dataframe aan geeft en die <em>het verschil tussen die twee kolommen bepaalt, en omzet naar een "foutpercentage"</em>.</li>
<li>Bereken dat percentage voor de vier kolommen <code>['Editors', 'Edits','Multilinguals','Edits by mulitlinguals']</code> en print het netjes uit.</li>
<li>Leg in een paar zinnen uit waarom jouw maat voor "foutpercentage" echt ergens op slaat, en het een goede indicator geeft. </li>
<li>Doe tenslotte hetzelfde voor <code>edges</code>. <ul>
<li>Hier doe je natuurlijk een <code>merge</code></li>
<li>Bekijk hier eens het verschil tussen een outer en een inner join.</li>
<li>Leg uit wat er hier aan de hand is.</li>
<li>Kan je het verschil verklaren?</li>
</ul>
</li>
</ol>

</div>
</div>
</div>
<div class="cell border-box-sizing code_cell rendered">
<div class="input">
<div class="prompt input_prompt">In&nbsp;[230]:</div>
<div class="inner_cell">
    <div class="input_area">
<div class=" highlight hl-ipython2"><pre><span></span><span class="c1"># vergelijk stats met dataset_stats_wikipedia</span>

<span class="n">samen</span><span class="o">=</span>

<span class="k">def</span> <span class="nf">fout_percentage</span><span class="p">(</span><span class="n">col1</span><span class="p">,</span><span class="n">col2</span><span class="p">,</span><span class="n">df</span><span class="p">):</span>
     <span class="c1"># jouw code hier </span>

 

<span class="k">for</span> <span class="n">col</span> <span class="ow">in</span> <span class="n">stats</span><span class="o">.</span><span class="n">columns</span><span class="p">:</span>
    <span class="k">print</span> <span class="s2">&quot;</span><span class="si">%s</span><span class="se">\t</span><span class="si">%s</span><span class="se">\t</span><span class="si">%s</span><span class="s2">&quot;</span> <span class="o">%</span><span class="p">(</span><span class="n">col</span><span class="p">,</span> <span class="n">fout_percentage</span><span class="p">(</span><span class="n">col</span><span class="p">,</span> <span class="n">col</span><span class="o">+</span><span class="s1">&#39;my&#39;</span><span class="p">,</span> <span class="n">samen</span><span class="p">)</span>
</pre></div>

</div>
</div>
</div>

<div class="output_wrapper">
<div class="output">


<div class="output_area"><div class="prompt"></div>
<div class="output_subarea output_stream output_stdout output_text">
<pre>Editors	0.518	4689
Edits	0.014	17285
Multilinguals	0.349	503
Edits by mulitlinguals	0.003	1006
</pre>
</div>
</div>

</div>
</div>

</div>
<div class="cell border-box-sizing code_cell rendered">
<div class="input">
<div class="prompt input_prompt">In&nbsp;[231]:</div>
<div class="inner_cell">
    <div class="input_area">
<div class=" highlight hl-ipython2"><pre><span></span><span class="n">samen</span><span class="o">.</span><span class="n">describe</span><span class="p">()</span>
</pre></div>

</div>
</div>
</div>

<div class="output_wrapper">
<div class="output">


<div class="output_area"><div class="prompt output_prompt">Out[231]:</div>

<div class="output_html rendered_html output_subarea output_execute_result">
<div>
<table border="1" class="dataframe">
  <thead>
    <tr style="text-align: right;">
      <th></th>
      <th>Editors</th>
      <th>Edits</th>
      <th>Multilinguals</th>
      <th>Edits by mulitlinguals</th>
      <th>Editorsmy</th>
      <th>Editsmy</th>
      <th>Multilingualsmy</th>
      <th>Edits by mulitlingualsmy</th>
    </tr>
  </thead>
  <tbody>
    <tr>
      <th>count</th>
      <td>238.000000</td>
      <td>2.380000e+02</td>
      <td>238.000000</td>
      <td>238.000000</td>
      <td>238.000000</td>
      <td>2.380000e+02</td>
      <td>238.000000</td>
      <td>238.000000</td>
    </tr>
    <tr>
      <th>mean</th>
      <td>12243.554622</td>
      <td>1.608757e+06</td>
      <td>2648.226891</td>
      <td>729135.878151</td>
      <td>12307.088235</td>
      <td>1.608984e+06</td>
      <td>2657.487395</td>
      <td>729154.399160</td>
    </tr>
    <tr>
      <th>std</th>
      <td>105148.317861</td>
      <td>1.322120e+07</td>
      <td>15606.769464</td>
      <td>5342618.270859</td>
      <td>105478.073646</td>
      <td>1.322242e+07</td>
      <td>15647.386691</td>
      <td>5342696.119103</td>
    </tr>
    <tr>
      <th>min</th>
      <td>1.000000</td>
      <td>2.000000e+00</td>
      <td>1.000000</td>
      <td>2.000000</td>
      <td>1.000000</td>
      <td>2.000000e+00</td>
      <td>1.000000</td>
      <td>2.000000</td>
    </tr>
    <tr>
      <th>25%</th>
      <td>20.250000</td>
      <td>1.410500e+03</td>
      <td>13.000000</td>
      <td>562.500000</td>
      <td>21.000000</td>
      <td>1.413500e+03</td>
      <td>13.000000</td>
      <td>562.500000</td>
    </tr>
    <tr>
      <th>50%</th>
      <td>61.500000</td>
      <td>8.092500e+03</td>
      <td>39.000000</td>
      <td>5325.500000</td>
      <td>63.500000</td>
      <td>8.094500e+03</td>
      <td>39.000000</td>
      <td>5325.500000</td>
    </tr>
    <tr>
      <th>75%</th>
      <td>458.250000</td>
      <td>1.099002e+05</td>
      <td>238.500000</td>
      <td>64802.000000</td>
      <td>463.250000</td>
      <td>1.099082e+05</td>
      <td>240.000000</td>
      <td>64802.000000</td>
    </tr>
    <tr>
      <th>max</th>
      <td>1589250.000000</td>
      <td>1.983610e+08</td>
      <td>218320.000000</td>
      <td>78341211.000000</td>
      <td>1593939.000000</td>
      <td>1.983783e+08</td>
      <td>218823.000000</td>
      <td>78342217.000000</td>
    </tr>
  </tbody>
</table>
</div>
</div>

</div>

</div>
</div>

</div>
<div class="cell border-box-sizing code_cell rendered">
<div class="input">
<div class="prompt input_prompt">In&nbsp;[&nbsp;]:</div>
<div class="inner_cell">
    <div class="input_area">
<div class=" highlight hl-ipython2"><pre><span></span><span class="c1"># vergelijk edges met &quot;inner join&quot;</span>
 
</pre></div>

</div>
</div>
</div>

</div>
<div class="cell border-box-sizing code_cell rendered">
<div class="input">
<div class="prompt input_prompt">In&nbsp;[&nbsp;]:</div>
<div class="inner_cell">
    <div class="input_area">
<div class=" highlight hl-ipython2"><pre><span></span><span class="c1"># vergelijk edges met &quot;outer join&quot;</span>

<span class="n">edges2</span><span class="o">=</span><span class="n">pd</span><span class="o">.</span><span class="n">merge</span><span class="p">(</span><span class="n">edges</span><span class="p">,</span><span class="n">wikipedia_edges</span><span class="p">,</span> <span class="n">how</span><span class="o">=</span><span class="s1">&#39;outer&#39;</span><span class="p">,</span> <span class="n">on</span><span class="o">=</span><span class="p">[</span><span class="s1">&#39;SourceLanguageCode&#39;</span><span class="p">,</span><span class="s1">&#39;TargetLanguageCode&#39;</span><span class="p">])</span>
<span class="k">print</span> <span class="n">fout_percentage</span><span class="p">(</span><span class="s1">&#39;Coocurrencesmy&#39;</span><span class="p">,</span><span class="s1">&#39;Coocurrences&#39;</span><span class="p">,</span> <span class="n">edges2</span><span class="p">)</span>
<span class="n">edges2</span><span class="o">.</span><span class="n">describe</span><span class="p">()</span>
</pre></div>

</div>
</div>
</div>

</div>
<div class="cell border-box-sizing text_cell rendered">
<div class="prompt input_prompt">
</div>
<div class="inner_cell">
<div class="text_cell_render border-box-sizing rendered_html">
<h1 id="Compute-our-own-PhiCorrelation-and-T-statistic">Compute our own PhiCorrelation and T-statistic<a class="anchor-link" href="#Compute-our-own-PhiCorrelation-and-T-statistic">&#182;</a></h1><p>Maak een functie <code>PhiCorrelation(i,j)</code> die gegeven 2 talen, de $\phi$ correlatie en de $t$-statistic uitrekent volgens vergelijkingen [1] en [2] uit het artikel.</p>
<ul>
<li>Let vooral op hoe je $N$ bepaalt. En beschrijf goed waarom je precies die keuze hebt genomen. Je uitkomsten hangen daar sterk vanaf.</li>
</ul>

</div>
</div>
</div>
<div class="cell border-box-sizing code_cell rendered">
<div class="input">
<div class="prompt input_prompt">In&nbsp;[213]:</div>
<div class="inner_cell">
    <div class="input_area">
<div class=" highlight hl-ipython2"><pre><span></span><span class="c1"># Compute our own PhiCorrelation and T-statistic</span>


<span class="k">def</span> <span class="nf">PhiCorrelation</span><span class="p">(</span><span class="n">i</span><span class="p">,</span><span class="n">j</span><span class="p">):</span>
     <span class="c1">#Your code here</span>
    <span class="k">return</span> <span class="n">Mij</span><span class="p">,</span><span class="n">Mi</span><span class="p">,</span> <span class="n">Mj</span><span class="p">,</span>  <span class="n">N</span><span class="p">,</span> <span class="n">PhiCorrelation</span><span class="p">,</span> <span class="n">Tstatistic</span>

<span class="c1"># test</span>
<span class="n">PhiCorrelation</span><span class="p">(</span><span class="s1">&#39;afr&#39;</span><span class="p">,</span><span class="s1">&#39;nld&#39;</span><span class="p">)</span>
</pre></div>

</div>
</div>
</div>

<div class="output_wrapper">
<div class="output">


<div class="output_area"><div class="prompt output_prompt">Out[213]:</div>


<div class="output_text output_subarea output_execute_result">
<pre>(79, 531, 26706, 2929087, 0.019785094309992902, 3.2337861998200852)</pre>
</div>

</div>

</div>
</div>

</div>
<div class="cell border-box-sizing text_cell rendered">
<div class="prompt input_prompt">
</div>
<div class="inner_cell">
<div class="text_cell_render border-box-sizing rendered_html">
<h1 id="Reflectie">Reflectie<a class="anchor-link" href="#Reflectie">&#182;</a></h1><p>Je hebt getracht een deel van het artikel te reproduceren. Ook hebben we gedacht over het artikel en de mate van herhaalbaarheid van de vermelde gegevens.</p>
<p>Geef nu in een half A4 je eigen mening. Behandel deze twee punten:</p>
<ol>
<li>Wat was al goed gedaan?</li>
<li>Wat kon beter en hoe dan?</li>
</ol>

</div>
</div>
</div>
<div class="cell border-box-sizing code_cell rendered">
<div class="input">
<div class="prompt input_prompt">In&nbsp;[&nbsp;]:</div>
<div class="inner_cell">
    <div class="input_area">
<div class=" highlight hl-ipython2"><pre><span></span> 
</pre></div>

</div>
</div>
</div>

</div>
 


    </div>
  </div>

  </div>


  
    <footer class="footer hidden-print">
      <div class="container">
        <div class="col-md-4">
          <p>
            This website does not host notebooks, it only renders notebooks
            available on other websites.
          </p>
        </div>

        <div class="col-md-4">
          <p>
            Delivered by <a href="http://www.fastly.com/">Fastly</a>,
            Rendered by <a href="https://developer.rackspace.com/?nbviewer=awesome">Rackspace</a>
          </p>
          <p>
            nbviewer GitHub <a href="https://github.com/jupyter/nbviewer">repository</a>.
          </p>
        </div>

        <div class="col-md-4">
          
  
            
              <p>
                nbviewer version:
                <a href="https://github.com/jupyter/nbviewer/commit/b5359ba07905c50c2021266b08f984d69653f45e">
                  b5359ba
                </a>
              </p>
            
          
  
  <p>
    nbconvert version: <a href="https://github.com/jupyter/nbconvert/releases/tag/4.3.0">
      4.3.0
    </a>
  </p>
  

          
  
  
  <p>
    Rendered
    <span class='date' data-date='Mon, 06 Feb 2017 08:34:04 UTC' title='Mon, 06 Feb 2017 08:34:04 UTC'>(Mon, 06 Feb 2017 08:34:04 UTC)</span>
  </p>
  

        </div>
      </div>
    </footer>
  

  <script src="https://unpkg.com/jupyter-js-widgets@2.0.*/dist/embed.js"></script>
  <script src="/static/components/bootstrap/js/bootstrap.min.js?v=5869c96cc8f19086aee625d670d741f9"></script>
  <script src="/static/components/headroom.js/dist/headroom.min.js?v=b0a311ea668f8e768ea375f4a7abb81c"></script>
  <script src="/static/components/headroom.js/dist/jQuery.headroom.min.js?v=f3a1bae118315d0c234afc74dc6aab71"></script>

  
  
  <script>
    $(function(){ $("#menubar").headroom({
      tolerance: 5,
      offset: 205,
      classes: {
        initial: "animated",
        pinned: "slideInDown",
        unpinned: "slideOutUp"
      }
    })});
  </script>


  <script>
    (function(i,s,o,g,r,a,m){i['GoogleAnalyticsObject']=r;i[r]=i[r]||function(){
      (i[r].q=i[r].q||[]).push(arguments)},i[r].l=1*new Date();a=s.createElement(o),
      m=s.getElementsByTagName(o)[0];a.async=1;a.src=g;m.parentNode.insertBefore(a,m)
    })(window,document,'script','//www.google-analytics.com/analytics.js','ga');
    ga('create', 'UA-38683231-2', 'auto');
    ga('send', 'pageview');
  </script>
  <script>
    require({
        paths: {
          moment: "/static/components/moment/min/moment.min.js?v=89f87298ad94aa1e6b92f42eb66da043"
        }
      }, ["moment"], function(moment){
      var date = $("footer .date"),
        m = moment(new Date(date.data('date'))),
        update = function(){ date.text(m.fromNow()); };
      setInterval(update, 61*1000);
      update();
      var w = $(window).scroll(function(event){
        $("body").toggleClass("scrolled", w.scrollTop() > 0);
      });
    });
  </script>
  <!--NEW RELIC Stop Perf Measurement-->
  
  <!--NEW RELIC End-->
</body>
</html>