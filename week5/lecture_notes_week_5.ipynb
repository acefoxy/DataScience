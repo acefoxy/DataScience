{
 "cells": [
  {
   "cell_type": "markdown",
   "metadata": {
    "slideshow": {
     "slide_type": "slide"
    }
   },
   "source": [
    "# Lecture Notes Week 5\n",
    "\n",
    "## Topics\n",
    "\n",
    "* [Literature](#Literature)\n",
    "* [Reproducability](#Reproducability)\n",
    "* [Pivot Tables in pandas](#Pivot-Tables-in-pandas)\n",
    " "
   ]
  },
  {
   "cell_type": "markdown",
   "metadata": {
    "slideshow": {
     "slide_type": "slide"
    }
   },
   "source": [
    "## [Literature](id:lit)\n",
    "* [_Publish your computer code: it is good enough_,  Nature 467, 753 (2010)](http://www.nature.com/news/2010/101013/full/467753a.html) \n",
    "\t* Starting point of the [Science Code Manifesto](http://sciencecodemanifesto.org/), endorsed among others by Peter Norvig, one of the gurus of AI.\n",
    "* [_The case for open computer programs_, Nature 482, 485–488 (23 February 2012)](http://www.nature.com/nature/journal/v482/n7386/full/nature10836.html)\n",
    "\t* Strong argument why code should be made available.\n",
    "* [Ronen S, Goncalves B, Hu KZ, Vespignani A, Pinker S, Hidalgo CA\n",
    "_Links that speak: the global language network and its association with global fame_,\n",
    "Proceedings of the National Academy of Sciences (PNAS) (2014) ](http://language.media.mit.edu/paper) \n",
    "\t* [Slides over dit artikel](../Data/LanguageNetwork/GlobalLanguageNetwork.slides.html)\n",
    "\n",
    " \n",
    "\n",
    "### Furter reading\n",
    "* [Nature focus on reproducability](http://www.nature.com/nature/focus/reproducibility/)\n",
    "\t* A bunch of articles summarizing Nature's view on this topic.\n",
    " "
   ]
  },
  {
   "cell_type": "markdown",
   "metadata": {
    "slideshow": {
     "slide_type": "slide"
    }
   },
   "source": [
    "## [Reproducability](id:r)\n",
    "We lezen  <http://language.media.mit.edu/paper> en alle bijbehorende \n",
    "onderdelen (data op de site, Supplementary material).\n",
    "\n",
    "We gaan nu kijken in hoeverre de resultaten die in dit artikel genoemd worden reproduceerbaar zijn. \n",
    "\n",
    "Ook gaan we kijken hoe het artikel nog beter zou kunnen voldoen aan het [Science Code Manifesto](http://sciencecodemanifesto.org/). Wat mist er  nog op de website van het artikel? Is het haalbaar dit toe te voegen? \n",
    "\n",
    "** _Gewetensvraag:_ Zou het haalbaar zijn voor jullie om je scriptie op die manier op te leveren?**"
   ]
  },
  {
   "cell_type": "markdown",
   "metadata": {
    "slideshow": {
     "slide_type": "slide"
    }
   },
   "source": [
    "#### Ga eens na:\n",
    "1. In hoeverre is dit artikel en de data erin representatief voor geesteswetenschappelijk onderzoek?\n",
    "2. Wat maakte deze data relatief makkelijk te verwerken, en dus ook relatief makkelijk te herhalen?\n",
    "\t3. Denk vooral aan de momenten dat er onzekerheid of (mogelijk subjectieve) interpretatie van de data in de data geslopen is. Dingen die moeilijk op te schrijven zijn, en dus ook moeilijk te herhalen. \n",
    "3. Geef voorbeelden van data en onderzoeken (met behlup van computerprogrammas) waarbij interpretatie een veel grotere rol speelt. "
   ]
  },
  {
   "cell_type": "markdown",
   "metadata": {
    "slideshow": {
     "slide_type": "slide"
    }
   },
   "source": [
    "## [Pivot Tables in pandas](id:pi)\n",
    "\n",
    "### What is a Pivot Table?\n",
    "\n",
    "\n",
    "* Complexe group-by bewerking op spreadsheet-data,\n",
    "* resulterend in een (minstens) 3D tabel\n",
    "\t* index (kan hierarchisch zijn)\n",
    "\t* kolom (kunnen er ook meer zijn)\n",
    "\t* waardes, gegeven door een aggregatie-functie _f_.\n",
    "* In de rijen (de index) staan de waarden van de index-kolom.\n",
    "* In de kolommen staan de waarden van de kolom\n",
    "* In de cellen _(x,y)_ staat een numerieke waarde bepaald door _f_ toegepast op alle  _w_ in de kolom waardes  waar de index-kolom gelijk is aan _y_ en de kolom-kolom gelijk is aan _x_."
   ]
  },
  {
   "cell_type": "markdown",
   "metadata": {
    "slideshow": {
     "slide_type": "slide"
    }
   },
   "source": [
    "####  Pivot table Voorbeeld\n",
    "* Spreadsheet bevat alle tentamen cijfers van alle Informatiekunde studenten.\n",
    "* Voor elke student weet ik ook het jaar dat ze begonnen (cohort), en hun vooropleiding.\n",
    "\t* `studid;cohort;vooropleiding;vakid;tentamencijfer`\n",
    "* Ik wil het _gemiddelde tentamen cijfer_\n",
    "\t* per cohort jaar, en \n",
    "\t* per vooropleiding, zien\n",
    "* Dat kan je op verschillende manieren presenteren:\n",
    " "
   ]
  },
  {
   "cell_type": "markdown",
   "metadata": {
    "slideshow": {
     "slide_type": "slide"
    }
   },
   "source": [
    "### Pivot tables in pandas explained.\n",
    "* [Step by step tutorial](http://pbpython.com/pandas-pivot-table-explained.html)\n",
    "\t* [Corresponding notebook](http://nbviewer.ipython.org/url/pbpython.com/extras/Pandas-Pivot-Table-Explained.ipynb)\n",
    "\t* Data for the notebook: <http://pbpython.com/extras/sales-funnel.xlsx>\n",
    "* See also <http://pandas.pydata.org/pandas-docs/stable/reshaping.html#pivot-tables-and-cross-tabulations>"
   ]
  },
  {
   "cell_type": "markdown",
   "metadata": {
    "slideshow": {
     "slide_type": "slide"
    }
   },
   "source": [
    "### Pivot table oefening\n",
    "[Oefening in dit notebook](../NoteBooks/pandas-cookbook/cookbook/Chapter%2010%20Pivot%20Tables.ipynb)\n",
    "\n",
    "Oefen zelf met data over de cito toetsen gemaakt in alle Nederlandse scholen: zie [dit notebook](../Data/CitoToets/CitoToets.ipynb)"
   ]
  }
 ],
 "metadata": {
  "celltoolbar": "Slideshow",
  "kernelspec": {
   "display_name": "Python 2",
   "language": "python",
   "name": "python2"
  },
  "language_info": {
   "codemirror_mode": {
    "name": "ipython",
    "version": 2
   },
   "file_extension": ".py",
   "mimetype": "text/x-python",
   "name": "python",
   "nbconvert_exporter": "python",
   "pygments_lexer": "ipython2",
   "version": "2.7.11"
  }
 },
 "nbformat": 4,
 "nbformat_minor": 0
}
