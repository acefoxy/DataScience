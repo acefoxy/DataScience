{
 "cells": [
  {
   "cell_type": "markdown",
   "metadata": {},
   "source": []
  },
  {
   "cell_type": "markdown",
   "metadata": {},
   "source": [
    "# Example Task: count number of references on a page in Wikipedia\n",
    "\n",
    "* Use the wikidumps, as this information is not otherwise available\n",
    "* We count using a regular expression.\n",
    "* The tricky thing is that the references are in the running text at the point where the footnote appears.\n",
    "    * They are not \"where you see them on the page at the end\"\n",
    "* **Technique:** We stream in the bz2 file and read it page by page using lxml iterparse.    \n",
    "    \n",
    "    \n",
    " "
   ]
  },
  {
   "cell_type": "code",
   "execution_count": 2,
   "metadata": {
    "collapsed": false
   },
   "outputs": [
    {
     "name": "stdout",
     "output_type": "stream",
     "text": [
      "--2017-03-13 14:28:38--  https://dumps.wikimedia.org/nlwiki/20170201/nlwiki-20170201-pages-articles1.xml.bz2\n",
      "Resolving dumps.wikimedia.org... 208.80.154.11, 2620::861:1:208:80:154:11\n",
      "Connecting to dumps.wikimedia.org|208.80.154.11|:443... connected.\n",
      "HTTP request sent, awaiting response... 200 OK\n",
      "Length: 154796969 (148M) [application/octet-stream]\n",
      "Saving to: ‘nlwiki-20170201-pages-articles1.xml.bz2’\n",
      "\n",
      "nlwiki-20170201-pag 100%[===================>] 147.62M  1.68MB/s    in 3m 25s  \n",
      "\n",
      "2017-03-13 14:32:04 (737 KB/s) - ‘nlwiki-20170201-pages-articles1.xml.bz2’ saved [154796969/154796969]\n",
      "\n"
     ]
    }
   ],
   "source": [
    "# get the en wikipedia dump\n",
    "!wget https://dumps.wikimedia.org/nlwiki/20170201/nlwiki-20170201-pages-articles1.xml.bz2"
   ]
  },
  {
   "cell_type": "code",
   "execution_count": 2,
   "metadata": {
    "collapsed": false
   },
   "outputs": [
    {
     "name": "stdout",
     "output_type": "stream",
     "text": [
      "<mediawiki xmlns=\"http://www.mediawiki.org/xml/export-0.10/\" xmlns:xsi=\"http://www.w3.org/2001/XMLSchema-instance\" xsi:schemaLocation=\"http://www.mediawiki.org/xml/export-0.10/ http://www.mediawiki.org/xml/export-0.10.xsd\" version=\"0.10\" xml:lang=\"nl\">\n",
      "  <siteinfo>\n",
      "    <sitename>Wikipedia</sitename>\n",
      "    <dbname>nlwiki</dbname>\n",
      "    <base>https://nl.wikipedia.org/wiki/Hoofdpagina</base>\n",
      "    <generator>MediaWiki 1.29.0-wmf.9</generator>\n",
      "    <case>first-letter</case>\n",
      "    <namespaces>\n",
      "      <namespace key=\"-2\" case=\"first-letter\">Media</namespace>\n",
      "      <namespace key=\"-1\" case=\"first-letter\">Speciaal</namespace>\n",
      "      <namespace key=\"0\" case=\"first-letter\" />\n",
      "      <namespace key=\"1\" case=\"first-letter\">Overleg</namespace>\n",
      "      <namespace key=\"2\" case=\"first-letter\">Gebruiker</namespace>\n",
      "      <namespace key=\"3\" case=\"first-letter\">Overleg gebruiker</namespace>\n",
      "      <namespace key=\"4\" case=\"first-letter\">Wikipedia</namespace>\n",
      "      <namespace key=\"5\" case=\"first-letter\">Overleg Wikipedia</namespace>\n",
      "      <namespace key=\"6\" case=\"first-letter\">Bestand</namespace>\n",
      "      <namespace key=\"7\" case=\"first-letter\">Overleg bestand</namespace>\n",
      "      <namespace key=\"8\" case=\"first-letter\">MediaWiki</namespace>\n",
      "      <namespace key=\"9\" case=\"first-letter\">Overleg MediaWiki</namespace>\n",
      "\n",
      "bzip2: I/O or other error, bailing out.  Possible reason follows.\n",
      "bzip2: Broken pipe\n",
      "\tInput file = nlwiki-20170201-pages-articles1.xml.bz2, output file = (stdout)\n"
     ]
    }
   ],
   "source": [
    "# inspecting the file on the command line  (only works on Mac and Linux)\n",
    "! bzip2 -d --stdout nlwiki-20170201-pages-articles1.xml.bz2 |head -20"
   ]
  },
  {
   "cell_type": "code",
   "execution_count": 3,
   "metadata": {
    "collapsed": true
   },
   "outputs": [],
   "source": [
    "%matplotlib inline\n",
    "import pandas as pd\n",
    "import re\n",
    "from lxml import etree \n",
    "from bz2file import BZ2File\n",
    "import codecs"
   ]
  },
  {
   "cell_type": "code",
   "execution_count": 4,
   "metadata": {
    "collapsed": false
   },
   "outputs": [
    {
     "data": {
      "text/plain": [
       "(7,\n",
       " [\"&quot;ANARCHISM, a social philosophy that rejects authoritarian government and maintains that voluntary institutions are best suited to express man's natural social tendencies.&quot; George Woodcock. &quot;Anarchism&quot; at The Encyclopedia of Philosophy\",\n",
       "  '&quot;In a society developed on these lines, the voluntary associations which already now begin to cover all the fields of human activity would take a still greater extension so as to substitute themselves for the state in all its functions.&quot; [http://www.theanarchistlibrary.org/HTML/Petr_Kropotkin___Anarchism__from_the_Encyclopaedia_Britannica.html Peter Kropotkin. &quot;Anarchism&quot; from the Encyclop\\xc3\\xa6dia Britannica]',\n",
       "  '&quot;Anarchism.&quot; The Shorter Routledge Encyclopedia of Philosophy. 2005. p. 14 &quot;Anarchism is the view that a society without the state, or government, is both possible and desirable.&quot;',\n",
       "  'Sheehan, Sean. Anarchism, London: Reaktion Books Ltd., 2004. p. 85',\n",
       "  \"&quot;as many anarchists have stressed, it is not government as such that they find objectionable, but the hierarchical forms of government associated with the nation state.&quot; Judith Suissa. ''Anarchism and Education: a Philosophical Perspective''. Routledge. New York. 2006. p. 7\",\n",
       "  '&quot;That is why Anarchy, when it works to destroy authority in all its aspects, when it demands the abrogation of laws and the abolition of the mechanism that serves to impose them, when it refuses all hierarchical organisation and preaches free agreement \\xe2\\x80\\x94 at the same time strives to maintain and enlarge the precious kernel of social customs without which no human or animal society can exist.&quot; [[Peter Kropotkin]]. [http://www.theanarchistlibrary.org/HTML/Petr_Kropotkin__Anarchism__its_philosophy_and_ideal.html Anarchism: its philosophy and ideal]',\n",
       "  '&quot;anarchists are opposed to irrational (e.g., illegitimate) authority, in other words, hierarchy \\xe2\\x80\\x94 hierarchy being the institutionalisation of authority within a society.&quot; [http://www.theanarchistlibrary.org/HTML/The_Anarchist_FAQ_Editorial_Collective__An_Anarchist_FAQ__03_17_.html#toc2 &quot;B.1 Why are anarchists against authority and hierarchy?&quot;] in [[An Anarchist FAQ]]'])"
      ]
     },
     "execution_count": 4,
     "metadata": {},
     "output_type": "execute_result"
    }
   ],
   "source": [
    "\n",
    "# The regex which extracts the references (depending on the string encoding)\n",
    "reference_extractor=r'<ref>(.*?)</ref>' # r'&lt;ref&gt;(.*?)&lt;/ref&gt;'\n",
    "\n",
    "\n",
    "sample='''\n",
    "Anarchism is a [[political philosophy]] that advocates [[self-governance|self-governed]] societies with voluntary institutions. These are often described as [[stateless society|stateless societies]],&lt;ref&gt;&quot;ANARCHISM, a social philosophy that rejects authoritarian government and maintains that voluntary institutions are best suited to express man's natural social tendencies.&quot; George Woodcock. &quot;Anarchism&quot; at The Encyclopedia of Philosophy&lt;/ref&gt;&lt;ref&gt;&quot;In a society developed on these lines, the voluntary associations which already now begin to cover all the fields of human activity would take a still greater extension so as to substitute themselves for the state in all its functions.&quot; [http://www.theanarchistlibrary.org/HTML/Petr_Kropotkin___Anarchism__from_the_Encyclopaedia_Britannica.html Peter Kropotkin. &quot;Anarchism&quot; from the Encyclopædia Britannica]&lt;/ref&gt;&lt;ref&gt;&quot;Anarchism.&quot; The Shorter Routledge Encyclopedia of Philosophy. 2005. p. 14 &quot;Anarchism is the view that a society without the state, or government, is both possible and desirable.&quot;&lt;/ref&gt;&lt;ref&gt;Sheehan, Sean. Anarchism, London: Reaktion Books Ltd., 2004. p. 85&lt;/ref&gt; but several authors have defined them more specifically as institutions based on non-[[Hierarchy|hierarchical]] [[Free association (communism and anarchism)|free associations]].&lt;ref&gt;&quot;as many anarchists have stressed, it is not government as such that they find objectionable, but the hierarchical forms of government associated with the nation state.&quot; Judith Suissa. ''Anarchism and Education: a Philosophical Perspective''. Routledge. New York. 2006. p. 7&lt;/ref&gt;&lt;ref name=&quot;iaf-ifa.org&quot;/&gt;&lt;ref&gt;&quot;That is why Anarchy, when it works to destroy authority in all its aspects, when it demands the abrogation of laws and the abolition of the mechanism that serves to impose them, when it refuses all hierarchical organisation and preaches free agreement — at the same time strives to maintain and enlarge the precious kernel of social customs without which no human or animal society can exist.&quot; [[Peter Kropotkin]]. [http://www.theanarchistlibrary.org/HTML/Petr_Kropotkin__Anarchism__its_philosophy_and_ideal.html Anarchism: its philosophy and ideal]&lt;/ref&gt;&lt;ref&gt;&quot;anarchists are opposed to irrational (e.g., illegitimate) authority, in other words, hierarchy — hierarchy being the institutionalisation of authority within a society.&quot; [http://www.theanarchistlibrary.org/HTML/The_Anarchist_FAQ_Editorial_Collective__An_Anarchist_FAQ__03_17_.html#toc2 &quot;B.1 Why are anarchists against authority and hierarchy?&quot;] in [[An Anarchist FAQ]]&lt;/ref&gt; Anarchism holds the [[state (polity)|state]] to be undesirable, unnecessary, or harmful.&lt;ref name=&quot;definition&quot;&gt;\n",
    "{{cite journal |last=Malatesta|first=Errico|title=Towards Anarchism|journal=MAN!|publisher=International Group of San Francisco|location=Los Angeles|oclc=3930443|url=http://www.marxists.org/archive/malatesta/1930s/xx/toanarchy.htm|archiveurl=https://web.archive.org/web/20121107221404/http://marxists.org/archive/malatesta/1930s/xx/toanarchy.htm|archivedate=7 November 2012 |deadurl=no|authorlink=Errico Malatesta |ref=harv}}\n",
    "{{cite journal |url=http://www.theglobeandmail.com/servlet/story/RTGAM.20070514.wxlanarchist14/BNStory/lifeWork/home/\n",
    "|archiveurl=https://web.archive.org/web/20070516094548/http://www.theglobeandmail.com/servlet/story/RTGAM.20070514.wxlanarchist14/BNStory/lifeWork/home |archivedate=16 May 2007 |deadurl=yes |title=Working for The Man |journal=[[The Globe and Mail]] |accessdate=14 April 2008 |last=Agrell |first=Siri |date=14 May 2007 |ref=harv }}\n",
    "'''\n",
    "\n",
    "\n",
    "sum ( 1 for x in re.finditer(r'&lt;ref&gt;(.*?)&lt;/ref&gt;', sample)), re.findall(r'&lt;ref&gt;(.*?)&lt;/ref&gt;',sample)"
   ]
  },
  {
   "cell_type": "code",
   "execution_count": 5,
   "metadata": {
    "collapsed": true
   },
   "outputs": [],
   "source": [
    "# from http://stackoverflow.com/questions/12160418/why-is-lxml-etree-iterparse-eating-up-all-my-memory\n",
    "# We use the ideas in this function in our own iter function:\n",
    "    # clear the context element\n",
    "    # remove all now-empty references from the root node to the contxt element\n",
    "\n",
    "def fast_iter(context, func, *args, **kwargs):\n",
    "    \"\"\"\n",
    "    http://lxml.de/parsing.html#modifying-the-tree\n",
    "    Based on Liza Daly's fast_iter\n",
    "    http://www.ibm.com/developerworks/xml/library/x-hiperfparse/\n",
    "    See also http://effbot.org/zone/element-iterparse.htm\n",
    "    \"\"\"\n",
    "    for event, elem in context:\n",
    "        func(elem, *args, **kwargs)\n",
    "        # It's safe to call clear() here because no descendants will be\n",
    "        # accessed\n",
    "        elem.clear()\n",
    "        # Also eliminate now-empty references from the root node to elem\n",
    "        for ancestor in elem.xpath('ancestor-or-self::*'):\n",
    "            while ancestor.getprevious() is not None:\n",
    "                del ancestor.getparent()[0]\n",
    "    del context"
   ]
  },
  {
   "cell_type": "code",
   "execution_count": 6,
   "metadata": {
    "collapsed": false
   },
   "outputs": [],
   "source": [
    "# We use the pageid http://dbpedia.org/ontology/wikiPageID as key value for the page\n",
    "# Note the use of the (default) namespace all the time.\n",
    "\n",
    "def count_references(f,inset): # ,outfile):\n",
    "    '''With f a wikipedia dump and inset a list of pageids, count for each page in the dump \\cap inset the number of references\n",
    "    on the page and return as a dict with pageid:reference_count key-value pairs.'''\n",
    "    with BZ2File(f) as xml_file:\n",
    "        context = etree.iterparse(xml_file,  tag= '{http://www.mediawiki.org/xml/export-0.10/}page')\n",
    "        pages_references_dict={} \n",
    "        # use this when you want to write away the results to file\n",
    "        #with codecs.open(outfile,'w', encoding='utf-8') as f: \n",
    "            #f.write('WikiPageID;Number_of_references\\n')\n",
    "            \n",
    "        c=0\n",
    "        for _, elem in context:\n",
    "                #title= elem.findtext('{http://www.mediawiki.org/xml/export-0.10/}title') \n",
    "                page_id = elem.findtext('{http://www.mediawiki.org/xml/export-0.10/}id')\n",
    "                try:  \n",
    "                    page_id= int(page_id)\n",
    "                    if  page_id in inset: # we only do this for pages in  inset\n",
    "                        pagetext=elem.findtext('{http://www.mediawiki.org/xml/export-0.10/}revision/{http://www.mediawiki.org/xml/export-0.10/}text')\n",
    "                        ref_count= sum ( 1 for x in re.finditer(reference_extractor, pagetext))\n",
    "                        #if page_id  and ref_count: # just store those with a count > 0\n",
    "                        pages_references_dict[page_id]= ref_count \n",
    "                        # use this when you want to write away the results to file\n",
    "                        #f.write(str(page_id)+';'+str(ref_count)+'\\n')\n",
    "                except:\n",
    "                    True\n",
    "                \n",
    "                # now get rid of the element and also delete all its ancestors   \n",
    "                # from http://stackoverflow.com/questions/12160418/why-is-lxml-etree-iterparse-eating-up-all-my-memory\n",
    "                elem.clear()\n",
    "                # Also eliminate now-empty references from the root node to elem\n",
    "                for ancestor in elem.xpath('ancestor-or-self::*'):\n",
    "                    while ancestor.getprevious() is not None:\n",
    "                        del ancestor.getparent()[0]    \n",
    "                # for debugging and seeing how far the code is already\n",
    "                c+=1\n",
    "                if c% 10**5==0:\n",
    "                     print c  #    break #\n",
    "        del context   \n",
    "    return pages_references_dict\n"
   ]
  },
  {
   "cell_type": "code",
   "execution_count": 7,
   "metadata": {
    "collapsed": false
   },
   "outputs": [],
   "source": [
    "# do the counting and save dataframe as pickle\n",
    "\n",
    "def Count_References():\n",
    "    # wikidump\n",
    "    inputfile= 'nlwiki-20170201-pages-articles1.xml.bz2'\n",
    "    #output='en_ref_count.csv'\n",
    "    # our list of wikipageid of our persons\n",
    "    #wikiPageID= pd.read_pickle('../wikiPageID.pkl')\n",
    "    wikiPageID_set= set(range(10**8)) # set(wikiPageID.values) # we just take all\n",
    "    # do the counting\n",
    "    en_ref_count= count_references(inputfile,wikiPageID_set)# ,output)\n",
    "    # turn into a dataframe and pickle\n",
    "    ef= pd.DataFrame.from_dict(en_ref_count, orient='index')\n",
    "    ef.columns=['Number_of_references']\n",
    "    ef.to_pickle('en_ref_count.pkl')\n",
    "    return True\n"
   ]
  },
  {
   "cell_type": "code",
   "execution_count": 8,
   "metadata": {
    "collapsed": false
   },
   "outputs": [
    {
     "name": "stdout",
     "output_type": "stream",
     "text": [
      "100000\n",
      "CPU times: user 1min 19s, sys: 21.8 s, total: 1min 41s\n",
      "Wall time: 1min 50s\n"
     ]
    },
    {
     "data": {
      "text/plain": [
       "True"
      ]
     },
     "execution_count": 8,
     "metadata": {},
     "output_type": "execute_result"
    }
   ],
   "source": [
    "%time Count_References()"
   ]
  },
  {
   "cell_type": "code",
   "execution_count": 9,
   "metadata": {
    "collapsed": false
   },
   "outputs": [
    {
     "data": {
      "text/html": [
       "<div>\n",
       "<table border=\"1\" class=\"dataframe\">\n",
       "  <thead>\n",
       "    <tr style=\"text-align: right;\">\n",
       "      <th></th>\n",
       "      <th>Number_of_references</th>\n",
       "    </tr>\n",
       "  </thead>\n",
       "  <tbody>\n",
       "    <tr>\n",
       "      <th>count</th>\n",
       "      <td>121591.000000</td>\n",
       "    </tr>\n",
       "    <tr>\n",
       "      <th>mean</th>\n",
       "      <td>0.847053</td>\n",
       "    </tr>\n",
       "    <tr>\n",
       "      <th>std</th>\n",
       "      <td>4.532418</td>\n",
       "    </tr>\n",
       "    <tr>\n",
       "      <th>min</th>\n",
       "      <td>0.000000</td>\n",
       "    </tr>\n",
       "    <tr>\n",
       "      <th>25%</th>\n",
       "      <td>0.000000</td>\n",
       "    </tr>\n",
       "    <tr>\n",
       "      <th>50%</th>\n",
       "      <td>0.000000</td>\n",
       "    </tr>\n",
       "    <tr>\n",
       "      <th>75%</th>\n",
       "      <td>0.000000</td>\n",
       "    </tr>\n",
       "    <tr>\n",
       "      <th>max</th>\n",
       "      <td>327.000000</td>\n",
       "    </tr>\n",
       "  </tbody>\n",
       "</table>\n",
       "</div>"
      ],
      "text/plain": [
       "       Number_of_references\n",
       "count         121591.000000\n",
       "mean               0.847053\n",
       "std                4.532418\n",
       "min                0.000000\n",
       "25%                0.000000\n",
       "50%                0.000000\n",
       "75%                0.000000\n",
       "max              327.000000"
      ]
     },
     "execution_count": 9,
     "metadata": {},
     "output_type": "execute_result"
    }
   ],
   "source": [
    "#test\n",
    "df= pd.read_pickle('en_ref_count.pkl')\n",
    "df.describe()"
   ]
  },
  {
   "cell_type": "code",
   "execution_count": null,
   "metadata": {
    "collapsed": false
   },
   "outputs": [],
   "source": [
    "!pwd;ls -l"
   ]
  },
  {
   "cell_type": "code",
   "execution_count": null,
   "metadata": {
    "collapsed": false
   },
   "outputs": [],
   "source": [
    "!bzip2 --help\n"
   ]
  },
  {
   "cell_type": "code",
   "execution_count": 13,
   "metadata": {
    "collapsed": false
   },
   "outputs": [
    {
     "name": "stdout",
     "output_type": "stream",
     "text": [
      "CollectMoreFirstNames.ipynb                  GenderIdentificationUsingAmericanNames.ipynb NonAmbiguousNames.csv                        Person_10K.csv.gz\r\n",
      "CollectReferences.ipynb                      GenderWikipedia.ipynb                        NrLanguagesPerWikipediaPage.pkl              Untitled.ipynb\r\n",
      "FeaturesPerPage.ipynb                        \u001b[34mNames\u001b[m\u001b[m                                        PageViews.ipynb                              \u001b[34mgender-on-wikipedia\u001b[m\u001b[m\r\n"
     ]
    }
   ],
   "source": [
    "!ls ../Data/GenderWikipedia/"
   ]
  },
  {
   "cell_type": "code",
   "execution_count": null,
   "metadata": {
    "collapsed": true
   },
   "outputs": [],
   "source": []
  }
 ],
 "metadata": {
  "anaconda-cloud": {},
  "kernelspec": {
   "display_name": "Python 2",
   "language": "python",
   "name": "python2"
  },
  "language_info": {
   "codemirror_mode": {
    "name": "ipython",
    "version": 2
   },
   "file_extension": ".py",
   "mimetype": "text/x-python",
   "name": "python",
   "nbconvert_exporter": "python",
   "pygments_lexer": "ipython2",
   "version": "2.7.13"
  }
 },
 "nbformat": 4,
 "nbformat_minor": 0
}
